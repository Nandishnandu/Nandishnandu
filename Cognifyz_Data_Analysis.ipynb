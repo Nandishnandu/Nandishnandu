{
  "nbformat": 4,
  "nbformat_minor": 0,
  "metadata": {
    "colab": {
      "provenance": [],
      "authorship_tag": "ABX9TyPpne2+/rV5VwHaR44GCi2u",
      "include_colab_link": true
    },
    "kernelspec": {
      "name": "python3",
      "display_name": "Python 3"
    },
    "language_info": {
      "name": "python"
    }
  },
  "cells": [
    {
      "cell_type": "markdown",
      "metadata": {
        "id": "view-in-github",
        "colab_type": "text"
      },
      "source": [
        "<a href=\"https://colab.research.google.com/github/Nandishnandu/Nandishnandu/blob/main/Cognifyz_Data_Analysis.ipynb\" target=\"_parent\"><img src=\"https://colab.research.google.com/assets/colab-badge.svg\" alt=\"Open In Colab\"/></a>"
      ]
    },
    {
      "cell_type": "markdown",
      "source": [
        "#Data Analysis"
      ],
      "metadata": {
        "id": "GFL-uPiZulcK"
      }
    },
    {
      "cell_type": "markdown",
      "source": [
        "# **Level 1**"
      ],
      "metadata": {
        "id": "r7hJiw5kvLA2"
      }
    },
    {
      "cell_type": "code",
      "source": [
        "import numpy as np\n",
        "import pandas as pd\n",
        "import matplotlib.pyplot as plt\n",
        "import seaborn as sns"
      ],
      "metadata": {
        "id": "JAcnJvqgwRpz"
      },
      "execution_count": 13,
      "outputs": []
    },
    {
      "cell_type": "code",
      "source": [
        "# Load the dataset:\n",
        "df=pd.read_csv(\"/content/sample_data/Cognifyz Dataset 1.csv\")\n",
        "df.head()"
      ],
      "metadata": {
        "id": "zLnFhm5Hwlu1",
        "colab": {
          "base_uri": "https://localhost:8080/",
          "height": 810
        },
        "outputId": "8a8add57-52d1-4a31-b851-23a0a2c06939"
      },
      "execution_count": 15,
      "outputs": [
        {
          "output_type": "execute_result",
          "data": {
            "text/plain": [
              "   Restaurant ID         Restaurant Name  Country Code              City  \\\n",
              "0        6317637        Le Petit Souffle           162       Makati City   \n",
              "1        6304287        Izakaya Kikufuji           162       Makati City   \n",
              "2        6300002  Heat - Edsa Shangri-La           162  Mandaluyong City   \n",
              "3        6318506                    Ooma           162  Mandaluyong City   \n",
              "4        6314302             Sambo Kojin           162  Mandaluyong City   \n",
              "\n",
              "                                             Address  \\\n",
              "0  Third Floor, Century City Mall, Kalayaan Avenu...   \n",
              "1  Little Tokyo, 2277 Chino Roces Avenue, Legaspi...   \n",
              "2  Edsa Shangri-La, 1 Garden Way, Ortigas, Mandal...   \n",
              "3  Third Floor, Mega Fashion Hall, SM Megamall, O...   \n",
              "4  Third Floor, Mega Atrium, SM Megamall, Ortigas...   \n",
              "\n",
              "                                     Locality  \\\n",
              "0   Century City Mall, Poblacion, Makati City   \n",
              "1  Little Tokyo, Legaspi Village, Makati City   \n",
              "2  Edsa Shangri-La, Ortigas, Mandaluyong City   \n",
              "3      SM Megamall, Ortigas, Mandaluyong City   \n",
              "4      SM Megamall, Ortigas, Mandaluyong City   \n",
              "\n",
              "                                    Locality Verbose   Longitude   Latitude  \\\n",
              "0  Century City Mall, Poblacion, Makati City, Mak...  121.027535  14.565443   \n",
              "1  Little Tokyo, Legaspi Village, Makati City, Ma...  121.014101  14.553708   \n",
              "2  Edsa Shangri-La, Ortigas, Mandaluyong City, Ma...  121.056831  14.581404   \n",
              "3  SM Megamall, Ortigas, Mandaluyong City, Mandal...  121.056475  14.585318   \n",
              "4  SM Megamall, Ortigas, Mandaluyong City, Mandal...  121.057508  14.584450   \n",
              "\n",
              "                           Cuisines  ...  Has Online delivery  \\\n",
              "0        French, Japanese, Desserts  ...                   No   \n",
              "1                          Japanese  ...                   No   \n",
              "2  Seafood, Asian, Filipino, Indian  ...                   No   \n",
              "3                   Japanese, Sushi  ...                   No   \n",
              "4                  Japanese, Korean  ...                   No   \n",
              "\n",
              "  Is delivering now Switch to order menu Price range Aggregate rating  \\\n",
              "0                No                   No           3              4.8   \n",
              "1                No                   No           3              4.5   \n",
              "2                No                   No           4              4.4   \n",
              "3                No                   No           4              4.9   \n",
              "4                No                   No           4              4.8   \n",
              "\n",
              "  Rating color  Rating text  Votes Unnamed: 21 French, Japanese, Desserts  \n",
              "0   Dark Green    Excellent    314         NaN                        NaN  \n",
              "1   Dark Green    Excellent    591         NaN                        NaN  \n",
              "2        Green    Very Good    270         NaN                        NaN  \n",
              "3   Dark Green    Excellent    365         NaN                        NaN  \n",
              "4   Dark Green    Excellent    229         NaN                        NaN  \n",
              "\n",
              "[5 rows x 23 columns]"
            ],
            "text/html": [
              "\n",
              "  <div id=\"df-fab18da7-8438-4269-a7ef-71978c1c5e6b\" class=\"colab-df-container\">\n",
              "    <div>\n",
              "<style scoped>\n",
              "    .dataframe tbody tr th:only-of-type {\n",
              "        vertical-align: middle;\n",
              "    }\n",
              "\n",
              "    .dataframe tbody tr th {\n",
              "        vertical-align: top;\n",
              "    }\n",
              "\n",
              "    .dataframe thead th {\n",
              "        text-align: right;\n",
              "    }\n",
              "</style>\n",
              "<table border=\"1\" class=\"dataframe\">\n",
              "  <thead>\n",
              "    <tr style=\"text-align: right;\">\n",
              "      <th></th>\n",
              "      <th>Restaurant ID</th>\n",
              "      <th>Restaurant Name</th>\n",
              "      <th>Country Code</th>\n",
              "      <th>City</th>\n",
              "      <th>Address</th>\n",
              "      <th>Locality</th>\n",
              "      <th>Locality Verbose</th>\n",
              "      <th>Longitude</th>\n",
              "      <th>Latitude</th>\n",
              "      <th>Cuisines</th>\n",
              "      <th>...</th>\n",
              "      <th>Has Online delivery</th>\n",
              "      <th>Is delivering now</th>\n",
              "      <th>Switch to order menu</th>\n",
              "      <th>Price range</th>\n",
              "      <th>Aggregate rating</th>\n",
              "      <th>Rating color</th>\n",
              "      <th>Rating text</th>\n",
              "      <th>Votes</th>\n",
              "      <th>Unnamed: 21</th>\n",
              "      <th>French, Japanese, Desserts</th>\n",
              "    </tr>\n",
              "  </thead>\n",
              "  <tbody>\n",
              "    <tr>\n",
              "      <th>0</th>\n",
              "      <td>6317637</td>\n",
              "      <td>Le Petit Souffle</td>\n",
              "      <td>162</td>\n",
              "      <td>Makati City</td>\n",
              "      <td>Third Floor, Century City Mall, Kalayaan Avenu...</td>\n",
              "      <td>Century City Mall, Poblacion, Makati City</td>\n",
              "      <td>Century City Mall, Poblacion, Makati City, Mak...</td>\n",
              "      <td>121.027535</td>\n",
              "      <td>14.565443</td>\n",
              "      <td>French, Japanese, Desserts</td>\n",
              "      <td>...</td>\n",
              "      <td>No</td>\n",
              "      <td>No</td>\n",
              "      <td>No</td>\n",
              "      <td>3</td>\n",
              "      <td>4.8</td>\n",
              "      <td>Dark Green</td>\n",
              "      <td>Excellent</td>\n",
              "      <td>314</td>\n",
              "      <td>NaN</td>\n",
              "      <td>NaN</td>\n",
              "    </tr>\n",
              "    <tr>\n",
              "      <th>1</th>\n",
              "      <td>6304287</td>\n",
              "      <td>Izakaya Kikufuji</td>\n",
              "      <td>162</td>\n",
              "      <td>Makati City</td>\n",
              "      <td>Little Tokyo, 2277 Chino Roces Avenue, Legaspi...</td>\n",
              "      <td>Little Tokyo, Legaspi Village, Makati City</td>\n",
              "      <td>Little Tokyo, Legaspi Village, Makati City, Ma...</td>\n",
              "      <td>121.014101</td>\n",
              "      <td>14.553708</td>\n",
              "      <td>Japanese</td>\n",
              "      <td>...</td>\n",
              "      <td>No</td>\n",
              "      <td>No</td>\n",
              "      <td>No</td>\n",
              "      <td>3</td>\n",
              "      <td>4.5</td>\n",
              "      <td>Dark Green</td>\n",
              "      <td>Excellent</td>\n",
              "      <td>591</td>\n",
              "      <td>NaN</td>\n",
              "      <td>NaN</td>\n",
              "    </tr>\n",
              "    <tr>\n",
              "      <th>2</th>\n",
              "      <td>6300002</td>\n",
              "      <td>Heat - Edsa Shangri-La</td>\n",
              "      <td>162</td>\n",
              "      <td>Mandaluyong City</td>\n",
              "      <td>Edsa Shangri-La, 1 Garden Way, Ortigas, Mandal...</td>\n",
              "      <td>Edsa Shangri-La, Ortigas, Mandaluyong City</td>\n",
              "      <td>Edsa Shangri-La, Ortigas, Mandaluyong City, Ma...</td>\n",
              "      <td>121.056831</td>\n",
              "      <td>14.581404</td>\n",
              "      <td>Seafood, Asian, Filipino, Indian</td>\n",
              "      <td>...</td>\n",
              "      <td>No</td>\n",
              "      <td>No</td>\n",
              "      <td>No</td>\n",
              "      <td>4</td>\n",
              "      <td>4.4</td>\n",
              "      <td>Green</td>\n",
              "      <td>Very Good</td>\n",
              "      <td>270</td>\n",
              "      <td>NaN</td>\n",
              "      <td>NaN</td>\n",
              "    </tr>\n",
              "    <tr>\n",
              "      <th>3</th>\n",
              "      <td>6318506</td>\n",
              "      <td>Ooma</td>\n",
              "      <td>162</td>\n",
              "      <td>Mandaluyong City</td>\n",
              "      <td>Third Floor, Mega Fashion Hall, SM Megamall, O...</td>\n",
              "      <td>SM Megamall, Ortigas, Mandaluyong City</td>\n",
              "      <td>SM Megamall, Ortigas, Mandaluyong City, Mandal...</td>\n",
              "      <td>121.056475</td>\n",
              "      <td>14.585318</td>\n",
              "      <td>Japanese, Sushi</td>\n",
              "      <td>...</td>\n",
              "      <td>No</td>\n",
              "      <td>No</td>\n",
              "      <td>No</td>\n",
              "      <td>4</td>\n",
              "      <td>4.9</td>\n",
              "      <td>Dark Green</td>\n",
              "      <td>Excellent</td>\n",
              "      <td>365</td>\n",
              "      <td>NaN</td>\n",
              "      <td>NaN</td>\n",
              "    </tr>\n",
              "    <tr>\n",
              "      <th>4</th>\n",
              "      <td>6314302</td>\n",
              "      <td>Sambo Kojin</td>\n",
              "      <td>162</td>\n",
              "      <td>Mandaluyong City</td>\n",
              "      <td>Third Floor, Mega Atrium, SM Megamall, Ortigas...</td>\n",
              "      <td>SM Megamall, Ortigas, Mandaluyong City</td>\n",
              "      <td>SM Megamall, Ortigas, Mandaluyong City, Mandal...</td>\n",
              "      <td>121.057508</td>\n",
              "      <td>14.584450</td>\n",
              "      <td>Japanese, Korean</td>\n",
              "      <td>...</td>\n",
              "      <td>No</td>\n",
              "      <td>No</td>\n",
              "      <td>No</td>\n",
              "      <td>4</td>\n",
              "      <td>4.8</td>\n",
              "      <td>Dark Green</td>\n",
              "      <td>Excellent</td>\n",
              "      <td>229</td>\n",
              "      <td>NaN</td>\n",
              "      <td>NaN</td>\n",
              "    </tr>\n",
              "  </tbody>\n",
              "</table>\n",
              "<p>5 rows × 23 columns</p>\n",
              "</div>\n",
              "    <div class=\"colab-df-buttons\">\n",
              "\n",
              "  <div class=\"colab-df-container\">\n",
              "    <button class=\"colab-df-convert\" onclick=\"convertToInteractive('df-fab18da7-8438-4269-a7ef-71978c1c5e6b')\"\n",
              "            title=\"Convert this dataframe to an interactive table.\"\n",
              "            style=\"display:none;\">\n",
              "\n",
              "  <svg xmlns=\"http://www.w3.org/2000/svg\" height=\"24px\" viewBox=\"0 -960 960 960\">\n",
              "    <path d=\"M120-120v-720h720v720H120Zm60-500h600v-160H180v160Zm220 220h160v-160H400v160Zm0 220h160v-160H400v160ZM180-400h160v-160H180v160Zm440 0h160v-160H620v160ZM180-180h160v-160H180v160Zm440 0h160v-160H620v160Z\"/>\n",
              "  </svg>\n",
              "    </button>\n",
              "\n",
              "  <style>\n",
              "    .colab-df-container {\n",
              "      display:flex;\n",
              "      gap: 12px;\n",
              "    }\n",
              "\n",
              "    .colab-df-convert {\n",
              "      background-color: #E8F0FE;\n",
              "      border: none;\n",
              "      border-radius: 50%;\n",
              "      cursor: pointer;\n",
              "      display: none;\n",
              "      fill: #1967D2;\n",
              "      height: 32px;\n",
              "      padding: 0 0 0 0;\n",
              "      width: 32px;\n",
              "    }\n",
              "\n",
              "    .colab-df-convert:hover {\n",
              "      background-color: #E2EBFA;\n",
              "      box-shadow: 0px 1px 2px rgba(60, 64, 67, 0.3), 0px 1px 3px 1px rgba(60, 64, 67, 0.15);\n",
              "      fill: #174EA6;\n",
              "    }\n",
              "\n",
              "    .colab-df-buttons div {\n",
              "      margin-bottom: 4px;\n",
              "    }\n",
              "\n",
              "    [theme=dark] .colab-df-convert {\n",
              "      background-color: #3B4455;\n",
              "      fill: #D2E3FC;\n",
              "    }\n",
              "\n",
              "    [theme=dark] .colab-df-convert:hover {\n",
              "      background-color: #434B5C;\n",
              "      box-shadow: 0px 1px 3px 1px rgba(0, 0, 0, 0.15);\n",
              "      filter: drop-shadow(0px 1px 2px rgba(0, 0, 0, 0.3));\n",
              "      fill: #FFFFFF;\n",
              "    }\n",
              "  </style>\n",
              "\n",
              "    <script>\n",
              "      const buttonEl =\n",
              "        document.querySelector('#df-fab18da7-8438-4269-a7ef-71978c1c5e6b button.colab-df-convert');\n",
              "      buttonEl.style.display =\n",
              "        google.colab.kernel.accessAllowed ? 'block' : 'none';\n",
              "\n",
              "      async function convertToInteractive(key) {\n",
              "        const element = document.querySelector('#df-fab18da7-8438-4269-a7ef-71978c1c5e6b');\n",
              "        const dataTable =\n",
              "          await google.colab.kernel.invokeFunction('convertToInteractive',\n",
              "                                                    [key], {});\n",
              "        if (!dataTable) return;\n",
              "\n",
              "        const docLinkHtml = 'Like what you see? Visit the ' +\n",
              "          '<a target=\"_blank\" href=https://colab.research.google.com/notebooks/data_table.ipynb>data table notebook</a>'\n",
              "          + ' to learn more about interactive tables.';\n",
              "        element.innerHTML = '';\n",
              "        dataTable['output_type'] = 'display_data';\n",
              "        await google.colab.output.renderOutput(dataTable, element);\n",
              "        const docLink = document.createElement('div');\n",
              "        docLink.innerHTML = docLinkHtml;\n",
              "        element.appendChild(docLink);\n",
              "      }\n",
              "    </script>\n",
              "  </div>\n",
              "\n",
              "\n",
              "<div id=\"df-25ee834b-8751-42b0-b40d-97b68ebc4ccb\">\n",
              "  <button class=\"colab-df-quickchart\" onclick=\"quickchart('df-25ee834b-8751-42b0-b40d-97b68ebc4ccb')\"\n",
              "            title=\"Suggest charts\"\n",
              "            style=\"display:none;\">\n",
              "\n",
              "<svg xmlns=\"http://www.w3.org/2000/svg\" height=\"24px\"viewBox=\"0 0 24 24\"\n",
              "     width=\"24px\">\n",
              "    <g>\n",
              "        <path d=\"M19 3H5c-1.1 0-2 .9-2 2v14c0 1.1.9 2 2 2h14c1.1 0 2-.9 2-2V5c0-1.1-.9-2-2-2zM9 17H7v-7h2v7zm4 0h-2V7h2v10zm4 0h-2v-4h2v4z\"/>\n",
              "    </g>\n",
              "</svg>\n",
              "  </button>\n",
              "\n",
              "<style>\n",
              "  .colab-df-quickchart {\n",
              "      --bg-color: #E8F0FE;\n",
              "      --fill-color: #1967D2;\n",
              "      --hover-bg-color: #E2EBFA;\n",
              "      --hover-fill-color: #174EA6;\n",
              "      --disabled-fill-color: #AAA;\n",
              "      --disabled-bg-color: #DDD;\n",
              "  }\n",
              "\n",
              "  [theme=dark] .colab-df-quickchart {\n",
              "      --bg-color: #3B4455;\n",
              "      --fill-color: #D2E3FC;\n",
              "      --hover-bg-color: #434B5C;\n",
              "      --hover-fill-color: #FFFFFF;\n",
              "      --disabled-bg-color: #3B4455;\n",
              "      --disabled-fill-color: #666;\n",
              "  }\n",
              "\n",
              "  .colab-df-quickchart {\n",
              "    background-color: var(--bg-color);\n",
              "    border: none;\n",
              "    border-radius: 50%;\n",
              "    cursor: pointer;\n",
              "    display: none;\n",
              "    fill: var(--fill-color);\n",
              "    height: 32px;\n",
              "    padding: 0;\n",
              "    width: 32px;\n",
              "  }\n",
              "\n",
              "  .colab-df-quickchart:hover {\n",
              "    background-color: var(--hover-bg-color);\n",
              "    box-shadow: 0 1px 2px rgba(60, 64, 67, 0.3), 0 1px 3px 1px rgba(60, 64, 67, 0.15);\n",
              "    fill: var(--button-hover-fill-color);\n",
              "  }\n",
              "\n",
              "  .colab-df-quickchart-complete:disabled,\n",
              "  .colab-df-quickchart-complete:disabled:hover {\n",
              "    background-color: var(--disabled-bg-color);\n",
              "    fill: var(--disabled-fill-color);\n",
              "    box-shadow: none;\n",
              "  }\n",
              "\n",
              "  .colab-df-spinner {\n",
              "    border: 2px solid var(--fill-color);\n",
              "    border-color: transparent;\n",
              "    border-bottom-color: var(--fill-color);\n",
              "    animation:\n",
              "      spin 1s steps(1) infinite;\n",
              "  }\n",
              "\n",
              "  @keyframes spin {\n",
              "    0% {\n",
              "      border-color: transparent;\n",
              "      border-bottom-color: var(--fill-color);\n",
              "      border-left-color: var(--fill-color);\n",
              "    }\n",
              "    20% {\n",
              "      border-color: transparent;\n",
              "      border-left-color: var(--fill-color);\n",
              "      border-top-color: var(--fill-color);\n",
              "    }\n",
              "    30% {\n",
              "      border-color: transparent;\n",
              "      border-left-color: var(--fill-color);\n",
              "      border-top-color: var(--fill-color);\n",
              "      border-right-color: var(--fill-color);\n",
              "    }\n",
              "    40% {\n",
              "      border-color: transparent;\n",
              "      border-right-color: var(--fill-color);\n",
              "      border-top-color: var(--fill-color);\n",
              "    }\n",
              "    60% {\n",
              "      border-color: transparent;\n",
              "      border-right-color: var(--fill-color);\n",
              "    }\n",
              "    80% {\n",
              "      border-color: transparent;\n",
              "      border-right-color: var(--fill-color);\n",
              "      border-bottom-color: var(--fill-color);\n",
              "    }\n",
              "    90% {\n",
              "      border-color: transparent;\n",
              "      border-bottom-color: var(--fill-color);\n",
              "    }\n",
              "  }\n",
              "</style>\n",
              "\n",
              "  <script>\n",
              "    async function quickchart(key) {\n",
              "      const quickchartButtonEl =\n",
              "        document.querySelector('#' + key + ' button');\n",
              "      quickchartButtonEl.disabled = true;  // To prevent multiple clicks.\n",
              "      quickchartButtonEl.classList.add('colab-df-spinner');\n",
              "      try {\n",
              "        const charts = await google.colab.kernel.invokeFunction(\n",
              "            'suggestCharts', [key], {});\n",
              "      } catch (error) {\n",
              "        console.error('Error during call to suggestCharts:', error);\n",
              "      }\n",
              "      quickchartButtonEl.classList.remove('colab-df-spinner');\n",
              "      quickchartButtonEl.classList.add('colab-df-quickchart-complete');\n",
              "    }\n",
              "    (() => {\n",
              "      let quickchartButtonEl =\n",
              "        document.querySelector('#df-25ee834b-8751-42b0-b40d-97b68ebc4ccb button');\n",
              "      quickchartButtonEl.style.display =\n",
              "        google.colab.kernel.accessAllowed ? 'block' : 'none';\n",
              "    })();\n",
              "  </script>\n",
              "</div>\n",
              "\n",
              "    </div>\n",
              "  </div>\n"
            ],
            "application/vnd.google.colaboratory.intrinsic+json": {
              "type": "dataframe",
              "variable_name": "df"
            }
          },
          "metadata": {},
          "execution_count": 15
        }
      ]
    },
    {
      "cell_type": "code",
      "source": [
        "from google.colab import drive\n",
        "drive.mount('/content/drive')"
      ],
      "metadata": {
        "id": "yl6IncU9pngV",
        "colab": {
          "base_uri": "https://localhost:8080/"
        },
        "outputId": "ff8f635a-3046-43fe-961c-3270c1764b02"
      },
      "execution_count": 16,
      "outputs": [
        {
          "output_type": "stream",
          "name": "stdout",
          "text": [
            "Mounted at /content/drive\n"
          ]
        }
      ]
    },
    {
      "cell_type": "code",
      "source": [
        "df.shape"
      ],
      "metadata": {
        "colab": {
          "base_uri": "https://localhost:8080/"
        },
        "id": "LGdlbLg-ysi3",
        "outputId": "78cf7f65-faf6-4c1e-f8d1-f05bff3f6425"
      },
      "execution_count": 17,
      "outputs": [
        {
          "output_type": "execute_result",
          "data": {
            "text/plain": [
              "(9551, 23)"
            ]
          },
          "metadata": {},
          "execution_count": 17
        }
      ]
    },
    {
      "cell_type": "code",
      "source": [
        "df.columns"
      ],
      "metadata": {
        "colab": {
          "base_uri": "https://localhost:8080/"
        },
        "id": "EH1zo89JoCi-",
        "outputId": "3fd83149-28d2-42e9-dba5-71eadd13a8c2"
      },
      "execution_count": 7,
      "outputs": [
        {
          "output_type": "execute_result",
          "data": {
            "text/plain": [
              "Index(['Restaurant ID', 'Restaurant Name', 'Country Code', 'City', 'Address',\n",
              "       'Locality', 'Locality Verbose', 'Longitude', 'Latitude', 'Cuisines',\n",
              "       'Average Cost for two', 'Currency', 'Has Table booking',\n",
              "       'Has Online delivery', 'Is delivering now', 'Switch to order menu',\n",
              "       'Price range', 'Aggregate rating', 'Rating color', 'Rating text',\n",
              "       'Votes'],\n",
              "      dtype='object')"
            ]
          },
          "metadata": {},
          "execution_count": 7
        }
      ]
    },
    {
      "cell_type": "code",
      "source": [
        "# Identify null values\n",
        "df.isnull().sum()"
      ],
      "metadata": {
        "colab": {
          "base_uri": "https://localhost:8080/",
          "height": 805
        },
        "id": "OVXN447b2JXx",
        "outputId": "ec2e8b6a-3f25-41d9-98ed-a7b166e74e4a"
      },
      "execution_count": 18,
      "outputs": [
        {
          "output_type": "execute_result",
          "data": {
            "text/plain": [
              "Restaurant ID                    0\n",
              "Restaurant Name                  0\n",
              "Country Code                     0\n",
              "City                             0\n",
              "Address                          0\n",
              "Locality                         0\n",
              "Locality Verbose                 0\n",
              "Longitude                        0\n",
              "Latitude                         0\n",
              "Cuisines                         0\n",
              "Average Cost for two             0\n",
              "Currency                         0\n",
              "Has Table booking                0\n",
              "Has Online delivery              0\n",
              "Is delivering now                0\n",
              "Switch to order menu             0\n",
              "Price range                      0\n",
              "Aggregate rating                 0\n",
              "Rating color                     0\n",
              "Rating text                      0\n",
              "Votes                            0\n",
              "Unnamed: 21                   9551\n",
              "French, Japanese, Desserts    9551\n",
              "dtype: int64"
            ],
            "text/html": [
              "<div>\n",
              "<style scoped>\n",
              "    .dataframe tbody tr th:only-of-type {\n",
              "        vertical-align: middle;\n",
              "    }\n",
              "\n",
              "    .dataframe tbody tr th {\n",
              "        vertical-align: top;\n",
              "    }\n",
              "\n",
              "    .dataframe thead th {\n",
              "        text-align: right;\n",
              "    }\n",
              "</style>\n",
              "<table border=\"1\" class=\"dataframe\">\n",
              "  <thead>\n",
              "    <tr style=\"text-align: right;\">\n",
              "      <th></th>\n",
              "      <th>0</th>\n",
              "    </tr>\n",
              "  </thead>\n",
              "  <tbody>\n",
              "    <tr>\n",
              "      <th>Restaurant ID</th>\n",
              "      <td>0</td>\n",
              "    </tr>\n",
              "    <tr>\n",
              "      <th>Restaurant Name</th>\n",
              "      <td>0</td>\n",
              "    </tr>\n",
              "    <tr>\n",
              "      <th>Country Code</th>\n",
              "      <td>0</td>\n",
              "    </tr>\n",
              "    <tr>\n",
              "      <th>City</th>\n",
              "      <td>0</td>\n",
              "    </tr>\n",
              "    <tr>\n",
              "      <th>Address</th>\n",
              "      <td>0</td>\n",
              "    </tr>\n",
              "    <tr>\n",
              "      <th>Locality</th>\n",
              "      <td>0</td>\n",
              "    </tr>\n",
              "    <tr>\n",
              "      <th>Locality Verbose</th>\n",
              "      <td>0</td>\n",
              "    </tr>\n",
              "    <tr>\n",
              "      <th>Longitude</th>\n",
              "      <td>0</td>\n",
              "    </tr>\n",
              "    <tr>\n",
              "      <th>Latitude</th>\n",
              "      <td>0</td>\n",
              "    </tr>\n",
              "    <tr>\n",
              "      <th>Cuisines</th>\n",
              "      <td>0</td>\n",
              "    </tr>\n",
              "    <tr>\n",
              "      <th>Average Cost for two</th>\n",
              "      <td>0</td>\n",
              "    </tr>\n",
              "    <tr>\n",
              "      <th>Currency</th>\n",
              "      <td>0</td>\n",
              "    </tr>\n",
              "    <tr>\n",
              "      <th>Has Table booking</th>\n",
              "      <td>0</td>\n",
              "    </tr>\n",
              "    <tr>\n",
              "      <th>Has Online delivery</th>\n",
              "      <td>0</td>\n",
              "    </tr>\n",
              "    <tr>\n",
              "      <th>Is delivering now</th>\n",
              "      <td>0</td>\n",
              "    </tr>\n",
              "    <tr>\n",
              "      <th>Switch to order menu</th>\n",
              "      <td>0</td>\n",
              "    </tr>\n",
              "    <tr>\n",
              "      <th>Price range</th>\n",
              "      <td>0</td>\n",
              "    </tr>\n",
              "    <tr>\n",
              "      <th>Aggregate rating</th>\n",
              "      <td>0</td>\n",
              "    </tr>\n",
              "    <tr>\n",
              "      <th>Rating color</th>\n",
              "      <td>0</td>\n",
              "    </tr>\n",
              "    <tr>\n",
              "      <th>Rating text</th>\n",
              "      <td>0</td>\n",
              "    </tr>\n",
              "    <tr>\n",
              "      <th>Votes</th>\n",
              "      <td>0</td>\n",
              "    </tr>\n",
              "    <tr>\n",
              "      <th>Unnamed: 21</th>\n",
              "      <td>9551</td>\n",
              "    </tr>\n",
              "    <tr>\n",
              "      <th>French, Japanese, Desserts</th>\n",
              "      <td>9551</td>\n",
              "    </tr>\n",
              "  </tbody>\n",
              "</table>\n",
              "</div><br><label><b>dtype:</b> int64</label>"
            ]
          },
          "metadata": {},
          "execution_count": 18
        }
      ]
    },
    {
      "cell_type": "markdown",
      "source": [
        "**Task** 1:\n",
        "        Determine the top three most common cuisines in the dataset."
      ],
      "metadata": {
        "id": "0IZrrHdavQhy"
      }
    },
    {
      "cell_type": "code",
      "source": [
        "print(df['Cuisines'])"
      ],
      "metadata": {
        "colab": {
          "base_uri": "https://localhost:8080/"
        },
        "id": "iyPzN3P5oVxs",
        "outputId": "8c13c367-bf38-42e3-84cf-3636906a6bac"
      },
      "execution_count": 19,
      "outputs": [
        {
          "output_type": "stream",
          "name": "stdout",
          "text": [
            "0             French, Japanese, Desserts\n",
            "1                               Japanese\n",
            "2       Seafood, Asian, Filipino, Indian\n",
            "3                        Japanese, Sushi\n",
            "4                       Japanese, Korean\n",
            "                      ...               \n",
            "9546                             Turkish\n",
            "9547     World Cuisine, Patisserie, Cafe\n",
            "9548              Italian, World Cuisine\n",
            "9549                     Restaurant Cafe\n",
            "9550                                Cafe\n",
            "Name: Cuisines, Length: 9551, dtype: object\n"
          ]
        }
      ]
    },
    {
      "cell_type": "code",
      "source": [
        "cuisine_counts = df['Cuisines'].str.split('.').explode('Cuisine').value_counts()\n",
        "# The top three most common cuisine\n",
        "top_three_cuisine = cuisine_counts.head(3)\n",
        "print(top_three_cuisine)"
      ],
      "metadata": {
        "colab": {
          "base_uri": "https://localhost:8080/"
        },
        "id": "UzKojmq50spY",
        "outputId": "35159f20-fb01-47cc-c555-345a05c1bcd3"
      },
      "execution_count": 20,
      "outputs": [
        {
          "output_type": "stream",
          "name": "stdout",
          "text": [
            "Cuisines\n",
            "North Indian             936\n",
            "North Indian, Chinese    511\n",
            "Fast Food                354\n",
            "Name: count, dtype: int64\n"
          ]
        }
      ]
    },
    {
      "cell_type": "markdown",
      "source": [
        "**Calculate** the percentage of Restraunts that serve each of Top cuisines."
      ],
      "metadata": {
        "id": "M5oEIaV8CsvS"
      }
    },
    {
      "cell_type": "code",
      "source": [
        "top_three_cuisine=top_three_cuisine.sort_values(ascending=False)\n",
        "fig, Ax=plt.subplots(figsize=(10,6))\n",
        "sns.barplot(x=top_three_cuisine.index, y=top_three_cuisine.values,ax=Ax)\n",
        "plt.title('Top Three Most Common Cuisines')\n",
        "plt.xlabel('Cuisine')\n",
        "plt.ylabel('count')\n",
        "plt.xticks(rotation=45)\n",
        "plt.show()"
      ],
      "metadata": {
        "id": "I7zLNretA2Nc",
        "colab": {
          "base_uri": "https://localhost:8080/",
          "height": 666
        },
        "outputId": "ceb07789-2989-42c9-e342-90ddd3303c04"
      },
      "execution_count": 21,
      "outputs": [
        {
          "output_type": "display_data",
          "data": {
            "text/plain": [
              "<Figure size 1000x600 with 1 Axes>"
            ],
            "image/png": "[encoded data removed]"
          },
          "metadata": {}
        }
      ]
    },
    {
      "cell_type": "markdown",
      "source": [
        "## Calculate the percentage of Restraunts that serve each of Top cuisines."
      ],
      "metadata": {
        "id": "kY1iVrc1DJTV"
      }
    },
    {
      "cell_type": "code",
      "source": [
        "top_restaurants = len(df)\n",
        "percentage_per_cuisine=(top_three_cuisine/top_restaurants)*100\n",
        "print(percentage_per_cuisine)"
      ],
      "metadata": {
        "colab": {
          "base_uri": "https://localhost:8080/"
        },
        "id": "jnob8RqADYvt",
        "outputId": "1dd0a49e-2da1-474e-ddd4-90dbdf83c5ec"
      },
      "execution_count": 22,
      "outputs": [
        {
          "output_type": "stream",
          "name": "stdout",
          "text": [
            "Cuisines\n",
            "North Indian             9.800021\n",
            "North Indian, Chinese    5.350225\n",
            "Fast Food                3.706418\n",
            "Name: count, dtype: float64\n"
          ]
        }
      ]
    },
    {
      "cell_type": "code",
      "source": [
        "print(\"Percentage of restaurants for top three cuisines\")\n",
        "percentage_per_cuisine"
      ],
      "metadata": {
        "colab": {
          "base_uri": "https://localhost:8080/",
          "height": 227
        },
        "id": "lCJs3MbnEKKs",
        "outputId": "d3dcb987-6817-42e6-bcc3-1b92550c0a43"
      },
      "execution_count": 23,
      "outputs": [
        {
          "output_type": "stream",
          "name": "stdout",
          "text": [
            "Percentage of restaurants for top three cuisines\n"
          ]
        },
        {
          "output_type": "execute_result",
          "data": {
            "text/plain": [
              "Cuisines\n",
              "North Indian             9.800021\n",
              "North Indian, Chinese    5.350225\n",
              "Fast Food                3.706418\n",
              "Name: count, dtype: float64"
            ],
            "text/html": [
              "<div>\n",
              "<style scoped>\n",
              "    .dataframe tbody tr th:only-of-type {\n",
              "        vertical-align: middle;\n",
              "    }\n",
              "\n",
              "    .dataframe tbody tr th {\n",
              "        vertical-align: top;\n",
              "    }\n",
              "\n",
              "    .dataframe thead th {\n",
              "        text-align: right;\n",
              "    }\n",
              "</style>\n",
              "<table border=\"1\" class=\"dataframe\">\n",
              "  <thead>\n",
              "    <tr style=\"text-align: right;\">\n",
              "      <th></th>\n",
              "      <th>count</th>\n",
              "    </tr>\n",
              "    <tr>\n",
              "      <th>Cuisines</th>\n",
              "      <th></th>\n",
              "    </tr>\n",
              "  </thead>\n",
              "  <tbody>\n",
              "    <tr>\n",
              "      <th>North Indian</th>\n",
              "      <td>9.800021</td>\n",
              "    </tr>\n",
              "    <tr>\n",
              "      <th>North Indian, Chinese</th>\n",
              "      <td>5.350225</td>\n",
              "    </tr>\n",
              "    <tr>\n",
              "      <th>Fast Food</th>\n",
              "      <td>3.706418</td>\n",
              "    </tr>\n",
              "  </tbody>\n",
              "</table>\n",
              "</div><br><label><b>dtype:</b> float64</label>"
            ]
          },
          "metadata": {},
          "execution_count": 23
        }
      ]
    },
    {
      "cell_type": "code",
      "source": [
        "fig, Ax=plt.subplots(figsize=(10,6))\n",
        "ab=sns.barplot(x=percentage_per_cuisine.index, y=percentage_per_cuisine.values)\n",
        "for bar in ab.containers[0]:\n",
        "  height=bar.get_height()\n",
        "  ab.annotate(f'{height:.2f}%', xy=(bar.get_x() + bar.get_width() / 2, height), xytext=(0,3),textcoords='offset points', ha='center', va='bottom')\n",
        "  plt.title('Percentage of Restaurants serving Top Three Cuisines')"
      ],
      "metadata": {
        "colab": {
          "base_uri": "https://localhost:8080/",
          "height": 564
        },
        "id": "6eqEgL4aEkdn",
        "outputId": "216ba1d1-c020-4248-fd67-3d0addba840b"
      },
      "execution_count": 24,
      "outputs": [
        {
          "output_type": "display_data",
          "data": {
            "text/plain": [
              "<Figure size 1000x600 with 1 Axes>"
            ],
            "image/png": "[encoded data removed]"
          },
          "metadata": {}
        }
      ]
    },
    {
      "cell_type": "markdown",
      "source": [
        "**Task** 2: City Analysis"
      ],
      "metadata": {
        "id": "ICQliML8H6c-"
      }
    },
    {
      "cell_type": "code",
      "source": [
        "#Import all necessary libaries:\n",
        "import numpy as np\n",
        "import pandas as pd\n",
        "import matplotlib.pyplot as plt\n",
        "import seaborn as sns"
      ],
      "metadata": {
        "id": "Zj3k0up9NNOy"
      },
      "execution_count": 25,
      "outputs": []
    },
    {
      "cell_type": "code",
      "source": [
        "#Load the dataset:\n",
        "df=pd.read_csv(\"/content/sample_data/Cognifyz Dataset 1.csv\")\n",
        "df.head()"
      ],
      "metadata": {
        "colab": {
          "base_uri": "https://localhost:8080/",
          "height": 810
        },
        "id": "jhJfry58Nip6",
        "outputId": "a02b5093-f7f4-47ae-a983-2c620a7806f4"
      },
      "execution_count": 26,
      "outputs": [
        {
          "output_type": "execute_result",
          "data": {
            "text/plain": [
              "   Restaurant ID         Restaurant Name  Country Code              City  \\\n",
              "0        6317637        Le Petit Souffle           162       Makati City   \n",
              "1        6304287        Izakaya Kikufuji           162       Makati City   \n",
              "2        6300002  Heat - Edsa Shangri-La           162  Mandaluyong City   \n",
              "3        6318506                    Ooma           162  Mandaluyong City   \n",
              "4        6314302             Sambo Kojin           162  Mandaluyong City   \n",
              "\n",
              "                                             Address  \\\n",
              "0  Third Floor, Century City Mall, Kalayaan Avenu...   \n",
              "1  Little Tokyo, 2277 Chino Roces Avenue, Legaspi...   \n",
              "2  Edsa Shangri-La, 1 Garden Way, Ortigas, Mandal...   \n",
              "3  Third Floor, Mega Fashion Hall, SM Megamall, O...   \n",
              "4  Third Floor, Mega Atrium, SM Megamall, Ortigas...   \n",
              "\n",
              "                                     Locality  \\\n",
              "0   Century City Mall, Poblacion, Makati City   \n",
              "1  Little Tokyo, Legaspi Village, Makati City   \n",
              "2  Edsa Shangri-La, Ortigas, Mandaluyong City   \n",
              "3      SM Megamall, Ortigas, Mandaluyong City   \n",
              "4      SM Megamall, Ortigas, Mandaluyong City   \n",
              "\n",
              "                                    Locality Verbose   Longitude   Latitude  \\\n",
              "0  Century City Mall, Poblacion, Makati City, Mak...  121.027535  14.565443   \n",
              "1  Little Tokyo, Legaspi Village, Makati City, Ma...  121.014101  14.553708   \n",
              "2  Edsa Shangri-La, Ortigas, Mandaluyong City, Ma...  121.056831  14.581404   \n",
              "3  SM Megamall, Ortigas, Mandaluyong City, Mandal...  121.056475  14.585318   \n",
              "4  SM Megamall, Ortigas, Mandaluyong City, Mandal...  121.057508  14.584450   \n",
              "\n",
              "                           Cuisines  ...  Has Online delivery  \\\n",
              "0        French, Japanese, Desserts  ...                   No   \n",
              "1                          Japanese  ...                   No   \n",
              "2  Seafood, Asian, Filipino, Indian  ...                   No   \n",
              "3                   Japanese, Sushi  ...                   No   \n",
              "4                  Japanese, Korean  ...                   No   \n",
              "\n",
              "  Is delivering now Switch to order menu Price range Aggregate rating  \\\n",
              "0                No                   No           3              4.8   \n",
              "1                No                   No           3              4.5   \n",
              "2                No                   No           4              4.4   \n",
              "3                No                   No           4              4.9   \n",
              "4                No                   No           4              4.8   \n",
              "\n",
              "  Rating color  Rating text  Votes Unnamed: 21 French, Japanese, Desserts  \n",
              "0   Dark Green    Excellent    314         NaN                        NaN  \n",
              "1   Dark Green    Excellent    591         NaN                        NaN  \n",
              "2        Green    Very Good    270         NaN                        NaN  \n",
              "3   Dark Green    Excellent    365         NaN                        NaN  \n",
              "4   Dark Green    Excellent    229         NaN                        NaN  \n",
              "\n",
              "[5 rows x 23 columns]"
            ],
            "text/html": [
              "\n",
              "  <div id=\"df-dca9be6c-b4e3-41d9-9be9-d20d56d35d39\" class=\"colab-df-container\">\n",
              "    <div>\n",
              "<style scoped>\n",
              "    .dataframe tbody tr th:only-of-type {\n",
              "        vertical-align: middle;\n",
              "    }\n",
              "\n",
              "    .dataframe tbody tr th {\n",
              "        vertical-align: top;\n",
              "    }\n",
              "\n",
              "    .dataframe thead th {\n",
              "        text-align: right;\n",
              "    }\n",
              "</style>\n",
              "<table border=\"1\" class=\"dataframe\">\n",
              "  <thead>\n",
              "    <tr style=\"text-align: right;\">\n",
              "      <th></th>\n",
              "      <th>Restaurant ID</th>\n",
              "      <th>Restaurant Name</th>\n",
              "      <th>Country Code</th>\n",
              "      <th>City</th>\n",
              "      <th>Address</th>\n",
              "      <th>Locality</th>\n",
              "      <th>Locality Verbose</th>\n",
              "      <th>Longitude</th>\n",
              "      <th>Latitude</th>\n",
              "      <th>Cuisines</th>\n",
              "      <th>...</th>\n",
              "      <th>Has Online delivery</th>\n",
              "      <th>Is delivering now</th>\n",
              "      <th>Switch to order menu</th>\n",
              "      <th>Price range</th>\n",
              "      <th>Aggregate rating</th>\n",
              "      <th>Rating color</th>\n",
              "      <th>Rating text</th>\n",
              "      <th>Votes</th>\n",
              "      <th>Unnamed: 21</th>\n",
              "      <th>French, Japanese, Desserts</th>\n",
              "    </tr>\n",
              "  </thead>\n",
              "  <tbody>\n",
              "    <tr>\n",
              "      <th>0</th>\n",
              "      <td>6317637</td>\n",
              "      <td>Le Petit Souffle</td>\n",
              "      <td>162</td>\n",
              "      <td>Makati City</td>\n",
              "      <td>Third Floor, Century City Mall, Kalayaan Avenu...</td>\n",
              "      <td>Century City Mall, Poblacion, Makati City</td>\n",
              "      <td>Century City Mall, Poblacion, Makati City, Mak...</td>\n",
              "      <td>121.027535</td>\n",
              "      <td>14.565443</td>\n",
              "      <td>French, Japanese, Desserts</td>\n",
              "      <td>...</td>\n",
              "      <td>No</td>\n",
              "      <td>No</td>\n",
              "      <td>No</td>\n",
              "      <td>3</td>\n",
              "      <td>4.8</td>\n",
              "      <td>Dark Green</td>\n",
              "      <td>Excellent</td>\n",
              "      <td>314</td>\n",
              "      <td>NaN</td>\n",
              "      <td>NaN</td>\n",
              "    </tr>\n",
              "    <tr>\n",
              "      <th>1</th>\n",
              "      <td>6304287</td>\n",
              "      <td>Izakaya Kikufuji</td>\n",
              "      <td>162</td>\n",
              "      <td>Makati City</td>\n",
              "      <td>Little Tokyo, 2277 Chino Roces Avenue, Legaspi...</td>\n",
              "      <td>Little Tokyo, Legaspi Village, Makati City</td>\n",
              "      <td>Little Tokyo, Legaspi Village, Makati City, Ma...</td>\n",
              "      <td>121.014101</td>\n",
              "      <td>14.553708</td>\n",
              "      <td>Japanese</td>\n",
              "      <td>...</td>\n",
              "      <td>No</td>\n",
              "      <td>No</td>\n",
              "      <td>No</td>\n",
              "      <td>3</td>\n",
              "      <td>4.5</td>\n",
              "      <td>Dark Green</td>\n",
              "      <td>Excellent</td>\n",
              "      <td>591</td>\n",
              "      <td>NaN</td>\n",
              "      <td>NaN</td>\n",
              "    </tr>\n",
              "    <tr>\n",
              "      <th>2</th>\n",
              "      <td>6300002</td>\n",
              "      <td>Heat - Edsa Shangri-La</td>\n",
              "      <td>162</td>\n",
              "      <td>Mandaluyong City</td>\n",
              "      <td>Edsa Shangri-La, 1 Garden Way, Ortigas, Mandal...</td>\n",
              "      <td>Edsa Shangri-La, Ortigas, Mandaluyong City</td>\n",
              "      <td>Edsa Shangri-La, Ortigas, Mandaluyong City, Ma...</td>\n",
              "      <td>121.056831</td>\n",
              "      <td>14.581404</td>\n",
              "      <td>Seafood, Asian, Filipino, Indian</td>\n",
              "      <td>...</td>\n",
              "      <td>No</td>\n",
              "      <td>No</td>\n",
              "      <td>No</td>\n",
              "      <td>4</td>\n",
              "      <td>4.4</td>\n",
              "      <td>Green</td>\n",
              "      <td>Very Good</td>\n",
              "      <td>270</td>\n",
              "      <td>NaN</td>\n",
              "      <td>NaN</td>\n",
              "    </tr>\n",
              "    <tr>\n",
              "      <th>3</th>\n",
              "      <td>6318506</td>\n",
              "      <td>Ooma</td>\n",
              "      <td>162</td>\n",
              "      <td>Mandaluyong City</td>\n",
              "      <td>Third Floor, Mega Fashion Hall, SM Megamall, O...</td>\n",
              "      <td>SM Megamall, Ortigas, Mandaluyong City</td>\n",
              "      <td>SM Megamall, Ortigas, Mandaluyong City, Mandal...</td>\n",
              "      <td>121.056475</td>\n",
              "      <td>14.585318</td>\n",
              "      <td>Japanese, Sushi</td>\n",
              "      <td>...</td>\n",
              "      <td>No</td>\n",
              "      <td>No</td>\n",
              "      <td>No</td>\n",
              "      <td>4</td>\n",
              "      <td>4.9</td>\n",
              "      <td>Dark Green</td>\n",
              "      <td>Excellent</td>\n",
              "      <td>365</td>\n",
              "      <td>NaN</td>\n",
              "      <td>NaN</td>\n",
              "    </tr>\n",
              "    <tr>\n",
              "      <th>4</th>\n",
              "      <td>6314302</td>\n",
              "      <td>Sambo Kojin</td>\n",
              "      <td>162</td>\n",
              "      <td>Mandaluyong City</td>\n",
              "      <td>Third Floor, Mega Atrium, SM Megamall, Ortigas...</td>\n",
              "      <td>SM Megamall, Ortigas, Mandaluyong City</td>\n",
              "      <td>SM Megamall, Ortigas, Mandaluyong City, Mandal...</td>\n",
              "      <td>121.057508</td>\n",
              "      <td>14.584450</td>\n",
              "      <td>Japanese, Korean</td>\n",
              "      <td>...</td>\n",
              "      <td>No</td>\n",
              "      <td>No</td>\n",
              "      <td>No</td>\n",
              "      <td>4</td>\n",
              "      <td>4.8</td>\n",
              "      <td>Dark Green</td>\n",
              "      <td>Excellent</td>\n",
              "      <td>229</td>\n",
              "      <td>NaN</td>\n",
              "      <td>NaN</td>\n",
              "    </tr>\n",
              "  </tbody>\n",
              "</table>\n",
              "<p>5 rows × 23 columns</p>\n",
              "</div>\n",
              "    <div class=\"colab-df-buttons\">\n",
              "\n",
              "  <div class=\"colab-df-container\">\n",
              "    <button class=\"colab-df-convert\" onclick=\"convertToInteractive('df-dca9be6c-b4e3-41d9-9be9-d20d56d35d39')\"\n",
              "            title=\"Convert this dataframe to an interactive table.\"\n",
              "            style=\"display:none;\">\n",
              "\n",
              "  <svg xmlns=\"http://www.w3.org/2000/svg\" height=\"24px\" viewBox=\"0 -960 960 960\">\n",
              "    <path d=\"M120-120v-720h720v720H120Zm60-500h600v-160H180v160Zm220 220h160v-160H400v160Zm0 220h160v-160H400v160ZM180-400h160v-160H180v160Zm440 0h160v-160H620v160ZM180-180h160v-160H180v160Zm440 0h160v-160H620v160Z\"/>\n",
              "  </svg>\n",
              "    </button>\n",
              "\n",
              "  <style>\n",
              "    .colab-df-container {\n",
              "      display:flex;\n",
              "      gap: 12px;\n",
              "    }\n",
              "\n",
              "    .colab-df-convert {\n",
              "      background-color: #E8F0FE;\n",
              "      border: none;\n",
              "      border-radius: 50%;\n",
              "      cursor: pointer;\n",
              "      display: none;\n",
              "      fill: #1967D2;\n",
              "      height: 32px;\n",
              "      padding: 0 0 0 0;\n",
              "      width: 32px;\n",
              "    }\n",
              "\n",
              "    .colab-df-convert:hover {\n",
              "      background-color: #E2EBFA;\n",
              "      box-shadow: 0px 1px 2px rgba(60, 64, 67, 0.3), 0px 1px 3px 1px rgba(60, 64, 67, 0.15);\n",
              "      fill: #174EA6;\n",
              "    }\n",
              "\n",
              "    .colab-df-buttons div {\n",
              "      margin-bottom: 4px;\n",
              "    }\n",
              "\n",
              "    [theme=dark] .colab-df-convert {\n",
              "      background-color: #3B4455;\n",
              "      fill: #D2E3FC;\n",
              "    }\n",
              "\n",
              "    [theme=dark] .colab-df-convert:hover {\n",
              "      background-color: #434B5C;\n",
              "      box-shadow: 0px 1px 3px 1px rgba(0, 0, 0, 0.15);\n",
              "      filter: drop-shadow(0px 1px 2px rgba(0, 0, 0, 0.3));\n",
              "      fill: #FFFFFF;\n",
              "    }\n",
              "  </style>\n",
              "\n",
              "    <script>\n",
              "      const buttonEl =\n",
              "        document.querySelector('#df-dca9be6c-b4e3-41d9-9be9-d20d56d35d39 button.colab-df-convert');\n",
              "      buttonEl.style.display =\n",
              "        google.colab.kernel.accessAllowed ? 'block' : 'none';\n",
              "\n",
              "      async function convertToInteractive(key) {\n",
              "        const element = document.querySelector('#df-dca9be6c-b4e3-41d9-9be9-d20d56d35d39');\n",
              "        const dataTable =\n",
              "          await google.colab.kernel.invokeFunction('convertToInteractive',\n",
              "                                                    [key], {});\n",
              "        if (!dataTable) return;\n",
              "\n",
              "        const docLinkHtml = 'Like what you see? Visit the ' +\n",
              "          '<a target=\"_blank\" href=https://colab.research.google.com/notebooks/data_table.ipynb>data table notebook</a>'\n",
              "          + ' to learn more about interactive tables.';\n",
              "        element.innerHTML = '';\n",
              "        dataTable['output_type'] = 'display_data';\n",
              "        await google.colab.output.renderOutput(dataTable, element);\n",
              "        const docLink = document.createElement('div');\n",
              "        docLink.innerHTML = docLinkHtml;\n",
              "        element.appendChild(docLink);\n",
              "      }\n",
              "    </script>\n",
              "  </div>\n",
              "\n",
              "\n",
              "<div id=\"df-dd044d58-d234-4058-8d76-48d895a0694c\">\n",
              "  <button class=\"colab-df-quickchart\" onclick=\"quickchart('df-dd044d58-d234-4058-8d76-48d895a0694c')\"\n",
              "            title=\"Suggest charts\"\n",
              "            style=\"display:none;\">\n",
              "\n",
              "<svg xmlns=\"http://www.w3.org/2000/svg\" height=\"24px\"viewBox=\"0 0 24 24\"\n",
              "     width=\"24px\">\n",
              "    <g>\n",
              "        <path d=\"M19 3H5c-1.1 0-2 .9-2 2v14c0 1.1.9 2 2 2h14c1.1 0 2-.9 2-2V5c0-1.1-.9-2-2-2zM9 17H7v-7h2v7zm4 0h-2V7h2v10zm4 0h-2v-4h2v4z\"/>\n",
              "    </g>\n",
              "</svg>\n",
              "  </button>\n",
              "\n",
              "<style>\n",
              "  .colab-df-quickchart {\n",
              "      --bg-color: #E8F0FE;\n",
              "      --fill-color: #1967D2;\n",
              "      --hover-bg-color: #E2EBFA;\n",
              "      --hover-fill-color: #174EA6;\n",
              "      --disabled-fill-color: #AAA;\n",
              "      --disabled-bg-color: #DDD;\n",
              "  }\n",
              "\n",
              "  [theme=dark] .colab-df-quickchart {\n",
              "      --bg-color: #3B4455;\n",
              "      --fill-color: #D2E3FC;\n",
              "      --hover-bg-color: #434B5C;\n",
              "      --hover-fill-color: #FFFFFF;\n",
              "      --disabled-bg-color: #3B4455;\n",
              "      --disabled-fill-color: #666;\n",
              "  }\n",
              "\n",
              "  .colab-df-quickchart {\n",
              "    background-color: var(--bg-color);\n",
              "    border: none;\n",
              "    border-radius: 50%;\n",
              "    cursor: pointer;\n",
              "    display: none;\n",
              "    fill: var(--fill-color);\n",
              "    height: 32px;\n",
              "    padding: 0;\n",
              "    width: 32px;\n",
              "  }\n",
              "\n",
              "  .colab-df-quickchart:hover {\n",
              "    background-color: var(--hover-bg-color);\n",
              "    box-shadow: 0 1px 2px rgba(60, 64, 67, 0.3), 0 1px 3px 1px rgba(60, 64, 67, 0.15);\n",
              "    fill: var(--button-hover-fill-color);\n",
              "  }\n",
              "\n",
              "  .colab-df-quickchart-complete:disabled,\n",
              "  .colab-df-quickchart-complete:disabled:hover {\n",
              "    background-color: var(--disabled-bg-color);\n",
              "    fill: var(--disabled-fill-color);\n",
              "    box-shadow: none;\n",
              "  }\n",
              "\n",
              "  .colab-df-spinner {\n",
              "    border: 2px solid var(--fill-color);\n",
              "    border-color: transparent;\n",
              "    border-bottom-color: var(--fill-color);\n",
              "    animation:\n",
              "      spin 1s steps(1) infinite;\n",
              "  }\n",
              "\n",
              "  @keyframes spin {\n",
              "    0% {\n",
              "      border-color: transparent;\n",
              "      border-bottom-color: var(--fill-color);\n",
              "      border-left-color: var(--fill-color);\n",
              "    }\n",
              "    20% {\n",
              "      border-color: transparent;\n",
              "      border-left-color: var(--fill-color);\n",
              "      border-top-color: var(--fill-color);\n",
              "    }\n",
              "    30% {\n",
              "      border-color: transparent;\n",
              "      border-left-color: var(--fill-color);\n",
              "      border-top-color: var(--fill-color);\n",
              "      border-right-color: var(--fill-color);\n",
              "    }\n",
              "    40% {\n",
              "      border-color: transparent;\n",
              "      border-right-color: var(--fill-color);\n",
              "      border-top-color: var(--fill-color);\n",
              "    }\n",
              "    60% {\n",
              "      border-color: transparent;\n",
              "      border-right-color: var(--fill-color);\n",
              "    }\n",
              "    80% {\n",
              "      border-color: transparent;\n",
              "      border-right-color: var(--fill-color);\n",
              "      border-bottom-color: var(--fill-color);\n",
              "    }\n",
              "    90% {\n",
              "      border-color: transparent;\n",
              "      border-bottom-color: var(--fill-color);\n",
              "    }\n",
              "  }\n",
              "</style>\n",
              "\n",
              "  <script>\n",
              "    async function quickchart(key) {\n",
              "      const quickchartButtonEl =\n",
              "        document.querySelector('#' + key + ' button');\n",
              "      quickchartButtonEl.disabled = true;  // To prevent multiple clicks.\n",
              "      quickchartButtonEl.classList.add('colab-df-spinner');\n",
              "      try {\n",
              "        const charts = await google.colab.kernel.invokeFunction(\n",
              "            'suggestCharts', [key], {});\n",
              "      } catch (error) {\n",
              "        console.error('Error during call to suggestCharts:', error);\n",
              "      }\n",
              "      quickchartButtonEl.classList.remove('colab-df-spinner');\n",
              "      quickchartButtonEl.classList.add('colab-df-quickchart-complete');\n",
              "    }\n",
              "    (() => {\n",
              "      let quickchartButtonEl =\n",
              "        document.querySelector('#df-dd044d58-d234-4058-8d76-48d895a0694c button');\n",
              "      quickchartButtonEl.style.display =\n",
              "        google.colab.kernel.accessAllowed ? 'block' : 'none';\n",
              "    })();\n",
              "  </script>\n",
              "</div>\n",
              "\n",
              "    </div>\n",
              "  </div>\n"
            ],
            "application/vnd.google.colaboratory.intrinsic+json": {
              "type": "dataframe",
              "variable_name": "df"
            }
          },
          "metadata": {},
          "execution_count": 26
        }
      ]
    },
    {
      "cell_type": "code",
      "source": [
        "df.shape\n",
        "df.info()"
      ],
      "metadata": {
        "colab": {
          "base_uri": "https://localhost:8080/"
        },
        "id": "Nk_1TT0fOF0M",
        "outputId": "5c5739dc-1ec2-46cb-a0f7-39169594eed8"
      },
      "execution_count": 27,
      "outputs": [
        {
          "output_type": "stream",
          "name": "stdout",
          "text": [
            "<class 'pandas.core.frame.DataFrame'>\n",
            "RangeIndex: 9551 entries, 0 to 9550\n",
            "Data columns (total 23 columns):\n",
            " #   Column                      Non-Null Count  Dtype  \n",
            "---  ------                      --------------  -----  \n",
            " 0   Restaurant ID               9551 non-null   int64  \n",
            " 1   Restaurant Name             9551 non-null   object \n",
            " 2   Country Code                9551 non-null   int64  \n",
            " 3   City                        9551 non-null   object \n",
            " 4   Address                     9551 non-null   object \n",
            " 5   Locality                    9551 non-null   object \n",
            " 6   Locality Verbose            9551 non-null   object \n",
            " 7   Longitude                   9551 non-null   float64\n",
            " 8   Latitude                    9551 non-null   float64\n",
            " 9   Cuisines                    9551 non-null   object \n",
            " 10  Average Cost for two        9551 non-null   int64  \n",
            " 11  Currency                    9551 non-null   object \n",
            " 12  Has Table booking           9551 non-null   object \n",
            " 13  Has Online delivery         9551 non-null   object \n",
            " 14  Is delivering now           9551 non-null   object \n",
            " 15  Switch to order menu        9551 non-null   object \n",
            " 16  Price range                 9551 non-null   int64  \n",
            " 17  Aggregate rating            9551 non-null   float64\n",
            " 18  Rating color                9551 non-null   object \n",
            " 19  Rating text                 9551 non-null   object \n",
            " 20  Votes                       9551 non-null   int64  \n",
            " 21  Unnamed: 21                 0 non-null      float64\n",
            " 22  French, Japanese, Desserts  0 non-null      float64\n",
            "dtypes: float64(5), int64(5), object(13)\n",
            "memory usage: 1.7+ MB\n"
          ]
        }
      ]
    },
    {
      "cell_type": "markdown",
      "source": [],
      "metadata": {
        "id": "5qkXipscO_Fx"
      }
    },
    {
      "cell_type": "markdown",
      "source": [
        "**Identifythe city with the highest number of restaurants in the dataset**."
      ],
      "metadata": {
        "id": "5nxBgFZ4MMVh"
      }
    },
    {
      "cell_type": "code",
      "source": [
        "print(df['City'].value_counts()[[0]].index[0])"
      ],
      "metadata": {
        "colab": {
          "base_uri": "https://localhost:8080/"
        },
        "id": "CGy_XULtOYvz",
        "outputId": "791032ad-7a69-4552-fb58-9e7d7183ad84"
      },
      "execution_count": 28,
      "outputs": [
        {
          "output_type": "stream",
          "name": "stdout",
          "text": [
            "New Delhi\n"
          ]
        },
        {
          "output_type": "stream",
          "name": "stderr",
          "text": [
            "<ipython-input-28-f7d6f2ae9dad>:1: FutureWarning: Series.__getitem__ treating keys as positions is deprecated. In a future version, integer keys will always be treated as labels (consistent with DataFrame behavior). To access a value by position, use `ser.iloc[pos]`\n",
            "  print(df['City'].value_counts()[[0]].index[0])\n"
          ]
        }
      ]
    },
    {
      "cell_type": "markdown",
      "source": [
        "**Calculate the average for restaurants in each day**"
      ],
      "metadata": {
        "id": "bPFHgk0XO1P6"
      }
    },
    {
      "cell_type": "code",
      "source": [
        "#Create a Dataframe that holds the average rating for restaurants in each city:\n",
        "average_restaurant_rating=df.groupby('City').agg(Average_rating=('Aggregate rating','mean')).sort_values(by='Average_rating')\n",
        "print(average_restaurant_rating)"
      ],
      "metadata": {
        "colab": {
          "base_uri": "https://localhost:8080/"
        },
        "id": "MrAsXNnyPjR-",
        "outputId": "c481881e-6da1-40b0-d806-0792ec2fc09a"
      },
      "execution_count": 29,
      "outputs": [
        {
          "output_type": "stream",
          "name": "stdout",
          "text": [
            "                  Average_rating\n",
            "City                            \n",
            "Faridabad               1.866932\n",
            "Noida                   2.036204\n",
            "Mc Millan               2.400000\n",
            "Montville               2.400000\n",
            "New Delhi               2.438845\n",
            "...                          ...\n",
            "Mandaluyong City        4.625000\n",
            "Pasig City              4.633333\n",
            "Makati City             4.650000\n",
            "Quezon City             4.800000\n",
            "Inner City              4.900000\n",
            "\n",
            "[141 rows x 1 columns]\n"
          ]
        }
      ]
    },
    {
      "cell_type": "code",
      "source": [
        "plt.subplots(figsize=(10,60))\n",
        "#Grouping data\n",
        "average_restaurant_rating=df.groupby('City').agg(average_rating=('Aggregate rating','mean')).sort_values(by='average_rating')\n",
        "#Plotting\n",
        "bars=plt.bar(average_restaurant_rating.index,average_restaurant_rating['average_rating'])\n",
        "#adding labels\n",
        "for bar in bars:\n",
        "  plt.text(bar.get_width(),bar.get_y()+bar.get_height()/2,round(bar.get_width(),2),ha='left',va='center')\n",
        "\n",
        "# adding title and labels\n",
        "plt.title('Average Rating for Restaurants in Each City')\n",
        "plt.xlabel('City')\n",
        "plt.ylabel('Average Rating')\n",
        "plt.show()"
      ],
      "metadata": {
        "colab": {
          "base_uri": "https://localhost:8080/",
          "height": 1000
        },
        "id": "O9AWvzd3QocN",
        "outputId": "8ba27b61-fa72-4c93-fa85-33487c23999a"
      },
      "execution_count": 30,
      "outputs": [
        {
          "output_type": "display_data",
          "data": {
            "text/plain": [
              "<Figure size 1000x6000 with 1 Axes>"
            ],
            "image/png": "[encoded data removed]"
          },
          "metadata": {}
        }
      ]
    },
    {
      "cell_type": "markdown",
      "source": [
        "**The city with the highest average rating**."
      ],
      "metadata": {
        "id": "iwTpLnnvTome"
      }
    },
    {
      "cell_type": "code",
      "source": [
        "average_restaurant_rating=df.groupby('City').agg(average_rating=('Aggregate rating','mean')).sort_values(by='average_rating')\n",
        "print('the city with the highest average rating is',average_restaurant_rating.index[0])"
      ],
      "metadata": {
        "colab": {
          "base_uri": "https://localhost:8080/"
        },
        "id": "Lc9J2m7aWAOd",
        "outputId": "015622cc-3a0a-4f36-9885-9bd3e3ad0f09"
      },
      "execution_count": 31,
      "outputs": [
        {
          "output_type": "stream",
          "name": "stdout",
          "text": [
            "the city with the highest average rating is Faridabad\n"
          ]
        }
      ]
    },
    {
      "cell_type": "markdown",
      "source": [
        "Task 3:Price Range Distribution"
      ],
      "metadata": {
        "id": "toTxc7sOZbrE"
      }
    },
    {
      "cell_type": "code",
      "source": [
        "#Import all necessary libraries:\n",
        "import numpy as np\n",
        "import pandas as pd\n",
        "import matplotlib.pyplot as plt\n",
        "import seaborn as sns"
      ],
      "metadata": {
        "id": "wKLGcFyoZwB2"
      },
      "execution_count": 44,
      "outputs": []
    },
    {
      "cell_type": "code",
      "source": [
        "#load the dataset:\n",
        "df=pd.read_csv('/content/sample_data/Cognifyz Dataset 1.csv')"
      ],
      "metadata": {
        "id": "AxnVw5B5Z_GK"
      },
      "execution_count": 33,
      "outputs": []
    },
    {
      "cell_type": "code",
      "source": [
        "df.head()"
      ],
      "metadata": {
        "colab": {
          "base_uri": "https://localhost:8080/",
          "height": 810
        },
        "id": "2Qu-_qtdaM96",
        "outputId": "356425af-9544-4c98-8954-836541e4350d"
      },
      "execution_count": 34,
      "outputs": [
        {
          "output_type": "execute_result",
          "data": {
            "text/plain": [
              "   Restaurant ID         Restaurant Name  Country Code              City  \\\n",
              "0        6317637        Le Petit Souffle           162       Makati City   \n",
              "1        6304287        Izakaya Kikufuji           162       Makati City   \n",
              "2        6300002  Heat - Edsa Shangri-La           162  Mandaluyong City   \n",
              "3        6318506                    Ooma           162  Mandaluyong City   \n",
              "4        6314302             Sambo Kojin           162  Mandaluyong City   \n",
              "\n",
              "                                             Address  \\\n",
              "0  Third Floor, Century City Mall, Kalayaan Avenu...   \n",
              "1  Little Tokyo, 2277 Chino Roces Avenue, Legaspi...   \n",
              "2  Edsa Shangri-La, 1 Garden Way, Ortigas, Mandal...   \n",
              "3  Third Floor, Mega Fashion Hall, SM Megamall, O...   \n",
              "4  Third Floor, Mega Atrium, SM Megamall, Ortigas...   \n",
              "\n",
              "                                     Locality  \\\n",
              "0   Century City Mall, Poblacion, Makati City   \n",
              "1  Little Tokyo, Legaspi Village, Makati City   \n",
              "2  Edsa Shangri-La, Ortigas, Mandaluyong City   \n",
              "3      SM Megamall, Ortigas, Mandaluyong City   \n",
              "4      SM Megamall, Ortigas, Mandaluyong City   \n",
              "\n",
              "                                    Locality Verbose   Longitude   Latitude  \\\n",
              "0  Century City Mall, Poblacion, Makati City, Mak...  121.027535  14.565443   \n",
              "1  Little Tokyo, Legaspi Village, Makati City, Ma...  121.014101  14.553708   \n",
              "2  Edsa Shangri-La, Ortigas, Mandaluyong City, Ma...  121.056831  14.581404   \n",
              "3  SM Megamall, Ortigas, Mandaluyong City, Mandal...  121.056475  14.585318   \n",
              "4  SM Megamall, Ortigas, Mandaluyong City, Mandal...  121.057508  14.584450   \n",
              "\n",
              "                           Cuisines  ...  Has Online delivery  \\\n",
              "0        French, Japanese, Desserts  ...                   No   \n",
              "1                          Japanese  ...                   No   \n",
              "2  Seafood, Asian, Filipino, Indian  ...                   No   \n",
              "3                   Japanese, Sushi  ...                   No   \n",
              "4                  Japanese, Korean  ...                   No   \n",
              "\n",
              "  Is delivering now Switch to order menu Price range Aggregate rating  \\\n",
              "0                No                   No           3              4.8   \n",
              "1                No                   No           3              4.5   \n",
              "2                No                   No           4              4.4   \n",
              "3                No                   No           4              4.9   \n",
              "4                No                   No           4              4.8   \n",
              "\n",
              "  Rating color  Rating text  Votes Unnamed: 21 French, Japanese, Desserts  \n",
              "0   Dark Green    Excellent    314         NaN                        NaN  \n",
              "1   Dark Green    Excellent    591         NaN                        NaN  \n",
              "2        Green    Very Good    270         NaN                        NaN  \n",
              "3   Dark Green    Excellent    365         NaN                        NaN  \n",
              "4   Dark Green    Excellent    229         NaN                        NaN  \n",
              "\n",
              "[5 rows x 23 columns]"
            ],
            "text/html": [
              "\n",
              "  <div id=\"df-200b7ef0-ddff-48e4-80f1-2eef0ace1815\" class=\"colab-df-container\">\n",
              "    <div>\n",
              "<style scoped>\n",
              "    .dataframe tbody tr th:only-of-type {\n",
              "        vertical-align: middle;\n",
              "    }\n",
              "\n",
              "    .dataframe tbody tr th {\n",
              "        vertical-align: top;\n",
              "    }\n",
              "\n",
              "    .dataframe thead th {\n",
              "        text-align: right;\n",
              "    }\n",
              "</style>\n",
              "<table border=\"1\" class=\"dataframe\">\n",
              "  <thead>\n",
              "    <tr style=\"text-align: right;\">\n",
              "      <th></th>\n",
              "      <th>Restaurant ID</th>\n",
              "      <th>Restaurant Name</th>\n",
              "      <th>Country Code</th>\n",
              "      <th>City</th>\n",
              "      <th>Address</th>\n",
              "      <th>Locality</th>\n",
              "      <th>Locality Verbose</th>\n",
              "      <th>Longitude</th>\n",
              "      <th>Latitude</th>\n",
              "      <th>Cuisines</th>\n",
              "      <th>...</th>\n",
              "      <th>Has Online delivery</th>\n",
              "      <th>Is delivering now</th>\n",
              "      <th>Switch to order menu</th>\n",
              "      <th>Price range</th>\n",
              "      <th>Aggregate rating</th>\n",
              "      <th>Rating color</th>\n",
              "      <th>Rating text</th>\n",
              "      <th>Votes</th>\n",
              "      <th>Unnamed: 21</th>\n",
              "      <th>French, Japanese, Desserts</th>\n",
              "    </tr>\n",
              "  </thead>\n",
              "  <tbody>\n",
              "    <tr>\n",
              "      <th>0</th>\n",
              "      <td>6317637</td>\n",
              "      <td>Le Petit Souffle</td>\n",
              "      <td>162</td>\n",
              "      <td>Makati City</td>\n",
              "      <td>Third Floor, Century City Mall, Kalayaan Avenu...</td>\n",
              "      <td>Century City Mall, Poblacion, Makati City</td>\n",
              "      <td>Century City Mall, Poblacion, Makati City, Mak...</td>\n",
              "      <td>121.027535</td>\n",
              "      <td>14.565443</td>\n",
              "      <td>French, Japanese, Desserts</td>\n",
              "      <td>...</td>\n",
              "      <td>No</td>\n",
              "      <td>No</td>\n",
              "      <td>No</td>\n",
              "      <td>3</td>\n",
              "      <td>4.8</td>\n",
              "      <td>Dark Green</td>\n",
              "      <td>Excellent</td>\n",
              "      <td>314</td>\n",
              "      <td>NaN</td>\n",
              "      <td>NaN</td>\n",
              "    </tr>\n",
              "    <tr>\n",
              "      <th>1</th>\n",
              "      <td>6304287</td>\n",
              "      <td>Izakaya Kikufuji</td>\n",
              "      <td>162</td>\n",
              "      <td>Makati City</td>\n",
              "      <td>Little Tokyo, 2277 Chino Roces Avenue, Legaspi...</td>\n",
              "      <td>Little Tokyo, Legaspi Village, Makati City</td>\n",
              "      <td>Little Tokyo, Legaspi Village, Makati City, Ma...</td>\n",
              "      <td>121.014101</td>\n",
              "      <td>14.553708</td>\n",
              "      <td>Japanese</td>\n",
              "      <td>...</td>\n",
              "      <td>No</td>\n",
              "      <td>No</td>\n",
              "      <td>No</td>\n",
              "      <td>3</td>\n",
              "      <td>4.5</td>\n",
              "      <td>Dark Green</td>\n",
              "      <td>Excellent</td>\n",
              "      <td>591</td>\n",
              "      <td>NaN</td>\n",
              "      <td>NaN</td>\n",
              "    </tr>\n",
              "    <tr>\n",
              "      <th>2</th>\n",
              "      <td>6300002</td>\n",
              "      <td>Heat - Edsa Shangri-La</td>\n",
              "      <td>162</td>\n",
              "      <td>Mandaluyong City</td>\n",
              "      <td>Edsa Shangri-La, 1 Garden Way, Ortigas, Mandal...</td>\n",
              "      <td>Edsa Shangri-La, Ortigas, Mandaluyong City</td>\n",
              "      <td>Edsa Shangri-La, Ortigas, Mandaluyong City, Ma...</td>\n",
              "      <td>121.056831</td>\n",
              "      <td>14.581404</td>\n",
              "      <td>Seafood, Asian, Filipino, Indian</td>\n",
              "      <td>...</td>\n",
              "      <td>No</td>\n",
              "      <td>No</td>\n",
              "      <td>No</td>\n",
              "      <td>4</td>\n",
              "      <td>4.4</td>\n",
              "      <td>Green</td>\n",
              "      <td>Very Good</td>\n",
              "      <td>270</td>\n",
              "      <td>NaN</td>\n",
              "      <td>NaN</td>\n",
              "    </tr>\n",
              "    <tr>\n",
              "      <th>3</th>\n",
              "      <td>6318506</td>\n",
              "      <td>Ooma</td>\n",
              "      <td>162</td>\n",
              "      <td>Mandaluyong City</td>\n",
              "      <td>Third Floor, Mega Fashion Hall, SM Megamall, O...</td>\n",
              "      <td>SM Megamall, Ortigas, Mandaluyong City</td>\n",
              "      <td>SM Megamall, Ortigas, Mandaluyong City, Mandal...</td>\n",
              "      <td>121.056475</td>\n",
              "      <td>14.585318</td>\n",
              "      <td>Japanese, Sushi</td>\n",
              "      <td>...</td>\n",
              "      <td>No</td>\n",
              "      <td>No</td>\n",
              "      <td>No</td>\n",
              "      <td>4</td>\n",
              "      <td>4.9</td>\n",
              "      <td>Dark Green</td>\n",
              "      <td>Excellent</td>\n",
              "      <td>365</td>\n",
              "      <td>NaN</td>\n",
              "      <td>NaN</td>\n",
              "    </tr>\n",
              "    <tr>\n",
              "      <th>4</th>\n",
              "      <td>6314302</td>\n",
              "      <td>Sambo Kojin</td>\n",
              "      <td>162</td>\n",
              "      <td>Mandaluyong City</td>\n",
              "      <td>Third Floor, Mega Atrium, SM Megamall, Ortigas...</td>\n",
              "      <td>SM Megamall, Ortigas, Mandaluyong City</td>\n",
              "      <td>SM Megamall, Ortigas, Mandaluyong City, Mandal...</td>\n",
              "      <td>121.057508</td>\n",
              "      <td>14.584450</td>\n",
              "      <td>Japanese, Korean</td>\n",
              "      <td>...</td>\n",
              "      <td>No</td>\n",
              "      <td>No</td>\n",
              "      <td>No</td>\n",
              "      <td>4</td>\n",
              "      <td>4.8</td>\n",
              "      <td>Dark Green</td>\n",
              "      <td>Excellent</td>\n",
              "      <td>229</td>\n",
              "      <td>NaN</td>\n",
              "      <td>NaN</td>\n",
              "    </tr>\n",
              "  </tbody>\n",
              "</table>\n",
              "<p>5 rows × 23 columns</p>\n",
              "</div>\n",
              "    <div class=\"colab-df-buttons\">\n",
              "\n",
              "  <div class=\"colab-df-container\">\n",
              "    <button class=\"colab-df-convert\" onclick=\"convertToInteractive('df-200b7ef0-ddff-48e4-80f1-2eef0ace1815')\"\n",
              "            title=\"Convert this dataframe to an interactive table.\"\n",
              "            style=\"display:none;\">\n",
              "\n",
              "  <svg xmlns=\"http://www.w3.org/2000/svg\" height=\"24px\" viewBox=\"0 -960 960 960\">\n",
              "    <path d=\"M120-120v-720h720v720H120Zm60-500h600v-160H180v160Zm220 220h160v-160H400v160Zm0 220h160v-160H400v160ZM180-400h160v-160H180v160Zm440 0h160v-160H620v160ZM180-180h160v-160H180v160Zm440 0h160v-160H620v160Z\"/>\n",
              "  </svg>\n",
              "    </button>\n",
              "\n",
              "  <style>\n",
              "    .colab-df-container {\n",
              "      display:flex;\n",
              "      gap: 12px;\n",
              "    }\n",
              "\n",
              "    .colab-df-convert {\n",
              "      background-color: #E8F0FE;\n",
              "      border: none;\n",
              "      border-radius: 50%;\n",
              "      cursor: pointer;\n",
              "      display: none;\n",
              "      fill: #1967D2;\n",
              "      height: 32px;\n",
              "      padding: 0 0 0 0;\n",
              "      width: 32px;\n",
              "    }\n",
              "\n",
              "    .colab-df-convert:hover {\n",
              "      background-color: #E2EBFA;\n",
              "      box-shadow: 0px 1px 2px rgba(60, 64, 67, 0.3), 0px 1px 3px 1px rgba(60, 64, 67, 0.15);\n",
              "      fill: #174EA6;\n",
              "    }\n",
              "\n",
              "    .colab-df-buttons div {\n",
              "      margin-bottom: 4px;\n",
              "    }\n",
              "\n",
              "    [theme=dark] .colab-df-convert {\n",
              "      background-color: #3B4455;\n",
              "      fill: #D2E3FC;\n",
              "    }\n",
              "\n",
              "    [theme=dark] .colab-df-convert:hover {\n",
              "      background-color: #434B5C;\n",
              "      box-shadow: 0px 1px 3px 1px rgba(0, 0, 0, 0.15);\n",
              "      filter: drop-shadow(0px 1px 2px rgba(0, 0, 0, 0.3));\n",
              "      fill: #FFFFFF;\n",
              "    }\n",
              "  </style>\n",
              "\n",
              "    <script>\n",
              "      const buttonEl =\n",
              "        document.querySelector('#df-200b7ef0-ddff-48e4-80f1-2eef0ace1815 button.colab-df-convert');\n",
              "      buttonEl.style.display =\n",
              "        google.colab.kernel.accessAllowed ? 'block' : 'none';\n",
              "\n",
              "      async function convertToInteractive(key) {\n",
              "        const element = document.querySelector('#df-200b7ef0-ddff-48e4-80f1-2eef0ace1815');\n",
              "        const dataTable =\n",
              "          await google.colab.kernel.invokeFunction('convertToInteractive',\n",
              "                                                    [key], {});\n",
              "        if (!dataTable) return;\n",
              "\n",
              "        const docLinkHtml = 'Like what you see? Visit the ' +\n",
              "          '<a target=\"_blank\" href=https://colab.research.google.com/notebooks/data_table.ipynb>data table notebook</a>'\n",
              "          + ' to learn more about interactive tables.';\n",
              "        element.innerHTML = '';\n",
              "        dataTable['output_type'] = 'display_data';\n",
              "        await google.colab.output.renderOutput(dataTable, element);\n",
              "        const docLink = document.createElement('div');\n",
              "        docLink.innerHTML = docLinkHtml;\n",
              "        element.appendChild(docLink);\n",
              "      }\n",
              "    </script>\n",
              "  </div>\n",
              "\n",
              "\n",
              "<div id=\"df-4ac18280-be7d-40d8-94d6-cdfe5972869a\">\n",
              "  <button class=\"colab-df-quickchart\" onclick=\"quickchart('df-4ac18280-be7d-40d8-94d6-cdfe5972869a')\"\n",
              "            title=\"Suggest charts\"\n",
              "            style=\"display:none;\">\n",
              "\n",
              "<svg xmlns=\"http://www.w3.org/2000/svg\" height=\"24px\"viewBox=\"0 0 24 24\"\n",
              "     width=\"24px\">\n",
              "    <g>\n",
              "        <path d=\"M19 3H5c-1.1 0-2 .9-2 2v14c0 1.1.9 2 2 2h14c1.1 0 2-.9 2-2V5c0-1.1-.9-2-2-2zM9 17H7v-7h2v7zm4 0h-2V7h2v10zm4 0h-2v-4h2v4z\"/>\n",
              "    </g>\n",
              "</svg>\n",
              "  </button>\n",
              "\n",
              "<style>\n",
              "  .colab-df-quickchart {\n",
              "      --bg-color: #E8F0FE;\n",
              "      --fill-color: #1967D2;\n",
              "      --hover-bg-color: #E2EBFA;\n",
              "      --hover-fill-color: #174EA6;\n",
              "      --disabled-fill-color: #AAA;\n",
              "      --disabled-bg-color: #DDD;\n",
              "  }\n",
              "\n",
              "  [theme=dark] .colab-df-quickchart {\n",
              "      --bg-color: #3B4455;\n",
              "      --fill-color: #D2E3FC;\n",
              "      --hover-bg-color: #434B5C;\n",
              "      --hover-fill-color: #FFFFFF;\n",
              "      --disabled-bg-color: #3B4455;\n",
              "      --disabled-fill-color: #666;\n",
              "  }\n",
              "\n",
              "  .colab-df-quickchart {\n",
              "    background-color: var(--bg-color);\n",
              "    border: none;\n",
              "    border-radius: 50%;\n",
              "    cursor: pointer;\n",
              "    display: none;\n",
              "    fill: var(--fill-color);\n",
              "    height: 32px;\n",
              "    padding: 0;\n",
              "    width: 32px;\n",
              "  }\n",
              "\n",
              "  .colab-df-quickchart:hover {\n",
              "    background-color: var(--hover-bg-color);\n",
              "    box-shadow: 0 1px 2px rgba(60, 64, 67, 0.3), 0 1px 3px 1px rgba(60, 64, 67, 0.15);\n",
              "    fill: var(--button-hover-fill-color);\n",
              "  }\n",
              "\n",
              "  .colab-df-quickchart-complete:disabled,\n",
              "  .colab-df-quickchart-complete:disabled:hover {\n",
              "    background-color: var(--disabled-bg-color);\n",
              "    fill: var(--disabled-fill-color);\n",
              "    box-shadow: none;\n",
              "  }\n",
              "\n",
              "  .colab-df-spinner {\n",
              "    border: 2px solid var(--fill-color);\n",
              "    border-color: transparent;\n",
              "    border-bottom-color: var(--fill-color);\n",
              "    animation:\n",
              "      spin 1s steps(1) infinite;\n",
              "  }\n",
              "\n",
              "  @keyframes spin {\n",
              "    0% {\n",
              "      border-color: transparent;\n",
              "      border-bottom-color: var(--fill-color);\n",
              "      border-left-color: var(--fill-color);\n",
              "    }\n",
              "    20% {\n",
              "      border-color: transparent;\n",
              "      border-left-color: var(--fill-color);\n",
              "      border-top-color: var(--fill-color);\n",
              "    }\n",
              "    30% {\n",
              "      border-color: transparent;\n",
              "      border-left-color: var(--fill-color);\n",
              "      border-top-color: var(--fill-color);\n",
              "      border-right-color: var(--fill-color);\n",
              "    }\n",
              "    40% {\n",
              "      border-color: transparent;\n",
              "      border-right-color: var(--fill-color);\n",
              "      border-top-color: var(--fill-color);\n",
              "    }\n",
              "    60% {\n",
              "      border-color: transparent;\n",
              "      border-right-color: var(--fill-color);\n",
              "    }\n",
              "    80% {\n",
              "      border-color: transparent;\n",
              "      border-right-color: var(--fill-color);\n",
              "      border-bottom-color: var(--fill-color);\n",
              "    }\n",
              "    90% {\n",
              "      border-color: transparent;\n",
              "      border-bottom-color: var(--fill-color);\n",
              "    }\n",
              "  }\n",
              "</style>\n",
              "\n",
              "  <script>\n",
              "    async function quickchart(key) {\n",
              "      const quickchartButtonEl =\n",
              "        document.querySelector('#' + key + ' button');\n",
              "      quickchartButtonEl.disabled = true;  // To prevent multiple clicks.\n",
              "      quickchartButtonEl.classList.add('colab-df-spinner');\n",
              "      try {\n",
              "        const charts = await google.colab.kernel.invokeFunction(\n",
              "            'suggestCharts', [key], {});\n",
              "      } catch (error) {\n",
              "        console.error('Error during call to suggestCharts:', error);\n",
              "      }\n",
              "      quickchartButtonEl.classList.remove('colab-df-spinner');\n",
              "      quickchartButtonEl.classList.add('colab-df-quickchart-complete');\n",
              "    }\n",
              "    (() => {\n",
              "      let quickchartButtonEl =\n",
              "        document.querySelector('#df-4ac18280-be7d-40d8-94d6-cdfe5972869a button');\n",
              "      quickchartButtonEl.style.display =\n",
              "        google.colab.kernel.accessAllowed ? 'block' : 'none';\n",
              "    })();\n",
              "  </script>\n",
              "</div>\n",
              "\n",
              "    </div>\n",
              "  </div>\n"
            ],
            "application/vnd.google.colaboratory.intrinsic+json": {
              "type": "dataframe",
              "variable_name": "df"
            }
          },
          "metadata": {},
          "execution_count": 34
        }
      ]
    },
    {
      "cell_type": "code",
      "source": [
        "df.shape"
      ],
      "metadata": {
        "colab": {
          "base_uri": "https://localhost:8080/"
        },
        "id": "pm009yeVaYYl",
        "outputId": "ea4b2613-c63f-4d5d-9ff8-bc046a223edf"
      },
      "execution_count": 35,
      "outputs": [
        {
          "output_type": "execute_result",
          "data": {
            "text/plain": [
              "(9551, 23)"
            ]
          },
          "metadata": {},
          "execution_count": 35
        }
      ]
    },
    {
      "cell_type": "code",
      "source": [
        "df.info()"
      ],
      "metadata": {
        "colab": {
          "base_uri": "https://localhost:8080/"
        },
        "id": "0-oAdQj5abeQ",
        "outputId": "93b0a808-265e-4126-b991-e3c5b4ca36b3"
      },
      "execution_count": 36,
      "outputs": [
        {
          "output_type": "stream",
          "name": "stdout",
          "text": [
            "<class 'pandas.core.frame.DataFrame'>\n",
            "RangeIndex: 9551 entries, 0 to 9550\n",
            "Data columns (total 23 columns):\n",
            " #   Column                      Non-Null Count  Dtype  \n",
            "---  ------                      --------------  -----  \n",
            " 0   Restaurant ID               9551 non-null   int64  \n",
            " 1   Restaurant Name             9551 non-null   object \n",
            " 2   Country Code                9551 non-null   int64  \n",
            " 3   City                        9551 non-null   object \n",
            " 4   Address                     9551 non-null   object \n",
            " 5   Locality                    9551 non-null   object \n",
            " 6   Locality Verbose            9551 non-null   object \n",
            " 7   Longitude                   9551 non-null   float64\n",
            " 8   Latitude                    9551 non-null   float64\n",
            " 9   Cuisines                    9551 non-null   object \n",
            " 10  Average Cost for two        9551 non-null   int64  \n",
            " 11  Currency                    9551 non-null   object \n",
            " 12  Has Table booking           9551 non-null   object \n",
            " 13  Has Online delivery         9551 non-null   object \n",
            " 14  Is delivering now           9551 non-null   object \n",
            " 15  Switch to order menu        9551 non-null   object \n",
            " 16  Price range                 9551 non-null   int64  \n",
            " 17  Aggregate rating            9551 non-null   float64\n",
            " 18  Rating color                9551 non-null   object \n",
            " 19  Rating text                 9551 non-null   object \n",
            " 20  Votes                       9551 non-null   int64  \n",
            " 21  Unnamed: 21                 0 non-null      float64\n",
            " 22  French, Japanese, Desserts  0 non-null      float64\n",
            "dtypes: float64(5), int64(5), object(13)\n",
            "memory usage: 1.7+ MB\n"
          ]
        }
      ]
    },
    {
      "cell_type": "markdown",
      "source": [
        "Create a histogram or bar chart to visualize the distribution of prices ranges among the restaurants."
      ],
      "metadata": {
        "id": "tmilSTu7aqxr"
      }
    },
    {
      "cell_type": "code",
      "source": [
        "plt.subplots(figsize=(10,6))\n",
        "plt.hist(df['Price range'],bins=df['Price range'].nunique(),edgecolor='black')\n",
        "plt.title('Price Range Distribution')\n",
        "plt.xlabel('Price Range')\n",
        "plt.ylabel('Frequency')\n",
        "plt.show()"
      ],
      "metadata": {
        "colab": {
          "base_uri": "https://localhost:8080/",
          "height": 564
        },
        "id": "f_A3RSJGa6nj",
        "outputId": "612e7004-2c2b-4b44-93ec-9fecf298aad8"
      },
      "execution_count": 37,
      "outputs": [
        {
          "output_type": "display_data",
          "data": {
            "text/plain": [
              "<Figure size 1000x600 with 1 Axes>"
            ],
            "image/png": "[encoded data removed]"
          },
          "metadata": {}
        }
      ]
    },
    {
      "cell_type": "markdown",
      "source": [
        "Calculate the percentages of restaurant in each price range category."
      ],
      "metadata": {
        "id": "lHKqBjPgcUVq"
      }
    },
    {
      "cell_type": "code",
      "source": [
        "#creates a dataframe which holds the counts of restuarants by each price range:"
      ],
      "metadata": {
        "id": "4A_u6cg0cia3"
      },
      "execution_count": 38,
      "outputs": []
    },
    {
      "cell_type": "code",
      "source": [
        "price_range_counts=df['Price range'].value_counts().reset_index()\n",
        "price_range_counts"
      ],
      "metadata": {
        "colab": {
          "base_uri": "https://localhost:8080/",
          "height": 175
        },
        "id": "_10iPitFcwwb",
        "outputId": "2a236e57-0e04-4392-9b59-3ed284c89e37"
      },
      "execution_count": 39,
      "outputs": [
        {
          "output_type": "execute_result",
          "data": {
            "text/plain": [
              "   Price range  count\n",
              "0            1   4444\n",
              "1            2   3113\n",
              "2            3   1408\n",
              "3            4    586"
            ],
            "text/html": [
              "\n",
              "  <div id=\"df-cf65dbbf-a409-4268-9e21-cb687b00ef6d\" class=\"colab-df-container\">\n",
              "    <div>\n",
              "<style scoped>\n",
              "    .dataframe tbody tr th:only-of-type {\n",
              "        vertical-align: middle;\n",
              "    }\n",
              "\n",
              "    .dataframe tbody tr th {\n",
              "        vertical-align: top;\n",
              "    }\n",
              "\n",
              "    .dataframe thead th {\n",
              "        text-align: right;\n",
              "    }\n",
              "</style>\n",
              "<table border=\"1\" class=\"dataframe\">\n",
              "  <thead>\n",
              "    <tr style=\"text-align: right;\">\n",
              "      <th></th>\n",
              "      <th>Price range</th>\n",
              "      <th>count</th>\n",
              "    </tr>\n",
              "  </thead>\n",
              "  <tbody>\n",
              "    <tr>\n",
              "      <th>0</th>\n",
              "      <td>1</td>\n",
              "      <td>4444</td>\n",
              "    </tr>\n",
              "    <tr>\n",
              "      <th>1</th>\n",
              "      <td>2</td>\n",
              "      <td>3113</td>\n",
              "    </tr>\n",
              "    <tr>\n",
              "      <th>2</th>\n",
              "      <td>3</td>\n",
              "      <td>1408</td>\n",
              "    </tr>\n",
              "    <tr>\n",
              "      <th>3</th>\n",
              "      <td>4</td>\n",
              "      <td>586</td>\n",
              "    </tr>\n",
              "  </tbody>\n",
              "</table>\n",
              "</div>\n",
              "    <div class=\"colab-df-buttons\">\n",
              "\n",
              "  <div class=\"colab-df-container\">\n",
              "    <button class=\"colab-df-convert\" onclick=\"convertToInteractive('df-cf65dbbf-a409-4268-9e21-cb687b00ef6d')\"\n",
              "            title=\"Convert this dataframe to an interactive table.\"\n",
              "            style=\"display:none;\">\n",
              "\n",
              "  <svg xmlns=\"http://www.w3.org/2000/svg\" height=\"24px\" viewBox=\"0 -960 960 960\">\n",
              "    <path d=\"M120-120v-720h720v720H120Zm60-500h600v-160H180v160Zm220 220h160v-160H400v160Zm0 220h160v-160H400v160ZM180-400h160v-160H180v160Zm440 0h160v-160H620v160ZM180-180h160v-160H180v160Zm440 0h160v-160H620v160Z\"/>\n",
              "  </svg>\n",
              "    </button>\n",
              "\n",
              "  <style>\n",
              "    .colab-df-container {\n",
              "      display:flex;\n",
              "      gap: 12px;\n",
              "    }\n",
              "\n",
              "    .colab-df-convert {\n",
              "      background-color: #E8F0FE;\n",
              "      border: none;\n",
              "      border-radius: 50%;\n",
              "      cursor: pointer;\n",
              "      display: none;\n",
              "      fill: #1967D2;\n",
              "      height: 32px;\n",
              "      padding: 0 0 0 0;\n",
              "      width: 32px;\n",
              "    }\n",
              "\n",
              "    .colab-df-convert:hover {\n",
              "      background-color: #E2EBFA;\n",
              "      box-shadow: 0px 1px 2px rgba(60, 64, 67, 0.3), 0px 1px 3px 1px rgba(60, 64, 67, 0.15);\n",
              "      fill: #174EA6;\n",
              "    }\n",
              "\n",
              "    .colab-df-buttons div {\n",
              "      margin-bottom: 4px;\n",
              "    }\n",
              "\n",
              "    [theme=dark] .colab-df-convert {\n",
              "      background-color: #3B4455;\n",
              "      fill: #D2E3FC;\n",
              "    }\n",
              "\n",
              "    [theme=dark] .colab-df-convert:hover {\n",
              "      background-color: #434B5C;\n",
              "      box-shadow: 0px 1px 3px 1px rgba(0, 0, 0, 0.15);\n",
              "      filter: drop-shadow(0px 1px 2px rgba(0, 0, 0, 0.3));\n",
              "      fill: #FFFFFF;\n",
              "    }\n",
              "  </style>\n",
              "\n",
              "    <script>\n",
              "      const buttonEl =\n",
              "        document.querySelector('#df-cf65dbbf-a409-4268-9e21-cb687b00ef6d button.colab-df-convert');\n",
              "      buttonEl.style.display =\n",
              "        google.colab.kernel.accessAllowed ? 'block' : 'none';\n",
              "\n",
              "      async function convertToInteractive(key) {\n",
              "        const element = document.querySelector('#df-cf65dbbf-a409-4268-9e21-cb687b00ef6d');\n",
              "        const dataTable =\n",
              "          await google.colab.kernel.invokeFunction('convertToInteractive',\n",
              "                                                    [key], {});\n",
              "        if (!dataTable) return;\n",
              "\n",
              "        const docLinkHtml = 'Like what you see? Visit the ' +\n",
              "          '<a target=\"_blank\" href=https://colab.research.google.com/notebooks/data_table.ipynb>data table notebook</a>'\n",
              "          + ' to learn more about interactive tables.';\n",
              "        element.innerHTML = '';\n",
              "        dataTable['output_type'] = 'display_data';\n",
              "        await google.colab.output.renderOutput(dataTable, element);\n",
              "        const docLink = document.createElement('div');\n",
              "        docLink.innerHTML = docLinkHtml;\n",
              "        element.appendChild(docLink);\n",
              "      }\n",
              "    </script>\n",
              "  </div>\n",
              "\n",
              "\n",
              "<div id=\"df-c5d12ee2-480c-4df4-92bd-a2ad663f2450\">\n",
              "  <button class=\"colab-df-quickchart\" onclick=\"quickchart('df-c5d12ee2-480c-4df4-92bd-a2ad663f2450')\"\n",
              "            title=\"Suggest charts\"\n",
              "            style=\"display:none;\">\n",
              "\n",
              "<svg xmlns=\"http://www.w3.org/2000/svg\" height=\"24px\"viewBox=\"0 0 24 24\"\n",
              "     width=\"24px\">\n",
              "    <g>\n",
              "        <path d=\"M19 3H5c-1.1 0-2 .9-2 2v14c0 1.1.9 2 2 2h14c1.1 0 2-.9 2-2V5c0-1.1-.9-2-2-2zM9 17H7v-7h2v7zm4 0h-2V7h2v10zm4 0h-2v-4h2v4z\"/>\n",
              "    </g>\n",
              "</svg>\n",
              "  </button>\n",
              "\n",
              "<style>\n",
              "  .colab-df-quickchart {\n",
              "      --bg-color: #E8F0FE;\n",
              "      --fill-color: #1967D2;\n",
              "      --hover-bg-color: #E2EBFA;\n",
              "      --hover-fill-color: #174EA6;\n",
              "      --disabled-fill-color: #AAA;\n",
              "      --disabled-bg-color: #DDD;\n",
              "  }\n",
              "\n",
              "  [theme=dark] .colab-df-quickchart {\n",
              "      --bg-color: #3B4455;\n",
              "      --fill-color: #D2E3FC;\n",
              "      --hover-bg-color: #434B5C;\n",
              "      --hover-fill-color: #FFFFFF;\n",
              "      --disabled-bg-color: #3B4455;\n",
              "      --disabled-fill-color: #666;\n",
              "  }\n",
              "\n",
              "  .colab-df-quickchart {\n",
              "    background-color: var(--bg-color);\n",
              "    border: none;\n",
              "    border-radius: 50%;\n",
              "    cursor: pointer;\n",
              "    display: none;\n",
              "    fill: var(--fill-color);\n",
              "    height: 32px;\n",
              "    padding: 0;\n",
              "    width: 32px;\n",
              "  }\n",
              "\n",
              "  .colab-df-quickchart:hover {\n",
              "    background-color: var(--hover-bg-color);\n",
              "    box-shadow: 0 1px 2px rgba(60, 64, 67, 0.3), 0 1px 3px 1px rgba(60, 64, 67, 0.15);\n",
              "    fill: var(--button-hover-fill-color);\n",
              "  }\n",
              "\n",
              "  .colab-df-quickchart-complete:disabled,\n",
              "  .colab-df-quickchart-complete:disabled:hover {\n",
              "    background-color: var(--disabled-bg-color);\n",
              "    fill: var(--disabled-fill-color);\n",
              "    box-shadow: none;\n",
              "  }\n",
              "\n",
              "  .colab-df-spinner {\n",
              "    border: 2px solid var(--fill-color);\n",
              "    border-color: transparent;\n",
              "    border-bottom-color: var(--fill-color);\n",
              "    animation:\n",
              "      spin 1s steps(1) infinite;\n",
              "  }\n",
              "\n",
              "  @keyframes spin {\n",
              "    0% {\n",
              "      border-color: transparent;\n",
              "      border-bottom-color: var(--fill-color);\n",
              "      border-left-color: var(--fill-color);\n",
              "    }\n",
              "    20% {\n",
              "      border-color: transparent;\n",
              "      border-left-color: var(--fill-color);\n",
              "      border-top-color: var(--fill-color);\n",
              "    }\n",
              "    30% {\n",
              "      border-color: transparent;\n",
              "      border-left-color: var(--fill-color);\n",
              "      border-top-color: var(--fill-color);\n",
              "      border-right-color: var(--fill-color);\n",
              "    }\n",
              "    40% {\n",
              "      border-color: transparent;\n",
              "      border-right-color: var(--fill-color);\n",
              "      border-top-color: var(--fill-color);\n",
              "    }\n",
              "    60% {\n",
              "      border-color: transparent;\n",
              "      border-right-color: var(--fill-color);\n",
              "    }\n",
              "    80% {\n",
              "      border-color: transparent;\n",
              "      border-right-color: var(--fill-color);\n",
              "      border-bottom-color: var(--fill-color);\n",
              "    }\n",
              "    90% {\n",
              "      border-color: transparent;\n",
              "      border-bottom-color: var(--fill-color);\n",
              "    }\n",
              "  }\n",
              "</style>\n",
              "\n",
              "  <script>\n",
              "    async function quickchart(key) {\n",
              "      const quickchartButtonEl =\n",
              "        document.querySelector('#' + key + ' button');\n",
              "      quickchartButtonEl.disabled = true;  // To prevent multiple clicks.\n",
              "      quickchartButtonEl.classList.add('colab-df-spinner');\n",
              "      try {\n",
              "        const charts = await google.colab.kernel.invokeFunction(\n",
              "            'suggestCharts', [key], {});\n",
              "      } catch (error) {\n",
              "        console.error('Error during call to suggestCharts:', error);\n",
              "      }\n",
              "      quickchartButtonEl.classList.remove('colab-df-spinner');\n",
              "      quickchartButtonEl.classList.add('colab-df-quickchart-complete');\n",
              "    }\n",
              "    (() => {\n",
              "      let quickchartButtonEl =\n",
              "        document.querySelector('#df-c5d12ee2-480c-4df4-92bd-a2ad663f2450 button');\n",
              "      quickchartButtonEl.style.display =\n",
              "        google.colab.kernel.accessAllowed ? 'block' : 'none';\n",
              "    })();\n",
              "  </script>\n",
              "</div>\n",
              "\n",
              "  <div id=\"id_cbb2a978-6f4e-4a72-9585-cb106183e9de\">\n",
              "    <style>\n",
              "      .colab-df-generate {\n",
              "        background-color: #E8F0FE;\n",
              "        border: none;\n",
              "        border-radius: 50%;\n",
              "        cursor: pointer;\n",
              "        display: none;\n",
              "        fill: #1967D2;\n",
              "        height: 32px;\n",
              "        padding: 0 0 0 0;\n",
              "        width: 32px;\n",
              "      }\n",
              "\n",
              "      .colab-df-generate:hover {\n",
              "        background-color: #E2EBFA;\n",
              "        box-shadow: 0px 1px 2px rgba(60, 64, 67, 0.3), 0px 1px 3px 1px rgba(60, 64, 67, 0.15);\n",
              "        fill: #174EA6;\n",
              "      }\n",
              "\n",
              "      [theme=dark] .colab-df-generate {\n",
              "        background-color: #3B4455;\n",
              "        fill: #D2E3FC;\n",
              "      }\n",
              "\n",
              "      [theme=dark] .colab-df-generate:hover {\n",
              "        background-color: #434B5C;\n",
              "        box-shadow: 0px 1px 3px 1px rgba(0, 0, 0, 0.15);\n",
              "        filter: drop-shadow(0px 1px 2px rgba(0, 0, 0, 0.3));\n",
              "        fill: #FFFFFF;\n",
              "      }\n",
              "    </style>\n",
              "    <button class=\"colab-df-generate\" onclick=\"generateWithVariable('price_range_counts')\"\n",
              "            title=\"Generate code using this dataframe.\"\n",
              "            style=\"display:none;\">\n",
              "\n",
              "  <svg xmlns=\"http://www.w3.org/2000/svg\" height=\"24px\"viewBox=\"0 0 24 24\"\n",
              "       width=\"24px\">\n",
              "    <path d=\"M7,19H8.4L18.45,9,17,7.55,7,17.6ZM5,21V16.75L18.45,3.32a2,2,0,0,1,2.83,0l1.4,1.43a1.91,1.91,0,0,1,.58,1.4,1.91,1.91,0,0,1-.58,1.4L9.25,21ZM18.45,9,17,7.55Zm-12,3A5.31,5.31,0,0,0,4.9,8.1,5.31,5.31,0,0,0,1,6.5,5.31,5.31,0,0,0,4.9,4.9,5.31,5.31,0,0,0,6.5,1,5.31,5.31,0,0,0,8.1,4.9,5.31,5.31,0,0,0,12,6.5,5.46,5.46,0,0,0,6.5,12Z\"/>\n",
              "  </svg>\n",
              "    </button>\n",
              "    <script>\n",
              "      (() => {\n",
              "      const buttonEl =\n",
              "        document.querySelector('#id_cbb2a978-6f4e-4a72-9585-cb106183e9de button.colab-df-generate');\n",
              "      buttonEl.style.display =\n",
              "        google.colab.kernel.accessAllowed ? 'block' : 'none';\n",
              "\n",
              "      buttonEl.onclick = () => {\n",
              "        google.colab.notebook.generateWithVariable('price_range_counts');\n",
              "      }\n",
              "      })();\n",
              "    </script>\n",
              "  </div>\n",
              "\n",
              "    </div>\n",
              "  </div>\n"
            ],
            "application/vnd.google.colaboratory.intrinsic+json": {
              "type": "dataframe",
              "variable_name": "price_range_counts",
              "summary": "{\n  \"name\": \"price_range_counts\",\n  \"rows\": 4,\n  \"fields\": [\n    {\n      \"column\": \"Price range\",\n      \"properties\": {\n        \"dtype\": \"number\",\n        \"std\": 1,\n        \"min\": 1,\n        \"max\": 4,\n        \"num_unique_values\": 4,\n        \"samples\": [\n          2,\n          4,\n          1\n        ],\n        \"semantic_type\": \"\",\n        \"description\": \"\"\n      }\n    },\n    {\n      \"column\": \"count\",\n      \"properties\": {\n        \"dtype\": \"number\",\n        \"std\": 1728,\n        \"min\": 586,\n        \"max\": 4444,\n        \"num_unique_values\": 4,\n        \"samples\": [\n          3113,\n          586,\n          4444\n        ],\n        \"semantic_type\": \"\",\n        \"description\": \"\"\n      }\n    }\n  ]\n}"
            }
          },
          "metadata": {},
          "execution_count": 39
        }
      ]
    },
    {
      "cell_type": "code",
      "source": [
        "import pandas as pd\n",
        "\n",
        "#Assuming you have data stored in a Dataframe called 'df'\n",
        "\n",
        "#Create a DataFrame to hold the counts of restaurants in each price range\n",
        "price_range_counts = df['Price range'].value_counts().reset_index()\n",
        "\n",
        "#Calculate the total number of resturants\n",
        "total_resturants = len(df)\n",
        "\n",
        "#Calclate The percentage of restaurants in each range category\n",
        "# Use the 'normalize' argument in value count to get percentages directly\n",
        "percentage_per_price_range = df['Price range'].value_counts(normalize=True) * 100\n",
        "\n",
        "#Print result\n",
        "print(\"Percentage of restaurants in each price range category:\")\n",
        "for price_range, percentage in percentage_per_price_range.items():\n",
        "  print(f\"{price_range}: {percentage:2f}%\")"
      ],
      "metadata": {
        "colab": {
          "base_uri": "https://localhost:8080/"
        },
        "id": "qP7k5JxGfgW0",
        "outputId": "281e65c3-a29a-4618-fddf-35fb63a9a84a"
      },
      "execution_count": 40,
      "outputs": [
        {
          "output_type": "stream",
          "name": "stdout",
          "text": [
            "Percentage of restaurants in each price range category:\n",
            "1: 46.529159%\n",
            "2: 32.593446%\n",
            "3: 14.741912%\n",
            "4: 6.135483%\n"
          ]
        }
      ]
    },
    {
      "cell_type": "code",
      "source": [
        "fig,ax=plt.subplots(figsize=(10,6))\n",
        "percentage_per_price_range.plot(kind='bar',ax=ax,color='green')\n",
        "for bar in ax.containers[0]:\n",
        "  height=bar.get_height()\n",
        "  ax.annotate(f'{height:.2f}%',xy=(bar.get_x()+bar.get_width()/2,height),xytext=(0,3),textcoords='offset points',ha='center',va='bottom')\n",
        "  plt.title('Percentage of Restaurants in Each Price range')\n",
        "  plt.xlabel('Price Range')\n",
        "  plt.ylabel('Frequency')\n",
        "  plt.show()"
      ],
      "metadata": {
        "colab": {
          "base_uri": "https://localhost:8080/",
          "height": 1000
        },
        "id": "22u17eKTmaWN",
        "outputId": "0622e3f2-a20f-414b-90f1-81a246b608db"
      },
      "execution_count": 41,
      "outputs": [
        {
          "output_type": "display_data",
          "data": {
            "text/plain": [
              "<Figure size 1000x600 with 1 Axes>"
            ],
            "image/png": "[encoded data removed]"
          },
          "metadata": {}
        },
        {
          "output_type": "display_data",
          "data": {
            "text/plain": [
              "<Figure size 640x480 with 1 Axes>"
            ],
            "image/png": "[encoded data removed]"
          },
          "metadata": {}
        },
        {
          "output_type": "display_data",
          "data": {
            "text/plain": [
              "<Figure size 640x480 with 1 Axes>"
            ],
            "image/png": "[encoded data removed]"
          },
          "metadata": {}
        },
        {
          "output_type": "display_data",
          "data": {
            "text/plain": [
              "<Figure size 640x480 with 1 Axes>"
            ],
            "image/png": "[encoded data removed]"
          },
          "metadata": {}
        }
      ]
    },
    {
      "cell_type": "markdown",
      "source": [
        "**Task 4**"
      ],
      "metadata": {
        "id": "AS5NOXC5XyE0"
      }
    },
    {
      "cell_type": "markdown",
      "source": [
        "Task: Online Delivery"
      ],
      "metadata": {
        "id": "z3BswxPJX5a6"
      }
    },
    {
      "cell_type": "code",
      "source": [
        "#import all necessary libaries\n",
        "import numpy as np\n",
        "import pandas as pd\n",
        "import matplotlib.pyplot as plt\n",
        "import seaborn as sns"
      ],
      "metadata": {
        "id": "XLw5iMqWYPVK"
      },
      "execution_count": 46,
      "outputs": []
    },
    {
      "cell_type": "code",
      "source": [
        "#load the dataset\n",
        "df=pd.read_csv('/content/sample_data/Cognifyz Dataset 1.csv')\n",
        "df.head()"
      ],
      "metadata": {
        "colab": {
          "base_uri": "https://localhost:8080/",
          "height": 810
        },
        "id": "aIWLpUzUZ9GA",
        "outputId": "1caebf4e-2e04-4933-ccd6-f7a4d06f76ae"
      },
      "execution_count": 47,
      "outputs": [
        {
          "output_type": "execute_result",
          "data": {
            "text/plain": [
              "   Restaurant ID         Restaurant Name  Country Code              City  \\\n",
              "0        6317637        Le Petit Souffle           162       Makati City   \n",
              "1        6304287        Izakaya Kikufuji           162       Makati City   \n",
              "2        6300002  Heat - Edsa Shangri-La           162  Mandaluyong City   \n",
              "3        6318506                    Ooma           162  Mandaluyong City   \n",
              "4        6314302             Sambo Kojin           162  Mandaluyong City   \n",
              "\n",
              "                                             Address  \\\n",
              "0  Third Floor, Century City Mall, Kalayaan Avenu...   \n",
              "1  Little Tokyo, 2277 Chino Roces Avenue, Legaspi...   \n",
              "2  Edsa Shangri-La, 1 Garden Way, Ortigas, Mandal...   \n",
              "3  Third Floor, Mega Fashion Hall, SM Megamall, O...   \n",
              "4  Third Floor, Mega Atrium, SM Megamall, Ortigas...   \n",
              "\n",
              "                                     Locality  \\\n",
              "0   Century City Mall, Poblacion, Makati City   \n",
              "1  Little Tokyo, Legaspi Village, Makati City   \n",
              "2  Edsa Shangri-La, Ortigas, Mandaluyong City   \n",
              "3      SM Megamall, Ortigas, Mandaluyong City   \n",
              "4      SM Megamall, Ortigas, Mandaluyong City   \n",
              "\n",
              "                                    Locality Verbose   Longitude   Latitude  \\\n",
              "0  Century City Mall, Poblacion, Makati City, Mak...  121.027535  14.565443   \n",
              "1  Little Tokyo, Legaspi Village, Makati City, Ma...  121.014101  14.553708   \n",
              "2  Edsa Shangri-La, Ortigas, Mandaluyong City, Ma...  121.056831  14.581404   \n",
              "3  SM Megamall, Ortigas, Mandaluyong City, Mandal...  121.056475  14.585318   \n",
              "4  SM Megamall, Ortigas, Mandaluyong City, Mandal...  121.057508  14.584450   \n",
              "\n",
              "                           Cuisines  ...  Has Online delivery  \\\n",
              "0        French, Japanese, Desserts  ...                   No   \n",
              "1                          Japanese  ...                   No   \n",
              "2  Seafood, Asian, Filipino, Indian  ...                   No   \n",
              "3                   Japanese, Sushi  ...                   No   \n",
              "4                  Japanese, Korean  ...                   No   \n",
              "\n",
              "  Is delivering now Switch to order menu Price range Aggregate rating  \\\n",
              "0                No                   No           3              4.8   \n",
              "1                No                   No           3              4.5   \n",
              "2                No                   No           4              4.4   \n",
              "3                No                   No           4              4.9   \n",
              "4                No                   No           4              4.8   \n",
              "\n",
              "  Rating color  Rating text  Votes Unnamed: 21 French, Japanese, Desserts  \n",
              "0   Dark Green    Excellent    314         NaN                        NaN  \n",
              "1   Dark Green    Excellent    591         NaN                        NaN  \n",
              "2        Green    Very Good    270         NaN                        NaN  \n",
              "3   Dark Green    Excellent    365         NaN                        NaN  \n",
              "4   Dark Green    Excellent    229         NaN                        NaN  \n",
              "\n",
              "[5 rows x 23 columns]"
            ],
            "text/html": [
              "\n",
              "  <div id=\"df-453f6301-4703-42cb-9775-b9b1b2cec0e2\" class=\"colab-df-container\">\n",
              "    <div>\n",
              "<style scoped>\n",
              "    .dataframe tbody tr th:only-of-type {\n",
              "        vertical-align: middle;\n",
              "    }\n",
              "\n",
              "    .dataframe tbody tr th {\n",
              "        vertical-align: top;\n",
              "    }\n",
              "\n",
              "    .dataframe thead th {\n",
              "        text-align: right;\n",
              "    }\n",
              "</style>\n",
              "<table border=\"1\" class=\"dataframe\">\n",
              "  <thead>\n",
              "    <tr style=\"text-align: right;\">\n",
              "      <th></th>\n",
              "      <th>Restaurant ID</th>\n",
              "      <th>Restaurant Name</th>\n",
              "      <th>Country Code</th>\n",
              "      <th>City</th>\n",
              "      <th>Address</th>\n",
              "      <th>Locality</th>\n",
              "      <th>Locality Verbose</th>\n",
              "      <th>Longitude</th>\n",
              "      <th>Latitude</th>\n",
              "      <th>Cuisines</th>\n",
              "      <th>...</th>\n",
              "      <th>Has Online delivery</th>\n",
              "      <th>Is delivering now</th>\n",
              "      <th>Switch to order menu</th>\n",
              "      <th>Price range</th>\n",
              "      <th>Aggregate rating</th>\n",
              "      <th>Rating color</th>\n",
              "      <th>Rating text</th>\n",
              "      <th>Votes</th>\n",
              "      <th>Unnamed: 21</th>\n",
              "      <th>French, Japanese, Desserts</th>\n",
              "    </tr>\n",
              "  </thead>\n",
              "  <tbody>\n",
              "    <tr>\n",
              "      <th>0</th>\n",
              "      <td>6317637</td>\n",
              "      <td>Le Petit Souffle</td>\n",
              "      <td>162</td>\n",
              "      <td>Makati City</td>\n",
              "      <td>Third Floor, Century City Mall, Kalayaan Avenu...</td>\n",
              "      <td>Century City Mall, Poblacion, Makati City</td>\n",
              "      <td>Century City Mall, Poblacion, Makati City, Mak...</td>\n",
              "      <td>121.027535</td>\n",
              "      <td>14.565443</td>\n",
              "      <td>French, Japanese, Desserts</td>\n",
              "      <td>...</td>\n",
              "      <td>No</td>\n",
              "      <td>No</td>\n",
              "      <td>No</td>\n",
              "      <td>3</td>\n",
              "      <td>4.8</td>\n",
              "      <td>Dark Green</td>\n",
              "      <td>Excellent</td>\n",
              "      <td>314</td>\n",
              "      <td>NaN</td>\n",
              "      <td>NaN</td>\n",
              "    </tr>\n",
              "    <tr>\n",
              "      <th>1</th>\n",
              "      <td>6304287</td>\n",
              "      <td>Izakaya Kikufuji</td>\n",
              "      <td>162</td>\n",
              "      <td>Makati City</td>\n",
              "      <td>Little Tokyo, 2277 Chino Roces Avenue, Legaspi...</td>\n",
              "      <td>Little Tokyo, Legaspi Village, Makati City</td>\n",
              "      <td>Little Tokyo, Legaspi Village, Makati City, Ma...</td>\n",
              "      <td>121.014101</td>\n",
              "      <td>14.553708</td>\n",
              "      <td>Japanese</td>\n",
              "      <td>...</td>\n",
              "      <td>No</td>\n",
              "      <td>No</td>\n",
              "      <td>No</td>\n",
              "      <td>3</td>\n",
              "      <td>4.5</td>\n",
              "      <td>Dark Green</td>\n",
              "      <td>Excellent</td>\n",
              "      <td>591</td>\n",
              "      <td>NaN</td>\n",
              "      <td>NaN</td>\n",
              "    </tr>\n",
              "    <tr>\n",
              "      <th>2</th>\n",
              "      <td>6300002</td>\n",
              "      <td>Heat - Edsa Shangri-La</td>\n",
              "      <td>162</td>\n",
              "      <td>Mandaluyong City</td>\n",
              "      <td>Edsa Shangri-La, 1 Garden Way, Ortigas, Mandal...</td>\n",
              "      <td>Edsa Shangri-La, Ortigas, Mandaluyong City</td>\n",
              "      <td>Edsa Shangri-La, Ortigas, Mandaluyong City, Ma...</td>\n",
              "      <td>121.056831</td>\n",
              "      <td>14.581404</td>\n",
              "      <td>Seafood, Asian, Filipino, Indian</td>\n",
              "      <td>...</td>\n",
              "      <td>No</td>\n",
              "      <td>No</td>\n",
              "      <td>No</td>\n",
              "      <td>4</td>\n",
              "      <td>4.4</td>\n",
              "      <td>Green</td>\n",
              "      <td>Very Good</td>\n",
              "      <td>270</td>\n",
              "      <td>NaN</td>\n",
              "      <td>NaN</td>\n",
              "    </tr>\n",
              "    <tr>\n",
              "      <th>3</th>\n",
              "      <td>6318506</td>\n",
              "      <td>Ooma</td>\n",
              "      <td>162</td>\n",
              "      <td>Mandaluyong City</td>\n",
              "      <td>Third Floor, Mega Fashion Hall, SM Megamall, O...</td>\n",
              "      <td>SM Megamall, Ortigas, Mandaluyong City</td>\n",
              "      <td>SM Megamall, Ortigas, Mandaluyong City, Mandal...</td>\n",
              "      <td>121.056475</td>\n",
              "      <td>14.585318</td>\n",
              "      <td>Japanese, Sushi</td>\n",
              "      <td>...</td>\n",
              "      <td>No</td>\n",
              "      <td>No</td>\n",
              "      <td>No</td>\n",
              "      <td>4</td>\n",
              "      <td>4.9</td>\n",
              "      <td>Dark Green</td>\n",
              "      <td>Excellent</td>\n",
              "      <td>365</td>\n",
              "      <td>NaN</td>\n",
              "      <td>NaN</td>\n",
              "    </tr>\n",
              "    <tr>\n",
              "      <th>4</th>\n",
              "      <td>6314302</td>\n",
              "      <td>Sambo Kojin</td>\n",
              "      <td>162</td>\n",
              "      <td>Mandaluyong City</td>\n",
              "      <td>Third Floor, Mega Atrium, SM Megamall, Ortigas...</td>\n",
              "      <td>SM Megamall, Ortigas, Mandaluyong City</td>\n",
              "      <td>SM Megamall, Ortigas, Mandaluyong City, Mandal...</td>\n",
              "      <td>121.057508</td>\n",
              "      <td>14.584450</td>\n",
              "      <td>Japanese, Korean</td>\n",
              "      <td>...</td>\n",
              "      <td>No</td>\n",
              "      <td>No</td>\n",
              "      <td>No</td>\n",
              "      <td>4</td>\n",
              "      <td>4.8</td>\n",
              "      <td>Dark Green</td>\n",
              "      <td>Excellent</td>\n",
              "      <td>229</td>\n",
              "      <td>NaN</td>\n",
              "      <td>NaN</td>\n",
              "    </tr>\n",
              "  </tbody>\n",
              "</table>\n",
              "<p>5 rows × 23 columns</p>\n",
              "</div>\n",
              "    <div class=\"colab-df-buttons\">\n",
              "\n",
              "  <div class=\"colab-df-container\">\n",
              "    <button class=\"colab-df-convert\" onclick=\"convertToInteractive('df-453f6301-4703-42cb-9775-b9b1b2cec0e2')\"\n",
              "            title=\"Convert this dataframe to an interactive table.\"\n",
              "            style=\"display:none;\">\n",
              "\n",
              "  <svg xmlns=\"http://www.w3.org/2000/svg\" height=\"24px\" viewBox=\"0 -960 960 960\">\n",
              "    <path d=\"M120-120v-720h720v720H120Zm60-500h600v-160H180v160Zm220 220h160v-160H400v160Zm0 220h160v-160H400v160ZM180-400h160v-160H180v160Zm440 0h160v-160H620v160ZM180-180h160v-160H180v160Zm440 0h160v-160H620v160Z\"/>\n",
              "  </svg>\n",
              "    </button>\n",
              "\n",
              "  <style>\n",
              "    .colab-df-container {\n",
              "      display:flex;\n",
              "      gap: 12px;\n",
              "    }\n",
              "\n",
              "    .colab-df-convert {\n",
              "      background-color: #E8F0FE;\n",
              "      border: none;\n",
              "      border-radius: 50%;\n",
              "      cursor: pointer;\n",
              "      display: none;\n",
              "      fill: #1967D2;\n",
              "      height: 32px;\n",
              "      padding: 0 0 0 0;\n",
              "      width: 32px;\n",
              "    }\n",
              "\n",
              "    .colab-df-convert:hover {\n",
              "      background-color: #E2EBFA;\n",
              "      box-shadow: 0px 1px 2px rgba(60, 64, 67, 0.3), 0px 1px 3px 1px rgba(60, 64, 67, 0.15);\n",
              "      fill: #174EA6;\n",
              "    }\n",
              "\n",
              "    .colab-df-buttons div {\n",
              "      margin-bottom: 4px;\n",
              "    }\n",
              "\n",
              "    [theme=dark] .colab-df-convert {\n",
              "      background-color: #3B4455;\n",
              "      fill: #D2E3FC;\n",
              "    }\n",
              "\n",
              "    [theme=dark] .colab-df-convert:hover {\n",
              "      background-color: #434B5C;\n",
              "      box-shadow: 0px 1px 3px 1px rgba(0, 0, 0, 0.15);\n",
              "      filter: drop-shadow(0px 1px 2px rgba(0, 0, 0, 0.3));\n",
              "      fill: #FFFFFF;\n",
              "    }\n",
              "  </style>\n",
              "\n",
              "    <script>\n",
              "      const buttonEl =\n",
              "        document.querySelector('#df-453f6301-4703-42cb-9775-b9b1b2cec0e2 button.colab-df-convert');\n",
              "      buttonEl.style.display =\n",
              "        google.colab.kernel.accessAllowed ? 'block' : 'none';\n",
              "\n",
              "      async function convertToInteractive(key) {\n",
              "        const element = document.querySelector('#df-453f6301-4703-42cb-9775-b9b1b2cec0e2');\n",
              "        const dataTable =\n",
              "          await google.colab.kernel.invokeFunction('convertToInteractive',\n",
              "                                                    [key], {});\n",
              "        if (!dataTable) return;\n",
              "\n",
              "        const docLinkHtml = 'Like what you see? Visit the ' +\n",
              "          '<a target=\"_blank\" href=https://colab.research.google.com/notebooks/data_table.ipynb>data table notebook</a>'\n",
              "          + ' to learn more about interactive tables.';\n",
              "        element.innerHTML = '';\n",
              "        dataTable['output_type'] = 'display_data';\n",
              "        await google.colab.output.renderOutput(dataTable, element);\n",
              "        const docLink = document.createElement('div');\n",
              "        docLink.innerHTML = docLinkHtml;\n",
              "        element.appendChild(docLink);\n",
              "      }\n",
              "    </script>\n",
              "  </div>\n",
              "\n",
              "\n",
              "<div id=\"df-8cb1ca1d-be5c-417a-bcad-b9fd91c21e67\">\n",
              "  <button class=\"colab-df-quickchart\" onclick=\"quickchart('df-8cb1ca1d-be5c-417a-bcad-b9fd91c21e67')\"\n",
              "            title=\"Suggest charts\"\n",
              "            style=\"display:none;\">\n",
              "\n",
              "<svg xmlns=\"http://www.w3.org/2000/svg\" height=\"24px\"viewBox=\"0 0 24 24\"\n",
              "     width=\"24px\">\n",
              "    <g>\n",
              "        <path d=\"M19 3H5c-1.1 0-2 .9-2 2v14c0 1.1.9 2 2 2h14c1.1 0 2-.9 2-2V5c0-1.1-.9-2-2-2zM9 17H7v-7h2v7zm4 0h-2V7h2v10zm4 0h-2v-4h2v4z\"/>\n",
              "    </g>\n",
              "</svg>\n",
              "  </button>\n",
              "\n",
              "<style>\n",
              "  .colab-df-quickchart {\n",
              "      --bg-color: #E8F0FE;\n",
              "      --fill-color: #1967D2;\n",
              "      --hover-bg-color: #E2EBFA;\n",
              "      --hover-fill-color: #174EA6;\n",
              "      --disabled-fill-color: #AAA;\n",
              "      --disabled-bg-color: #DDD;\n",
              "  }\n",
              "\n",
              "  [theme=dark] .colab-df-quickchart {\n",
              "      --bg-color: #3B4455;\n",
              "      --fill-color: #D2E3FC;\n",
              "      --hover-bg-color: #434B5C;\n",
              "      --hover-fill-color: #FFFFFF;\n",
              "      --disabled-bg-color: #3B4455;\n",
              "      --disabled-fill-color: #666;\n",
              "  }\n",
              "\n",
              "  .colab-df-quickchart {\n",
              "    background-color: var(--bg-color);\n",
              "    border: none;\n",
              "    border-radius: 50%;\n",
              "    cursor: pointer;\n",
              "    display: none;\n",
              "    fill: var(--fill-color);\n",
              "    height: 32px;\n",
              "    padding: 0;\n",
              "    width: 32px;\n",
              "  }\n",
              "\n",
              "  .colab-df-quickchart:hover {\n",
              "    background-color: var(--hover-bg-color);\n",
              "    box-shadow: 0 1px 2px rgba(60, 64, 67, 0.3), 0 1px 3px 1px rgba(60, 64, 67, 0.15);\n",
              "    fill: var(--button-hover-fill-color);\n",
              "  }\n",
              "\n",
              "  .colab-df-quickchart-complete:disabled,\n",
              "  .colab-df-quickchart-complete:disabled:hover {\n",
              "    background-color: var(--disabled-bg-color);\n",
              "    fill: var(--disabled-fill-color);\n",
              "    box-shadow: none;\n",
              "  }\n",
              "\n",
              "  .colab-df-spinner {\n",
              "    border: 2px solid var(--fill-color);\n",
              "    border-color: transparent;\n",
              "    border-bottom-color: var(--fill-color);\n",
              "    animation:\n",
              "      spin 1s steps(1) infinite;\n",
              "  }\n",
              "\n",
              "  @keyframes spin {\n",
              "    0% {\n",
              "      border-color: transparent;\n",
              "      border-bottom-color: var(--fill-color);\n",
              "      border-left-color: var(--fill-color);\n",
              "    }\n",
              "    20% {\n",
              "      border-color: transparent;\n",
              "      border-left-color: var(--fill-color);\n",
              "      border-top-color: var(--fill-color);\n",
              "    }\n",
              "    30% {\n",
              "      border-color: transparent;\n",
              "      border-left-color: var(--fill-color);\n",
              "      border-top-color: var(--fill-color);\n",
              "      border-right-color: var(--fill-color);\n",
              "    }\n",
              "    40% {\n",
              "      border-color: transparent;\n",
              "      border-right-color: var(--fill-color);\n",
              "      border-top-color: var(--fill-color);\n",
              "    }\n",
              "    60% {\n",
              "      border-color: transparent;\n",
              "      border-right-color: var(--fill-color);\n",
              "    }\n",
              "    80% {\n",
              "      border-color: transparent;\n",
              "      border-right-color: var(--fill-color);\n",
              "      border-bottom-color: var(--fill-color);\n",
              "    }\n",
              "    90% {\n",
              "      border-color: transparent;\n",
              "      border-bottom-color: var(--fill-color);\n",
              "    }\n",
              "  }\n",
              "</style>\n",
              "\n",
              "  <script>\n",
              "    async function quickchart(key) {\n",
              "      const quickchartButtonEl =\n",
              "        document.querySelector('#' + key + ' button');\n",
              "      quickchartButtonEl.disabled = true;  // To prevent multiple clicks.\n",
              "      quickchartButtonEl.classList.add('colab-df-spinner');\n",
              "      try {\n",
              "        const charts = await google.colab.kernel.invokeFunction(\n",
              "            'suggestCharts', [key], {});\n",
              "      } catch (error) {\n",
              "        console.error('Error during call to suggestCharts:', error);\n",
              "      }\n",
              "      quickchartButtonEl.classList.remove('colab-df-spinner');\n",
              "      quickchartButtonEl.classList.add('colab-df-quickchart-complete');\n",
              "    }\n",
              "    (() => {\n",
              "      let quickchartButtonEl =\n",
              "        document.querySelector('#df-8cb1ca1d-be5c-417a-bcad-b9fd91c21e67 button');\n",
              "      quickchartButtonEl.style.display =\n",
              "        google.colab.kernel.accessAllowed ? 'block' : 'none';\n",
              "    })();\n",
              "  </script>\n",
              "</div>\n",
              "\n",
              "    </div>\n",
              "  </div>\n"
            ],
            "application/vnd.google.colaboratory.intrinsic+json": {
              "type": "dataframe",
              "variable_name": "df"
            }
          },
          "metadata": {},
          "execution_count": 47
        }
      ]
    },
    {
      "cell_type": "code",
      "source": [
        "#numbers of rows and Columns name and datatype:\n",
        "df.info()"
      ],
      "metadata": {
        "colab": {
          "base_uri": "https://localhost:8080/"
        },
        "id": "rYJzLXp3a1bf",
        "outputId": "7d95fcfb-9b60-4c9c-b3b7-be00c88fb846"
      },
      "execution_count": 48,
      "outputs": [
        {
          "output_type": "stream",
          "name": "stdout",
          "text": [
            "<class 'pandas.core.frame.DataFrame'>\n",
            "RangeIndex: 9551 entries, 0 to 9550\n",
            "Data columns (total 23 columns):\n",
            " #   Column                      Non-Null Count  Dtype  \n",
            "---  ------                      --------------  -----  \n",
            " 0   Restaurant ID               9551 non-null   int64  \n",
            " 1   Restaurant Name             9551 non-null   object \n",
            " 2   Country Code                9551 non-null   int64  \n",
            " 3   City                        9551 non-null   object \n",
            " 4   Address                     9551 non-null   object \n",
            " 5   Locality                    9551 non-null   object \n",
            " 6   Locality Verbose            9551 non-null   object \n",
            " 7   Longitude                   9551 non-null   float64\n",
            " 8   Latitude                    9551 non-null   float64\n",
            " 9   Cuisines                    9551 non-null   object \n",
            " 10  Average Cost for two        9551 non-null   int64  \n",
            " 11  Currency                    9551 non-null   object \n",
            " 12  Has Table booking           9551 non-null   object \n",
            " 13  Has Online delivery         9551 non-null   object \n",
            " 14  Is delivering now           9551 non-null   object \n",
            " 15  Switch to order menu        9551 non-null   object \n",
            " 16  Price range                 9551 non-null   int64  \n",
            " 17  Aggregate rating            9551 non-null   float64\n",
            " 18  Rating color                9551 non-null   object \n",
            " 19  Rating text                 9551 non-null   object \n",
            " 20  Votes                       9551 non-null   int64  \n",
            " 21  Unnamed: 21                 0 non-null      float64\n",
            " 22  French, Japanese, Desserts  0 non-null      float64\n",
            "dtypes: float64(5), int64(5), object(13)\n",
            "memory usage: 1.7+ MB\n"
          ]
        }
      ]
    },
    {
      "cell_type": "markdown",
      "source": [
        "**Determine the percentage of restaurants that offer online delivery.**"
      ],
      "metadata": {
        "id": "THU2o0NLbGmY"
      }
    },
    {
      "cell_type": "code",
      "source": [
        "total_online_delivery_restaurants=len(df[df['Has Online delivery']=='Yes'])\n",
        "total_restaurants=len(df)\n",
        "percentage_online_delivery=(total_online_delivery_restaurants/total_restaurants)*100\n",
        "print(\"the percentage of restaurants that offer online delivery is\",percentage_online_delivery)"
      ],
      "metadata": {
        "colab": {
          "base_uri": "https://localhost:8080/"
        },
        "id": "_BMhB6fG2nVn",
        "outputId": "519e2bd1-43b8-4d3f-9f5b-1d14b21acee9"
      },
      "execution_count": 56,
      "outputs": [
        {
          "output_type": "stream",
          "name": "stdout",
          "text": [
            "the percentage of restaurants that offer online delivery is 25.662234321013504\n"
          ]
        }
      ]
    },
    {
      "cell_type": "markdown",
      "source": [
        "**The average rating of restaurants with and without online delivery.**"
      ],
      "metadata": {
        "id": "CLRGuEiecrKI"
      }
    },
    {
      "cell_type": "code",
      "source": [
        "#Average rating restaurants with online delivery:\n",
        "restaurants_with_online_delivery=df[df['Has Online delivery']=='Yes']\n",
        "average_rating_with_online_delivery=restaurants_with_online_delivery['Aggregate rating'].mean()\n",
        "print(\"average rating of restaurants with online delivery is\",(average_rating_with_online_delivery))"
      ],
      "metadata": {
        "colab": {
          "base_uri": "https://localhost:8080/"
        },
        "id": "TaBlBTIc2nC3",
        "outputId": "961ae2a4-e4cb-425b-f447-3406ce848a85"
      },
      "execution_count": 61,
      "outputs": [
        {
          "output_type": "stream",
          "name": "stdout",
          "text": [
            "average rating of restaurants with online delivery is 3.2488372093023257\n"
          ]
        }
      ]
    },
    {
      "cell_type": "code",
      "source": [
        "#Average rating restaurants without online delivery:\n",
        "restaurants_without_online_delivery=df[df['Has Online delivery']=='No']\n",
        "average_rating_without_online_delivery=restaurants_without_online_delivery['Aggregate rating'].mean()\n",
        "print('average_rating_without_online_delivery:',round(average_rating_without_online_delivery,2))"
      ],
      "metadata": {
        "colab": {
          "base_uri": "https://localhost:8080/"
        },
        "id": "Apn8WvTUB-F7",
        "outputId": "cfde44d3-a984-4a81-f4d6-fcfdf3e79e19"
      },
      "execution_count": 67,
      "outputs": [
        {
          "output_type": "stream",
          "name": "stdout",
          "text": [
            "average_rating_without_online_delivery: 2.47\n"
          ]
        }
      ]
    },
    {
      "cell_type": "code",
      "source": [
        "labels=['With Online Delivery','Without Online Delivery']\n",
        "average_ratings=[average_rating_with_online_delivery,average_rating_without_online_delivery]\n",
        "\n",
        "plt.bar(labels, average_ratings)\n",
        "plt.xlabel('Online Delivery')\n",
        "plt.ylabel('Average Rating')\n",
        "plt.title('Comparision of Average Ratings')\n",
        "plt.show()"
      ],
      "metadata": {
        "colab": {
          "base_uri": "https://localhost:8080/",
          "height": 472
        },
        "id": "6VbfqkLhkZY_",
        "outputId": "66e8ac62-e0d2-4e03-88a3-1cada183cbe1"
      },
      "execution_count": 68,
      "outputs": [
        {
          "output_type": "display_data",
          "data": {
            "text/plain": [
              "<Figure size 640x480 with 1 Axes>"
            ],
            "image/png": "[encoded data removed]"
          },
          "metadata": {}
        }
      ]
    },
    {
      "cell_type": "markdown",
      "source": [
        "**Level 2**"
      ],
      "metadata": {
        "id": "q4hQHw1lgcIJ"
      }
    },
    {
      "cell_type": "markdown",
      "source": [
        "**Task 1 :Restaurant Ratings**"
      ],
      "metadata": {
        "id": "tsI09x4ogsY2"
      }
    },
    {
      "cell_type": "code",
      "source": [
        "#import all necessary libaries\n",
        "import numpy as np\n",
        "import pandas as pd\n",
        "import matplotlib.pyplot as plt\n",
        "import seaborn as sns"
      ],
      "metadata": {
        "id": "fzdHxk4vmfWl"
      },
      "execution_count": 69,
      "outputs": []
    },
    {
      "cell_type": "code",
      "source": [
        "df=pd.read_csv('/content/sample_data/Cognifyz Dataset 1.csv')\n",
        "df.head()"
      ],
      "metadata": {
        "colab": {
          "base_uri": "https://localhost:8080/",
          "height": 810
        },
        "id": "y-c6yvkRmnYX",
        "outputId": "4cac1117-b9d4-424f-9b5e-707300cc1c94"
      },
      "execution_count": 70,
      "outputs": [
        {
          "output_type": "execute_result",
          "data": {
            "text/plain": [
              "   Restaurant ID         Restaurant Name  Country Code              City  \\\n",
              "0        6317637        Le Petit Souffle           162       Makati City   \n",
              "1        6304287        Izakaya Kikufuji           162       Makati City   \n",
              "2        6300002  Heat - Edsa Shangri-La           162  Mandaluyong City   \n",
              "3        6318506                    Ooma           162  Mandaluyong City   \n",
              "4        6314302             Sambo Kojin           162  Mandaluyong City   \n",
              "\n",
              "                                             Address  \\\n",
              "0  Third Floor, Century City Mall, Kalayaan Avenu...   \n",
              "1  Little Tokyo, 2277 Chino Roces Avenue, Legaspi...   \n",
              "2  Edsa Shangri-La, 1 Garden Way, Ortigas, Mandal...   \n",
              "3  Third Floor, Mega Fashion Hall, SM Megamall, O...   \n",
              "4  Third Floor, Mega Atrium, SM Megamall, Ortigas...   \n",
              "\n",
              "                                     Locality  \\\n",
              "0   Century City Mall, Poblacion, Makati City   \n",
              "1  Little Tokyo, Legaspi Village, Makati City   \n",
              "2  Edsa Shangri-La, Ortigas, Mandaluyong City   \n",
              "3      SM Megamall, Ortigas, Mandaluyong City   \n",
              "4      SM Megamall, Ortigas, Mandaluyong City   \n",
              "\n",
              "                                    Locality Verbose   Longitude   Latitude  \\\n",
              "0  Century City Mall, Poblacion, Makati City, Mak...  121.027535  14.565443   \n",
              "1  Little Tokyo, Legaspi Village, Makati City, Ma...  121.014101  14.553708   \n",
              "2  Edsa Shangri-La, Ortigas, Mandaluyong City, Ma...  121.056831  14.581404   \n",
              "3  SM Megamall, Ortigas, Mandaluyong City, Mandal...  121.056475  14.585318   \n",
              "4  SM Megamall, Ortigas, Mandaluyong City, Mandal...  121.057508  14.584450   \n",
              "\n",
              "                           Cuisines  ...  Has Online delivery  \\\n",
              "0        French, Japanese, Desserts  ...                   No   \n",
              "1                          Japanese  ...                   No   \n",
              "2  Seafood, Asian, Filipino, Indian  ...                   No   \n",
              "3                   Japanese, Sushi  ...                   No   \n",
              "4                  Japanese, Korean  ...                   No   \n",
              "\n",
              "  Is delivering now Switch to order menu Price range Aggregate rating  \\\n",
              "0                No                   No           3              4.8   \n",
              "1                No                   No           3              4.5   \n",
              "2                No                   No           4              4.4   \n",
              "3                No                   No           4              4.9   \n",
              "4                No                   No           4              4.8   \n",
              "\n",
              "  Rating color  Rating text  Votes Unnamed: 21 French, Japanese, Desserts  \n",
              "0   Dark Green    Excellent    314         NaN                        NaN  \n",
              "1   Dark Green    Excellent    591         NaN                        NaN  \n",
              "2        Green    Very Good    270         NaN                        NaN  \n",
              "3   Dark Green    Excellent    365         NaN                        NaN  \n",
              "4   Dark Green    Excellent    229         NaN                        NaN  \n",
              "\n",
              "[5 rows x 23 columns]"
            ],
            "text/html": [
              "\n",
              "  <div id=\"df-33d48bc3-ca78-4702-a2ec-2f276248b9a1\" class=\"colab-df-container\">\n",
              "    <div>\n",
              "<style scoped>\n",
              "    .dataframe tbody tr th:only-of-type {\n",
              "        vertical-align: middle;\n",
              "    }\n",
              "\n",
              "    .dataframe tbody tr th {\n",
              "        vertical-align: top;\n",
              "    }\n",
              "\n",
              "    .dataframe thead th {\n",
              "        text-align: right;\n",
              "    }\n",
              "</style>\n",
              "<table border=\"1\" class=\"dataframe\">\n",
              "  <thead>\n",
              "    <tr style=\"text-align: right;\">\n",
              "      <th></th>\n",
              "      <th>Restaurant ID</th>\n",
              "      <th>Restaurant Name</th>\n",
              "      <th>Country Code</th>\n",
              "      <th>City</th>\n",
              "      <th>Address</th>\n",
              "      <th>Locality</th>\n",
              "      <th>Locality Verbose</th>\n",
              "      <th>Longitude</th>\n",
              "      <th>Latitude</th>\n",
              "      <th>Cuisines</th>\n",
              "      <th>...</th>\n",
              "      <th>Has Online delivery</th>\n",
              "      <th>Is delivering now</th>\n",
              "      <th>Switch to order menu</th>\n",
              "      <th>Price range</th>\n",
              "      <th>Aggregate rating</th>\n",
              "      <th>Rating color</th>\n",
              "      <th>Rating text</th>\n",
              "      <th>Votes</th>\n",
              "      <th>Unnamed: 21</th>\n",
              "      <th>French, Japanese, Desserts</th>\n",
              "    </tr>\n",
              "  </thead>\n",
              "  <tbody>\n",
              "    <tr>\n",
              "      <th>0</th>\n",
              "      <td>6317637</td>\n",
              "      <td>Le Petit Souffle</td>\n",
              "      <td>162</td>\n",
              "      <td>Makati City</td>\n",
              "      <td>Third Floor, Century City Mall, Kalayaan Avenu...</td>\n",
              "      <td>Century City Mall, Poblacion, Makati City</td>\n",
              "      <td>Century City Mall, Poblacion, Makati City, Mak...</td>\n",
              "      <td>121.027535</td>\n",
              "      <td>14.565443</td>\n",
              "      <td>French, Japanese, Desserts</td>\n",
              "      <td>...</td>\n",
              "      <td>No</td>\n",
              "      <td>No</td>\n",
              "      <td>No</td>\n",
              "      <td>3</td>\n",
              "      <td>4.8</td>\n",
              "      <td>Dark Green</td>\n",
              "      <td>Excellent</td>\n",
              "      <td>314</td>\n",
              "      <td>NaN</td>\n",
              "      <td>NaN</td>\n",
              "    </tr>\n",
              "    <tr>\n",
              "      <th>1</th>\n",
              "      <td>6304287</td>\n",
              "      <td>Izakaya Kikufuji</td>\n",
              "      <td>162</td>\n",
              "      <td>Makati City</td>\n",
              "      <td>Little Tokyo, 2277 Chino Roces Avenue, Legaspi...</td>\n",
              "      <td>Little Tokyo, Legaspi Village, Makati City</td>\n",
              "      <td>Little Tokyo, Legaspi Village, Makati City, Ma...</td>\n",
              "      <td>121.014101</td>\n",
              "      <td>14.553708</td>\n",
              "      <td>Japanese</td>\n",
              "      <td>...</td>\n",
              "      <td>No</td>\n",
              "      <td>No</td>\n",
              "      <td>No</td>\n",
              "      <td>3</td>\n",
              "      <td>4.5</td>\n",
              "      <td>Dark Green</td>\n",
              "      <td>Excellent</td>\n",
              "      <td>591</td>\n",
              "      <td>NaN</td>\n",
              "      <td>NaN</td>\n",
              "    </tr>\n",
              "    <tr>\n",
              "      <th>2</th>\n",
              "      <td>6300002</td>\n",
              "      <td>Heat - Edsa Shangri-La</td>\n",
              "      <td>162</td>\n",
              "      <td>Mandaluyong City</td>\n",
              "      <td>Edsa Shangri-La, 1 Garden Way, Ortigas, Mandal...</td>\n",
              "      <td>Edsa Shangri-La, Ortigas, Mandaluyong City</td>\n",
              "      <td>Edsa Shangri-La, Ortigas, Mandaluyong City, Ma...</td>\n",
              "      <td>121.056831</td>\n",
              "      <td>14.581404</td>\n",
              "      <td>Seafood, Asian, Filipino, Indian</td>\n",
              "      <td>...</td>\n",
              "      <td>No</td>\n",
              "      <td>No</td>\n",
              "      <td>No</td>\n",
              "      <td>4</td>\n",
              "      <td>4.4</td>\n",
              "      <td>Green</td>\n",
              "      <td>Very Good</td>\n",
              "      <td>270</td>\n",
              "      <td>NaN</td>\n",
              "      <td>NaN</td>\n",
              "    </tr>\n",
              "    <tr>\n",
              "      <th>3</th>\n",
              "      <td>6318506</td>\n",
              "      <td>Ooma</td>\n",
              "      <td>162</td>\n",
              "      <td>Mandaluyong City</td>\n",
              "      <td>Third Floor, Mega Fashion Hall, SM Megamall, O...</td>\n",
              "      <td>SM Megamall, Ortigas, Mandaluyong City</td>\n",
              "      <td>SM Megamall, Ortigas, Mandaluyong City, Mandal...</td>\n",
              "      <td>121.056475</td>\n",
              "      <td>14.585318</td>\n",
              "      <td>Japanese, Sushi</td>\n",
              "      <td>...</td>\n",
              "      <td>No</td>\n",
              "      <td>No</td>\n",
              "      <td>No</td>\n",
              "      <td>4</td>\n",
              "      <td>4.9</td>\n",
              "      <td>Dark Green</td>\n",
              "      <td>Excellent</td>\n",
              "      <td>365</td>\n",
              "      <td>NaN</td>\n",
              "      <td>NaN</td>\n",
              "    </tr>\n",
              "    <tr>\n",
              "      <th>4</th>\n",
              "      <td>6314302</td>\n",
              "      <td>Sambo Kojin</td>\n",
              "      <td>162</td>\n",
              "      <td>Mandaluyong City</td>\n",
              "      <td>Third Floor, Mega Atrium, SM Megamall, Ortigas...</td>\n",
              "      <td>SM Megamall, Ortigas, Mandaluyong City</td>\n",
              "      <td>SM Megamall, Ortigas, Mandaluyong City, Mandal...</td>\n",
              "      <td>121.057508</td>\n",
              "      <td>14.584450</td>\n",
              "      <td>Japanese, Korean</td>\n",
              "      <td>...</td>\n",
              "      <td>No</td>\n",
              "      <td>No</td>\n",
              "      <td>No</td>\n",
              "      <td>4</td>\n",
              "      <td>4.8</td>\n",
              "      <td>Dark Green</td>\n",
              "      <td>Excellent</td>\n",
              "      <td>229</td>\n",
              "      <td>NaN</td>\n",
              "      <td>NaN</td>\n",
              "    </tr>\n",
              "  </tbody>\n",
              "</table>\n",
              "<p>5 rows × 23 columns</p>\n",
              "</div>\n",
              "    <div class=\"colab-df-buttons\">\n",
              "\n",
              "  <div class=\"colab-df-container\">\n",
              "    <button class=\"colab-df-convert\" onclick=\"convertToInteractive('df-33d48bc3-ca78-4702-a2ec-2f276248b9a1')\"\n",
              "            title=\"Convert this dataframe to an interactive table.\"\n",
              "            style=\"display:none;\">\n",
              "\n",
              "  <svg xmlns=\"http://www.w3.org/2000/svg\" height=\"24px\" viewBox=\"0 -960 960 960\">\n",
              "    <path d=\"M120-120v-720h720v720H120Zm60-500h600v-160H180v160Zm220 220h160v-160H400v160Zm0 220h160v-160H400v160ZM180-400h160v-160H180v160Zm440 0h160v-160H620v160ZM180-180h160v-160H180v160Zm440 0h160v-160H620v160Z\"/>\n",
              "  </svg>\n",
              "    </button>\n",
              "\n",
              "  <style>\n",
              "    .colab-df-container {\n",
              "      display:flex;\n",
              "      gap: 12px;\n",
              "    }\n",
              "\n",
              "    .colab-df-convert {\n",
              "      background-color: #E8F0FE;\n",
              "      border: none;\n",
              "      border-radius: 50%;\n",
              "      cursor: pointer;\n",
              "      display: none;\n",
              "      fill: #1967D2;\n",
              "      height: 32px;\n",
              "      padding: 0 0 0 0;\n",
              "      width: 32px;\n",
              "    }\n",
              "\n",
              "    .colab-df-convert:hover {\n",
              "      background-color: #E2EBFA;\n",
              "      box-shadow: 0px 1px 2px rgba(60, 64, 67, 0.3), 0px 1px 3px 1px rgba(60, 64, 67, 0.15);\n",
              "      fill: #174EA6;\n",
              "    }\n",
              "\n",
              "    .colab-df-buttons div {\n",
              "      margin-bottom: 4px;\n",
              "    }\n",
              "\n",
              "    [theme=dark] .colab-df-convert {\n",
              "      background-color: #3B4455;\n",
              "      fill: #D2E3FC;\n",
              "    }\n",
              "\n",
              "    [theme=dark] .colab-df-convert:hover {\n",
              "      background-color: #434B5C;\n",
              "      box-shadow: 0px 1px 3px 1px rgba(0, 0, 0, 0.15);\n",
              "      filter: drop-shadow(0px 1px 2px rgba(0, 0, 0, 0.3));\n",
              "      fill: #FFFFFF;\n",
              "    }\n",
              "  </style>\n",
              "\n",
              "    <script>\n",
              "      const buttonEl =\n",
              "        document.querySelector('#df-33d48bc3-ca78-4702-a2ec-2f276248b9a1 button.colab-df-convert');\n",
              "      buttonEl.style.display =\n",
              "        google.colab.kernel.accessAllowed ? 'block' : 'none';\n",
              "\n",
              "      async function convertToInteractive(key) {\n",
              "        const element = document.querySelector('#df-33d48bc3-ca78-4702-a2ec-2f276248b9a1');\n",
              "        const dataTable =\n",
              "          await google.colab.kernel.invokeFunction('convertToInteractive',\n",
              "                                                    [key], {});\n",
              "        if (!dataTable) return;\n",
              "\n",
              "        const docLinkHtml = 'Like what you see? Visit the ' +\n",
              "          '<a target=\"_blank\" href=https://colab.research.google.com/notebooks/data_table.ipynb>data table notebook</a>'\n",
              "          + ' to learn more about interactive tables.';\n",
              "        element.innerHTML = '';\n",
              "        dataTable['output_type'] = 'display_data';\n",
              "        await google.colab.output.renderOutput(dataTable, element);\n",
              "        const docLink = document.createElement('div');\n",
              "        docLink.innerHTML = docLinkHtml;\n",
              "        element.appendChild(docLink);\n",
              "      }\n",
              "    </script>\n",
              "  </div>\n",
              "\n",
              "\n",
              "<div id=\"df-94f39b26-e653-457a-84ee-e6da9569c126\">\n",
              "  <button class=\"colab-df-quickchart\" onclick=\"quickchart('df-94f39b26-e653-457a-84ee-e6da9569c126')\"\n",
              "            title=\"Suggest charts\"\n",
              "            style=\"display:none;\">\n",
              "\n",
              "<svg xmlns=\"http://www.w3.org/2000/svg\" height=\"24px\"viewBox=\"0 0 24 24\"\n",
              "     width=\"24px\">\n",
              "    <g>\n",
              "        <path d=\"M19 3H5c-1.1 0-2 .9-2 2v14c0 1.1.9 2 2 2h14c1.1 0 2-.9 2-2V5c0-1.1-.9-2-2-2zM9 17H7v-7h2v7zm4 0h-2V7h2v10zm4 0h-2v-4h2v4z\"/>\n",
              "    </g>\n",
              "</svg>\n",
              "  </button>\n",
              "\n",
              "<style>\n",
              "  .colab-df-quickchart {\n",
              "      --bg-color: #E8F0FE;\n",
              "      --fill-color: #1967D2;\n",
              "      --hover-bg-color: #E2EBFA;\n",
              "      --hover-fill-color: #174EA6;\n",
              "      --disabled-fill-color: #AAA;\n",
              "      --disabled-bg-color: #DDD;\n",
              "  }\n",
              "\n",
              "  [theme=dark] .colab-df-quickchart {\n",
              "      --bg-color: #3B4455;\n",
              "      --fill-color: #D2E3FC;\n",
              "      --hover-bg-color: #434B5C;\n",
              "      --hover-fill-color: #FFFFFF;\n",
              "      --disabled-bg-color: #3B4455;\n",
              "      --disabled-fill-color: #666;\n",
              "  }\n",
              "\n",
              "  .colab-df-quickchart {\n",
              "    background-color: var(--bg-color);\n",
              "    border: none;\n",
              "    border-radius: 50%;\n",
              "    cursor: pointer;\n",
              "    display: none;\n",
              "    fill: var(--fill-color);\n",
              "    height: 32px;\n",
              "    padding: 0;\n",
              "    width: 32px;\n",
              "  }\n",
              "\n",
              "  .colab-df-quickchart:hover {\n",
              "    background-color: var(--hover-bg-color);\n",
              "    box-shadow: 0 1px 2px rgba(60, 64, 67, 0.3), 0 1px 3px 1px rgba(60, 64, 67, 0.15);\n",
              "    fill: var(--button-hover-fill-color);\n",
              "  }\n",
              "\n",
              "  .colab-df-quickchart-complete:disabled,\n",
              "  .colab-df-quickchart-complete:disabled:hover {\n",
              "    background-color: var(--disabled-bg-color);\n",
              "    fill: var(--disabled-fill-color);\n",
              "    box-shadow: none;\n",
              "  }\n",
              "\n",
              "  .colab-df-spinner {\n",
              "    border: 2px solid var(--fill-color);\n",
              "    border-color: transparent;\n",
              "    border-bottom-color: var(--fill-color);\n",
              "    animation:\n",
              "      spin 1s steps(1) infinite;\n",
              "  }\n",
              "\n",
              "  @keyframes spin {\n",
              "    0% {\n",
              "      border-color: transparent;\n",
              "      border-bottom-color: var(--fill-color);\n",
              "      border-left-color: var(--fill-color);\n",
              "    }\n",
              "    20% {\n",
              "      border-color: transparent;\n",
              "      border-left-color: var(--fill-color);\n",
              "      border-top-color: var(--fill-color);\n",
              "    }\n",
              "    30% {\n",
              "      border-color: transparent;\n",
              "      border-left-color: var(--fill-color);\n",
              "      border-top-color: var(--fill-color);\n",
              "      border-right-color: var(--fill-color);\n",
              "    }\n",
              "    40% {\n",
              "      border-color: transparent;\n",
              "      border-right-color: var(--fill-color);\n",
              "      border-top-color: var(--fill-color);\n",
              "    }\n",
              "    60% {\n",
              "      border-color: transparent;\n",
              "      border-right-color: var(--fill-color);\n",
              "    }\n",
              "    80% {\n",
              "      border-color: transparent;\n",
              "      border-right-color: var(--fill-color);\n",
              "      border-bottom-color: var(--fill-color);\n",
              "    }\n",
              "    90% {\n",
              "      border-color: transparent;\n",
              "      border-bottom-color: var(--fill-color);\n",
              "    }\n",
              "  }\n",
              "</style>\n",
              "\n",
              "  <script>\n",
              "    async function quickchart(key) {\n",
              "      const quickchartButtonEl =\n",
              "        document.querySelector('#' + key + ' button');\n",
              "      quickchartButtonEl.disabled = true;  // To prevent multiple clicks.\n",
              "      quickchartButtonEl.classList.add('colab-df-spinner');\n",
              "      try {\n",
              "        const charts = await google.colab.kernel.invokeFunction(\n",
              "            'suggestCharts', [key], {});\n",
              "      } catch (error) {\n",
              "        console.error('Error during call to suggestCharts:', error);\n",
              "      }\n",
              "      quickchartButtonEl.classList.remove('colab-df-spinner');\n",
              "      quickchartButtonEl.classList.add('colab-df-quickchart-complete');\n",
              "    }\n",
              "    (() => {\n",
              "      let quickchartButtonEl =\n",
              "        document.querySelector('#df-94f39b26-e653-457a-84ee-e6da9569c126 button');\n",
              "      quickchartButtonEl.style.display =\n",
              "        google.colab.kernel.accessAllowed ? 'block' : 'none';\n",
              "    })();\n",
              "  </script>\n",
              "</div>\n",
              "\n",
              "    </div>\n",
              "  </div>\n"
            ],
            "application/vnd.google.colaboratory.intrinsic+json": {
              "type": "dataframe",
              "variable_name": "df"
            }
          },
          "metadata": {},
          "execution_count": 70
        }
      ]
    },
    {
      "cell_type": "code",
      "source": [
        "df.info()"
      ],
      "metadata": {
        "colab": {
          "base_uri": "https://localhost:8080/"
        },
        "id": "bK-HIimYsGh0",
        "outputId": "ffb9fbec-e2c5-4301-d7b1-233fce2e061a"
      },
      "execution_count": 71,
      "outputs": [
        {
          "output_type": "stream",
          "name": "stdout",
          "text": [
            "<class 'pandas.core.frame.DataFrame'>\n",
            "RangeIndex: 9551 entries, 0 to 9550\n",
            "Data columns (total 23 columns):\n",
            " #   Column                      Non-Null Count  Dtype  \n",
            "---  ------                      --------------  -----  \n",
            " 0   Restaurant ID               9551 non-null   int64  \n",
            " 1   Restaurant Name             9551 non-null   object \n",
            " 2   Country Code                9551 non-null   int64  \n",
            " 3   City                        9551 non-null   object \n",
            " 4   Address                     9551 non-null   object \n",
            " 5   Locality                    9551 non-null   object \n",
            " 6   Locality Verbose            9551 non-null   object \n",
            " 7   Longitude                   9551 non-null   float64\n",
            " 8   Latitude                    9551 non-null   float64\n",
            " 9   Cuisines                    9551 non-null   object \n",
            " 10  Average Cost for two        9551 non-null   int64  \n",
            " 11  Currency                    9551 non-null   object \n",
            " 12  Has Table booking           9551 non-null   object \n",
            " 13  Has Online delivery         9551 non-null   object \n",
            " 14  Is delivering now           9551 non-null   object \n",
            " 15  Switch to order menu        9551 non-null   object \n",
            " 16  Price range                 9551 non-null   int64  \n",
            " 17  Aggregate rating            9551 non-null   float64\n",
            " 18  Rating color                9551 non-null   object \n",
            " 19  Rating text                 9551 non-null   object \n",
            " 20  Votes                       9551 non-null   int64  \n",
            " 21  Unnamed: 21                 0 non-null      float64\n",
            " 22  French, Japanese, Desserts  0 non-null      float64\n",
            "dtypes: float64(5), int64(5), object(13)\n",
            "memory usage: 1.7+ MB\n"
          ]
        }
      ]
    },
    {
      "cell_type": "markdown",
      "source": [
        "**Analyze the distribution of aggregate ratings and determine the most common rating range.**"
      ],
      "metadata": {
        "id": "8lR-08WNgzeD"
      }
    },
    {
      "cell_type": "code",
      "source": [
        "aggregate_ratings = df['Aggregate rating']\n",
        "rating_counts = aggregate_ratings.value_counts().sort_index()"
      ],
      "metadata": {
        "id": "1n9_3Jnrm_QY"
      },
      "execution_count": 74,
      "outputs": []
    },
    {
      "cell_type": "code",
      "source": [
        "most_common_rating_range = rating_counts.idxmax()\n",
        "print(\"Most common rating range:\", most_common_rating_range)"
      ],
      "metadata": {
        "colab": {
          "base_uri": "https://localhost:8080/"
        },
        "id": "Kaw9T7ohxwgL",
        "outputId": "ed6c3008-fd03-44de-866b-3292dbcecd66"
      },
      "execution_count": 76,
      "outputs": [
        {
          "output_type": "stream",
          "name": "stdout",
          "text": [
            "Most common rating range: 0.0\n"
          ]
        }
      ]
    },
    {
      "cell_type": "markdown",
      "source": [
        "**Calculate the average number of votes received by restaurants.**"
      ],
      "metadata": {
        "id": "Uy68vchshNo4"
      }
    },
    {
      "cell_type": "code",
      "source": [
        "average_votes = df['Votes'].mean()\n",
        "print(\"Average number of votes received by restaurants:\", average_votes)"
      ],
      "metadata": {
        "colab": {
          "base_uri": "https://localhost:8080/"
        },
        "id": "1E5riGshyacz",
        "outputId": "0274296f-5a62-462c-c05d-6676a03aa52d"
      },
      "execution_count": 77,
      "outputs": [
        {
          "output_type": "stream",
          "name": "stdout",
          "text": [
            "Average number of votes received by restaurants: 156.909747670401\n"
          ]
        }
      ]
    },
    {
      "cell_type": "code",
      "source": [
        "plt.hist(aggregate_ratings, bins=20, edgecolor='black')\n",
        "plt.xlabel('Aggregate Rating')\n",
        "plt.ylabel('Frequency')\n",
        "plt.title('Distribution of Aggregate Ratings')\n",
        "plt.show()"
      ],
      "metadata": {
        "colab": {
          "base_uri": "https://localhost:8080/",
          "height": 472
        },
        "id": "OZU92GSXyxaj",
        "outputId": "47e96d9c-967f-4e69-8f56-8aa224eedfc8"
      },
      "execution_count": 78,
      "outputs": [
        {
          "output_type": "display_data",
          "data": {
            "text/plain": [
              "<Figure size 640x480 with 1 Axes>"
            ],
            "image/png": "[encoded data removed]"
          },
          "metadata": {}
        }
      ]
    },
    {
      "cell_type": "markdown",
      "source": [
        "**Task 2: Cuisine Combination**"
      ],
      "metadata": {
        "id": "g8ch3kJKzYiL"
      }
    },
    {
      "cell_type": "code",
      "source": [
        "#import all necessary libraries\n",
        "import numpy as np\n",
        "import pandas as pd"
      ],
      "metadata": {
        "id": "FyOLUdNxz7lJ"
      },
      "execution_count": 79,
      "outputs": []
    },
    {
      "cell_type": "code",
      "source": [
        "df=pd.read_csv('/content/sample_data/Cognifyz Dataset 1.csv')"
      ],
      "metadata": {
        "id": "HWELtnE80Z0e"
      },
      "execution_count": 80,
      "outputs": []
    },
    {
      "cell_type": "markdown",
      "source": [
        "**Identify the most common combinations of cuisines in the dataset**"
      ],
      "metadata": {
        "id": "mEZuE_3NzhKg"
      }
    },
    {
      "cell_type": "code",
      "source": [
        "cuisines = df[\"Cuisines\"]\n",
        "aggregate_ratings = df[\"Aggregate rating\"]"
      ],
      "metadata": {
        "id": "hKO8BCY-0g8z"
      },
      "execution_count": 81,
      "outputs": []
    },
    {
      "cell_type": "code",
      "source": [
        "cuisine_combinations_counts = cuisines.value_counts()"
      ],
      "metadata": {
        "id": "BIPzoniG0zIL"
      },
      "execution_count": 82,
      "outputs": []
    },
    {
      "cell_type": "code",
      "source": [
        "most_common_cuisine_combinations = cuisine_combinations_counts.head(10)\n",
        "print(\"Most common cuisine combinations:\")\n",
        "print(most_common_cuisine_combinations)"
      ],
      "metadata": {
        "colab": {
          "base_uri": "https://localhost:8080/"
        },
        "id": "_3fybqRH0yNX",
        "outputId": "9da5eec7-27c8-4502-c672-6d5f38db5060"
      },
      "execution_count": 94,
      "outputs": [
        {
          "output_type": "stream",
          "name": "stdout",
          "text": [
            "Most common cuisine combinations:\n",
            "Cuisines\n",
            "North Indian                      936\n",
            "North Indian, Chinese             511\n",
            "Fast Food                         354\n",
            "Chinese                           354\n",
            "North Indian, Mughlai             334\n",
            "Cafe                              299\n",
            "Bakery                            218\n",
            "North Indian, Mughlai, Chinese    197\n",
            "Bakery, Desserts                  170\n",
            "Street Food                       149\n",
            "Name: count, dtype: int64\n"
          ]
        }
      ]
    },
    {
      "cell_type": "code",
      "source": [
        "cuisine_combinations_avg_rating = df.groupby('Cuisines')[\"Aggregate rating\"].mean().sort_values(ascending=False)"
      ],
      "metadata": {
        "id": "8ALiqXfh1of_"
      },
      "execution_count": 106,
      "outputs": []
    },
    {
      "cell_type": "markdown",
      "source": [
        "**Determine if certain cuisine combination tend to have higher ratings.**"
      ],
      "metadata": {
        "id": "qb0IpOyBznqS"
      }
    },
    {
      "cell_type": "code",
      "source": [
        "top_10_avg_ratings = cuisine_combinations_avg_rating.nlargest(10)\n",
        "print(\"\\nAverage ratings for the top 10 cuisine combinations:\")\n",
        "print(top_10_avg_ratings)"
      ],
      "metadata": {
        "colab": {
          "base_uri": "https://localhost:8080/"
        },
        "id": "7cnKy1JP2wjC",
        "outputId": "75599726-9684-4dea-f3b7-882a93f0f83f"
      },
      "execution_count": 107,
      "outputs": [
        {
          "output_type": "stream",
          "name": "stdout",
          "text": [
            "\n",
            "Average ratings for the top 10 cuisine combinations:\n",
            "Cuisines\n",
            "Continental, Indian             4.9\n",
            "BBQ, Breakfast, Southern        4.9\n",
            "Italian, Deli                   4.9\n",
            "American, Caribbean, Seafood    4.9\n",
            "Burger, Bar Food, Steak         4.9\n",
            "American, Burger, Grill         4.9\n",
            "Italian, Bakery, Continental    4.9\n",
            "European, Asian, Indian         4.9\n",
            "European, Contemporary          4.9\n",
            "American, Coffee and Tea        4.9\n",
            "Name: Aggregate rating, dtype: float64\n"
          ]
        }
      ]
    },
    {
      "cell_type": "markdown",
      "source": [
        "Task 3: Geographic Analysis"
      ],
      "metadata": {
        "id": "hUqlgWSW7f0e"
      }
    },
    {
      "cell_type": "code",
      "source": [
        "pip install folium"
      ],
      "metadata": {
        "colab": {
          "base_uri": "https://localhost:8080/"
        },
        "id": "OZdo8rsZ77tx",
        "outputId": "73f44c8b-0978-4dd2-8259-385418cab06f"
      },
      "execution_count": 108,
      "outputs": [
        {
          "output_type": "stream",
          "name": "stdout",
          "text": [
            "Requirement already satisfied: folium in /usr/local/lib/python3.10/dist-packages (0.19.4)\n",
            "Requirement already satisfied: branca>=0.6.0 in /usr/local/lib/python3.10/dist-packages (from folium) (0.8.1)\n",
            "Requirement already satisfied: jinja2>=2.9 in /usr/local/lib/python3.10/dist-packages (from folium) (3.1.5)\n",
            "Requirement already satisfied: numpy in /usr/local/lib/python3.10/dist-packages (from folium) (1.26.4)\n",
            "Requirement already satisfied: requests in /usr/local/lib/python3.10/dist-packages (from folium) (2.32.3)\n",
            "Requirement already satisfied: xyzservices in /usr/local/lib/python3.10/dist-packages (from folium) (2024.9.0)\n",
            "Requirement already satisfied: MarkupSafe>=2.0 in /usr/local/lib/python3.10/dist-packages (from jinja2>=2.9->folium) (3.0.2)\n",
            "Requirement already satisfied: charset-normalizer<4,>=2 in /usr/local/lib/python3.10/dist-packages (from requests->folium) (3.4.1)\n",
            "Requirement already satisfied: idna<4,>=2.5 in /usr/local/lib/python3.10/dist-packages (from requests->folium) (3.10)\n",
            "Requirement already satisfied: urllib3<3,>=1.21.1 in /usr/local/lib/python3.10/dist-packages (from requests->folium) (2.3.0)\n",
            "Requirement already satisfied: certifi>=2017.4.17 in /usr/local/lib/python3.10/dist-packages (from requests->folium) (2024.12.14)\n"
          ]
        }
      ]
    },
    {
      "cell_type": "code",
      "source": [
        "import pandas as pd\n",
        "import numpy as np\n",
        "import matplotlib.pyplot as plt\n",
        "import geopandas\n",
        "import folium\n",
        "from folium.plugins import HeatMap\n"
      ],
      "metadata": {
        "id": "lChAwx4Q8xq8"
      },
      "execution_count": 175,
      "outputs": []
    },
    {
      "cell_type": "code",
      "source": [
        "df=pd.read_csv(\"/content/sample_data/Cognifyz Dataset 1.csv\")"
      ],
      "metadata": {
        "id": "JXfbC4H_9RKa"
      },
      "execution_count": 111,
      "outputs": []
    },
    {
      "cell_type": "markdown",
      "source": [
        "**Plot the locations of restaurants on a map using longitude and latitude coordinates**"
      ],
      "metadata": {
        "id": "9Ivl5KE370v5"
      }
    },
    {
      "cell_type": "code",
      "source": [
        "restaurant_names = df['Restaurant Name']\n",
        "latitude = df['Latitude']\n",
        "longitude = df['Longitude']"
      ],
      "metadata": {
        "id": "KAWiuk1p9doy"
      },
      "execution_count": 112,
      "outputs": []
    },
    {
      "cell_type": "code",
      "source": [
        "print(df[[\"Longitude\", \"Latitude\"]])"
      ],
      "metadata": {
        "colab": {
          "base_uri": "https://localhost:8080/"
        },
        "id": "pohhtzFsEgX_",
        "outputId": "dd79e1dd-2b09-4be6-8fa5-a09e2603a87f"
      },
      "execution_count": 135,
      "outputs": [
        {
          "output_type": "stream",
          "name": "stdout",
          "text": [
            "       Longitude   Latitude\n",
            "0     121.027535  14.565443\n",
            "1     121.014101  14.553708\n",
            "2     121.056831  14.581404\n",
            "3     121.056475  14.585318\n",
            "4     121.057508  14.584450\n",
            "...          ...        ...\n",
            "9546   28.977392  41.022793\n",
            "9547   29.041297  41.009847\n",
            "9548   29.034640  41.055817\n",
            "9549   29.036019  41.057979\n",
            "9550   29.026016  40.984776\n",
            "\n",
            "[9551 rows x 2 columns]\n"
          ]
        }
      ]
    },
    {
      "cell_type": "code",
      "source": [
        "pip install geopandas"
      ],
      "metadata": {
        "colab": {
          "base_uri": "https://localhost:8080/"
        },
        "id": "CRTKZuhtEwxN",
        "outputId": "d4087dc1-b870-4dbc-c1d9-ded4c6b6dae7"
      },
      "execution_count": 136,
      "outputs": [
        {
          "output_type": "stream",
          "name": "stdout",
          "text": [
            "Requirement already satisfied: geopandas in /usr/local/lib/python3.10/dist-packages (1.0.1)\n",
            "Requirement already satisfied: numpy>=1.22 in /usr/local/lib/python3.10/dist-packages (from geopandas) (1.26.4)\n",
            "Requirement already satisfied: pyogrio>=0.7.2 in /usr/local/lib/python3.10/dist-packages (from geopandas) (0.10.0)\n",
            "Requirement already satisfied: packaging in /usr/local/lib/python3.10/dist-packages (from geopandas) (24.2)\n",
            "Requirement already satisfied: pandas>=1.4.0 in /usr/local/lib/python3.10/dist-packages (from geopandas) (2.2.2)\n",
            "Requirement already satisfied: pyproj>=3.3.0 in /usr/local/lib/python3.10/dist-packages (from geopandas) (3.7.0)\n",
            "Requirement already satisfied: shapely>=2.0.0 in /usr/local/lib/python3.10/dist-packages (from geopandas) (2.0.6)\n",
            "Requirement already satisfied: python-dateutil>=2.8.2 in /usr/local/lib/python3.10/dist-packages (from pandas>=1.4.0->geopandas) (2.8.2)\n",
            "Requirement already satisfied: pytz>=2020.1 in /usr/local/lib/python3.10/dist-packages (from pandas>=1.4.0->geopandas) (2024.2)\n",
            "Requirement already satisfied: tzdata>=2022.7 in /usr/local/lib/python3.10/dist-packages (from pandas>=1.4.0->geopandas) (2024.2)\n",
            "Requirement already satisfied: certifi in /usr/local/lib/python3.10/dist-packages (from pyogrio>=0.7.2->geopandas) (2024.12.14)\n",
            "Requirement already satisfied: six>=1.5 in /usr/local/lib/python3.10/dist-packages (from python-dateutil>=2.8.2->pandas>=1.4.0->geopandas) (1.17.0)\n"
          ]
        }
      ]
    },
    {
      "cell_type": "code",
      "source": [
        "pip install geodatasets"
      ],
      "metadata": {
        "colab": {
          "base_uri": "https://localhost:8080/"
        },
        "id": "LlyE9cjZIEBz",
        "outputId": "b4e90b69-667e-4292-c301-c7b180a1bb30"
      },
      "execution_count": 148,
      "outputs": [
        {
          "output_type": "stream",
          "name": "stdout",
          "text": [
            "Collecting geodatasets\n",
            "  Downloading geodatasets-2024.8.0-py3-none-any.whl.metadata (5.4 kB)\n",
            "Requirement already satisfied: pooch in /usr/local/lib/python3.10/dist-packages (from geodatasets) (1.8.2)\n",
            "Requirement already satisfied: platformdirs>=2.5.0 in /usr/local/lib/python3.10/dist-packages (from pooch->geodatasets) (4.3.6)\n",
            "Requirement already satisfied: packaging>=20.0 in /usr/local/lib/python3.10/dist-packages (from pooch->geodatasets) (24.2)\n",
            "Requirement already satisfied: requests>=2.19.0 in /usr/local/lib/python3.10/dist-packages (from pooch->geodatasets) (2.32.3)\n",
            "Requirement already satisfied: charset-normalizer<4,>=2 in /usr/local/lib/python3.10/dist-packages (from requests>=2.19.0->pooch->geodatasets) (3.4.1)\n",
            "Requirement already satisfied: idna<4,>=2.5 in /usr/local/lib/python3.10/dist-packages (from requests>=2.19.0->pooch->geodatasets) (3.10)\n",
            "Requirement already satisfied: urllib3<3,>=1.21.1 in /usr/local/lib/python3.10/dist-packages (from requests>=2.19.0->pooch->geodatasets) (2.3.0)\n",
            "Requirement already satisfied: certifi>=2017.4.17 in /usr/local/lib/python3.10/dist-packages (from requests>=2.19.0->pooch->geodatasets) (2024.12.14)\n",
            "Downloading geodatasets-2024.8.0-py3-none-any.whl (20 kB)\n",
            "Installing collected packages: geodatasets\n",
            "Successfully installed geodatasets-2024.8.0\n"
          ]
        }
      ]
    },
    {
      "cell_type": "code",
      "source": [
        "import geopandas\n",
        "from geodatasets import get_path"
      ],
      "metadata": {
        "id": "frppL3-YHsno"
      },
      "execution_count": 150,
      "outputs": []
    },
    {
      "cell_type": "code",
      "source": [
        "gdf = geopandas.GeoDataFrame(\n",
        "    df, geometry=geopandas.points_from_xy(df.Longitude, df.Latitude), crs=\"EPSG:4326\"\n",
        ")"
      ],
      "metadata": {
        "id": "TY2iUzm1E5sL"
      },
      "execution_count": 144,
      "outputs": []
    },
    {
      "cell_type": "code",
      "source": [
        "print(gdf.head())"
      ],
      "metadata": {
        "colab": {
          "base_uri": "https://localhost:8080/"
        },
        "id": "kAZryo5QGmoZ",
        "outputId": "65cdd4e7-3162-4902-c9c4-7eabcc98e064"
      },
      "execution_count": 151,
      "outputs": [
        {
          "output_type": "stream",
          "name": "stdout",
          "text": [
            "   Restaurant ID         Restaurant Name  Country Code              City  \\\n",
            "0        6317637        Le Petit Souffle           162       Makati City   \n",
            "1        6304287        Izakaya Kikufuji           162       Makati City   \n",
            "2        6300002  Heat - Edsa Shangri-La           162  Mandaluyong City   \n",
            "3        6318506                    Ooma           162  Mandaluyong City   \n",
            "4        6314302             Sambo Kojin           162  Mandaluyong City   \n",
            "\n",
            "                                             Address  \\\n",
            "0  Third Floor, Century City Mall, Kalayaan Avenu...   \n",
            "1  Little Tokyo, 2277 Chino Roces Avenue, Legaspi...   \n",
            "2  Edsa Shangri-La, 1 Garden Way, Ortigas, Mandal...   \n",
            "3  Third Floor, Mega Fashion Hall, SM Megamall, O...   \n",
            "4  Third Floor, Mega Atrium, SM Megamall, Ortigas...   \n",
            "\n",
            "                                     Locality  \\\n",
            "0   Century City Mall, Poblacion, Makati City   \n",
            "1  Little Tokyo, Legaspi Village, Makati City   \n",
            "2  Edsa Shangri-La, Ortigas, Mandaluyong City   \n",
            "3      SM Megamall, Ortigas, Mandaluyong City   \n",
            "4      SM Megamall, Ortigas, Mandaluyong City   \n",
            "\n",
            "                                    Locality Verbose   Longitude   Latitude  \\\n",
            "0  Century City Mall, Poblacion, Makati City, Mak...  121.027535  14.565443   \n",
            "1  Little Tokyo, Legaspi Village, Makati City, Ma...  121.014101  14.553708   \n",
            "2  Edsa Shangri-La, Ortigas, Mandaluyong City, Ma...  121.056831  14.581404   \n",
            "3  SM Megamall, Ortigas, Mandaluyong City, Mandal...  121.056475  14.585318   \n",
            "4  SM Megamall, Ortigas, Mandaluyong City, Mandal...  121.057508  14.584450   \n",
            "\n",
            "                           Cuisines  ...  Is delivering now  \\\n",
            "0        French, Japanese, Desserts  ...                 No   \n",
            "1                          Japanese  ...                 No   \n",
            "2  Seafood, Asian, Filipino, Indian  ...                 No   \n",
            "3                   Japanese, Sushi  ...                 No   \n",
            "4                  Japanese, Korean  ...                 No   \n",
            "\n",
            "  Switch to order menu Price range Aggregate rating Rating color Rating text  \\\n",
            "0                   No           3              4.8   Dark Green   Excellent   \n",
            "1                   No           3              4.5   Dark Green   Excellent   \n",
            "2                   No           4              4.4        Green   Very Good   \n",
            "3                   No           4              4.9   Dark Green   Excellent   \n",
            "4                   No           4              4.8   Dark Green   Excellent   \n",
            "\n",
            "   Votes  Unnamed: 21 French, Japanese, Desserts                    geometry  \n",
            "0    314          NaN                        NaN  POINT (121.02754 14.56544)  \n",
            "1    591          NaN                        NaN   POINT (121.0141 14.55371)  \n",
            "2    270          NaN                        NaN   POINT (121.05683 14.5814)  \n",
            "3    365          NaN                        NaN  POINT (121.05648 14.58532)  \n",
            "4    229          NaN                        NaN  POINT (121.05751 14.58445)  \n",
            "\n",
            "[5 rows x 24 columns]\n"
          ]
        }
      ]
    },
    {
      "cell_type": "code",
      "source": [
        "world = geopandas.read_file(get_path(\"naturalearth,land\"))\n",
        "ax = world.plot(color='white', edgecolor='black')\n",
        "gdf.plot(ax=ax, marker='o', color='red', markersize=5)"
      ],
      "metadata": {
        "colab": {
          "base_uri": "https://localhost:8080/",
          "height": 319
        },
        "id": "0RafpcbbGw0z",
        "outputId": "e24efe29-15c3-4152-f541-4b096e969b29"
      },
      "execution_count": 176,
      "outputs": [
        {
          "output_type": "execute_result",
          "data": {
            "text/plain": [
              "<Axes: >"
            ]
          },
          "metadata": {},
          "execution_count": 176
        },
        {
          "output_type": "display_data",
          "data": {
            "text/plain": [
              "<Figure size 640x480 with 1 Axes>"
            ],
            "image/png": "[encoded data removed]"
          },
          "metadata": {}
        }
      ]
    },
    {
      "cell_type": "code",
      "source": [
        "plt.show()"
      ],
      "metadata": {
        "id": "IEioXBjHI0Ij"
      },
      "execution_count": 153,
      "outputs": []
    },
    {
      "cell_type": "markdown",
      "source": [
        "**Identify any patterns or clusters of resturants in specific areas.**"
      ],
      "metadata": {
        "id": "Dq_6ZxzeImVB"
      }
    },
    {
      "cell_type": "code",
      "source": [
        "world_map = folium.Map(location=[df['Latitude'].mean(), df['Longitude'].mean()], zoom_start=1, height='100%', width ='100%')"
      ],
      "metadata": {
        "id": "KFRSNuwxJPyc"
      },
      "execution_count": 155,
      "outputs": []
    },
    {
      "cell_type": "code",
      "source": [
        "heat_marker = [[row['Latitude'], row['Longitude']] for i, row in df.iterrows()]\n",
        "HeatMap(heat_marker, radius=10).add_to(world_map)\n"
      ],
      "metadata": {
        "colab": {
          "base_uri": "https://localhost:8080/"
        },
        "id": "RcZFF21fKSiJ",
        "outputId": "03b12f61-830f-4c68-fea1-6f29acea9a96"
      },
      "execution_count": 160,
      "outputs": [
        {
          "output_type": "execute_result",
          "data": {
            "text/plain": [
              "<folium.plugins.heat_map.HeatMap at 0x7e31ccf982b0>"
            ]
          },
          "metadata": {},
          "execution_count": 160
        }
      ]
    },
    {
      "cell_type": "code",
      "source": [
        "world_map"
      ],
      "metadata": {
        "colab": {
          "base_uri": "https://localhost:8080/",
          "height": 860
        },
        "id": "0WrPK4ScLdWr",
        "outputId": "1db57661-ae92-44ee-a490-c2514ba2a53f"
      },
      "execution_count": 161,
      "outputs": [
        {
          "output_type": "execute_result",
          "data": {
            "text/plain": [
              "<folium.folium.Map at 0x7e31d1c5b490>"
            ],
            "text/html": [
              "<div style=\"width:100%;\"><div style=\"position:relative;width:100%;height:0;padding-bottom:60%;\"><span style=\"color:#565656\">Make this Notebook Trusted to load map: File -> Trust Notebook</span><iframe srcdoc=\"&lt;!DOCTYPE html&gt;\n",
              "&lt;html&gt;\n",
              "&lt;head&gt;\n",
              "    \n",
              "    &lt;meta http-equiv=&quot;content-type&quot; content=&quot;text/html; charset=UTF-8&quot; /&gt;\n",
              "    \n",
              "        &lt;script&gt;\n",
              "            L_NO_TOUCH = false;\n",
              "            L_DISABLE_3D = false;\n",
              "        &lt;/script&gt;\n",
              "    \n",
              "    &lt;style&gt;html, body {width: 100%;height: 100%;margin: 0;padding: 0;}&lt;/style&gt;\n",
              "    &lt;style&gt;#map {position:absolute;top:0;bottom:0;right:0;left:0;}&lt;/style&gt;\n",
              "    &lt;script src=&quot;https://cdn.jsdelivr.net/npm/leaflet@1.9.3/dist/leaflet.js&quot;&gt;&lt;/script&gt;\n",
              "    &lt;script src=&quot;https://code.jquery.com/jquery-3.7.1.min.js&quot;&gt;&lt;/script&gt;\n",
              "    &lt;script src=&quot;https://cdn.jsdelivr.net/npm/bootstrap@5.2.2/dist/js/bootstrap.bundle.min.js&quot;&gt;&lt;/script&gt;\n",
              "    &lt;script src=&quot;https://cdnjs.cloudflare.com/ajax/libs/Leaflet.awesome-markers/2.0.2/leaflet.awesome-markers.js&quot;&gt;&lt;/script&gt;\n",
              "    &lt;link rel=&quot;stylesheet&quot; href=&quot;https://cdn.jsdelivr.net/npm/leaflet@1.9.3/dist/leaflet.css&quot;/&gt;\n",
              "    &lt;link rel=&quot;stylesheet&quot; href=&quot;https://cdn.jsdelivr.net/npm/bootstrap@5.2.2/dist/css/bootstrap.min.css&quot;/&gt;\n",
              "    &lt;link rel=&quot;stylesheet&quot; href=&quot;https://netdna.bootstrapcdn.com/bootstrap/3.0.0/css/bootstrap-glyphicons.css&quot;/&gt;\n",
              "    &lt;link rel=&quot;stylesheet&quot; href=&quot;https://cdn.jsdelivr.net/npm/@fortawesome/fontawesome-free@6.2.0/css/all.min.css&quot;/&gt;\n",
              "    &lt;link rel=&quot;stylesheet&quot; href=&quot;https://cdnjs.cloudflare.com/ajax/libs/Leaflet.awesome-markers/2.0.2/leaflet.awesome-markers.css&quot;/&gt;\n",
              "    &lt;link rel=&quot;stylesheet&quot; href=&quot;https://cdn.jsdelivr.net/gh/python-visualization/folium/folium/templates/leaflet.awesome.rotate.min.css&quot;/&gt;\n",
              "    \n",
              "            &lt;meta name=&quot;viewport&quot; content=&quot;width=device-width,\n",
              "                initial-scale=1.0, maximum-scale=1.0, user-scalable=no&quot; /&gt;\n",
              "            &lt;style&gt;\n",
              "                #map_4e329e9201e1bfe16db02c8d76f3e2cb {\n",
              "                    position: relative;\n",
              "                    width: 100.0%;\n",
              "                    height: 100.0%;\n",
              "                    left: 0.0%;\n",
              "                    top: 0.0%;\n",
              "                }\n",
              "                .leaflet-container { font-size: 1rem; }\n",
              "            &lt;/style&gt;\n",
              "        \n",
              "    &lt;script src=&quot;https://cdn.jsdelivr.net/gh/python-visualization/folium@main/folium/templates/leaflet_heat.min.js&quot;&gt;&lt;/script&gt;\n",
              "&lt;/head&gt;\n",
              "&lt;body&gt;\n",
              "    \n",
              "    \n",
              "            &lt;div class=&quot;folium-map&quot; id=&quot;map_4e329e9201e1bfe16db02c8d76f3e2cb&quot; &gt;&lt;/div&gt;\n",
              "        \n",
              "&lt;/body&gt;\n",
              "&lt;script&gt;\n",
              "    \n",
              "    \n",
              "            var map_4e329e9201e1bfe16db02c8d76f3e2cb = L.map(\n",
              "                &quot;map_4e329e9201e1bfe16db02c8d76f3e2cb&quot;,\n",
              "                {\n",
              "                    center: [25.854380700074756, 64.12657446168706],\n",
              "                    crs: L.CRS.EPSG3857,\n",
              "                    ...{\n",
              "  &quot;zoom&quot;: 1,\n",
              "  &quot;zoomControl&quot;: true,\n",
              "  &quot;preferCanvas&quot;: false,\n",
              "}\n",
              "\n",
              "                }\n",
              "            );\n",
              "\n",
              "            \n",
              "\n",
              "        \n",
              "    \n",
              "            var tile_layer_d4c11bc909ba1ea61e6a70e3f681a59a = L.tileLayer(\n",
              "                &quot;https://tile.openstreetmap.org/{z}/{x}/{y}.png&quot;,\n",
              "                {\n",
              "  &quot;minZoom&quot;: 0,\n",
              "  &quot;maxZoom&quot;: 19,\n",
              "  &quot;maxNativeZoom&quot;: 19,\n",
              "  &quot;noWrap&quot;: false,\n",
              "  &quot;attribution&quot;: &quot;\\u0026copy; \\u003ca href=\\&quot;https://www.openstreetmap.org/copyright\\&quot;\\u003eOpenStreetMap\\u003c/a\\u003e contributors&quot;,\n",
              "  &quot;subdomains&quot;: &quot;abc&quot;,\n",
              "  &quot;detectRetina&quot;: false,\n",
              "  &quot;tms&quot;: false,\n",
              "  &quot;opacity&quot;: 1,\n",
              "}\n",
              "\n",
              "            );\n",
              "        \n",
              "    \n",
              "            tile_layer_d4c11bc909ba1ea61e6a70e3f681a59a.addTo(map_4e329e9201e1bfe16db02c8d76f3e2cb);\n",
              "        \n",
              "    \n",
              "            var heat_map_de19b6fa571902bb85d3f7d75d065d7f = L.heatLayer(\n",
              "                [[14.565443, 121.027535], [14.553708, 121.014101], [14.581404, 121.056831], [14.585318, 121.056475], [14.58445, 121.057508], [14.583764, 121.056314], [14.53133333, 120.9796667], [14.54, 120.9793333], [14.55299, 120.98009], [14.572041, 121.056532], [14.567689, 121.057916], [14.570849, 121.06082], [14.649503, 121.075419], [14.59345, 121.0335917], [14.59889, 121.03811], [14.237082, 121.05704], [14.23767897, 121.0565874], [14.101834, 120.951589], [14.55436, 121.045878], [14.549337, 121.04622], [14.545858, 121.053725], [14.54565535, 121.0534998], [-15.76414167, -47.88178889], [-15.7775, -47.88266667], [-15.75747222, -47.88213611], [-15.75883333, -47.88816667], [-15.83116667, -47.91566667], [-15.831, -47.91566667], [-15.82, -47.9075], [-15.82733333, -47.91016667], [-15.797, -47.89016667], [-15.83133333, -47.92366667], [-15.83716667, -48.019], [-15.839775, -48.01909167], [-15.83483333, -48.01666667], [-15.7865, -47.889], [-15.860621, -47.872359], [-15.83451389, -47.95628333], [-15.82566667, -47.87283333], [-15.819, -47.8685], [-15.720118, -47.885812], [-15.79753056, -47.92102778], [-23.0115, -43.377], [-22.905293, -43.178826], [-22.97207222, -43.18669167], [-22.96216667, -43.17583333], [-22.96516667, -43.176], [-22.98683333, -43.191], [-22.973507, -43.227042], [-22.98520833, -43.211425], [-22.98533333, -43.203], [-22.98531944, -43.20520833], [-22.966647, -43.219563], [-22.99991111, -43.34879167], [-22.98416667, -43.227], [-22.98516667, -43.22566667], [-22.963925, -43.17279167], [-22.96337222, -43.17126389], [-22.870413, -43.341164], [-22.92481389, -43.18736944], [-22.91370833, -43.21551111], [-22.94783333, -43.16266667], [-23.55066667, -46.64516667], [-23.559, -46.64633333], [-23.55616667, -46.65866667], [-23.55671, -46.657523], [-23.581688, -46.666851], [-23.582135, -46.67511], [-23.585324, -46.683888], [-23.581, -46.67566667], [-23.561568, -46.666041], [-23.571638, -46.657418], [-23.5655, -46.66983333], [-23.59233333, -46.67133333], [-23.56483333, -46.68133333], [-23.54664167, -46.64159444], [-23.545163, -46.643425], [-23.5995, -46.63716667], [-23.622925, -46.698574], [-23.486535, -46.581672], [-23.58516667, -46.63566667], [-23.609207, -46.746958], [31.610387, -84.221535], [31.608743, -84.207095], [31.5772, -84.154], [31.6158, -84.2194], [31.622412, -84.206944], [31.5882, -84.1759], [31.616, -84.2193], [31.6155186, -84.2091458], [31.604905, -84.205718], [31.612121, -84.223278], [31.6156, -84.2191], [31.6104, -84.212], [31.5751, -84.1534], [31.6077, -84.2228], [31.6185, -84.2229], [31.6137, -84.2164], [31.6118, -84.2233], [31.605882, -84.205025], [31.5985, -84.1757], [31.5308, -83.8389], [-30.5147169, 151.6688792], [33.957999, -83.378273], [33.9535, -83.3654], [33.9652, -83.4293], [33.9259, -83.3389], [33.958198, -83.375523], [33.959392, -83.384004], [33.9584, -83.3797], [33.958112, -83.373596], [33.924275, -83.33995], [33.9415545, -83.3872482], [33.960112, -83.381625], [33.963296, -83.400887], [33.9584, -83.4075], [33.957503, -83.379251], [33.960571, -83.383605], [33.959468, -83.37967], [33.937502, -83.38728], [33.9584, -83.3764], [33.958363, -83.378881], [33.9600227, -83.3828224], [33.4721, -82.0865], [33.4791, -82.0698], [33.4765, -81.97], [33.474, -81.9684], [33.477444, -81.973006], [33.481779, -81.965571], [33.4086, -82.0327], [33.478231, -81.974944], [33.4827, -82.096], [33.4778, -81.9721], [33.4764, -81.9694], [33.5133, -82.0505], [33.4848, -82.0301], [33.467201, -82.080788], [33.5375868, -82.0805493], [33.544342, -82.143793], [33.532249, -82.126161], [33.521291, -82.141284], [33.5406, -82.1328], [33.4574, -82.1997], [-33.7845269, 115.9844924], [-36.360439, 146.685852], [43.6138, -116.2019], [43.616068, -116.203466], [43.6149, -116.2023], [43.6157, -116.2064], [43.614, -116.2031], [43.597235, -116.185034], [43.5945, -116.2062], [43.6167, -116.2022], [43.610279, -116.193409], [43.6192, -116.2625], [43.616295, -116.202845], [43.615, -116.199], [43.6191, -116.2463], [43.6051379, -116.245165], [43.6162, -116.2021], [43.6156, -116.2031], [43.619274, -116.281809], [43.591706, -116.280614], [43.619108, -116.347304], [43.5777, -116.5629], [42.0179, -91.6336], [42.0281, -91.6327], [41.9748, -91.7148], [42.0249, -91.6224], [42.01, -91.6347], [42.0215347, -91.6499622], [41.9639, -91.7266], [42.0468, -91.6394], [41.670466, -91.569767], [41.6685, -91.5687], [41.660982, -91.534424], [41.663849, -91.531414], [41.663751, -91.531093], [41.658691, -91.534302], [41.6648, -91.5314], [41.661, -91.5341], [41.667742, -91.482165], [41.6625, -91.5318], [41.6428, -91.5074], [42.0331, -91.5995], [42.397683, -82.188438], [46.126967, -123.368151], [51.183934, -114.472474], [32.470315, -84.992671], [32.519247, -84.95591], [32.555591, -84.927047], [32.5577, -84.9436], [32.4656, -84.9936], [32.5382197, -84.954984], [32.4637, -84.9876], [32.4652417, -84.9933631], [32.534002, -84.96661], [32.513154, -84.95367], [32.504657, -84.947569], [32.5393, -84.9607], [32.4792, -84.9464], [32.481, -84.9427], [32.5321, -84.9557], [32.466158, -84.992093], [32.560905, -84.938698], [32.468757, -84.991384], [32.527217, -84.963201], [32.7455, -85.0213], [52.0082889, -110.7746994], [34.5251331, -84.9396931], [34.474635, -84.926258], [34.4972488, -84.9523921], [34.752476, -84.767911], [34.769686, -84.969393], [34.7643, -85.0039], [34.759551, -84.992342], [34.759665, -84.992924], [34.758645, -84.999678], [34.7742, -84.9678], [34.759273, -84.990925], [34.7604, -84.9964], [34.9428786, -85.2229101], [34.9528157, -85.246237], [34.9546, -85.2545], [34.705093, -85.294955], [34.9273, -85.1321], [34.912109, -85.130492], [34.9151853, -85.1079396], [34.851907, -85.249727], [41.574935, -90.496986], [41.53845, -90.522479], [41.5747801, -90.4912446], [41.548746, -90.504176], [41.525384, -90.50709], [41.593892, -90.574088], [41.574459, -90.565837], [41.5604, -90.5716], [41.5223, -90.5737], [41.52253634, -90.59466452], [41.5709434, -90.5154313], [41.5699, -90.5683], [41.5749, -90.5321], [41.5747, -90.5432], [41.520389, -90.572418], [41.5745, -90.5137], [41.559, -90.5686], [41.5944, -90.6136], [41.570997, -90.515175], [41.5747, -90.517], [42.010254, -93.610084], [42.048779, -93.643094], [41.614965, -93.677638], [41.600564, -93.739573], [41.60028, -93.760027], [41.583309, -93.627896], [41.5857431, -93.6300803], [41.585465, -93.621631], [41.587219, -93.637401], [41.58536, -93.620726], [41.584027, -93.629436], [41.590819, -93.611366], [41.590106, -93.61474], [41.601415, -93.577383], [41.545869, -93.645245], [41.6714654, -93.6976773], [41.603901, -93.659797], [41.615083, -93.772033], [41.594039, -93.73624], [41.5991771, -93.7441981], [-26.783576, 153.137401], [42.504759, -90.667668], [42.5124724, -90.6499328], [42.5032004, -90.6684746], [42.496464, -90.658609], [42.495689, -90.664029], [42.492018, -90.715247], [42.49092, -90.740213], [42.4955, -90.7264], [42.516621, -90.645294], [42.492963, -90.712084], [42.5043, -90.6646], [42.503075, -90.668164], [42.4916, -90.7055], [42.500191, -90.6677349], [42.5048, -90.6691], [42.4974, -90.6651], [42.4963, -90.6658], [42.4982789, -90.663686], [42.527556, -90.684882], [42.496378, -90.658988], [-28.862663, 153.593331], [39.607515, -119.252694], [-26.6521332, 152.8771473], [-38.517292, 143.714315], [34.0901, -83.8461], [34.61802, -83.520693], [34.532973, -83.985353], [34.5318, -83.9858], [34.533626, -83.983939], [34.541044, -83.989317], [34.533198, -83.986119], [34.183573, -83.938024], [34.185707, -83.926217], [34.180043, -83.927794], [34.285102, -83.838457], [34.300182, -83.857993], [34.222755, -83.860098], [34.300567, -83.824023], [34.3166, -83.8272], [34.300332, -83.82686], [34.701594, -83.727741], [34.7024, -83.7345], [34.7021, -83.7334], [34.691208, -83.713498], [-37.3123267, 144.1387014], [-37.275494, 144.110062], [-35.0388698, 150.6710743], [-38.6347458, 145.7287133], [-37.8783865, 147.9942247], [42.1885, -120.3458], [40.8143, -96.7072], [-32.728097, 151.558475], [-37.423189, 144.564174], [32.567741, -83.594494], [32.853896, -83.657061], [32.8496, -83.6737], [32.8899, -83.6766], [32.8361, -83.6279], [32.83641, -83.627979], [32.929278, -83.713978], [32.8375, -83.6276], [32.83654, -83.628703], [32.928495, -83.787993], [32.901, -83.6873], [32.556873, -83.662421], [32.5786, -83.624], [32.6184, -83.6665], [32.552684, -83.691044], [32.594666, -83.64935], [32.6176839, -83.636618], [32.619321, -83.600201], [32.593264, -83.665557], [32.6147, -83.7184], [-32.899178, 151.7343832], [46.3718, -85.7363], [-35.025861, 117.917166], [44.5158, -98.9891], [42.606306, -89.653487], [-26.690462, 152.893735], [36.313638, -106.057666], [28.540432, -81.381077], [28.405437, -81.585226], [28.372858, -81.514608], [28.371338, -81.517725], [28.440344, -81.469986], [28.4676808, -81.4510725], [28.437065, -81.471526], [28.433235, -81.471447], [28.560505, -81.364347], [28.557845, -81.364547], [28.448175, -81.487978], [28.811653, -81.266871], [28.543571, -81.351467], [28.527592, -81.522987], [28.601088, -81.322631], [28.597366, -81.357219], [28.5976271, -81.3508344], [28.592857, -81.352921], [28.596682, -81.36526], [28.593297, -81.356024], [-16.748083, 145.670768], [-37.9194154, 147.7227832], [-37.379153, 140.837409], [30.4025979, -86.8573393], [30.4179, -87.2027], [30.4251, -87.1819], [30.4982, -87.2216], [30.417318, -87.205855], [30.403034, -87.213274], [30.4116106, -87.2150874], [30.4473322, -87.2080932], [30.4101, -87.2092], [30.411878, -87.2153054], [30.4767, -87.2252], [30.407358, -87.211082], [30.4692, -87.214], [30.3359, -87.143], [30.335521, -87.142602], [30.334776, -87.132932], [30.327864, -87.164376], [30.34262, -87.149178], [30.3199824, -87.4218962], [30.308468, -87.427707], [-38.448307, 145.237813], [43.1903, -112.3415], [42.910518, -112.461326], [42.62, -112.0132], [42.6192, -112.0127], [42.8661, -112.4423], [42.8919, -112.4516], [42.8928, -112.441], [42.8631, -112.4397], [42.8604, -112.4365], [42.8639, -112.4524], [42.878077, -112.459988], [42.860024, -112.443213], [42.9012, -112.432], [42.8942, -112.4433], [42.88245, -112.452013], [42.863969, -112.45253], [42.861871, -112.450106], [42.8585987, -112.4413856], [42.891174, -112.44853], [42.8774, -112.4419], [32.613431, -116.704731], [40.352385, -74.651139], [21.677078, -157.948486], [19.642752, -155.997362], [21.284586, -157.813432], [20.748838, -156.455284], [20.731487, -156.451847], [20.6883746, -156.4309473], [20.733554, -156.452556], [20.885226, -156.674835], [20.886564, -156.684967], [20.992316, -156.667037], [20.921347, -156.693821], [20.876127, -156.680666], [20.929622, -156.366445], [21.279476, -157.825979], [21.2794952, -157.8312476], [21.271826, -157.822716], [21.277583, -157.827196], [21.280663, -157.831538], [21.279154, -157.831176], [21.285396, -157.836031], [32.0804, -81.0954], [32.052858, -81.096647], [32.0785, -81.0894], [32.0727, -81.0955], [32.0775, -81.0911], [32.0809, -81.0916], [32.0782, -81.0844], [32.0798, -81.0875], [32.0735, -81.0979], [32.0801, -81.0941], [32.0794767, -81.0905213], [32.0812, -81.0897], [32.074495, -81.091482], [32.080742, -81.097051], [32.081394, -81.092484], [32.0747, -81.0939], [32.0798, -81.0897], [32.0809, -81.0908], [32.011689, -80.865909], [31.99581, -80.848297], [1.2826608, 103.8600048], [1.285476931, 103.8594222], [1.279419756, 103.8403602], [1.280502991, 103.8416688], [1.293220698, 103.8536048], [1.27944363, 103.8430222], [1.300404333, 103.859422], [1.331128397, 103.8070809], [1.29782554, 103.8146178], [1.310668316, 103.8621195], [1.311550709, 103.8604162], [1.289761964, 103.8558665], [1.2905805, 103.859955], [1.290800881, 103.8601766], [1.278373182, 103.840921], [1.301707168, 103.8584296], [1.290083898, 103.839165], [1.303034648, 103.8581813], [1.28197, 103.8482541], [1.299707726, 103.8519943], [42.7956, -96.1608], [42.4765, -96.379], [42.5026, -96.4173], [42.492, -96.4051], [42.4965, -96.4046], [42.4391, -96.3479], [42.4375, -96.362], [42.4764, -96.3596], [42.4985, -96.4048], [42.495534, -96.378049], [42.4876, -96.3755], [42.4930681, -96.4063904], [42.5212, -96.418], [42.4351, -96.3691], [42.4944454, -96.3959487], [42.440592, -96.349464], [42.5011, -96.4136], [42.5106, -96.4204], [42.4949153, -96.4019631], [42.485608, -96.4092028], [27.96076, -82.762624], [27.770026, -82.636924], [27.7737426, -82.6329663], [27.7711464, -82.6333294], [27.775462, -82.632174], [27.931516, -82.482962], [27.941942, -82.46887], [27.944244, -82.469306], [27.9410382, -82.4852372], [27.935039, -82.483124], [27.848357, -82.843253], [27.792047, -82.673621], [27.816086, -82.820856], [28.082909, -82.41294], [27.816848, -82.638843], [27.9219315, -82.4932815], [27.993645, -82.451041], [27.995964, -82.449897], [27.99384, -82.459339], [27.959884, -82.4351499], [-34.519619, 138.966064], [-37.396942, 144.41272], [30.846819, -83.319123], [30.8426, -83.3247], [30.8332, -83.2799], [30.8164364, -83.3170843], [30.841892, -83.318554], [30.8308, -83.279], [30.8308, -83.2792], [30.8223548, -83.3085736], [30.824691, -83.316402], [30.850888, -83.28078], [30.880146, -83.29633], [30.8433, -83.2851], [30.8465, -83.281], [30.846763, -83.310343], [30.8971, -83.3283], [30.841547, -83.318958], [30.87114, -83.289338], [30.868, -83.2868], [30.8316, -83.2796], [30.897087, -83.332796], [45.858667, -123.1954368], [-35.5536609, 138.624316], [43.1868697, -79.3791465], [42.516908, -92.456343], [42.5464, -92.4507], [42.5377, -92.4599], [42.5133, -92.4322], [42.512646, -92.432177], [42.509472, -92.466597], [42.5366, -92.4453], [42.5219, -92.444], [42.51259, -92.426215], [42.5354081, -92.4457417], [42.5375, -92.4457], [42.5127, -92.4291], [42.53489, -92.445723], [42.477281, -92.323032], [42.494908, -92.339721], [42.458979, -92.356066], [42.499705, -92.3772], [42.4984, -92.335523], [42.497919, -92.335769], [42.46558, -92.3234], [40.396043, -80.529488], [43.678998, -124.175346], [51.2106824, -102.4613173], [24.49550307, 54.38279729], [24.49569253, 54.38294616], [24.48557932, 54.38193094], [24.47756501, 54.37127855], [24.4543119, 54.38080709], [24.47083582, 54.37500816], [24.46936983, 54.37332205], [24.491235, 54.365694], [24.33421694, 54.52412188], [24.48525254, 54.36377607], [24.48277094, 54.36615754], [24.43409939, 54.41314146], [24.36312973, 54.51003961], [24.48841145, 54.37143378], [24.48959102, 54.37324997], [24.49089202, 54.37422059], [24.4106148, 54.4872137], [24.488161, 54.358147], [24.48761082, 54.35782894], [24.49053138, 54.60685361], [25.095044, 55.310519], [25.25124063, 55.30919038], [25.25007862, 55.3019169], [25.11338, 55.215341], [25.2080323, 55.26191946], [25.254105, 55.32874], [25.211183, 55.281966], [25.10777315, 55.17874617], [25.22399154, 55.35147775], [25.21110278, 55.25639722], [25.16812806, 55.21152779], [25.11851301, 55.19854523], [25.252054, 55.288061], [25.22347744, 55.28256778], [25.24107351, 55.27340334], [25.198291, 55.278525], [25.19726756, 55.27856994], [25.19500831, 55.27927805], [25.21135663, 55.27430557], [25.22931113, 55.32548446], [25.33315516, 55.39273214], [25.338089, 55.396984], [25.33320395, 55.39269626], [25.32578908, 55.37637066], [25.32451353, 55.38474888], [25.33045321, 55.37086055], [25.32813499, 55.37552107], [25.35508316, 55.38215585], [25.35443539, 55.38290787], [25.30564046, 55.37454341], [25.3084117, 55.37728127], [25.34640794, 55.39045796], [25.32188994, 55.376027], [25.34839077, 55.39922744], [25.32774497, 55.38781766], [25.2887722, 55.45195531], [25.29782287, 55.37353624], [25.3084123, 55.45834266], [25.31127229, 55.45425095], [25.310369, 55.460279], [27.16166111, 78.01154444], [0.0, 0.0], [27.16083249, 78.01160797], [27.19592778, 77.99809167], [27.201725, 78.00755278], [0.0, 0.0], [27.160934, 78.044095], [27.160934, 78.044095], [0.0, 0.0], [27.163303, 78.057044], [27.163303, 78.057044], [27.16510833, 78.01505278], [27.159795, 78.04299], [27.16185, 78.040165], [0.0, 0.0], [0.0, 0.0], [27.15777222, 78.04725], [27.16169444, 78.03471389], [0.0, 0.0], [27.158822, 78.045359], [23.01045111, 72.5375741], [23.0261651, 72.572009], [23.0383109, 72.5123947], [23.0401633, 72.5017644], [23.0330688, 72.5098065], [23.0382314, 72.5124872], [23.0318508, 72.511307], [23.0290619, 72.5570374], [23.027929, 72.5115815], [23.02874796, 72.55998429], [23.02443364, 72.55903311], [23.0643038, 72.5316389], [23.04850469, 72.5239649], [23.04619268, 72.53774978], [23.0437235, 72.5498285], [23.0443367, 72.5504755], [23.0117723, 72.5072645], [23.0534466, 72.5181257], [23.0640914, 72.5222172], [23.0418026, 72.5281083], [23.0285142, 72.5434513], [25.454648, 81.834502], [25.45343611, 81.83316667], [25.451517, 81.832616], [0.0, 0.0], [25.457687, 81.835585], [0.0, 0.0], [25.449659, 81.839744], [25.450329, 81.834279], [0.0, 0.0], [0.0, 0.0], [0.0, 0.0], [25.443994, 81.860187], [25.45164569, 81.83279631], [25.459775, 81.834841], [25.44987222, 81.83616667], [25.450377, 81.834236], [25.45235, 81.841889], [25.45031667, 81.83168056], [25.457116, 81.859682], [25.454697, 81.834492], [31.64362, 74.884359], [31.644532, 74.884384], [0.0, 0.0], [31.635658, 74.875878], [31.63488333, 74.87575556], [31.635671, 74.875828], [0.0, 0.0], [31.65558889, 74.86276111], [31.65044167, 74.86299167], [31.6466891, 74.8649101], [31.65319167, 74.86416667], [31.62404722, 74.87981389], [31.62394722, 74.87461944], [31.62615278, 74.87833333], [31.625981, 74.877666], [31.62261111, 74.87957778], [0.0, 0.0], [31.624386, 74.873005], [31.641991, 74.883997], [31.644818, 74.877002], [0.0, 0.0], [19.87621944, 75.34601667], [0.0, 0.0], [19.87473333, 75.35394167], [19.87610556, 75.340775], [19.8755223, 75.3671268], [19.874449, 75.360232], [19.875908, 75.358888], [19.87642778, 75.36479167], [19.874103, 75.3684187], [19.875337, 75.316722], [0.0, 0.0], [19.87963056, 75.32340278], [19.88025556, 75.32350278], [19.875016, 75.322405], [19.87802778, 75.317475], [0.0, 0.0], [19.87699444, 75.37235278], [19.888716, 75.321461], [19.86696944, 75.31889444], [0.0, 0.0], [12.93328392, 77.61542793], [12.97022064, 77.64539558], [12.9791658, 77.64070876], [12.98041024, 77.64048882], [12.970324, 77.645748], [12.97909556, 77.64062494], [12.97845292, 77.64368467], [12.90622878, 77.59679094], [12.934179, 77.615797], [12.93329764, 77.61429269], [12.93436454, 77.61615515], [12.939496, 77.625999], [12.93566181, 77.61413042], [12.94993396, 77.6993861], [12.97537691, 77.696664], [13.0291977, 77.5709967], [12.97253153, 77.60817859], [12.91304096, 77.68323686], [12.914264, 77.6784], [12.9721612, 77.5960137], [23.211529, 77.419399], [0.0, 0.0], [23.214294, 77.435361], [23.18499152, 77.41722744], [23.214459, 77.434976], [23.232357, 77.429989], [0.0, 0.0], [23.232537, 77.429845], [0.0, 0.0], [23.26626099, 77.3796051], [23.233219, 77.433571], [0.0, 0.0], [23.23079116, 77.43702042], [0.0, 0.0], [23.234249, 77.434007], [23.264015, 77.408236], [23.218998, 77.373573], [23.234631, 77.401663], [0.0, 0.0], [23.235123, 77.398886], [0.0, 0.0], [20.286333, 85.846838], [0.0, 0.0], [20.32553933, 85.81781287], [20.32634444, 85.81856667], [0.0, 0.0], [20.31149633, 85.83394811], [20.301785, 85.819178], [20.34306944, 85.80823611], [20.353675, 85.82272222], [20.35324774, 85.825257], [20.35299167, 85.82685], [20.35343289, 85.82599327], [20.34347604, 85.82289287], [20.34314407, 85.81112333], [0.0, 0.0], [20.35348061, 85.82225987], [20.29322917, 85.84295925], [20.29575519, 85.84516996], [20.292363, 85.818494], [20.28398889, 85.82669624], [30.71005476, 76.801234], [30.7050693, 76.8009555], [30.7056682, 76.8007752], [30.7056102, 76.80064], [30.7051482, 76.8008653], [30.705775, 76.8009555], [30.7257045, 76.8051917], [30.7249431, 76.8063634], [30.7194841, 76.801316], [30.72476574, 76.76560555], [30.72152328, 76.76055595], [30.7216086, 76.7606106], [30.72137975, 76.76028337], [30.72114167, 76.75984483], [30.7306181, 76.8009793], [30.7334795, 76.7976205], [30.740827, 76.7978909], [30.7408896, 76.7972148], [13.0058006, 80.250744], [13.0864385, 80.2206723], [13.0918088, 80.2191037], [13.02977985, 80.20881157], [13.058616, 80.264151], [13.05434714, 80.25722075], [13.08187778, 80.24851944], [13.02239444, 80.24243889], [13.044694, 80.26147], [13.066762, 80.251865], [13.06418056, 80.23644167], [12.97279291, 80.24998214], [13.02701773, 80.25479067], [13.02627908, 80.17456822], [13.02628637, 80.2752348], [13.04964535, 80.24226844], [13.045479, 80.23311], [12.981615, 80.231598], [12.98604688, 80.21811381], [12.975996, 80.221898], [11.01629845, 76.9720757], [11.022477, 76.995667], [11.025083, 77.015393], [11.02483917, 77.00700302], [11.02216944, 76.99959444], [11.02127778, 76.99501667], [10.96185, 76.971082], [11.001852, 76.976268], [11.00863836, 76.98431119], [11.0030085, 76.9754397], [11.00175265, 76.98624135], [11.00076241, 76.98187642], [11.00366944, 76.97649444], [11.00368056, 76.975525], [11.00668611, 76.95173611], [11.010375, 76.95295], [11.02611735, 76.94465239], [11.02091, 76.940432], [11.02229761, 76.9983492], [10.99413611, 76.96330278], [0.0, 0.0], [0.0, 0.0], [30.335259, 78.053162], [30.340722, 78.060221], [30.346994, 78.062543], [30.36128079, 78.06802238], [30.36268594, 78.06888981], [30.359722, 78.067079], [30.332735, 78.054222], [30.328174, 78.049117], [0.0, 0.0], [0.0, 0.0], [30.366322, 78.070453], [30.31952778, 78.04026667], [0.0, 0.0], [30.3425093, 78.061187], [30.327968, 78.046106], [0.0, 0.0], [30.37220198, 78.07715102], [0.0, 0.0], [28.4900591, 77.3066401], [28.4901567, 77.304776], [28.4901368, 77.305563], [28.4900979, 77.3061016], [28.490062, 77.3057446], [28.4901198, 77.3053835], [28.49629167, 77.30274167], [28.4959154, 77.303542], [0.0, 0.0], [28.4262842, 77.3000877], [28.4946638, 77.2905651], [28.4946804, 77.2905276], [28.4922473, 77.2918292], [28.4990636, 77.2918292], [0.0, 0.0], [28.4923251, 77.292431], [28.4698631, 77.3074479], [28.4695043, 77.3074479], [28.4701322, 77.3074479], [28.4700256, 77.3072684], [28.4693655, 77.3074031], [28.4693655, 77.3074031], [28.469594, 77.3074479], [28.4693655, 77.3074031], [28.4700019, 77.3074928], [28.46980656, 77.30706006], [28.4698629, 77.3073785], [28.4693655, 77.3074031], [28.3980691, 77.3130127], [28.3979794, 77.3130127], [28.397424, 77.3128332], [28.3978083, 77.3131025], [28.4937692, 77.294319], [28.3868454, 77.3139102], [28.3869029, 77.3140449], [28.4719854, 77.3056977], [28.4722089, 77.3066401], [28.4723428, 77.3062507], [28.4534629, 77.3153578], [28.446715, 77.316429], [28.3954463, 77.2900667], [28.3939512, 77.2874809], [28.3940171, 77.2875524], [28.3982684, 77.2922781], [28.4292178, 77.2969459], [28.383665, 77.3144487], [28.3837046, 77.3144877], [28.3836738, 77.3145373], [28.3754863, 77.3291609], [28.3689797, 77.3266079], [28.3692291, 77.3270132], [28.3702087, 77.329628], [28.3777541, 77.3288978], [28.3692291, 77.3270132], [0.0, 0.0], [28.3730138, 77.3295018], [28.3725172, 77.319026], [28.371835, 77.3185858], [28.3719511, 77.3184832], [28.3692881, 77.32157], [28.38339444, 77.31429167], [28.384502, 77.3244365], [28.3811924, 77.3144456], [0.0, 0.0], [28.38471389, 77.32425], [28.395009, 77.3229299], [28.3949008, 77.3222568], [28.3952671, 77.3236112], [28.3950296, 77.3217184], [28.3950992, 77.3241683], [28.3951274, 77.3235114], [28.3952906, 77.3239437], [28.3946937, 77.3217312], [0.0, 0.0], [28.3951869, 77.3224363], [28.452631, 77.292179], [28.3950834, 77.323244], [28.3950913, 77.3234608], [28.3950766, 77.3236479], [28.3952798, 77.3234235], [28.3949736, 77.3220773], [28.395196, 77.3235233], [28.393261, 77.317231], [28.3953389, 77.3240517], [28.3951035, 77.3244107], [28.3951385, 77.3216428], [28.3951932, 77.3244107], [28.39483205, 77.32343964], [28.39527358, 77.32328642], [28.3947688, 77.3218081], [28.395283, 77.3244107], [28.43002333, 77.29659833], [28.3952545, 77.3231543], [28.3950376, 77.3244651], [28.3948264, 77.3219427], [28.39572041, 77.32380275], [28.4104693, 77.3203273], [28.4107707, 77.3201927], [28.4106963, 77.3192063], [28.4106593, 77.3185323], [28.4108198, 77.3190765], [28.4106772, 77.318667], [28.4095652, 77.3199015], [0.0, 0.0], [28.4108878, 77.3185772], [28.4105451, 77.3190262], [28.4106649, 77.3187017], [28.4118307, 77.3200132], [28.4120355, 77.3202824], [28.4104693, 77.3203273], [28.4104999, 77.3196991], [28.4107084, 77.3185772], [28.4120254, 77.3189708], [28.4101024, 77.3266023], [28.4101795, 77.329167], [28.4106029, 77.3288978], [28.4103725, 77.3275764], [28.4099515, 77.326744], [28.4101647, 77.3278324], [28.4103306, 77.3279106], [28.4105998, 77.3279106], [28.4101156, 77.32609671], [28.409801, 77.326227], [28.417529, 77.3138205], [28.4175882, 77.3144487], [28.4304159, 77.2969594], [28.4317132, 77.2967664], [28.4301217, 77.2964432], [0.0, 0.0], [28.4298355, 77.2963379], [0.0, 0.0], [28.4300562, 77.2969354], [28.4221037, 77.291919], [0.0, 0.0], [28.4296999, 77.2964494], [28.4298396, 77.2965369], [28.4301909, 77.2966226], [0.0, 0.0], [28.4263417, 77.3002223], [28.43892133, 77.31297973], [28.4353341, 77.315069], [28.4353375, 77.3150688], [0.0, 0.0], [28.4334516, 77.3211256], [28.4334249, 77.3212535], [0.0, 0.0], [28.446933, 77.309147], [28.4465451, 77.317127], [28.4452616, 77.315795], [28.44589444, 77.31723889], [0.0, 0.0], [0.0, 0.0], [28.4466361, 77.3170515], [28.4549967, 77.3159508], [0.0, 0.0], [28.4718644, 77.3149118], [28.471413, 77.3107195], [28.471302, 77.3108138], [28.471302, 77.3108138], [28.4749127, 77.3060306], [28.4711559, 77.3105616], [28.48429689, 77.30693936], [28.4807864, 77.3062811], [28.480381, 77.3116575], [28.4805482, 77.3104099], [28.48426667, 77.30677778], [28.480467, 77.3104996], [28.4805821, 77.3107689], [28.4805517, 77.3113972], [28.4804188, 77.3115506], [28.4807634, 77.3109543], [28.48420819, 77.3066403], [28.4805778, 77.311746], [28.4808293, 77.3114869], [28.4803991, 77.3106046], [28.4806939, 77.3113363], [28.4806379, 77.3104099], [28.4808985, 77.3103201], [28.4773757, 77.3092797], [28.474531, 77.3060567], [28.4807304, 77.3056065], [28.46626355, 77.28759091], [28.46191014, 77.28919957], [0.0, 0.0], [0.0, 0.0], [28.46118611, 77.30027778], [0.0, 0.0], [28.4609554, 77.3001795], [28.460556, 77.2886873], [28.4622059, 77.2978395], [28.46227858, 77.30083365], [28.46117, 77.2847783], [0.0, 0.0], [28.4621065, 77.2988233], [28.46681111, 77.29056667], [28.4601453, 77.2845595], [28.4614258, 77.2999207], [28.46210674, 77.29738433], [28.4376977, 77.2983871], [28.4375489, 77.2983353], [28.4370903, 77.2984265], [28.4375707, 77.2990075], [28.3959758, 77.2670505], [28.363238, 77.3239171], [28.3632142, 77.3241415], [28.3638989, 77.3259973], [28.3691677, 77.3282696], [28.36942587, 77.32705828], [28.3633036, 77.3264093], [28.3633487, 77.3260374], [28.3686544, 77.3285388], [28.3630576, 77.3262953], [28.4087438, 77.3396661], [28.40775168, 77.33637929], [28.4086778, 77.3364513], [28.4085728, 77.3397558], [28.41226833, 77.34231301], [28.4081056, 77.3409272], [28.4102194, 77.336292], [28.4098256, 77.3372048], [28.4080574, 77.33666], [28.4080719, 77.3409826], [28.4067402, 77.3423218], [28.3765371, 77.3315619], [0.0, 0.0], [28.3764571, 77.3328117], [28.3763294, 77.3299747], [0.0, 0.0], [28.3865773, 77.3167822], [28.4997177, 77.2899232], [28.49820594, 77.29385857], [28.4982147, 77.2937593], [28.5000937, 77.2903929], [28.50064, 77.2903], [28.4727738, 77.2869976], [28.49916279, 77.2896526], [28.4992231, 77.2930411], [28.5002348, 77.2902208], [0.0, 0.0], [28.4938048, 77.2940734], [28.4989698, 77.2921516], [28.4990357, 77.2918806], [28.4609284, 77.2846781], [28.4609545, 77.2847168], [28.462227, 77.2997286], [28.49710833, 77.29654722], [28.4997138, 77.2899124], [28.489496, 77.290565], [28.489796, 77.283011], [28.489796, 77.283011], [28.4729124, 77.3060732], [28.63601389, 77.37444167], [28.63602222, 77.37419167], [28.635083, 77.369326], [28.637449, 77.378751], [28.63823809, 77.31548297], [28.6411332, 77.31069862], [28.63423199, 77.36989718], [28.63404167, 77.37024722], [28.63392778, 77.3704], [28.63388299, 77.36986466], [28.63404722, 77.37020833], [28.63388299, 77.36986466], [28.63412753, 77.36972552], [28.634123, 77.370576], [28.63407809, 77.36981537], [28.63378764, 77.36972786], [28.63383826, 77.36959241], [28.63421758, 77.36971814], [28.63401924, 77.37036925], [28.63431586, 77.36987706], [28.634175, 77.37019444], [28.6339389, 77.37023715], [28.63397039, 77.37016473], [28.6698582, 77.3252184], [28.6644658, 77.3231543], [15.57668259, 73.75574991], [15.58565833, 73.74360556], [15.57482778, 73.76688333], [15.5696, 73.74229444], [0.0, 0.0], [15.56155, 73.74909167], [15.56129549, 73.74947806], [15.55656111, 73.76363333], [15.30389722, 73.91433611], [15.54659444, 73.76043056], [15.54441944, 73.75573611], [15.51683333, 73.76817222], [15.5062047, 73.7666682], [15.15794444, 73.95088889], [15.51315, 73.7834595], [15.49860278, 73.82691111], [15.496162, 73.825364], [15.49395, 73.827423], [0.0, 0.0], [0.0, 0.0], [28.4248315, 77.0393103], [28.4249125, 77.0392204], [28.5030769, 77.0971178], [28.5026128, 77.0971853], [28.5114162, 77.0420091], [28.5114567, 77.0419641], [28.5115059, 77.0420091], [28.5114067, 77.0418253], [28.44070881, 77.08785083], [28.4423933, 77.0855313], [28.4418793, 77.0757671], [28.4347278, 77.0787681], [28.4308575, 77.0898569], [28.432548, 77.0780576], [28.440599, 77.078405], [28.4319102, 77.0735119], [28.436274, 77.0738947], [28.4346864, 77.0787448], [0.0, 0.0], [28.4406523, 77.081492], [28.4353217, 77.0762723], [28.4370922, 77.0728193], [28.4371161, 77.0728605], [28.4394519, 77.0754948], [28.430634, 77.0837565], [0.0, 0.0], [28.4419493, 77.0756612], [28.4580879, 77.0347151], [28.4582412, 77.0349627], [28.4807592, 77.0857204], [28.4434069, 77.1006623], [28.4428671, 77.1010066], [28.4430378, 77.1009167], [28.4431102, 77.1007369], [28.4426964, 77.1010965], [28.4430378, 77.1009167], [28.4429395, 77.1008268], [28.442717, 77.1009883], [28.443403, 77.1005772], [28.4431891, 77.1007871], [28.4619878, 77.0676442], [28.468336, 77.0376911], [28.4684343, 77.037781], [28.5092246, 77.0918351], [28.3349418, 77.0684986], [28.460925, 77.080367], [28.460925, 77.080367], [28.46836827, 77.0835375], [28.4683741, 77.0832475], [28.4683973, 77.0830226], [28.46844136, 77.08390966], [28.4681716, 77.0834723], [28.4682267, 77.0831126], [28.4681975, 77.0837421], [28.468314, 77.083048], [28.4684326, 77.0600891], [28.4684152, 77.0599093], [28.4937229, 77.0928243], [28.4947571, 77.0882416], [28.4946295, 77.0887329], [28.4950691, 77.0886429], [28.4950762, 77.0885987], [28.4955391, 77.0889781], [28.494832, 77.088508], [28.4952975, 77.0886879], [28.4952251, 77.0888677], [28.4953148, 77.0888677], [28.495763, 77.0888677], [28.4951674, 77.0887329], [28.4947742, 77.0883732], [28.4951096, 77.088598], [28.4952079, 77.0886879], [28.4951096, 77.088598], [28.4952079, 77.0886879], [28.4945922, 77.0878786], [28.4950691, 77.0886429], [28.4953121, 77.0883732], [28.4952079, 77.0886879], [28.4953871, 77.0886879], [28.4950054, 77.0889127], [28.4956457, 77.0891982], [28.4948147, 77.0883282], [28.4942639, 77.0883113], [28.4949476, 77.0887778], [28.4947597, 77.0886879], [28.4949162, 77.0875189], [28.4962285, 77.0890476], [28.4952079, 77.0886879], [28.4939356, 77.088508], [28.49427139, 77.08856095], [28.4953871, 77.0886879], [28.4952079, 77.0886879], [28.4949217, 77.088508], [28.494089, 77.0882383], [28.4951096, 77.088598], [28.4954941, 77.0888677], [28.4944224, 77.0880651], [28.494832, 77.088508], [28.4940704, 77.0884689], [28.4877882, 77.0933407], [28.4897992, 77.0921049], [28.4942482, 77.0875639], [28.4945253, 77.0890476], [28.4940166, 77.0884181], [28.4671541, 77.0822133], [28.4672902, 77.0817637], [28.4676142, 77.0814039], [28.4672524, 77.0823032], [28.4670558, 77.0821234], [28.4673798, 77.0817637], [28.4674317, 77.0823032], [28.4674661, 77.0818119], [28.467504, 77.0821234], [28.4671309, 77.0824381], [28.4670676, 77.081314], [28.4675073, 77.0812241], [28.4671282, 77.0819435], [28.4671487, 77.0812241], [28.4674868, 77.0819435], [28.4674317, 77.0823032], [28.4675073, 77.0812241], [28.47582155, 77.09313545], [28.47548941, 77.09359512], [28.47577587, 77.09308315], [28.47573225, 77.09323503], [28.47586163, 77.09302582], [28.47574493, 77.09312875], [28.47626303, 77.09333964], [28.47581065, 77.09336612], [28.4759094, 77.093094], [28.47568922, 77.09308684], [28.4756627, 77.09311534], [28.4761926, 77.09335439], [28.47567184, 77.09319044], [28.4757632, 77.0930171], [28.47650794, 77.09351432], [28.4778552, 77.1002873], [28.4693415, 77.0993882], [28.4726847, 77.0935886], [28.4660588, 77.0997478], [28.4733215, 77.0922847], [28.4733301, 77.0923747], [28.46121389, 77.07935278], [28.4661053, 77.0992983], [28.471636, 77.0984902], [28.4693415, 77.0993882], [28.481301, 77.092856], [28.48187686, 77.0948286], [28.4657898, 77.0997478], [28.4679828, 77.0983092], [28.477689, 77.074163], [28.4803156, 77.0923421], [28.4778418, 77.1003687], [28.4733215, 77.0922847], [28.4780345, 77.1002873], [28.4660588, 77.0997478], [28.4778552, 77.1002873], [28.4694359, 77.0957016], [28.4778638, 77.1003772], [28.47773187, 77.10031841], [28.47580623, 77.09313076], [28.47, 77.1], [28.4661923, 77.0988037], [28.4827659, 77.0860801], [28.4828445, 77.0860056], [0.0, 0.0], [28.48211622, 77.08986362], [0.0, 0.0], [0.0, 0.0], [28.4840963, 77.0826144], [28.490311, 77.0843715], [28.4823177, 77.0860801], [28.4904966, 77.082573], [28.4899921, 77.0942076], [28.486136, 77.1034343], [28.4912907, 77.0936335], [28.4934335, 77.0935436], [28.4948958, 77.0957016], [28.48826511, 77.09530905], [28.49457813, 77.09327124], [28.49034965, 77.09158514], [28.4947415, 77.0998522], [28.4874747, 77.1038389], [28.4874309, 77.1047829], [28.4902409, 77.0939033], [28.487654, 77.1038389], [28.4923373, 77.094263], [28.48750366, 77.10263249], [28.4931181, 77.0939932], [28.4911611, 77.0922847], [28.4906544, 77.0930322], [28.4897671, 77.0951644], [28.4938093, 77.0937234], [0.0, 0.0], [28.4935145, 77.0934537], [28.49147, 77.0936335], [28.4917895, 77.093679], [28.4933028, 77.0949823], [28.4911838, 77.0934537], [28.49332817, 77.09503077], [28.4907443, 77.092692], [28.4949836, 77.0952332], [28.4899703, 77.0947642], [28.4846488, 77.0962564], [28.4872602, 77.1048728], [28.487522, 77.1046906], [28.4934594, 77.0938134], [28.4921002, 77.0941281], [28.4899428, 77.0945327], [28.4911924, 77.0935436], [28.4931646, 77.0935436], [28.4928519, 77.0944877], [28.4942093, 77.0994974], [28.4936446, 77.0934087], [28.4932941, 77.0948924], [28.4930484, 77.0946676], [28.4934335, 77.0935436], [28.4900962, 77.094263], [28.4931115, 77.0940363], [28.49330872, 77.093805], [28.4872636, 77.1039737], [28.49025712, 77.09623341], [28.4923373, 77.094263], [28.4902409, 77.0939033], [28.4896545, 77.0924646], [28.4878161, 77.103659], [28.4922725, 77.0943525], [28.490666, 77.094627], [28.4934335, 77.0935436], [28.4937283, 77.0938134], [28.49088743, 77.09333796], [28.4879232, 77.1036643], [28.4957118, 77.1021761], [28.492698, 77.094031], [28.492384, 77.0943256], [28.4923373, 77.094263], [28.4924355, 77.0943529], [28.4914786, 77.0937234], [28.489834, 77.09321138], [28.4871499, 77.1049154], [28.4904461, 77.094173], [28.49488428, 77.08978873], [28.4681035, 77.087429], [28.4739245, 77.0715115], [28.4700182, 77.0858383], [28.4666333, 77.0813069], [28.4614757, 77.0888382], [28.46970311, 77.08591864], [28.4626173, 77.0872491], [28.4700505, 77.0857654], [28.46978122, 77.08598737], [28.461408, 77.0881933], [28.4614598, 77.0887329], [28.4616192, 77.0880584], [28.4617002, 77.0879685], [28.4834181, 77.0966008], [28.46624793, 77.08301514], [28.4622589, 77.0875226], [28.4616072, 77.0888677], [28.4699579, 77.0859584], [28.46157, 77.0880135], [28.46147, 77.088706], [28.4623501, 77.087295], [28.4486392, 77.0957635], [28.4495295, 77.0978116], [28.4477214, 77.0951664], [28.4486422, 77.0957435], [28.447904, 77.0992983], [28.4481471, 77.0990285], [28.4476522, 77.0994781], [28.4480747, 77.0992084], [28.4478212, 77.09939003], [28.4480264, 77.0992156], [28.4479922, 77.0990488], [28.4476522, 77.0994781], [28.4482945, 77.0991634], [28.448066, 77.0991184], [28.448173, 77.0992983], [28.4481557, 77.0991184], [28.4472358, 77.0993432], [28.4477333, 77.0993882], [28.4476522, 77.0994781], [28.4616176, 77.0526236], [28.4616552, 77.0525451], [28.4221468, 77.104693], [28.4221468, 77.104693], [28.4788581, 77.0808644], [28.4792485, 77.0807295], [28.4788089, 77.0808194], [28.479127, 77.0808644], [28.4788581, 77.0808644], [28.4787511, 77.0806845], [28.47907544, 77.08076142], [28.4757509, 77.0931234], [28.47571545, 77.09314417], [28.47579915, 77.09307712], [28.476268, 77.093094], [28.47565209, 77.09335204], [28.4164952, 77.0411995], [28.4164952, 77.0411995], [28.4818475, 77.1031649], [28.460459, 77.0950645], [28.4603029, 77.0948924], [28.460271, 77.0950273], [28.460546, 77.0946226], [28.4604087, 77.0946989], [28.4603115, 77.0949823], [28.4604444, 77.0954319], [28.4543812, 77.0971853], [28.43230959, 77.08932303], [28.4494782, 77.0979495], [28.4499246, 77.0986339], [28.4667953, 77.0941432], [28.4372372, 77.1042874], [28.4369224, 77.0975132], [28.4324764, 77.1047562], [28.4370522, 77.0974101], [28.441123, 77.102108], [28.4400925, 77.1019957], [28.4393747, 77.1039229], [28.434018, 77.1042012], [28.4396385, 77.1032552], [28.43823059, 77.09865443], [28.4411247, 77.1025313], [28.4372138, 77.1004268], [28.441297, 77.10256], [28.4461485, 77.0987588], [28.4549192, 77.0971853], [28.4451163, 77.1015446], [28.4218116, 77.105038], [28.4545373, 77.0974101], [28.4663219, 77.0940831], [28.4247729, 77.109638], [28.43849033, 77.10288294], [28.4604777, 77.0956926], [28.4211432, 77.0904863], [28.4210196, 77.0906308], [28.4208742, 77.0904863], [28.4576098, 77.033939], [28.4576265, 77.0338804], [28.4655997, 77.0386607], [28.4655681, 77.038546], [28.4553886, 77.0382289], [28.4553962, 77.0382176], [28.459424, 77.0726806], [28.4594327, 77.0727706], [28.45938349, 77.07272552], [28.4594327, 77.0727706], [28.4593835, 77.0727256], [28.4588688, 77.0725008], [28.459424, 77.0726806], [28.5008981, 77.065948], [28.5008454, 77.0659784], [28.4470228, 77.0993934], [28.419985, 77.038187], [28.4797315, 77.088553], [28.4797893, 77.0886879], [28.4725545, 77.0536264], [28.4679413, 77.0679481], [28.4684937, 77.0683484], [28.4805868, 77.1081995], [28.481264, 77.1087266], [28.4812481, 77.1087258], [28.4705263, 77.0395172], [28.4705061, 77.0395353], [28.4704989, 77.0396702], [28.4676295, 77.0648668], [28.4734916, 77.0809099], [28.4805404, 77.1023726], [28.4766191, 77.0827529], [28.4771042, 77.085001], [28.4797836, 77.0802349], [28.476072, 77.0761927], [28.47773187, 77.10031841], [28.4761607, 77.0828835], [28.479691, 77.088598], [28.4776351, 77.0731066], [28.4760986, 77.0829327], [28.4757777, 77.0823932], [28.4787425, 77.0805946], [28.4805094, 77.0803248], [28.4796672, 77.0902166], [28.4800544, 77.1020369], [28.4775699, 77.0811126], [28.4806694, 77.1026087], [28.4800592, 77.0820362], [28.4806041, 77.1020768], [28.4821819, 77.0963632], [28.4757372, 77.0824381], [28.477294, 77.0692631], [28.4726847, 77.0935886], [28.4798584, 77.0894073], [28.4798411, 77.0892274], [28.4798031, 77.0892792], [28.4799415, 77.0893563], [28.4785568, 77.0823932], [28.4784876, 77.0816737], [28.479447, 77.0818967], [28.4792539, 77.0817187], [28.478398, 77.0816737], [28.4791426, 77.0818667], [28.4803301, 77.0803248], [28.4802521, 77.0802124], [28.4809987, 77.0800708], [28.481108, 77.0802574], [28.4806523, 77.0802215], [28.4803729, 77.0800417], [28.4808348, 77.0802124], [28.4803301, 77.0803248], [28.4804762, 77.0802124], [28.4803207, 77.0801851], [28.48028198, 77.08040039], [28.4807697, 77.0802349], [28.4807292, 77.0802798], [28.4807697, 77.0802349], [28.4805322, 77.0801711], [28.4808594, 77.0802349], [28.4805204, 77.0801226], [28.4810064, 77.0801187], [28.4802478, 77.0801674], [28.4808767, 77.0803727], [28.4803174, 77.080144], [28.4811283, 77.0802349], [28.4803866, 77.0802124], [28.4805091, 77.0801793], [28.4166832, 77.0412894], [28.4167026, 77.0413756], [28.4669375, 77.0204947], [28.4841816, 77.0129534], [28.4569872, 77.026849], [28.4667157, 77.0206596], [28.4667607, 77.0203953], [28.4668549, 77.0204174], [28.4709408, 77.0189174], [28.4653555, 77.0196893], [28.4603933, 77.0178663], [28.4580309, 77.0274904], [28.4645876, 77.022202], [28.473084, 77.0181934], [28.4730183, 77.0182331], [28.4823394, 77.0136942], [28.4810609, 77.0141435], [28.4678506, 77.0166864], [28.4674068, 77.0175175], [28.4713437, 77.0193016], [28.4670202, 77.0136441], [28.4712555, 77.0189082], [28.4667702, 77.0204469], [28.4639996, 77.0221359], [28.4721483, 77.0186408], [28.470213, 77.0193636], [28.4603566, 77.0179074], [28.4626082, 77.023212], [28.4597556, 77.0259078], [28.4598188, 77.0259899], [28.4570545, 77.0200512], [28.4669487, 77.0191832], [28.4609586, 77.0247842], [28.470938, 77.0187625], [28.467287, 77.0175382], [28.4667732, 77.0203817], [28.4655014, 77.0168909], [28.4652054, 77.0157175], [28.460487, 77.0179026], [0.0, 0.0], [28.4579956, 77.0277668], [28.4688983, 77.0212272], [28.4681772, 77.0161752], [28.4109555, 77.0432685], [28.4106951, 77.0433584], [28.4113952, 77.0431785], [28.4105331, 77.0435383], [28.45112282, 77.09791951], [28.4511301, 77.0974101], [28.4511301, 77.0974101], [28.4508352, 77.0971403], [28.4514834, 77.0968183], [28.4511473, 77.0975899], [28.4506618, 77.0972691], [28.45109776, 77.09822863], [28.5125527, 77.0378999], [28.5145359, 77.0352809], [28.4939088, 77.0203837], [28.496845, 77.0210472], [28.502947, 77.030404], [28.5037904, 77.0362376], [28.5118498, 77.0409296], [28.5216917, 77.0436219], [0.0, 0.0], [28.5150103, 77.0347314], [28.4865257, 77.0199219], [28.5176801, 77.0373642], [28.5029296, 77.0302241], [28.5034359, 77.0336712], [28.5125468, 77.037902], [28.5119564, 77.0394717], [28.5033789, 77.0319416], [28.5089193, 77.0308638], [28.5145201, 77.0351721], [28.4857718, 77.0196076], [28.4859312, 77.0198157], [28.4859483, 77.0197677], [28.4921812, 77.0093235], [28.5144976, 77.024736], [28.497571, 77.0225318], [0.0, 0.0], [28.49841367, 77.02189766], [28.5142695, 77.025184], [28.4959225, 77.02152], [0.0, 0.0], [28.5118122, 77.0252309], [28.5091367, 77.0313937], [0.0, 0.0], [28.512055, 77.0411995], [28.5125685, 77.0378566], [28.52068371, 77.04251687], [0.0, 0.0], [28.5019693, 77.0283498], [28.4936502, 77.01025], [28.4877231, 77.0196062], [28.4946737, 77.0203724], [28.51231235, 77.0386974], [28.5033611, 77.0358272], [28.4860462, 77.0194842], [28.4875817, 77.0197876], [28.5120868, 77.0410645], [28.50913665, 77.03139368], [28.4890966, 77.0196976], [28.4968821, 77.0219634], [28.4590795, 77.0318264], [28.4592611, 77.0756484], [28.4592519, 77.0757697], [28.4592449, 77.0757094], [28.4592314, 77.075722], [28.4777065, 77.0730853], [28.4722814, 77.1019957], [28.4715146, 77.1022778], [28.4718072, 77.1017259], [28.4720297, 77.1021755], [28.4718823, 77.1020406], [28.4725209, 77.1018865], [28.4719659, 77.1024452], [28.472128, 77.1022654], [28.47211841, 77.10254565], [28.4720383, 77.1022654], [28.4715582, 77.1024003], [28.4715383, 77.1017259], [28.4713676, 77.1018159], [28.4237354, 77.0392029], [28.4234228, 77.0395802], [28.4234142, 77.0394902], [28.4497396, 77.0706524], [28.4596657, 77.0268394], [28.4623451, 77.0313172], [28.4797958, 77.0868894], [28.4797207, 77.0865747], [28.4636195, 77.0324732], [28.4637496, 77.0324282], [28.4675057, 77.0338596], [28.4755199, 77.0404135], [28.4706936, 77.0441684], [28.476036, 77.0348123], [0.0, 0.0], [28.4735491, 77.0483361], [28.4745207, 77.0476105], [28.4775051, 77.046327], [28.4703517, 77.0204025], [28.4741041, 77.0424008], [28.4740266, 77.0474607], [28.474015, 77.0475174], [0.0, 0.0], [28.48038451, 77.04808339], [28.4739949, 77.0424589], [0.0, 0.0], [28.4730599, 77.048056], [28.4694139, 77.0445066], [28.4822008, 77.0494753], [28.4754869, 77.0439881], [28.4736495, 77.0481041], [28.4740886, 77.047405], [28.476629, 77.0456073], [28.4740911, 77.0473507], [28.4740845, 77.0424589], [28.4665409, 77.0351491], [0.0, 0.0], [28.4728921, 77.0482744], [28.4736075, 77.0484406], [28.4703532, 77.020392], [28.4750589, 77.0432685], [28.4702133, 77.0394496], [28.4699753, 77.0453042], [28.4749637, 77.0474907], [28.4768261, 77.0349543], [28.4751486, 77.0432685], [28.4751457, 77.044168], [28.4758641, 77.0363305], [28.4764122, 77.0445955], [28.4758171, 77.0347763], [28.46715278, 77.037225], [28.4783985, 77.0462096], [28.4743176, 77.0475378], [28.4662742, 77.0404798], [28.4771621, 77.0351435], [28.4786503, 77.0349588], [28.4823461, 77.0495364], [28.4756545, 77.0384802], [28.4762474, 77.0444379], [28.464266, 77.0335214], [28.4738648, 77.0476588], [28.4758573, 77.0376289], [28.4785399, 77.0338227], [28.4579792, 77.0371148], [28.4583117, 77.0435543], [28.4568511, 77.033231], [28.4588673, 77.0344852], [28.4555436, 77.0380952], [28.4555152, 77.0381307], [28.460253, 77.041878], [28.4577727, 77.0367474], [28.4544096, 77.0390954], [28.4584547, 77.0435095], [0.0, 0.0], [28.4950876, 77.0609808], [0.0, 0.0], [28.4978576, 77.0633149], [28.4906203, 77.0671006], [28.4890258, 77.056052], [28.4777059, 77.0580477], [0.0, 0.0], [0.0, 0.0], [28.4780353, 77.0610203], [28.4879806, 77.057516], [28.4776466, 77.0608014], [28.4978501, 77.0633585], [28.4772163, 77.0670595], [28.4756552, 77.0616195], [28.4779663, 77.0607991], [0.0, 0.0], [28.4753834, 77.0603242], [28.488876, 77.0558517], [28.4752695, 77.0598733], [28.4783366, 77.0605389], [28.4755709, 77.0610258], [28.5097704, 77.0714215], [28.5094378, 77.0716913], [28.5095911, 77.0714215], [28.510128, 77.0693827], [28.5100652, 77.0716913], [0.0, 0.0], [28.5096025, 77.0712645], [28.5029596, 77.0644469], [0.0, 0.0], [28.5029001, 77.0622916], [0.0, 0.0], [28.5101456, 77.0738509], [28.5035524, 77.0689476], [28.5050072, 77.0696558], [0.0, 0.0], [28.5035991, 77.0691386], [28.5041335, 77.0541384], [28.5041041, 77.0535606], [28.5029179, 77.0646633], [28.5041074, 77.0538414], [28.5041784, 77.0540643], [28.504122, 77.0541569], [28.5046578, 77.051885], [28.500642, 77.0537818], [28.5042056, 77.054079], [28.5048386, 77.0516126], [28.5042347, 77.0540696], [28.5041169, 77.0545497], [28.4664277, 77.0644064], [28.4686372, 77.0623603], [28.4680413, 77.0644064], [28.4681718, 77.0629673], [28.4686577, 77.0624277], [28.4679257, 77.0641366], [28.4682268, 77.0626075], [28.4691662, 77.0633573], [28.4681891, 77.0631472], [28.468337, 77.063143], [28.4686806, 77.0635969], [28.4682354, 77.0626975], [28.4682247, 77.0632194], [28.4685801, 77.0678878], [28.4683943, 77.063417], [28.4673849, 77.0638106], [28.4673792, 77.0640466], [28.4682874, 77.0632371], [28.4679517, 77.0644064], [28.4691956, 77.0624277], [28.472016, 77.0712417], [28.4695542, 77.0633627], [28.468377, 77.0632371], [28.4696871, 77.0628774], [28.467777, 77.0641949], [28.4691552, 77.0624025], [28.4679344, 77.0642265], [28.4681254, 77.063417], [28.4679344, 77.0642265], [28.4683279, 77.0631922], [28.471349, 77.0671046], [28.4685726, 77.0625436], [28.4723195, 77.0716014], [28.4676568, 77.0641366], [28.4679344, 77.0642265], [28.4640533, 77.064243], [28.4621449, 77.0715571], [28.4681949, 77.0627425], [28.4598737, 77.0553395], [28.4606832, 77.0521813], [28.4489745, 77.0568391], [28.4534927, 77.0510698], [28.4529876, 77.0509079], [28.4532365, 77.0504568], [28.453487, 77.0511154], [28.4457809, 77.0446703], [28.4645465, 77.0549336], [28.4515538, 77.0514542], [28.4491214, 77.057398], [28.4529016, 77.0505547], [28.4534826, 77.0510504], [28.4538134, 77.0512923], [28.4549152, 77.0558828], [28.4527412, 77.0506317], [28.45232201, 77.04479218], [28.4540489, 77.051332], [0.0, 0.0], [28.4535417, 77.0509743], [28.4490081, 77.0569404], [28.4534895, 77.050958], [28.4530419, 77.0510225], [28.4344744, 77.0587634], [28.4529609, 77.0509348], [28.4457489, 77.0448616], [28.4530361, 77.0502902], [28.455681, 77.055519], [28.4528201, 77.050482], [28.453446, 77.0511135], [28.4530322, 77.0507229], [28.4492369, 77.0572815], [28.4493778, 77.0566033], [28.4537774, 77.051106], [28.444784, 77.059453], [28.4497559, 77.0571362], [28.4528047, 77.0505305], [28.4444788, 77.03975882], [28.45321428, 77.04963807], [28.4393846, 77.0463325], [28.4392847, 77.0452895], [28.4495255, 77.0573908], [28.46721998, 77.01766379], [28.4457028, 77.044871], [28.4394628, 77.0450676], [0.0, 0.0], [28.43954754, 77.04079684], [0.0, 0.0], [28.4395668, 77.046147], [0.0, 0.0], [28.4455421, 77.0448877], [28.4433453, 77.0555919], [28.4415695, 77.0557718], [28.43958321, 77.04298183], [28.4394492, 77.0449407], [28.43970173, 77.04290237], [28.4440456, 77.0575645], [28.4507062, 77.0906106], [28.4419061, 77.0859299], [28.4514497, 77.0959808], [28.4351572, 77.0593066], [28.4350181, 77.0595047], [28.4340212, 77.0598728], [28.4341404, 77.0599779], [28.4345074, 77.0598166], [28.4351263, 77.0592634], [28.4349266, 77.0589267], [28.4345889, 77.0587691], [28.4347324, 77.0586849], [28.4349952, 77.0591044], [28.4342048, 77.0593696], [28.4447042, 77.0593546], [28.4352128, 77.0593757], [28.4471752, 77.0724033], [0.0, 0.0], [28.4418059, 77.0717172], [28.4344647, 77.0597723], [0.0, 0.0], [28.4472195, 77.0732567], [28.4446522, 77.0594005], [28.4346562, 77.0591711], [28.4446824, 77.059536], [28.4513687, 77.0679502], [28.4346657, 77.0595633], [28.4444633, 77.059245], [28.4439045, 77.0598983], [28.4471412, 77.0740245], [28.4479605, 77.0735754], [0.0, 0.0], [28.447879, 77.0735393], [28.4448577, 77.0596229], [28.4802841, 77.0205232], [28.4477683, 77.0710139], [28.434682, 77.0689933], [28.4317225, 77.0887235], [28.4454847, 77.1011865], [28.4372591, 77.1042435], [0.0, 0.0], [28.424109, 77.110596], [0.0, 0.0], [28.4251591, 77.0991634], [28.420766, 77.093894], [28.42517935, 77.09959824], [28.4213907, 77.1019507], [28.4211708, 77.1018657], [28.4362232, 77.1362757], [0.0, 0.0], [28.4255681, 77.1000368], [28.4273124, 77.0982526], [28.4250375, 77.0992983], [28.421414, 77.1017259], [28.434589, 77.1349572], [28.42516814, 77.09929749], [28.42894133, 77.09992748], [28.4252326, 77.0992973], [28.4283926, 77.1001525], [28.4285248, 77.1000683], [28.4180994, 77.0961512], [28.4250399, 77.0993188], [28.4253531, 77.0994718], [28.42846486, 77.10009377], [0.0, 0.0], [28.413665, 77.112886], [28.4286826, 77.1000307], [28.4252571, 77.099865], [28.4250375, 77.0992983], [28.43675, 77.1340452], [28.4316128, 77.0893173], [0.0, 0.0], [28.4345776, 77.134902], [28.4287959, 77.100181], [28.4271903, 77.1096659], [28.4254221, 77.099568], [0.0, 0.0], [0.0, 0.0], [0.0, 0.0], [28.42471111, 77.09921435], [28.42890893, 77.10003416], [28.4256359, 77.0999277], [28.429125, 77.1420001], [28.4221468, 77.104693], [28.4319337, 77.1529576], [28.425191, 77.0990285], [28.4298806, 77.1072554], [28.4253496, 77.0997478], [28.436573, 77.1345396], [28.425268, 77.0998491], [0.0, 0.0], [28.430031, 77.0921967], [28.4249219, 77.0990285], [28.4251185, 77.0992084], [28.4297813, 77.080462], [28.4217218, 77.0904414], [28.467311, 77.0176107], [28.4672588, 77.017531], [28.4707962, 77.0190993], [28.4726717, 77.0184147], [28.4651285, 77.0155627], [28.4700416, 77.0143446], [28.4648232, 77.0148921], [28.4681375, 77.0162592], [28.4677392, 77.0170336], [28.4663672, 77.0175244], [28.455974, 77.022728], [28.4525161, 77.0236993], [28.4591855, 77.0213621], [28.4658365, 77.0998689], [28.4656305, 77.0997223], [28.465995, 77.1000176], [28.4658854, 77.0993432], [28.4662158, 77.0987074], [28.4661404, 77.0992642], [28.4810852, 77.0947125], [28.482671, 77.095457], [28.4828791, 77.0954737], [28.4834802, 77.0967623], [28.42447847, 77.03890722], [28.433455, 77.089166], [28.406494, 77.0447688], [28.4057383, 77.0443061], [28.4183524, 77.0383803], [28.4118349, 77.0430886], [28.4064865, 77.0447626], [28.4249125, 77.0392204], [28.4579514, 77.0276151], [28.41240966, 77.04253683], [28.4268302, 77.0381858], [28.4025286, 77.0451575], [28.4118643, 77.042691], [28.4157403, 77.0403449], [28.4209297, 77.0383658], [28.4116153, 77.0417392], [28.411627, 77.0409296], [28.4184165, 77.0382435], [28.4058183, 77.0444681], [28.4117267, 77.0484858], [28.4256547, 77.0322081], [28.4201195, 77.0406597], [28.406214, 77.0452475], [28.266839, 77.067268], [28.4060723, 77.0447078], [28.41385572, 77.04214934], [28.4058584, 77.0443479], [28.434541, 77.058018], [28.4255696, 77.033013], [0.0, 0.0], [28.4069177, 77.0413794], [28.415066, 77.041071], [28.4120391, 77.0489356], [28.4133766, 77.0432685], [28.4120086, 77.042099], [28.4060983, 77.0449776], [28.41864781, 77.03833256], [28.4274393, 77.0365475], [28.4248315, 77.0393103], [28.4116239, 77.0418292], [28.4270829, 77.0371694], [28.41593885, 77.04178983], [28.454258, 77.062693], [28.4584293, 77.0678486], [28.4307097, 77.0832002], [28.4316636, 77.08893042], [28.43185642, 77.08898909], [28.4406267, 77.0810496], [28.4362534, 77.0860608], [28.4346629, 77.078993], [28.4325962, 77.0745897], [28.4307149, 77.0832881], [28.4335066, 77.1053224], [28.4334574, 77.1052774], [28.4625277, 77.0872491], [28.46243126, 77.08729528], [28.4623829, 77.0876088], [28.4622932, 77.0876088], [28.4625024, 77.0868749], [28.4624121, 77.0869794], [28.46246192, 77.08695229], [28.4626811, 77.0869794], [28.4625094, 77.0868501], [28.4624466, 77.087339], [28.4625963, 77.0871567], [28.4626259, 77.087339], [28.4625602, 77.0870678], [28.4625905, 77.0871573], [28.4624928, 77.0874235], [28.4626087, 77.0871592], [28.4623802, 77.0871142], [0.0, 0.0], [28.4659842, 77.0784363], [28.4714149, 77.0756172], [28.4543078, 77.0786436], [28.4507135, 77.0790658], [28.4660738, 77.0784363], [28.452042, 77.081955], [28.4684058, 77.0746189], [28.4600768, 77.0832025], [28.4609895, 77.0787061], [28.4504791, 77.0794255], [28.4602529, 77.0843946], [28.4647809, 77.0789759], [28.4605845, 77.0791557], [28.4710018, 77.0747614], [28.4592935, 77.0847227], [28.4543176, 77.0853157], [28.4609696, 77.0788503], [0.0, 0.0], [28.4499671, 77.0796953], [28.4508593, 77.0791682], [28.4513422, 77.0762779], [28.4503106, 77.0814039], [28.455756, 77.0830226], [28.4601546, 77.0840118], [28.4510321, 77.0815524], [28.4606023, 77.0779417], [28.4708726, 77.0751988], [28.46082, 77.079003], [28.460034, 77.079311], [28.4607475, 77.0793521], [28.461131, 77.0792457], [28.4609172, 77.0788859], [28.4613734, 77.0793669], [28.461131, 77.0792457], [28.460761, 77.0798015], [28.460995, 77.0796953], [28.4610705, 77.0790916], [28.4532726, 77.0811311], [28.461131, 77.0792457], [28.4604862, 77.0790658], [28.4609372, 77.0795604], [28.460829, 77.0792715], [28.4606655, 77.0790658], [28.4604516, 77.0787061], [28.4608794, 77.0794255], [28.4605516, 77.0789039], [28.460726, 77.0796953], [28.4799845, 77.0923077], [28.4799981, 77.09232], [28.4799825, 77.0922972], [28.4782126, 77.0732202], [28.5047491, 77.0529662], [28.4664035, 77.0395696], [28.4661418, 77.0400898], [28.5022869, 77.0867995], [28.4646001, 77.0640466], [28.412019, 77.048261], [28.476779, 77.0704322], [28.4767298, 77.0703873], [28.476779, 77.0704322], [28.2393668, 77.1427506], [28.2393668, 77.1427506], [28.5022869, 77.0867995], [28.5022869, 77.0867995], [28.4512929, 77.0958365], [28.45097366, 77.096912], [28.45104175, 77.09688552], [28.5109714, 77.080139], [28.5026368, 77.0867096], [28.5004986, 77.0753139], [28.5130313, 77.086215], [28.4875966, 77.0652612], [28.4991161, 77.088159], [28.506391, 77.083835], [28.4991724, 77.0879685], [28.5011252, 77.0728605], [28.5009896, 77.0835622], [28.4975584, 77.0867524], [28.5120417, 77.0842434], [28.5140563, 77.0801], [28.5130313, 77.086215], [28.51150832, 77.07576312], [28.501278, 77.0823439], [28.511513, 77.0755585], [28.4905933, 77.0670773], [0.0, 0.0], [28.4969691, 77.0627161], [28.5130313, 77.086215], [28.4905322, 77.0671046], [28.49125312, 77.07991786], [28.4907223, 77.0673441], [28.4899846, 77.067069], [28.4988926, 77.0859902], [28.49064636, 77.07016754], [28.4996537, 77.0836521], [28.4872533, 77.0665649], [28.4978821, 77.0834007], [28.490597, 77.0671777], [28.5128925, 77.08617], [28.4909024, 77.0693753], [28.4999667, 77.081314], [28.509468, 77.085902], [28.4907415, 77.0683497], [28.5114797, 77.0762102], [28.443247, 77.0555019], [28.4429124, 77.0563348], [28.44359498, 77.05503501], [0.0, 0.0], [28.4435939, 77.0563114], [28.5096403, 77.0714665], [28.51055995, 77.07236174], [28.509779, 77.0715115], [28.5095992, 77.0712658], [28.5096403, 77.0714665], [28.509779, 77.0715115], [28.5103687, 77.0720511], [28.5096807, 77.0714215], [28.51028625, 77.07199864], [28.5095226, 77.07128014], [28.509779, 77.0715115], [28.509779, 77.0715115], [28.5096854, 77.0714703], [28.5096403, 77.0714665], [28.510247, 77.0716878], [28.5096894, 77.0715115], [28.50969289, 77.07169354], [28.5096721, 77.0713316], [28.5096807, 77.0714215], [28.50954204, 77.07144342], [28.50954764, 77.07135793], [0.0, 0.0], [28.5096403, 77.0714665], [28.5096576, 77.0716464], [28.5099843, 77.0717813], [28.4562499, 77.0700953], [28.4559543, 77.0701624], [28.5088255, 77.0310152], [28.5085989, 77.0313937], [28.5088043, 77.0316635], [28.508564, 77.0309826], [28.5090845, 77.0308539], [28.5088678, 77.0313937], [28.5088417, 77.0311238], [28.4604845, 77.0842702], [28.4603512, 77.0841917], [28.4598562, 77.0839756], [0.0, 0.0], [28.4606579, 77.0836521], [28.4600476, 77.083832], [28.4602296, 77.0843266], [28.46047, 77.0835622], [28.459871, 77.0843266], [28.4603598, 77.0842816], [28.4606752, 77.083832], [28.4599348, 77.0840568], [28.4597873, 77.0839219], [28.4599872, 77.0832025], [28.4605883, 77.0843266], [28.4607562, 77.0837421], [28.4605726, 77.0832256], [28.4428081, 77.0573475], [26.16149, 91.773932], [26.1614901, 91.77393191], [26.1802428, 91.77524608], [26.18470185, 91.77495472], [0.0, 0.0], [26.15735, 91.77739722], [0.0, 0.0], [0.0, 0.0], [0.0, 0.0], [26.13298761, 91.806493], [26.172119, 91.759857], [26.171, 91.75816667], [26.19166667, 91.75316667], [26.18600148, 91.75231431], [26.19376437, 91.75386279], [26.18571587, 91.75222128], [0.0, 0.0], [26.17266667, 91.783], [26.17221667, 91.78535556], [26.16767011, 91.77896976], [0.0, 0.0], [17.41037066, 78.43722526], [17.41233045, 78.44965395], [17.42281912, 78.44957784], [17.4110278, 78.3296446], [17.43380875, 78.38674374], [17.4558938, 78.3754674], [17.424114, 78.3475536], [17.4382631, 78.3978647], [17.43166813, 78.40832144], [17.42829434, 78.40442251], [17.43044843, 78.41821343], [17.4295847, 78.3926214], [17.43147653, 78.40035025], [17.42622756, 78.40749498], [17.45970973, 78.36885475], [17.440827, 78.393391], [17.45197577, 78.38588309], [17.45085056, 78.37934721], [22.6952067, 75.8660587], [22.65184685, 75.88199135], [22.75185706, 75.86669887], [22.75365871, 75.90336453], [22.7270206, 75.8841666], [22.7281631, 75.884212], [22.722634, 75.8869592], [22.7257475, 75.8984969], [22.7258351, 75.8876482], [22.75003967, 75.90284687], [22.75123407, 75.88949014], [22.7480596, 75.8934001], [22.74504922, 75.89247074], [22.76159306, 75.88636234], [22.7600723, 75.892574], [22.744648, 75.8943769], [22.7612256, 75.8875215], [22.7538385, 75.8974292], [22.745536, 75.8931063], [22.7322253, 75.8747647], [26.90518991, 75.81075322], [26.9141424, 75.8057035], [26.91348344, 75.8031391], [26.9023283, 75.7942573], [26.9052866, 75.7945919], [26.9119271, 75.797282], [26.766536, 75.837333], [26.91026177, 75.78301314], [26.91137752, 75.7890337], [26.9214108, 75.7936039], [26.9029402, 75.7930067], [26.9029076, 75.7929342], [26.84615556, 75.8023], [26.8884204, 75.80068856], [26.89119117, 75.80208298], [26.84959558, 75.80051154], [26.8923125, 75.80689587], [26.91398711, 75.75289118], [26.9137256, 75.7528205], [26.9564308, 75.776649], [26.48367222, 80.32070833], [26.47161686, 80.31356357], [26.46900278, 80.31634444], [26.47152862, 80.31345762], [26.47910833, 80.31504167], [0.0, 0.0], [26.47200132, 80.35400223], [0.0, 0.0], [26.473698, 80.352677], [26.47775, 80.351569], [26.47498638, 80.34279578], [26.49210556, 80.32779722], [26.48154722, 80.299775], [26.463504, 80.372929], [26.48241944, 80.32093889], [26.48258056, 80.31562778], [26.48304167, 80.31783333], [26.47413333, 80.3481], [26.49095, 80.31865556], [26.47, 80.35], [9.979362921, 76.28500095], [10.02804722, 76.31001944], [10.02068333, 76.31063056], [9.966783333, 76.24298056], [9.970716667, 76.28544722], [9.982833886, 76.28326792], [9.985697222, 76.28112778], [9.985496938, 76.27699893], [10.00070594, 76.34951615], [10.03557278, 76.33695804], [10.00688056, 76.34539722], [9.988483333, 76.29521111], [9.991702778, 76.29313611], [10.02701389, 76.30805278], [10.02736389, 76.30825833], [10.00306395, 76.30758885], [9.959777778, 76.29610556], [9.957144444, 76.29678333], [9.960845813, 76.29393613], [9.979186111, 76.31736111], [22.51468755, 88.39329377], [22.51458534, 88.3933102], [22.5264613, 88.3644527], [22.538731, 88.364878], [22.52789315, 88.36862817], [22.5336623, 88.3662166], [22.5471855, 88.3506798], [22.53795995, 88.34984265], [22.51508182, 88.36783022], [22.5389989, 88.3223365], [22.5778208, 88.400581], [22.55108374, 88.35412715], [22.5532273, 88.3532734], [22.55299638, 88.35231029], [22.5526719, 88.352885], [22.53912894, 88.36550709], [22.56935843, 88.43345214], [22.56936679, 88.43318693], [22.5490998, 88.4004673], [22.51411859, 88.36250436], [26.84850556, 80.92743056], [0.0, 0.0], [26.8528099, 81.0011849], [0.0, 0.0], [26.86, 80.99], [26.8551778, 80.9945959], [26.8517588, 81.0232496], [26.86744546, 81.01515904], [26.85338395, 80.99885715], [26.85585347, 81.00087417], [26.85123157, 81.01126765], [0.0, 0.0], [26.8536376, 81.00043965], [0.0, 0.0], [26.85263889, 80.93688889], [26.852, 80.9415], [26.85019167, 80.94088611], [26.852692, 80.973027], [26.853007, 80.973185], [26.855957, 80.945099], [26.834638, 80.947029], [30.87398772, 75.84273856], [0.0, 0.0], [30.88722034, 75.80489259], [30.91405691, 75.83981965], [30.90556176, 75.83284054], [30.89520443, 75.82210299], [0.0, 0.0], [30.89999169, 75.83133817], [30.88581363, 75.78697577], [30.89285962, 75.82219854], [30.89308145, 75.8214948], [30.893244, 75.82181666], [30.89323422, 75.82172044], [30.89297787, 75.82184684], [30.89958432, 75.80934606], [30.895817, 75.813112], [30.89338354, 75.8212021], [30.89018388, 75.82961485], [30.90287228, 75.82680825], [30.88591491, 75.78825854], [0.0, 0.0], [12.87369722, 74.85362222], [12.87367778, 74.85274444], [12.87353056, 74.85158611], [12.87343056, 74.85343056], [12.87334761, 74.85209855], [12.87073611, 74.84665556], [12.87378611, 74.84863333], [0.0, 0.0], [12.87582222, 74.85006667], [12.87221736, 74.84500254], [0.0, 0.0], [0.0, 0.0], [12.89897943, 74.85946446], [0.0, 0.0], [0.0, 0.0], [0.0, 0.0], [0.0, 0.0], [0.0, 0.0], [12.87505833, 74.84048333], [30.6955506, 76.7187888], [19.12663, 72.829976], [19.22131488, 72.86238123], [19.2238399, 72.8413473], [19.254567, 72.848923], [18.92758399, 72.83258457], [19.05583064, 72.83398401], [19.09145752, 72.82780755], [19.06583751, 72.83265799], [18.99404899, 72.82520279], [19.0035172, 72.82764997], [18.99423667, 72.82555282], [19.20722241, 72.97228105], [19.178321, 72.834715], [19.18129965, 72.83619149], [19.17626869, 72.83672087], [19.12008268, 72.90738534], [19.12199866, 72.90849264], [19.1093, 72.825451], [19.1311405, 72.8130738], [19.103249, 72.846749], [12.31107222, 76.65487778], [12.30456944, 76.64362222], [12.299524, 76.64262], [12.3085, 76.66580833], [12.32397778, 76.62796111], [12.32399444, 76.62616667], [12.32546111, 76.63227778], [12.297954, 76.665169], [12.32319444, 76.63058333], [12.32121389, 76.62109444], [12.323225, 76.63002778], [12.28474722, 76.62586111], [12.31097222, 76.65926389], [0.0, 0.0], [12.35205833, 76.60665], [12.31696667, 76.60306667], [12.32635556, 76.61910278], [12.33792778, 76.61788889], [12.33402222, 76.61820278], [12.33797778, 76.61679167], [21.12420256, 79.06428449], [21.12949694, 79.06046167], [0.0, 0.0], [21.12499944, 79.05922417], [21.11882292, 79.04722832], [21.1481626, 79.0679011], [21.15841584, 79.07658678], [21.15619053, 79.07730427], [21.13851031, 79.08047698], [21.13685791, 79.0651371], [21.14083972, 79.06652045], [21.13784829, 79.05853249], [21.15848119, 79.08184659], [21.1232834, 79.03866302], [21.13672376, 79.07851763], [21.159225, 79.079819], [21.143272, 79.080247], [21.14353333, 79.08040556], [21.14014612, 79.08009443], [21.08922374, 79.06482127], [0.0, 0.0], [20.01361026, 73.74210622], [20.01207513, 73.74589243], [20.006756, 73.770914], [20.006756, 73.770914], [19.990707, 73.760948], [0.0, 0.0], [20.01271111, 73.75582778], [20.00551389, 73.76653333], [20.008442, 73.756229], [0.0, 0.0], [20.00669049, 73.75463597], [20.0037341, 73.76504313], [0.0, 0.0], [19.97720852, 73.77734005], [0.0, 0.0], [0.0, 0.0], [19.98975665, 73.74630857], [20.02091783, 73.72076757], [19.991295, 73.776176], [0.0, 0.0], [28.53538174, 77.19692286], [28.53549308, 77.19747473], [28.5375472, 77.1980333], [28.5355234, 77.1969242], [28.5381335, 77.1981225], [28.53744768, 77.19815936], [28.53747419, 77.19795015], [28.53839431, 77.19804244], [28.5386662, 77.1988082], [28.53576259, 77.19696745], [28.53565508, 77.19679244], [28.538438, 77.199152], [28.53789627, 77.19815668], [28.6557549, 77.3006287], [28.6560516, 77.3011977], [28.6564531, 77.3016337], [28.6562624, 77.3016026], [28.554463, 77.087897], [28.55169, 77.120642], [28.554463, 77.087897], [28.554463, 77.087897], [28.6901424, 77.1346226], [28.6900143, 77.1345554], [28.68990208, 77.13477239], [28.7003322, 77.1177269], [28.7006401, 77.1176394], [28.7006935, 77.1172629], [28.7004868, 77.1175742], [28.7004261, 77.1176368], [28.52497428, 77.2542078], [28.5253209, 77.2542551], [28.52813297, 77.25014627], [0.0, 0.0], [28.5255719, 77.2540557], [28.52569245, 77.25411225], [28.52810941, 77.24689879], [28.5256646, 77.2545694], [28.52560319, 77.2532459], [28.525675, 77.249793], [28.5253274, 77.253851], [28.52774267, 77.24780235], [28.5257928, 77.2540306], [28.52553898, 77.25402072], [28.52572397, 77.25401971], [28.52757, 77.25118], [28.533376, 77.2542022], [28.5258419, 77.2540755], [28.523785, 77.252479], [28.53141028, 77.25034475], [28.53267894, 77.25312788], [28.5278902, 77.2468466], [28.53, 77.25], [28.52542, 77.253694], [28.52, 77.25], [28.5299095, 77.25012012], [28.5335614, 77.25394236], [28.525267, 77.2546954], [0.0, 0.0], [28.5254928, 77.2550814], [28.526931, 77.248174], [28.5255985, 77.2543449], [28.541562, 77.1549849], [28.5414797, 77.1549896], [28.5417053, 77.1551985], [28.5411683, 77.155068], [28.54155381, 77.15575699], [28.5414127, 77.15530144], [28.5414475, 77.154938], [28.5410525, 77.1552225], [28.5411702, 77.155099], [28.5409809, 77.1553877], [28.54089671, 77.15541266], [28.5411409, 77.1550949], [28.5555634, 77.2187517], [28.5556355, 77.2194983], [28.6603476, 77.3169197], [28.6594964, 77.3063202], [28.6603647, 77.3168615], [28.6596493, 77.3065547], [28.6595397, 77.3065301], [28.6594042, 77.3068973], [28.6602285, 77.316909], [28.6596084, 77.3066672], [28.6601278, 77.305701], [28.6596561, 77.3064966], [28.6578549, 77.3103233], [28.6594592, 77.3068127], [28.65948, 77.306795], [28.6598026, 77.3061657], [28.6596774, 77.3064705], [28.6595258, 77.3064258], [28.6604475, 77.3169899], [28.6596325, 77.3065439], [28.6595377, 77.306742], [28.6595993, 77.3066776], [28.6601355, 77.3057084], [28.6594782, 77.3065483], [28.6602308, 77.3171967], [28.6598763, 77.317158], [28.6632543, 77.3160226], [28.660001, 77.3128538], [28.6600636, 77.3049468], [28.6595807, 77.3066854], [28.6595978, 77.3064428], [28.6594371, 77.3068152], [28.6594206, 77.3068421], [28.6640178, 77.3181158], [28.6603594, 77.3171146], [28.6636866, 77.3180203], [28.6597573, 77.3061815], [28.6579247, 77.3065417], [28.6600976, 77.3056481], [28.659426, 77.3065199], [28.6622024, 77.3170268], [28.6595326, 77.3062409], [28.6595859, 77.3066115], [28.6519961, 77.3147803], [28.55480667, 77.12181085], [28.5625545, 77.2243586], [28.5625495, 77.2242626], [28.5624498, 77.2245776], [28.562518, 77.2245397], [28.5625562, 77.2239998], [28.563155, 77.224443], [28.56257437, 77.22493695], [28.5622825, 77.2243747], [28.66894461, 77.10154384], [28.640954, 77.238382], [28.64244153, 77.23196391], [28.642415, 77.231881], [28.6933274, 77.1729156], [28.6927118, 77.1731452], [28.692666, 77.1725562], [28.6849156, 77.1664456], [28.6976846, 77.1763302], [28.6931895, 77.1714778], [28.6938333, 77.1727344], [28.6848261, 77.1664456], [28.6942435, 77.1721967], [28.6874254, 77.1730055], [28.6873272, 77.1729156], [28.6929381, 77.1716576], [28.6812819, 77.1767631], [28.6931964, 77.1731558], [28.6873066, 77.1736345], [28.6738532, 77.1855851], [28.6933532, 77.1731852], [28.6925128, 77.1728257], [28.6930613, 77.1734098], [28.6940223, 77.1724219], [28.6870353, 77.1731402], [28.6872769, 77.1736822], [28.6720536, 77.1808229], [28.687879, 77.1685277], [28.6872543, 77.1730688], [28.687261, 77.1728262], [28.6720536, 77.1808229], [28.6942521, 77.1722866], [28.6738127, 77.18563], [28.67, 77.18], [28.694039, 77.172323], [28.6703604, 77.1809128], [28.6802986, 77.1724663], [0.0, 0.0], [28.6873126, 77.1732301], [28.6939921, 77.1723764], [28.6945328, 77.1787198], [28.6929229, 77.1780375], [28.693362, 77.1779476], [28.6951682, 77.1715677], [28.6960643, 77.1795361], [28.693567, 77.1782172], [28.6965128, 77.1795201], [28.6929229, 77.1780375], [28.6961234, 77.1794454], [28.6963822, 77.1702198], [28.6965655, 77.1799506], [28.680204, 77.1855035], [28.6950531, 77.1793165], [28.6961906, 77.1794162], [28.6923511, 77.177678], [28.6919464, 77.1781273], [28.691831, 77.1778577], [28.6924171, 77.1778168], [28.6872232, 77.1835542], [28.6924751, 77.1780375], [28.6849542, 77.1674237], [28.6924851, 77.1780492], [28.6921495, 77.1778832], [28.6924751, 77.1780375], [28.69218909, 77.17785772], [28.6295216, 77.2319679], [28.6297833, 77.231938], [28.62981784, 77.22546157], [28.6291908, 77.2322198], [28.637044, 77.22947], [28.6296552, 77.2321395], [28.6297135, 77.2321162], [28.636706, 77.23034], [28.6296407, 77.2319464], [28.62586289, 77.22564027], [28.6291468, 77.2320661], [28.6302526, 77.2297102], [28.62948089, 77.22556986], [28.6305852, 77.229817], [28.6337562, 77.2243937], [28.6291992, 77.232182], [28.55860308, 77.16410805], [28.55882222, 77.16399444], [28.55759742, 77.16454592], [28.55803178, 77.16416739], [28.55750937, 77.16408022], [28.55735771, 77.16383245], [28.55749052, 77.16335401], [28.55915278, 77.16345278], [28.55731442, 77.16421165], [28.55894144, 77.16395449], [28.55739275, 77.16427334], [28.55720016, 77.16388777], [28.5574864, 77.16365643], [28.55722872, 77.16364905], [28.55756561, 77.16416772], [28.6963277, 77.1799244], [28.6962508, 77.1800463], [28.6963277, 77.1799244], [28.5488265, 77.1271685], [28.5677783, 77.1884602], [28.5692067, 77.1870054], [28.5682092, 77.1882805], [28.56747782, 77.18884371], [28.5680386, 77.1883704], [28.5682072, 77.1872056], [28.567558, 77.1884696], [28.56902165, 77.18894932], [28.56823664, 77.18844105], [28.543091, 77.115196], [28.5841464, 77.1918744], [28.5850979, 77.191515], [28.5842999, 77.1916048], [28.5842508, 77.1915599], [28.5851618, 77.1912454], [28.5834333, 77.1909759], [28.5843608, 77.1914283], [28.6043227, 77.1863937], [28.5843895, 77.1916048], [28.5842508, 77.1915599], [28.5842927, 77.1917436], [28.5843202, 77.191558], [28.5952992, 77.1683666], [28.6024263, 77.1867082], [28.6021467, 77.1860137], [28.5998612, 77.1969056], [28.5843085, 77.1916947], [28.5841379, 77.1917845], [28.5841379, 77.1917845], [28.5867665, 77.1933486], [28.5830663, 77.1908861], [28.5795901, 77.1863937], [28.5842999, 77.1916048], [28.5985428, 77.1971751], [28.5974082, 77.1735895], [28.6055182, 77.1876516], [28.5986962, 77.1980469], [28.5830663, 77.1908861], [28.5841379, 77.1917845], [28.5957906, 77.1974446], [28.6016137, 77.1871125], [28.5928569, 77.178936], [28.6555014, 77.2820446], [28.655449, 77.2822063], [28.6519888, 77.2777758], [28.656024, 77.2816637], [28.6548389, 77.2821725], [28.6536873, 77.2779746], [28.6512423, 77.2822247], [28.6564057, 77.224214], [28.6545089, 77.2278068], [28.663599, 77.2094826], [28.6560115, 77.2304115], [28.6494534, 77.2335101], [28.65688889, 77.22398333], [28.6566711, 77.2244176], [28.6568732, 77.2243841], [28.656851, 77.2243823], [28.6606804, 77.2280206], [28.6578654, 77.2231981], [28.6563302, 77.2271781], [28.658756, 77.2234955], [28.6581203, 77.2234057], [28.65606667, 77.23421395], [28.65664, 77.22333167], [28.6561992, 77.2305013], [28.66, 77.23], [28.6565647, 77.2268188], [28.6560495, 77.2307138], [28.6561097, 77.2305013], [28.6625615, 77.2155012], [28.6562981, 77.2324772], [28.6491441, 77.233555], [28.6559026, 77.2306151], [28.656524, 77.2320281], [28.6476635, 77.2269535], [28.6577424, 77.222732], [28.6573856, 77.2316689], [28.657748, 77.223481], [28.6567032, 77.2320281], [28.6561268, 77.2306809], [28.6562478, 77.2328586], [28.6566379, 77.2233607], [28.6551819, 77.2254715], [28.6567084, 77.2234007], [28.6563295, 77.2323664], [28.6561525, 77.2309504], [28.6572505, 77.2230342], [28.6563106, 77.2316689], [28.6562249, 77.2307707], [28.6556971, 77.229983], [28.6562039, 77.2314893], [28.6551982, 77.2215109], [28.6561992, 77.2305013], [28.6561321, 77.233555], [28.6561011, 77.2304115], [28.6560207, 77.2304674], [28.6568622, 77.2243039], [28.6566115, 77.2320562], [28.6566371, 77.2266392], [28.6562432, 77.2315132], [0.0, 0.0], [28.6574304, 77.2319961], [28.6572972, 77.2319612], [28.6570185, 77.2352925], [28.657811, 77.2234506], [28.6526767, 77.233113], [28.6565888, 77.2233158], [28.65045, 77.225538], [28.6573856, 77.2316689], [28.6531118, 77.2338244], [0.0, 0.0], [28.6566622, 77.2235803], [28.6579744, 77.2233575], [28.6556914, 77.2298726], [28.653316, 77.2322078], [28.650566, 77.2310851], [28.6477617, 77.2270433], [28.6501751, 77.2293337], [28.6476059, 77.2268188], [28.649513, 77.2270883], [28.6501776, 77.2293345], [28.6494491, 77.2273577], [28.6504067, 77.2302935], [28.6498667, 77.2261003], [28.6493909, 77.2268745], [28.65051, 77.2295582], [28.6504756, 77.2303113], [28.49562447, 77.16154855], [28.5400835, 77.24861238], [28.5399184, 77.2518548], [28.53972535, 77.25204963], [28.54027996, 77.24894397], [28.5374979, 77.2564223], [28.5401398, 77.2488511], [28.54032355, 77.24887993], [28.5401027, 77.2485628], [28.5363941, 77.2533122], [28.54140536, 77.24785432], [28.5364501, 77.2534878], [28.5401377, 77.24898689], [28.5364925, 77.2534614], [28.54001105, 77.24858187], [0.0, 0.0], [28.5414227, 77.2481801], [28.5404268, 77.2487302], [28.53629071, 77.2533324], [28.53638025, 77.25324858], [0.0, 0.0], [28.5364506, 77.2532497], [0.0, 0.0], [28.540204, 77.248798], [28.5363915, 77.2534364], [28.5426944, 77.2417726], [28.5399215, 77.248847], [28.53622797, 77.25338604], [28.5408504, 77.2431467], [28.5371718, 77.248454], [28.53622856, 77.25329351], [28.53681321, 77.2530626], [28.5362306, 77.2532976], [28.5403982, 77.2487359], [28.5403609, 77.2488222], [28.54047929, 77.24996019], [28.54036184, 77.24868078], [28.5371328, 77.2485055], [28.5393728, 77.2530302], [28.5366561, 77.2533385], [28.5426944, 77.2417726], [0.0, 0.0], [28.5359835, 77.25298069], [28.5371718, 77.2484567], [0.0, 0.0], [28.53634285, 77.25327071], [28.53692899, 77.2529294], [28.7168739, 77.1142232], [28.6501775, 77.1232509], [28.6502181, 77.123654], [28.650366, 77.1233229], [28.671114, 77.220848], [28.6764039, 77.2253817], [28.6766555, 77.2252021], [28.7027947, 77.222238], [28.6976361, 77.2203223], [28.6762903, 77.2252161], [28.6722125, 77.2241691], [28.7028124, 77.2222477], [28.7008282, 77.2213398], [28.6919529, 77.2212499], [28.6726275, 77.2224176], [28.6917878, 77.2211471], [28.6765107, 77.2255613], [28.6975181, 77.2204415], [28.6767537, 77.2252919], [28.56171513, 77.26811942], [28.5620725, 77.2683524], [28.56150782, 77.26825587], [28.56159321, 77.268392], [28.562628, 77.2690337], [28.5624519, 77.26926506], [28.56128843, 77.26820022], [28.56136028, 77.26839837], [28.562384, 77.2688013], [28.5614129, 77.2684871], [28.56181849, 77.26784986], [28.56132406, 77.2685365], [28.562686, 77.269169], [28.560994, 77.268562], [28.56217362, 77.26831857], [28.56231173, 77.26906691], [28.56253759, 77.26893816], [28.56203051, 77.26817206], [28.6301966, 77.2208907], [28.63004355, 77.22035229], [28.6329609, 77.2198128], [28.6348572, 77.2194984], [28.62925605, 77.2321919], [28.6305968, 77.2298312], [28.6317119, 77.2226871], [28.6352499, 77.2198577], [28.6305402, 77.2160401], [28.6323836, 77.2165791], [28.6328378, 77.2213398], [28.6356827, 77.220409], [28.6340485, 77.2190044], [28.6332756, 77.2226422], [28.6343484, 77.2221482], [28.63259937, 77.22217988], [28.6290232, 77.2208008], [28.6324521, 77.2172977], [28.62986493, 77.22061079], [28.6327396, 77.2212499], [28.63432028, 77.21751753], [28.63372555, 77.21993454], [28.6332522, 77.2228667], [28.6346126, 77.2211601], [28.6314806, 77.2202619], [28.6344973, 77.2208907], [28.6348977, 77.2194535], [28.63122333, 77.22215876], [28.63146522, 77.22035263], [28.6320384, 77.2228218], [28.6339581, 77.217118], [28.6302469, 77.2206488], [28.6332312, 77.2228959], [28.62801416, 77.22320214], [28.6301662, 77.2196331], [28.6336789, 77.2210029], [28.63033313, 77.22072076], [28.627897, 77.223175], [28.6340072, 77.2223278], [28.6335935, 77.2226871], [28.6318938, 77.216129], [28.6324794, 77.2161749], [28.6350395, 77.2218787], [28.6305246, 77.2196331], [28.63136, 77.217], [28.6340493, 77.2208907], [28.6320976, 77.2163994], [28.6331936, 77.222736], [28.63123951, 77.21645035], [28.63417726, 77.21829101], [28.6319527, 77.2167587], [28.6323132, 77.216411], [28.63000833, 77.22015667], [28.6303042, 77.2208276], [28.6355337, 77.2190709], [28.6307809, 77.2204415], [28.630721, 77.2198128], [28.63089815, 77.21980177], [28.6349788, 77.2193637], [28.6312375, 77.2205314], [28.63430998, 77.22071037], [28.62845265, 77.22263787], [28.6308607, 77.2180107], [28.6322176, 77.2228218], [28.6306314, 77.2198128], [28.620999, 77.21826], [28.6308511, 77.2197679], [28.6308473, 77.2171077], [28.62981696, 77.22053636], [28.6348681, 77.2200822], [28.630354, 77.2197229], [28.6335234, 77.2181959], [28.62612864, 77.21608289], [28.6286716, 77.22247191], [28.63014067, 77.22063158], [28.6311315, 77.222238], [28.629606, 77.221744], [28.6300841, 77.2204748], [28.6301834, 77.2198128], [28.6339511, 77.2208008], [28.6315577, 77.2210703], [28.6303196, 77.2207923], [28.6331626, 77.2228667], [28.6335249, 77.2219685], [28.63104411, 77.21964553], [28.6352172, 77.2181061], [28.63384356, 77.22086292], [28.6336168, 77.221559], [28.6342534, 77.2192738], [28.635299, 77.2199026], [28.636975, 77.23041], [28.637044, 77.22947], [28.6302952, 77.2296803], [28.63302489, 77.22285848], [28.63386651, 77.22212523], [28.6300384, 77.2201721], [28.62996616, 77.22067215], [28.6316714, 77.2161897], [28.6299831, 77.2205314], [28.6324389, 77.2162198], [28.6309539, 77.2208457], [28.6328105, 77.2172977], [28.6323984, 77.2214296], [28.63298369, 77.22193044], [28.6348214, 77.2205314], [28.6326547, 77.222238], [28.6330645, 77.2227769], [28.6304436, 77.2197229], [28.63424877, 77.22090885], [28.6302434, 77.2204415], [28.6352499, 77.2198577], [28.6323578, 77.2163096], [28.6336429, 77.2215438], [28.6321771, 77.2177019], [28.6355397, 77.2191391], [28.6332275, 77.2228913], [28.62997057, 77.22054273], [28.6324708, 77.2212499], [28.63447388, 77.22129744], [28.6336216, 77.2182858], [28.6333676, 77.2183326], [28.6315156, 77.2225074], [28.7181477, 77.1250143], [28.7182809, 77.124976], [28.7186064, 77.125077], [28.7183684, 77.1248938], [28.65784, 77.3027142], [28.6571108, 77.3023283], [28.657631, 77.3022802], [28.6576462, 77.3022817], [28.6567112, 77.3018958], [28.7208561, 77.1104921], [28.7203475, 77.1104047], [28.5902478, 77.2974845], [28.590346, 77.2975743], [28.6927868, 77.1527715], [28.6925129, 77.1527796], [28.6926319, 77.1526057], [28.691936, 77.1518867], [28.6928645, 77.1528346], [28.6442398, 77.2403806], [28.6433222, 77.2321629], [28.6445896, 77.2402908], [28.6409469, 77.2373386], [28.6464711, 77.2402908], [28.6421251, 77.2373206], [28.6415395, 77.2341388], [28.6461798, 77.2442871], [28.6437229, 77.2405333], [28.6442887, 77.2403616], [28.62954592, 77.2424889], [28.6428148, 77.2404704], [28.6437016, 77.240526], [28.63814444, 77.24076111], [28.6411412, 77.2360697], [28.6435145, 77.2402908], [28.6428148, 77.2404704], [28.6482801, 77.2404704], [28.6461938, 77.240201], [28.6450853, 77.2436136], [28.6451749, 77.2436136], [28.6437405, 77.2398417], [28.6450853, 77.2436136], [28.6448122, 77.2420496], [0.0, 0.0], [0.0, 0.0], [28.6482292, 77.2404428], [0.0, 0.0], [28.6444725, 77.2414133], [28.6413413, 77.2357696], [28.6410173, 77.2357105], [28.6439042, 77.24033283], [28.6452519, 77.2444219], [28.6411593, 77.2400213], [28.6449318, 77.243883], [28.6448275, 77.2420857], [28.644762, 77.2419072], [28.6451272, 77.2402908], [28.6413034, 77.2358133], [28.6477718, 77.2400961], [0.0, 0.0], [28.6440556, 77.2402141], [28.6480581, 77.2400213], [28.5419032, 77.2038911], [28.5417882, 77.204111], [28.5730331, 77.2304115], [28.5732507, 77.2298726], [28.5735453, 77.230142], [28.573494, 77.2296031], [0.0, 0.0], [28.57750982, 77.2385256], [28.5780492, 77.2388538], [28.5774602, 77.238315], [28.5740362, 77.2305911], [28.5765207, 77.2318151], [28.57825443, 77.23840289], [28.5661594, 77.233061], [28.5780151, 77.2384946], [28.5728373, 77.234004], [28.573371, 77.230527], [28.5734984, 77.2305911], [28.5744159, 77.2298726], [28.5773705, 77.238315], [28.5701766, 77.2239446], [28.5731313, 77.2305013], [28.57345367, 77.23718248], [28.574147, 77.2298726], [28.5748508, 77.2269086], [28.576813, 77.238347], [28.5735538, 77.2302318], [28.5731228, 77.2304115], [28.57772917, 77.23895844], [28.578638, 77.2387472], [28.5783096, 77.238764], [28.5777696, 77.2382701], [28.5785699, 77.2386742], [28.572495, 77.23684], [28.5739678, 77.2298726], [28.5780065, 77.2384048], [28.5735915, 77.2283618], [28.5727962, 77.2302768], [28.5731228, 77.2304115], [28.5735538, 77.2302318], [28.5738398, 77.2304115], [28.5776478, 77.2381221], [28.574066, 77.2299624], [28.5737416, 77.2303217], [28.5783289, 77.2385416], [28.5735538, 77.2302318], [28.5782285, 77.2388538], [28.5778529, 77.2386742], [28.5729435, 77.2304115], [28.5731228, 77.2304115], [28.5783992, 77.238764], [28.5736434, 77.2302318], [28.5739678, 77.2298726], [28.5666845, 77.2338693], [28.573539, 77.23133], [28.5732124, 77.2304115], [28.5731536, 77.2305784], [28.5732124, 77.2304115], [28.5732124, 77.2304115], [28.5735944, 77.2301869], [28.5667421, 77.234004], [28.5729411, 77.2303467], [28.5732529, 77.2303666], [28.5731228, 77.2304115], [28.5732209, 77.2305013], [28.5735453, 77.230142], [28.5735944, 77.2301869], [28.5732244, 77.2258308], [28.5750687, 77.2282559], [28.5728608, 77.2254202], [28.5731519, 77.2260104], [28.5740273, 77.2286152], [28.5741169, 77.2286152], [28.5729113, 77.2272935], [28.5740102, 77.2284355], [28.5734471, 77.2300522], [28.5735944, 77.2301869], [28.5737979, 77.2301021], [28.5738142, 77.230142], [28.57481074, 77.23797072], [28.5745182, 77.2290642], [28.5737426, 77.230456], [28.5734173, 77.2306809], [28.5735538, 77.2302318], [28.5732529, 77.2303666], [28.5733831, 77.2303217], [28.5742151, 77.228705], [28.5739038, 77.230142], [28.59645787, 77.13403689], [28.59346375, 77.12170769], [28.56050598, 77.13754522], [28.59696187, 77.13251498], [28.6952736, 77.2039877], [28.7012381, 77.208764], [28.6984992, 77.2076173], [28.6956951, 77.2041824], [28.6949468, 77.2043172], [28.6984528, 77.2063856], [28.69471, 77.2041824], [28.6986347, 77.2058893], [28.6985993, 77.2058299], [28.7014883, 77.2066978], [28.6896167, 77.1968157], [28.7039175, 77.2105606], [28.6949494, 77.2040261], [28.69692, 77.204262], [28.6970729, 77.2045418], [28.6958742, 77.2041824], [28.6946441, 77.2052412], [28.7099688, 77.2045418], [28.7012872, 77.2088089], [28.6955226, 77.2040656], [28.6950637, 77.2127619], [28.6944781, 77.2050359], [28.7022489, 77.2057546], [28.6953048, 77.2042264], [28.6945186, 77.204991], [28.6958019, 77.2043621], [28.6961065, 77.2041877], [28.6984683, 77.2075896], [28.6989923, 77.2051324], [28.6989525, 77.2049573], [28.6944094, 77.2043172], [28.6956951, 77.2041824], [28.6983664, 77.2062475], [28.69445928, 77.20517535], [28.6991883, 77.2048468], [28.6988729, 77.2051338], [28.694839, 77.2041413], [28.6963995, 77.2044468], [28.6951581, 77.2042568], [28.6968859, 77.2044507], [28.6959218, 77.20421], [28.694703, 77.204109], [28.6951592, 77.2042559], [28.6959407, 77.207686], [28.6947235, 77.2052605], [28.6943941, 77.2047986], [28.69846, 77.2076069], [28.7004311, 77.2049915], [28.7045236, 77.2112792], [28.6979839, 77.2050973], [28.6943776, 77.2039851], [28.7014404, 77.2052605], [28.6960645, 77.2132353], [28.6949307, 77.2027451], [28.68074736, 77.20346611], [28.69248552, 77.19461525], [28.710327, 77.2045418], [28.6979196, 77.2077758], [28.6955728, 77.2040764], [28.6951306, 77.2031499], [28.6956238, 77.2029696], [28.6958424, 77.2043172], [28.6948159, 77.2041921], [28.6949468, 77.2043172], [28.6950768, 77.2042723], [28.5730696, 77.2063385], [28.5733089, 77.2069673], [28.57298, 77.2063385], [28.5731135, 77.2062293], [28.5733751, 77.2071919], [28.5736502, 77.2067876], [28.5733557, 77.2065181], [28.573381, 77.207032], [28.5734071, 77.2070571], [28.5733139, 77.2072657], [28.5733557, 77.2065181], [28.57298, 77.2063385], [28.5731102, 77.2062936], [28.5733557, 77.2065181], [28.5733089, 77.2069673], [28.5730696, 77.2063385], [28.573123, 77.2062457], [28.5731173, 77.2062671], [28.5733237, 77.2066529], [28.5731266, 77.2062599], [28.6840941, 77.3263341], [28.69405251, 77.32792842], [28.6793527, 77.3153088], [28.6880418, 77.3228257], [28.6866525, 77.3243611], [28.6812709, 77.3133238], [28.68787472, 77.31063947], [28.6758998, 77.3216767], [28.6785183, 77.3138803], [28.6760676, 77.3219584], [28.681041, 77.3187967], [28.680441, 77.3165977], [28.6840123, 77.3265239], [28.6843495, 77.3141201], [28.6760146, 77.3218233], [28.6827502, 77.3235369], [28.68331488, 77.31573399], [28.68426375, 77.32611515], [28.6815286, 77.3212477], [28.6877871, 77.3237521], [28.6803927, 77.3138452], [28.6839708, 77.3263201], [28.6780803, 77.3149321], [28.6817639, 77.3203722], [28.6818859, 77.3225314], [28.6804166, 77.3175002], [28.6781679, 77.3135599], [28.6784414, 77.3130113], [28.6805428, 77.3172671], [28.6755738, 77.3220465], [28.6759651, 77.32103], [28.6789662, 77.31474], [28.6826566, 77.3174779], [28.6802106, 77.3191771], [28.6803726, 77.3194607], [28.6766439, 77.3221198], [28.6868371, 77.3240717], [28.6869556, 77.3243518], [0.0, 0.0], [28.6806456, 77.3200498], [28.68393079, 77.32285928], [28.6806874, 77.3179939], [28.6804081, 77.3174105], [28.6806468, 77.3180387], [28.67811889, 77.30874181], [28.6808405, 77.3182032], [28.6784646, 77.3151641], [28.68845296, 77.31044468], [28.6785109, 77.3150927], [28.68780825, 77.30951831], [28.65281944, 77.29831667], [28.6859527, 77.3227227], [28.68853914, 77.30948444], [28.68710648, 77.31081113], [28.6817083, 77.3207312], [28.67788563, 77.30820905], [28.67810565, 77.30849136], [28.6301104, 77.0800517], [28.6301427, 77.0813721], [28.6301924, 77.0807745], [28.6298202, 77.0815256], [28.6305419, 77.0813133], [28.6300877, 77.0818722], [28.7029361, 77.1582677], [28.7030171, 77.1581778], [28.7029361, 77.1582677], [28.7029534, 77.1581925], [28.7029971, 77.1581943], [28.54283324, 77.15665989], [28.54370415, 77.15718493], [28.527655, 77.2170282], [28.52890209, 77.21589714], [28.5281701, 77.2166406], [28.52888088, 77.21593738], [28.52822812, 77.21688252], [28.52766814, 77.21723221], [28.52844757, 77.21655529], [28.52857924, 77.21612245], [28.53230279, 77.21922308], [28.52817627, 77.21779615], [28.52799453, 77.21694253], [28.52888088, 77.21593738], [28.5429069, 77.1555539], [28.54273752, 77.15549883], [28.54284148, 77.15574123], [28.542494, 77.15598], [28.54270924, 77.15693682], [28.5427394, 77.1553105], [28.5427387, 77.15570837], [28.54268656, 77.15590451], [28.54235257, 77.15617541], [28.54260469, 77.15601213], [28.54234722, 77.15557222], [28.54260027, 77.15613484], [28.54264798, 77.15556856], [28.576014, 77.194929], [28.5762189, 77.1951986], [28.5761036, 77.194929], [28.5763982, 77.1951986], [28.576014, 77.194929], [28.5761036, 77.194929], [28.5762189, 77.1951986], [28.6021693, 77.2374755], [0.0, 0.0], [28.55948889, 77.25664444], [28.55597567, 77.25142501], [28.55600833, 77.25097778], [28.558244, 77.245962], [28.55801293, 77.24570923], [28.55561316, 77.25065019], [0.0, 0.0], [28.5564445, 77.25350372], [28.555408, 77.251334], [28.559209, 77.256582], [28.5618466, 77.2540139], [28.562469, 77.24476], [28.55546709, 77.24970538], [28.5532108, 77.2474937], [28.5573496, 77.2460754], [28.556008, 77.248986], [28.55559431, 77.24965878], [28.5566725, 77.2534918], [28.55942527, 77.25683268], [28.55691625, 77.2515556], [28.5530398, 77.2475416], [28.55872293, 77.24604115], [28.55342536, 77.24759415], [28.560028, 77.254524], [28.55854948, 77.24581651], [0.0, 0.0], [28.55692569, 77.25370757], [28.55566852, 77.24972282], [28.55838722, 77.24579573], [28.5540294, 77.2480855], [0.0, 0.0], [28.557711, 77.2529833], [0.0, 0.0], [28.5543714, 77.2475006], [0.0, 0.0], [0.0, 0.0], [0.0, 0.0], [28.55558547, 77.25076921], [0.0, 0.0], [28.5554023, 77.24972147], [0.0, 0.0], [28.55813632, 77.24595934], [28.5590781, 77.2460453], [28.55696162, 77.25373641], [28.55974625, 77.24382263], [28.55569767, 77.24882092], [28.55550213, 77.24957529], [28.55600306, 77.25070518], [28.5617082, 77.2539276], [0.0, 0.0], [35.0, 34.0], [0.0, 0.0], [28.55863333, 77.24595], [28.5562573, 77.2446488], [28.560295, 77.250781], [28.55602603, 77.25135762], [28.6448006, 77.1735895], [28.6455402, 77.1698272], [28.6455589, 77.1731083], [28.6441003, 77.1747039], [28.6428518, 77.1743426], [28.6457029, 77.1741932], [0.0, 0.0], [28.6452593, 77.1726854], [28.6440161, 77.1724967], [28.6449368, 77.1696522], [28.6457707, 77.1743474], [28.64428733, 77.17413515], [28.6452876, 77.172769], [28.6447002, 77.1737102], [28.6461308, 77.1736976], [28.6445596, 77.1716041], [28.6439265, 77.1728444], [28.6458084, 77.1740625], [28.6462535, 77.1733197], [28.6453787, 77.1738098], [28.6458375, 77.1741502], [28.645748, 77.1741204], [28.6463295, 77.1730339], [28.6446627, 77.1738144], [28.6439586, 77.1746349], [28.6456229, 77.1732263], [28.6444715, 77.17371749], [28.6458333, 77.173298], [28.6463046, 77.1731998], [28.6453402, 77.1726202], [28.6449373, 77.1695686], [28.6438411, 77.1760203], [28.6440899, 77.1746447], [28.6448457, 77.1701447], [28.6455073, 77.1742239], [28.6462385, 77.1734166], [28.6446415, 77.1738702], [28.6446394, 77.1736557], [28.6449035, 77.1765254], [28.6460949, 77.1734122], [28.6448988, 77.1734844], [28.6456517, 77.1744155], [0.0, 0.0], [28.6435077, 77.1756282], [28.6447299, 77.1738594], [28.6469458, 77.1702997], [28.6446442, 77.1737234], [28.6448934, 77.176511], [28.6460278, 77.1738744], [28.6447151, 77.1737481], [28.5514411, 77.2517407], [28.551456, 77.2514264], [28.5514005, 77.2517856], [28.5514411, 77.2517407], [28.5514411, 77.2517407], [28.551456, 77.2514264], [28.551456, 77.2514264], [28.551456, 77.2514264], [28.551456, 77.2514264], [28.5511401, 77.2518754], [28.5514176, 77.2519652], [28.551456, 77.2514264], [28.551456, 77.2514264], [28.551456, 77.2514264], [28.551456, 77.2514264], [28.5514005, 77.2517856], [28.551471, 77.2511121], [28.5512512, 77.251157], [28.5513364, 77.252055], [28.5515157, 77.252055], [28.5514517, 77.2523244], [28.5499322, 77.2495406], [28.5499322, 77.2495406], [28.5495074, 77.2493161], [28.5498255, 77.249361], [28.5500815, 77.2501692], [28.5437894, 77.2011867], [28.5439726, 77.2014089], [28.5436328, 77.2021829], [28.6171268, 77.225247], [28.6171019, 77.225522], [28.570351, 77.268165], [28.570142, 77.257106], [28.7125231, 77.1359778], [28.7124335, 77.1359778], [28.7124394, 77.1359944], [28.51423729, 77.19707139], [28.65770835, 77.27527589], [28.6588784, 77.27280054], [28.6506052, 77.2743231], [0.0, 0.0], [28.6503577, 77.2742445], [28.65482657, 77.27558903], [28.6529689, 77.2709113], [28.65092671, 77.2749795], [28.6529662, 77.2708084], [28.65782692, 77.27389522], [28.65745298, 77.2739834], [28.65791871, 77.27375876], [28.65345053, 77.27286156], [0.0, 0.0], [28.65758714, 77.2740471], [0.0, 0.0], [28.6576701, 77.27334738], [0.0, 0.0], [28.6509219, 77.276516], [28.656203, 77.2705947], [28.6465239, 77.2772052], [0.0, 0.0], [28.6598571, 77.2665213], [0.0, 0.0], [28.65482831, 77.27064716], [28.6541382, 77.2743467], [28.6509197, 77.2765693], [28.6507753, 77.2767689], [28.6506851, 77.2767586], [28.6543108, 77.2741884], [28.6545768, 77.2766789], [0.0, 0.0], [0.0, 0.0], [28.65821556, 77.27505159], [28.665829, 77.303949], [28.665829, 77.303949], [28.6681812, 77.1120546], [28.5564122, 77.2328365], [28.5497703, 77.2365188], [28.5510721, 77.2341837], [28.5508438, 77.2341388], [28.5502291, 77.2352165], [28.5504788, 77.2345429], [28.5467137, 77.2439728], [28.5501971, 77.2353512], [28.5462678, 77.2440227], [28.5505215, 77.234992], [28.5510276, 77.234278], [28.5469314, 77.243434], [28.5493861, 77.2362493], [28.5502088, 77.2350504], [28.5504467, 77.2327916], [28.54163598, 77.24070288], [0.0, 0.0], [28.54865381, 77.24227265], [28.5484106, 77.2368331], [28.5500924, 77.2337795], [28.5563311, 77.2329263], [28.54763391, 77.24445798], [28.54967193, 77.23642308], [28.5566428, 77.2333753], [28.5564784, 77.233061], [28.56002689, 77.23497704], [28.5502611, 77.2350818], [28.5501728, 77.2330661], [28.54953822, 77.23671846], [28.5499281, 77.2334652], [28.5496144, 77.2362942], [28.5499293, 77.2334786], [28.5510721, 77.2341837], [0.0, 0.0], [28.5453005, 77.2470262], [28.5351803, 77.2127245], [28.5503422, 77.234992], [28.5468097, 77.2435687], [28.5498001, 77.2358901], [28.5499281, 77.2334652], [28.5508679, 77.2344254], [28.5494743, 77.2362677], [28.556472, 77.2334652], [28.5497965, 77.23637111], [28.5568711, 77.2334203], [28.5503337, 77.2349022], [28.5563909, 77.233555], [28.550003, 77.2337434], [28.5496806, 77.2365188], [28.550513, 77.2349022], [28.556869, 77.2329263], [28.5482151, 77.240961], [28.550974, 77.2340939], [28.5503508, 77.2350818], [28.5577145, 77.2399315], [28.54727, 77.244433], [28.5495184, 77.2366984], [28.5482719, 77.2405602], [28.54954205, 77.23670874], [28.5497745, 77.2356207], [28.54944192, 77.23633256], [28.5469731, 77.2439536], [28.55668362, 77.25337565], [28.54963187, 77.23635536], [28.538071, 77.259616], [28.5567356, 77.2327504], [28.541704, 77.2388987], [28.541887, 77.240404], [28.5307774, 77.2457042], [28.5367217, 77.2385097], [28.5398536, 77.240072], [28.5331658, 77.2414931], [28.5339137, 77.2431379], [28.5321867, 77.2428374], [28.53412, 77.24218], [28.5306584, 77.2460449], [28.5386726, 77.2400467], [28.5378256, 77.2391233], [28.5343238, 77.2432885], [28.5345941, 77.2432392], [28.5335013, 77.2420436], [28.5281318, 77.2457421], [28.5375972, 77.2391222], [28.5376881, 77.2390081], [28.527611, 77.2504814], [28.5375623, 77.2390211], [28.5410272, 77.2398689], [28.5328212, 77.243265], [28.5341433, 77.2435154], [28.5335898, 77.2441084], [28.5322514, 77.2427665], [28.5400134, 77.2399764], [28.5333292, 77.2437527], [28.5413133, 77.2398703], [28.5373191, 77.2389367], [28.5341539, 77.2432781], [28.5328167, 77.2431781], [28.5345364, 77.2436699], [28.5409162, 77.2401507], [28.5337162, 77.2432456], [28.54125928, 77.24002328], [28.5306722, 77.2456868], [28.5329663, 77.2434692], [28.5342023, 77.2431861], [28.5332835, 77.2418472], [28.5331306, 77.241504], [28.5399106, 77.2400539], [28.54047022, 77.24028882], [28.5373346, 77.2386742], [28.5328936, 77.2434648], [28.5342396, 77.2431486], [28.540691, 77.2400419], [28.5394362, 77.2400534], [28.5323086, 77.2426617], [28.5337643, 77.2425286], [28.5393522, 77.2401571], [28.5340181, 77.2428767], [28.5340197, 77.243348], [28.53412, 77.24218], [28.5345667, 77.2437305], [28.5334703, 77.2436254], [28.5335584, 77.242033], [28.5370786, 77.2386784], [28.5378735, 77.238998], [28.5335863, 77.2421548], [28.53712778, 77.23869669], [28.533561, 77.2422778], [28.5336924, 77.2434183], [28.5335082, 77.2445203], [28.5417418, 77.23985], [28.5339436, 77.2429111], [28.5388101, 77.2400353], [28.53698056, 77.236], [0.0, 0.0], [28.53722177, 77.23596912], [28.53732191, 77.23567978], [28.54053208, 77.233935], [28.5565678, 77.2024756], [28.557068, 77.2049011], [28.5569719, 77.2069091], [0.0, 0.0], [28.5571577, 77.2049011], [0.0, 0.0], [28.5565998, 77.2023408], [28.557068, 77.2049011], [28.5583275, 77.2058893], [28.5530579, 77.2046765], [0.0, 0.0], [28.5565998, 77.2023408], [28.5608102, 77.2018467], [28.556941, 77.20523], [28.5563457, 77.2020264], [28.5581568, 77.2059791], [28.5557195, 77.2057995], [28.5570041, 77.2051706], [28.5595207, 77.2066529], [28.5572354, 77.2025317], [0.0, 0.0], [28.5580181, 77.2059342], [28.5558677, 77.2021844], [28.5562101, 77.2026428], [28.5568725, 77.2054344], [28.5565678, 77.2024756], [28.5566267, 77.2023504], [28.5577921, 77.2057351], [28.5577669, 77.2080004], [28.5580523, 77.2062936], [28.5574296, 77.2057664], [28.5574266, 77.2049011], [28.5584086, 77.2057995], [28.5579188, 77.2028955], [28.5566575, 77.2024756], [28.5610837, 77.2169384], [28.557068, 77.2049011], [28.560101, 77.2097034], [28.5589794, 77.20243322], [28.5572038, 77.2025654], [0.0, 0.0], [0.0, 0.0], [28.5608042, 77.2039156], [28.56250844, 77.21116707], [28.5526247, 77.203602], [0.0, 0.0], [28.7010154, 77.2052335], [28.6945529, 77.2044316], [28.695646, 77.2041375], [28.73409022, 77.0955538], [28.6965012, 77.2041824], [28.7007738, 77.2212289], [0.0, 0.0], [28.7073875, 77.2028349], [28.7011015, 77.2088685], [28.700431, 77.2051662], [28.69471, 77.2041824], [28.698905, 77.2042028], [28.6957933, 77.2042723], [28.6944315, 77.2049891], [28.6929495, 77.2054401], [28.6987623, 77.2053503], [28.6951234, 77.2038231], [28.7073367, 77.2029119], [28.6984564, 77.2077365], [28.7099284, 77.2044321], [28.6975121, 77.2044519], [28.700706, 77.2084849], [0.0, 0.0], [28.6945895, 77.2049879], [28.6991585, 77.2048113], [28.6961012, 77.2048186], [28.6979305, 77.2050808], [28.694348, 77.208794], [28.6961124, 77.2045178], [28.7077386, 77.2046316], [28.6981059, 77.2059791], [28.6990689, 77.2048113], [28.7075633, 77.2027704], [0.0, 0.0], [0.0, 0.0], [28.6966432, 77.204411], [28.6944781, 77.2050359], [28.6950596, 77.2040926], [28.7000027, 77.1883704], [28.6978702, 77.193222], [28.6989226, 77.192054], [28.7002971, 77.1886399], [28.6947792, 77.1889993], [28.7014836, 77.1898079], [28.7004928, 77.1889483], [28.7014578, 77.1895384], [28.701475, 77.1897181], [28.6991655, 77.1917845], [28.7013265, 77.1895597], [28.6924395, 77.1905019], [28.6989717, 77.192099], [28.6975254, 77.1863488], [28.6943279, 77.1898978], [28.7017609, 77.1898978], [28.7014836, 77.1898079], [28.7003953, 77.1887297], [28.699677, 77.1878236], [28.6991827, 77.1919642], [28.6993443, 77.1917362], [0.0, 0.0], [28.7016159, 77.1899423], [28.7015792, 77.1894036], [28.6988557, 77.1918129], [28.7006314, 77.1836813], [28.6982502, 77.1919823], [28.6991164, 77.1917396], [28.6943365, 77.1899876], [28.7014836, 77.1898079], [28.6991568, 77.1916947], [28.7015191, 77.1894379], [28.7006555, 77.1839678], [28.6982616, 77.1920054], [28.7017374, 77.1894954], [28.6990208, 77.1921439], [28.6971907, 77.1940755], [28.7007076, 77.1840036], [28.698891, 77.1920352], [28.5602677, 77.2096084], [0.0, 0.0], [28.5508626, 77.2046327], [28.5523954, 77.2033238], [28.5503273, 77.2039324], [28.552966, 77.207813], [28.5510835, 77.2076874], [28.557586, 77.2068141], [28.55402, 77.19397], [28.5518155, 77.2037786], [28.5513556, 77.2043582], [28.5626079, 77.214976], [28.5605341, 77.2094004], [28.551367, 77.2045662], [28.5568936, 77.2067363], [28.542347, 77.2027931], [28.5516775, 77.2084143], [28.5416535, 77.2043752], [28.5614631, 77.2115953], [28.552691, 77.2036513], [28.5622242, 77.2106376], [28.5515237, 77.2070845], [28.5505307, 77.2054205], [28.5554938, 77.2093121], [28.560378, 77.2091679], [28.5503273, 77.2039324], [28.5609831, 77.2100361], [28.5505745, 77.2046029], [28.5618666, 77.2141709], [28.5604449, 77.2093036], [28.562373, 77.2107833], [28.5618535, 77.2141542], [28.5603597, 77.2095255], [28.5509252, 77.2080868], [28.5500479, 77.2056973], [28.5624222, 77.2107781], [28.5510151, 77.2081473], [28.5521888, 77.2039336], [28.5639463, 77.2120463], [28.5522405, 77.2039227], [28.5617035, 77.2145148], [28.5513376, 77.2045658], [28.5525624, 77.2084289], [28.550438, 77.2039819], [28.5509312, 77.208163], [28.5513546, 77.2045516], [28.5397438, 77.2063121], [28.5513909, 77.2045677], [28.5542453, 77.2059157], [28.5601373, 77.2131207], [28.5602363, 77.2104167], [28.5622518, 77.2106438], [28.5509721, 77.2080928], [28.5543973, 77.2059313], [28.5417943, 77.2036655], [28.5623218, 77.210758], [28.5605085, 77.2093815], [28.5414504, 77.203929], [28.5600874, 77.2099284], [28.5602665, 77.2096165], [28.560245, 77.2098425], [28.5419041, 77.204319], [28.5418706, 77.2043423], [28.5636313, 77.2116483], [28.5601549, 77.2097525], [0.0, 0.0], [0.0, 0.0], [28.5608475, 77.2081917], [28.55510074, 77.19461381], [28.5631376, 77.2143271], [28.5603853, 77.2095383], [28.5532206, 77.2079154], [28.5514459, 77.208506], [28.5525204, 77.203809], [28.5542839, 77.1944778], [28.5538347, 77.194918], [28.5543721, 77.1944373], [28.5546133, 77.194795], [28.5545112, 77.1960285], [28.5541711, 77.1945289], [28.5548297, 77.1948429], [28.5540858, 77.194058], [28.5542208, 77.1949328], [28.5546859, 77.1951433], [28.5534325, 77.1941291], [28.5540646, 77.1943109], [28.5541496, 77.1940584], [28.5541314, 77.194159], [28.5536, 77.1941855], [28.5541766, 77.1944824], [28.5541282, 77.1944156], [28.5542851, 77.1944706], [28.55333, 77.1943217], [28.5557479, 77.1952737], [28.5541009, 77.1941749], [28.555157, 77.1952749], [28.554476, 77.195013], [28.5542015, 77.1948582], [28.550327, 77.122793], [28.5907981, 77.2980406], [28.5905091, 77.2977869], [28.6409625, 77.2379557], [28.6410435, 77.2378659], [28.7056604, 77.1430501], [28.7057393, 77.1432187], [28.5476562, 77.1261797], [28.5479078, 77.1259999], [28.6430365, 77.1729864], [28.6430256, 77.1729982], [28.6212265, 77.2170282], [28.6212756, 77.2170731], [28.6212756, 77.2170731], [28.6212756, 77.2170731], [28.6212322, 77.216908], [28.6213161, 77.2170282], [28.56904, 77.185331], [28.56904, 77.185331], [28.56904, 77.185331], [28.56904, 77.185331], [28.56904, 77.185331], [28.56904, 77.185331], [28.551398, 77.123127], [0.0, 0.0], [28.5780214, 77.2093928], [28.5783748, 77.2100616], [28.5739586, 77.2100216], [28.5780386, 77.2095724], [28.607967, 77.198618], [28.6083918, 77.2014634], [28.6184829, 77.2296031], [0.0, 0.0], [28.6086732, 77.1981633], [28.6083206, 77.2211555], [28.6307448, 77.3016535], [28.6221018, 77.2933535], [28.6332414, 77.3027284], [28.6310189, 77.3061495], [28.6311765, 77.3062105], [28.6360907, 77.2995552], [28.6281517, 77.3089444], [28.6360024, 77.3043502], [28.6362503, 77.3056876], [28.6306439, 77.3059907], [28.6360078, 77.3031004], [28.6351912, 77.3031053], [28.6280802, 77.3089888], [28.6355354, 77.3032993], [28.6348977, 77.3039947], [28.6282279, 77.3082609], [28.6335406, 77.3028343], [28.627967, 77.3079824], [28.6349194, 77.3035124], [28.6278421, 77.307845], [28.6220862, 77.2919552], [28.630711, 77.305996], [28.6360258, 77.3030936], [28.634931, 77.3037739], [28.6308689, 77.3012262], [0.0, 0.0], [28.6362246, 77.2995024], [28.6346331, 77.2974464], [28.6274039, 77.3011496], [28.6336787, 77.2990042], [0.0, 0.0], [28.630479, 77.2995973], [28.62804124, 77.30793916], [28.6348699, 77.3038718], [28.6355354, 77.3032993], [0.0, 0.0], [28.63570449, 77.30450468], [28.6219398, 77.2934576], [28.6264823, 77.3029659], [28.6304877, 77.3065335], [28.6349562, 77.3037861], [0.0, 0.0], [28.635191, 77.3030602], [28.6339747, 77.3095488], [28.6308576, 77.3012464], [28.6304523, 77.3015435], [28.631723, 77.305766], [28.5981818, 77.1734292], [28.5974082, 77.1735895], [28.5974082, 77.1735895], [28.5981778, 77.1734391], [28.5974659, 77.1737243], [28.5973505, 77.1734547], [28.63209722, 77.23888333], [0.0, 0.0], [28.63255, 77.24104444], [28.6311424, 77.24134527], [28.6347982, 77.097151], [28.6356447, 77.0969155], [28.6274912, 77.096421], [28.6355956, 77.0968706], [28.6360464, 77.0969926], [28.6362828, 77.0971876], [28.620964, 77.107504], [28.6275885, 77.1090874], [28.6310878, 77.0981016], [28.6237129, 77.1022244], [28.6196388, 77.1108383], [28.6494365, 77.1028818], [28.6312881, 77.0975994], [28.6255303, 77.1109713], [28.6316476, 77.0980497], [28.6343754, 77.0980565], [28.6349446, 77.0971673], [28.631387, 77.0982505], [28.6353891, 77.0968803], [28.6300121, 77.1136177], [28.6255608, 77.1013347], [28.6356447, 77.0969155], [28.6322412, 77.0981402], [28.6316146, 77.0978255], [28.63561, 77.0965558], [28.6316165, 77.0981006], [28.6347297, 77.0971629], [28.6350493, 77.0971063], [28.6134073, 77.1087679], [28.6313278, 77.097836], [28.6249007, 77.1017394], [28.6249622, 77.1112093], [28.6334468, 77.0981661], [28.635497, 77.0965824], [28.6358663, 77.0970387], [28.6315014, 77.0977886], [28.6356765, 77.0967806], [28.6309971, 77.0976322], [28.6246348, 77.110907], [28.6197878, 77.1040333], [28.6351319, 77.0998706], [28.6212976, 77.1074751], [28.6350345, 77.0971697], [28.635251, 77.0998371], [28.6344684, 77.0994344], [28.6315308, 77.097993], [28.6351651, 77.0970504], [28.6314535, 77.0977144], [28.6344525, 77.0997544], [28.6360885, 77.0972622], [28.6353275, 77.0970875], [28.6628124, 77.1088295], [28.6244686, 77.1109839], [28.6212971, 77.1073269], [28.6357503, 77.0996828], [28.6235852, 77.1018025], [28.6342008, 77.0974053], [28.6258103, 77.1108325], [28.631327, 77.098778], [28.625289, 77.101117], [28.6255344, 77.1014229], [28.6498101, 77.2349022], [28.6472969, 77.2339142], [28.6487528, 77.2335637], [28.6497205, 77.2349022], [28.649456, 77.2334814], [28.6497621, 77.2339276], [28.6470498, 77.2350818], [28.6498506, 77.2348573], [28.6496214, 77.2327023], [28.6486247, 77.2335385], [28.6470498, 77.2350818], [28.6489324, 77.2336085], [28.649672, 77.2334979], [28.6491652, 77.2328365], [28.6498224, 77.2362096], [28.6468193, 77.2345429], [28.6497611, 77.2331077], [28.6497507, 77.2348182], [28.6481181, 77.2335999], [28.6492548, 77.2328365], [28.6493023, 77.2333916], [28.6498655, 77.2355652], [28.6492691, 77.2337024], [28.6467702, 77.234498], [28.6493933, 77.23363], [28.649739, 77.2348509], [28.6178488, 77.0781883], [28.6308738, 77.081247], [28.624851, 77.076075], [28.61913158, 77.09158983], [28.6270907, 77.0919751], [28.6217683, 77.08765], [28.625011, 77.101121], [28.6298073, 77.0903177], [28.6156773, 77.0895476], [28.6237445, 77.0821521], [28.6330204, 77.0870265], [28.61683827, 77.09035702], [28.6168861, 77.090369], [28.6300262, 77.0820473], [28.6158468, 77.0944197], [28.6311148, 77.0966703], [28.6180223, 77.0888248], [28.6219218, 77.0859354], [28.6216295, 77.0884552], [28.6219496, 77.0844615], [28.6343713, 77.0935847], [28.6215998, 77.0883654], [28.6284185, 77.0910311], [28.6202711, 77.0887484], [28.6361792, 77.0960937], [28.6298512, 77.0910906], [28.6122787, 77.0900756], [28.6295635, 77.0816045], [28.6291122, 77.091394], [28.6296625, 77.0820832], [28.6180324, 77.0901845], [28.6331568, 77.0871273], [28.6285431, 77.0910903], [28.6180887, 77.0887384], [28.6335873, 77.0871808], [28.6209459, 77.0817882], [28.6299374, 77.0819207], [28.6157655, 77.0941454], [28.6218773, 77.0846413], [28.6191652, 77.091738], [28.620389, 77.0801897], [28.6341679, 77.0936598], [28.6330626, 77.0905124], [28.6217284, 77.0884763], [28.6278364, 77.0917978], [28.622406, 77.090872], [28.5830716, 77.2450727], [28.5835117, 77.2459911], [28.5799189, 77.2415481], [28.5826876, 77.2467751], [28.5795335, 77.2475434], [28.5817203, 77.2472956], [28.5816136, 77.247116], [28.5791847, 77.2583408], [28.5793555, 77.2412786], [28.584787, 77.2479691], [28.5813084, 77.2464868], [28.5825578, 77.2481871], [28.5819657, 77.24752], [28.5812079, 77.2419073], [28.5813908, 77.2467562], [28.5844282, 77.2476766], [28.5823905, 77.2515162], [28.5805634, 77.2417277], [28.5813093, 77.246482], [28.5828513, 77.2450505], [28.5798378, 77.2416379], [28.5829004, 77.2450954], [28.5853525, 77.2487324], [28.5837347, 77.2439728], [28.5828513, 77.2450505], [28.5824117, 77.2451403], [28.5818185, 77.2473854], [28.5828513, 77.2450505], [28.5853611, 77.2488222], [28.5823926, 77.2482385], [28.580653, 77.2417277], [28.5807469, 77.2415673], [28.5819018, 77.2515611], [28.5815771, 77.2512383], [28.5835827, 77.2460575], [28.5764607, 77.262305], [28.5815151, 77.2468941], [28.5798205, 77.2603162], [28.5815244, 77.247005], [28.5792658, 77.258251], [28.5852629, 77.2487324], [28.5791121, 77.2585204], [28.5814249, 77.2467645], [28.5812764, 77.2463975], [28.5827894, 77.2490554], [28.5738108, 77.2574428], [28.5843025, 77.247116], [28.5771398, 77.2622917], [28.5794004, 77.2422216], [28.5792829, 77.2584306], [28.5815991, 77.251335], [28.5832431, 77.2479992], [28.5839782, 77.2474752], [28.5744768, 77.2569041], [28.5802945, 77.2417277], [28.580749, 77.2413236], [28.5837753, 77.2439279], [28.6274922, 77.2225973], [28.62642941, 77.22028926], [28.6290186, 77.2198128], [28.629035, 77.21958833], [28.62175556, 77.21879444], [28.6285904, 77.220734], [28.6219039, 77.2165193], [28.62751063, 77.2195131], [28.628809, 77.2185552], [28.621945, 77.2166027], [28.6212756, 77.2170731], [28.623172, 77.2167587], [28.62913, 77.2209805], [0.0, 0.0], [28.62727844, 77.21957177], [28.6182446, 77.2186451], [28.62921603, 77.22037341], [28.6283018, 77.2198128], [28.626685, 77.2194865], [28.62590527, 77.21970689], [28.6289072, 77.2186451], [28.6282932, 77.2197229], [28.627044, 77.220458], [28.6183217, 77.2194535], [28.62662923, 77.21920632], [28.6269407, 77.2196331], [28.6276714, 77.2225973], [28.62913863, 77.21962843], [28.62711, 77.219697], [28.627832, 77.2186451], [28.62569483, 77.20999705], [0.0, 0.0], [28.6291892, 77.2197229], [28.6284974, 77.2181061], [28.6219815, 77.2164893], [28.6271199, 77.2196331], [28.6272055, 77.2205314], [28.6270708, 77.2195882], [28.6291434, 77.2196051], [28.5377179, 77.2865357], [28.5373236, 77.2872342], [28.5377077, 77.2866593], [28.5398301, 77.2862858], [28.53938, 77.2877168], [28.5398033, 77.2884959], [28.5391313, 77.2865123], [28.5413666, 77.2970413], [28.5372187, 77.2875272], [28.5373632, 77.2875567], [28.5377272, 77.2866858], [28.5404503, 77.2935319], [28.5376733, 77.2866755], [28.5374717, 77.2874628], [28.5386022, 77.2894195], [28.5398007, 77.294558], [28.5382002, 77.2895211], [28.5436226, 77.2978344], [28.5398573, 77.2900843], [28.5382385, 77.2899644], [28.5398069, 77.2882379], [28.6427453, 77.1758533], [28.642764, 77.1758886], [28.55650347, 77.16443762], [28.55650347, 77.16443762], [28.55650347, 77.16443762], [28.55650347, 77.16443762], [28.55650347, 77.16443762], [28.5364178, 77.2383021], [28.5366985, 77.2385844], [28.5364802, 77.2385653], [28.5367169, 77.2386159], [28.5367441, 77.2386106], [28.5490023, 77.1810079], [28.54865293, 77.16718253], [28.5494286, 77.1807722], [28.5474027, 77.1656368], [28.5490027, 77.1811526], [28.5495565, 77.1811374], [28.5441245, 77.1783133], [28.5489782, 77.1811823], [28.5488714, 77.1810026], [28.54979385, 77.18089364], [28.58429443, 77.21763119], [28.552895, 77.121445], [28.5531043, 77.2398107], [28.5526774, 77.2416379], [28.5525536, 77.2412786], [28.5536849, 77.2409194], [0.0, 0.0], [28.5538898, 77.2411888], [28.5571618, 77.2402459], [28.5536763, 77.2408296], [28.556673, 77.2402908], [28.557442, 77.236741], [28.5563436, 77.2360071], [28.5565383, 77.2355758], [28.553673, 77.243649], [28.5551789, 77.2415481], [28.5527158, 77.241099], [0.0, 0.0], [28.555918, 77.238586], [28.5536763, 77.2408296], [28.5535184, 77.2401111], [28.5527692, 77.2421318], [28.5527286, 77.2421767], [28.5526433, 77.2412786], [28.53853483, 77.25765813], [28.5441688, 77.251157], [28.54153378, 77.25511976], [28.53451667, 77.26001167], [28.52530273, 77.26306513], [28.52576, 77.263331], [28.53920667, 77.25950785], [28.53706949, 77.26394121], [28.52562912, 77.25476302], [28.5409875, 77.2563653], [28.53930504, 77.25926813], [28.54024549, 77.25810573], [28.54423341, 77.25107197], [28.537027, 77.257337], [28.53320649, 77.25989409], [28.54442544, 77.251193], [28.537134, 77.260126], [28.54013, 77.258148], [28.54143056, 77.25543889], [28.5421747, 77.2537612], [28.53072249, 77.2569098], [28.53074722, 77.25698889], [28.53283056, 77.25312778], [28.5423284, 77.2534918], [28.52827222, 77.25608056], [28.52800925, 77.25624796], [28.54369031, 77.25087617], [28.54072765, 77.25705095], [28.5442178, 77.25120507], [28.52833711, 77.25578628], [28.53103056, 77.24575], [28.5419405, 77.25391286], [28.5415619, 77.2553326], [28.5302637, 77.2583896], [28.5309441, 77.2568858], [28.54172876, 77.25677937], [28.5437554, 77.25065958], [28.53519117, 77.25814529], [28.52588599, 77.2634745], [28.53815752, 77.2594998], [28.54165, 77.25519444], [28.54306356, 77.2520322], [28.54185423, 77.25657452], [28.5429843, 77.2519915], [28.535954, 77.25765], [28.53804707, 77.26170357], [28.537134, 77.260126], [28.53269444, 77.25889722], [28.54166043, 77.25539435], [28.5417988, 77.2554673], [28.54313277, 77.24925745], [28.52858425, 77.2552998], [28.537766, 77.25938], [28.54319403, 77.25188736], [28.54270391, 77.25268575], [28.54287123, 77.24800486], [28.5422688, 77.2528632], [28.530672, 77.257216], [28.542481, 77.253107], [28.53444508, 77.25814059], [28.54019601, 77.25816473], [28.54286122, 77.25293074], [28.5417947, 77.2544796], [28.54195702, 77.25427318], [28.540697, 77.2570837], [28.54400044, 77.25048993], [28.5417806, 77.25476695], [0.0, 0.0], [0.0, 0.0], [28.5382626, 77.2616631], [28.5446085, 77.2510672], [28.54347678, 77.24908177], [28.54201092, 77.25578561], [28.6809045, 77.2071483], [28.6778705, 77.2061353], [0.0, 0.0], [28.6817513, 77.2072484], [28.6823671, 77.197804], [28.6820522, 77.2048113], [28.67991553, 77.20841881], [28.6819638, 77.2066978], [28.67940137, 77.1953759], [28.6834998, 77.2012178], [28.6839604, 77.2048445], [28.68010437, 77.19552509], [28.6770968, 77.207839], [28.6819382, 77.1982887], [0.0, 0.0], [28.6824755, 77.2064283], [28.6826214, 77.20048], [28.6808616, 77.2073715], [28.6821675, 77.2050808], [28.6816581, 77.1986842], [28.6823852, 77.199757], [28.6815983, 77.20695868], [28.6780077, 77.1890553], [28.6798964, 77.2084945], [28.6786891, 77.2080453], [28.6799319, 77.1999533], [28.675602, 77.2029247], [28.6826461, 77.2034689], [28.6806976, 77.2075063], [28.6772166, 77.1963486], [28.68100278, 77.20744444], [28.680111, 77.208375], [28.6787442, 77.201128], [28.6834998, 77.2012178], [28.6809212, 77.20738649], [28.67999, 77.2082938], [28.679521, 77.2083148], [28.6826835, 77.2062459], [28.6763014, 77.2027451], [28.6779587, 77.2066539], [28.680957, 77.208147], [28.6812887, 77.1987024], [0.0, 0.0], [28.68121151, 77.20720008], [28.6778732, 77.206069], [28.6814952, 77.2074165], [28.6822359, 77.1992414], [28.6808854, 77.2075961], [28.6802681, 77.2030146], [28.6812987, 77.2006788], [28.68162389, 77.20699288], [28.6796019, 77.208225], [28.6709291, 77.1934017], [28.68086237, 77.20392846], [28.6835489, 77.2012628], [28.6825417, 77.2033739], [28.6777235, 77.2054401], [28.720838, 77.173372], [28.6801444, 77.2083451], [28.6776821, 77.2051282], [28.6766471, 77.2079014], [28.6689477, 77.196097], [28.6675893, 77.1991559], [28.6839245, 77.2047215], [0.0, 0.0], [28.51647834, 77.07889594], [28.5161533, 77.0784756], [28.66228784, 77.14673806], [28.66223077, 77.14636557], [28.66439777, 77.14383926], [28.65678454, 77.29406979], [28.65676424, 77.29405772], [28.6511682, 77.3054936], [28.6534064, 77.3027743], [0.0, 0.0], [28.6515495, 77.3050378], [28.649656, 77.3047359], [28.6475149, 77.3024918], [28.6520694, 77.3070793], [28.6486474, 77.303195], [28.6484654, 77.302196], [28.6537039, 77.3090365], [28.6479181, 77.3031754], [28.6601143, 77.304534], [28.6509065, 77.3051329], [28.6528252, 77.3079592], [28.654069, 77.3094489], [28.6492275, 77.3023084], [28.6461321, 77.3011095], [28.6594593, 77.3062599], [28.6480355, 77.3029072], [28.6484283, 77.3023672], [28.6467421, 77.3020809], [28.646476, 77.1952884], [28.6470539, 77.1919642], [28.65456149, 77.18920413], [28.64779259, 77.18937848], [28.6458903, 77.1872922], [28.64590801, 77.1968947], [28.6457369, 77.1875617], [28.6576903, 77.1889094], [28.6458068, 77.1868879], [28.6448625, 77.1899106], [28.65824145, 77.19380312], [28.6467961, 77.1892688], [28.65432847, 77.19036754], [28.6455636, 77.1838779], [28.65947151, 77.20330585], [28.64356644, 77.18858656], [28.6457749, 77.1870226], [28.65203681, 77.19397243], [28.64837929, 77.18398858], [28.649189, 77.1912316], [28.64568939, 77.19076987], [28.65377446, 77.19484482], [28.6464708, 77.1877414], [28.6494371, 77.1962767], [28.6462267, 77.1894036], [28.64555639, 77.18532767], [28.64546136, 77.18557075], [28.6478036, 77.1904368], [28.65795725, 77.20225945], [28.6473123, 77.1919134], [28.6484406, 77.1924134], [28.65404367, 77.19053082], [28.645475, 77.190378], [28.6434385, 77.1888196], [28.64772433, 77.18850777], [28.6467961, 77.1892688], [28.64966566, 77.19650377], [28.6471494, 77.1882805], [28.6470942, 77.1886399], [28.64335635, 77.18888596], [28.6488288, 77.19822], [28.65432818, 77.19013385], [28.6504028, 77.1923236], [28.6436297, 77.18873441], [28.6478036, 77.1904368], [0.0, 0.0], [28.65492631, 77.20037386], [28.64902483, 77.18920581], [28.64350406, 77.19041716], [28.6471752, 77.18855], [28.64575501, 77.18687464], [28.6521871, 77.1941204], [28.65306658, 77.19434593], [28.65448764, 77.19039503], [28.65494308, 77.20031988], [28.649659, 77.1901673], [28.64337636, 77.18897313], [28.65951887, 77.18914345], [28.6455898, 77.1907064], [28.6507302, 77.1928736], [28.6467961, 77.1892688], [28.647073, 77.188527], [28.6491762, 77.1911718], [28.65337815, 77.19195507], [28.65317426, 77.191827], [28.6435122, 77.1905267], [28.64338136, 77.18890373], [28.66, 77.2], [28.66188863, 77.20509924], [28.6585277, 77.2032841], [28.65867981, 77.2027979], [28.64438885, 77.18823351], [28.64877767, 77.18952768], [28.64349552, 77.19061162], [28.65467653, 77.19055898], [28.64370267, 77.18803234], [28.556869, 77.2329263], [28.6676442, 77.2293337], [28.5997542, 77.2263032], [28.6005258, 77.2273577], [28.6004185, 77.2252919], [28.6095619, 77.2276721], [28.6003209, 77.2270883], [28.6006239, 77.2274475], [28.6005429, 77.2275373], [28.6008757, 77.2272679], [28.5999361, 77.2260623], [28.5999579, 77.2261003], [28.5999453, 77.2269086], [28.600052, 77.2270883], [28.5999935, 77.2276954], [28.5997809, 77.2265943], [28.6025572, 77.2279864], [28.6001414, 77.2267949], [28.6007455, 77.2273128], [28.6003637, 77.2275373], [28.6007115, 77.227379], [28.5996365, 77.2264353], [28.6006577, 77.2259206], [28.5997575, 77.2268188], [28.5997809, 77.2265943], [28.602474, 77.2280043], [28.5999538, 77.2269984], [28.5998597, 77.2260104], [28.6010869, 77.2271332], [28.5999548, 77.2269577], [28.6000435, 77.2269984], [28.6000351, 77.2270521], [28.6005429, 77.2275373], [28.6002736, 77.2273075], [28.6002569, 77.2273577], [28.5997872, 77.2261901], [28.6005429, 77.2275373], [28.5998768, 77.2261901], [28.5997318, 77.2265493], [28.5998768, 77.2261901], [28.6000435, 77.2269984], [28.6007136, 77.2274475], [28.6000106, 77.2262463], [28.5997404, 77.2266392], [28.5998374, 77.2257861], [28.6001416, 77.2270883], [28.6501384, 77.1438291], [28.6461556, 77.1391671], [28.6550605, 77.1380354], [28.655071, 77.136989], [28.6542971, 77.1371133], [28.653603, 77.1466722], [28.6543213, 77.1358371], [28.6491551, 77.1316231], [28.6489905, 77.130681], [28.6560415, 77.1406718], [28.6529002, 77.1423902], [28.6493759, 77.1330407], [28.6554914, 77.1379553], [28.6556035, 77.1407751], [28.6545957, 77.1373231], [28.6546527, 77.1374776], [28.6541881, 77.136123], [28.6474775, 77.1312221], [28.6489945, 77.1306854], [28.65784633, 77.14861963], [28.6497956, 77.1321064], [28.6563972, 77.1501141], [28.6489052, 77.1311592], [28.648918, 77.1313623], [28.64679749, 77.14399081], [28.648963, 77.1312308], [28.6521954, 77.1438903], [28.6489773, 77.1306799], [28.6522005, 77.1300673], [28.6484901, 77.1302026], [28.6489962, 77.1306672], [28.6522777, 77.1299154], [28.6546474, 77.1374915], [28.650206, 77.1366651], [28.6553478, 77.1422056], [28.655369, 77.1384066], [28.6494447, 77.1317062], [28.6570621, 77.1407866], [28.6506233, 77.142172], [28.65249167, 77.13043333], [28.6489309, 77.1313127], [28.6557286, 77.1384406], [28.6543517, 77.1362569], [28.6489739, 77.130674], [28.6546314, 77.1375537], [28.6552663, 77.1428519], [28.6521899, 77.1438814], [0.0, 0.0], [28.6555949, 77.1394952], [28.6575383, 77.1519824], [28.6518949, 77.129287], [28.6554434, 77.1374755], [28.6559956, 77.1409427], [28.6503488, 77.1367382], [28.6517775, 77.1284425], [28.6568197, 77.1466423], [28.661112, 77.2862616], [28.6611167, 77.2861883], [0.0, 0.0], [28.66551167, 77.284295], [0.0, 0.0], [28.65854624, 77.27581099], [28.57606, 77.24231], [28.65905, 77.2821], [28.6590466, 77.273111], [28.658652, 77.2722581], [28.6593514, 77.2815054], [28.6602651, 77.2814976], [28.65986279, 77.2882675], [28.65981866, 77.280646], [0.0, 0.0], [28.6522731, 77.2778171], [28.66104399, 77.2788164], [28.6602119, 77.2812826], [28.65951181, 77.27833997], [28.6523602, 77.2779662], [28.6592567, 77.2836334], [28.65975, 77.285347], [28.6589025, 77.2723274], [28.6596933, 77.279894], [28.6577411, 77.2725723], [28.652309, 77.2767835], [28.6593873, 77.2819196], [28.6592597, 77.2815369], [28.6579219, 77.2843782], [28.6573761, 77.2805179], [28.652892, 77.2776449], [28.6598057, 77.2829867], [28.6592244, 77.2836092], [28.6573846, 77.2806076], [28.6583725, 77.2750291], [28.6602389, 77.2814156], [28.6515992, 77.2781836], [28.65563419, 77.28203908], [28.6595627, 77.2794854], [28.6588784, 77.27633871], [28.6598889, 77.2833907], [0.0, 0.0], [28.6580718, 77.2738859], [28.6565918, 77.2731712], [28.6519405, 77.2780041], [28.6575847, 77.2855453], [28.65124712, 77.28353441], [0.0, 0.0], [0.0, 0.0], [28.6551369, 77.2821467], [28.65558682, 77.28215106], [28.6555214, 77.2822453], [28.660629, 77.2825524], [28.65748122, 77.28349753], [28.6588582, 77.2762894], [0.0, 0.0], [28.65655592, 77.28099915], [28.6576075, 77.2842188], [28.6590094, 77.2808326], [28.66, 77.28], [28.65948063, 77.27822732], [28.6602512, 77.2815094], [28.6525016, 77.2777796], [28.6590094, 77.2730949], [28.6597564, 77.2829523], [28.6594361, 77.2820172], [0.0, 0.0], [28.651044, 77.285269], [28.65997, 77.2833009], [28.660019, 77.2833458], [28.6530845, 77.2777667], [28.6600095, 77.2832005], [28.659873, 77.2831828], [28.65814167, 77.28492778], [0.0, 0.0], [28.6578175, 77.28106979], [28.523803, 77.195496], [28.5291758, 77.1939597], [28.5278024, 77.1922337], [0.0, 0.0], [28.5278927, 77.1941204], [0.0, 0.0], [28.5280987, 77.1918882], [28.5231188, 77.1954089], [28.5231802, 77.1954681], [28.57857977, 77.23905969], [28.57548265, 77.24256869], [28.58, 77.24], [28.57509517, 77.2428349], [28.57557569, 77.24261798], [28.57518762, 77.24215731], [28.57850528, 77.24129397], [28.578557, 77.242238], [28.573524, 77.240304], [28.57534897, 77.24246509], [28.57523591, 77.24189311], [28.57749657, 77.24015605], [28.56557384, 77.24651657], [28.57573998, 77.24151291], [28.57453, 77.245041], [28.57535368, 77.24148139], [28.57443534, 77.23999545], [28.57748273, 77.23870397], [28.57326317, 77.24144083], [28.57591488, 77.24159539], [28.575746, 77.2377796], [28.5752885, 77.2415063], [28.57287833, 77.23935641], [28.5786022, 77.2410469], [28.57783516, 77.23900907], [0.0, 0.0], [28.57852765, 77.23922364], [28.5786572, 77.23921526], [28.5690147, 77.2533595], [28.569441, 77.2529469], [28.5751889, 77.2430561], [28.57748273, 77.23870397], [28.5753454, 77.2393918], [28.5753441, 77.2427407], [28.5694893, 77.2529979], [28.57387443, 77.24355239], [28.57857859, 77.24115785], [28.5755255, 77.2423223], [28.57324197, 77.24150252], [0.0, 0.0], [28.5783107, 77.2413122], [0.0, 0.0], [28.5690093, 77.2437034], [28.569244, 77.2433442], [28.5668537, 77.2464874], [28.5693419, 77.2430012], [28.5701061, 77.241099], [28.5659744, 77.246667], [28.5702514, 77.2445117], [28.5701061, 77.241099], [28.5674166, 77.2466986], [28.5716356, 77.2380758], [28.5694702, 77.2428952], [28.5693849, 77.243883], [28.5666488, 77.2462179], [28.571408, 77.24065], [28.5714391, 77.2403585], [28.5710749, 77.2390334], [28.5650991, 77.2384048], [28.5702313, 77.2430159], [28.5710548, 77.2393235], [28.5703451, 77.2398417], [28.5711817, 77.2392131], [28.5717193, 77.2373271], [28.5638657, 77.2452301], [28.5637888, 77.24065], [28.6920346, 77.158043], [28.6897195, 77.1598506], [28.6862629, 77.1580879], [28.6889256, 77.1597056], [28.689127, 77.1613602], [28.6916824, 77.1576386], [28.69054589, 77.16032244], [28.6906395, 77.1602156], [28.6916764, 77.158043], [28.690152, 77.1577799], [0.0, 0.0], [28.6834348, 77.1555845], [28.6889287, 77.1595266], [28.6918615, 77.1576386], [28.68711, 77.1627161], [28.631572, 77.2791263], [28.6367385, 77.2846422], [28.6340688, 77.2828507], [28.6307187, 77.2776898], [28.6301736, 77.2731602], [28.634047, 77.2787671], [28.6305918, 77.2761595], [28.631536, 77.2784272], [28.6363729, 77.2855554], [28.6366215, 77.2866228], [28.6315528, 77.278285], [28.6342002, 77.2813009], [28.6333642, 77.2791263], [28.6312335, 77.2773248], [28.6306728, 77.2754966], [28.6398502, 77.2794854], [28.6376483, 77.2791124], [28.6318963, 77.2787671], [28.6341612, 77.2817105], [28.6386148, 77.2842251], [28.6356053, 77.2850649], [28.6358385, 77.2853555], [28.6405769, 77.2830396], [28.6391685, 77.2827592], [28.637565, 77.2846595], [28.6378972, 77.2889229], [28.6346399, 77.2832549], [28.6307187, 77.2776898], [28.6413024, 77.2825534], [28.635231, 77.2846148], [28.6352991, 77.2841775], [28.632793, 77.281315], [28.6328809, 77.2807048], [28.6321211, 77.2798618], [28.639466, 77.2791913], [28.63415519, 77.28276461], [28.645585, 77.2794854], [28.6300597, 77.2732552], [28.6351409, 77.2759194], [28.6393449, 77.2791371], [0.0, 0.0], [28.6370646, 77.2882664], [28.6391674, 77.2798445], [28.6342182, 77.2813556], [28.634669, 77.2838434], [28.6390651, 77.2787671], [28.6368181, 77.2859338], [28.6355744, 77.285893], [28.6378437, 77.2868134], [28.6398892, 77.2836758], [28.6306676, 77.2773871], [28.6302238, 77.2762533], [28.6302006, 77.2777733], [28.6302238, 77.2762533], [28.6368165, 77.2863012], [28.634547, 77.2835016], [28.6371081, 77.2850298], [28.6363985, 77.2856137], [28.6187736, 77.2185552], [28.6188632, 77.2185552], [28.6185594, 77.2185114], [28.6188547, 77.2184654], [28.6188632, 77.2185552], [28.6187207, 77.2185653], [28.552036, 77.120911], [28.5411661, 77.2969779], [28.5413659, 77.2970442], [28.5411385, 77.296874], [28.5411254, 77.2967702], [28.54114, 77.2968044], [28.541291, 77.2968703], [28.5413197, 77.2972363], [28.5412029, 77.2967478], [28.5413284, 77.2971584], [28.5413124, 77.2968302], [28.541297, 77.2972593], [28.541186, 77.2969868], [28.5412728, 77.29685], [28.582058, 77.220711], [28.58455646, 77.22361319], [28.5838333, 77.2205314], [0.0, 0.0], [28.5863699, 77.2264595], [28.5867198, 77.2263697], [28.5829457, 77.2206212], [28.5837437, 77.2205314], [28.5845896, 77.2237649], [28.5845134, 77.226729], [28.5853283, 77.2202427], [28.5834749, 77.2205314], [28.5836257, 77.2268188], [28.5823705, 77.2269022], [28.583169, 77.226729], [28.5953744, 77.1683836], [0.0, 0.0], [28.58222618, 77.22693745], [28.5852944, 77.2264595], [28.5807713, 77.2208457], [28.5857905, 77.2265194], [28.5844597, 77.226711], [28.58456559, 77.22656094], [28.5836343, 77.2269086], [28.5855632, 77.2264595], [28.5821, 77.226937], [0.0, 0.0], [28.5849428, 77.2265367], [28.584686, 77.2239062], [28.5837316, 77.223226], [28.5887789, 77.2258757], [28.5890553, 77.23113], [28.5897758, 77.2194086], [28.58997, 77.225607], [28.58997, 77.225607], [28.5811874, 77.2209805], [28.59026109, 77.22557187], [28.5891449, 77.23113], [28.58415194, 77.21767209], [28.58997, 77.225607], [28.5842189, 77.2264595], [28.58997, 77.225607], [28.5910546, 77.2222225], [28.5922808, 77.2357472], [28.5851606, 77.2203517], [28.5836, 77.22048056], [28.5823457, 77.2284355], [28.5823408, 77.2161735], [28.58161703, 77.21643761], [28.5904431, 77.2210583], [28.5454809, 77.1231232], [28.5422454, 77.1183586], [28.549335, 77.1277978], [28.542164, 77.1184863], [28.54646, 77.1249212], [28.5385371, 77.1166056], [28.5429052, 77.1228985], [28.5452469, 77.1281574], [28.5415025, 77.1180889], [28.5434991, 77.1243021], [28.5437505, 77.1285132], [28.5420749, 77.1291911], [28.5473907, 77.1252807], [28.5472115, 77.1252807], [28.5433267, 77.1240222], [28.5470031, 77.1245783], [28.5455533, 77.1229435], [28.5462109, 77.1237408], [28.5426875, 77.1187632], [28.5467289, 77.1249212], [28.5468118, 77.1267191], [28.5492281, 77.127618], [28.5437174, 77.1285619], [28.5467116, 77.1247414], [28.5500399, 77.1286068], [28.5434422, 77.1242919], [28.5446537, 77.1238424], [28.5459741, 77.1254605], [28.5232706, 77.0996976], [28.5441077, 77.128427], [28.5332421, 77.1077373], [28.5489147, 77.1333427], [28.5386133, 77.1167352], [28.5354421, 77.1137736], [0.0, 0.0], [28.5415117, 77.1181406], [28.5434269, 77.1241504], [28.5443024, 77.1267191], [28.5472207, 77.1250299], [28.541621, 77.1293063], [28.5469805, 77.1247414], [28.5470234, 77.1281314], [0.0, 0.0], [28.5454551, 77.1228536], [28.5435869, 77.1239323], [0.0, 0.0], [28.543156, 77.1241121], [28.5429013, 77.1249279], [28.5438292, 77.125056], [28.5477027, 77.1257302], [28.5434512, 77.1242983], [28.54348, 77.1237525], [28.5430525, 77.1248542], [28.5435989, 77.1231232], [28.5415121, 77.1295415], [28.54953611, 77.12881389], [28.5432284, 77.1239323], [28.5469651, 77.1264494], [28.5495832, 77.1285169], [28.545437, 77.1229265], [28.5494988, 77.1295057], [28.5461773, 77.1238424], [28.5440095, 77.1283371], [28.5413686, 77.1297061], [28.549416, 77.1279227], [28.5505165, 77.1293709], [28.5457776, 77.1252807], [28.5451138, 77.1230334], [28.5442619, 77.126764], [28.67367, 77.2258308], [28.6737511, 77.2258029], [28.6737019, 77.2256961], [28.7030113, 77.2282559], [28.7024763, 77.2287499], [28.7015464, 77.2283906], [28.702491, 77.2284355], [28.7003539, 77.2276272], [28.702491, 77.2284355], [28.7008446, 77.2280763], [0.0, 0.0], [28.7033781, 77.2283457], [28.7000681, 77.2274475], [28.701847, 77.2282559], [28.7024763, 77.2287499], [28.6998976, 77.2275373], [28.7014373, 77.227717], [28.7027192, 77.2284804], [28.7008361, 77.2279864], [28.7028407, 77.2283457], [28.7010323, 77.2281661], [28.7031094, 77.2283457], [28.7003464, 77.2275645], [28.6998485, 77.2274924], [28.7003556, 77.227723], [28.7008275, 77.2278966], [28.70116, 77.2276272], [28.7016678, 77.2282559], [28.5358021, 77.216837], [28.5328102, 77.2077878], [28.5349127, 77.2185591], [28.5379729, 77.2133292], [28.5396208, 77.2132741], [28.5378192, 77.210737], [28.5340199, 77.2097386], [28.534252, 77.218813], [28.5338079, 77.2090133], [28.5338345, 77.2089013], [28.5403273, 77.2127552], [28.5314946, 77.2076299], [28.5403, 77.2202141], [28.5383428, 77.2146666], [28.5340999, 77.2169997], [28.5309799, 77.2189683], [28.5357192, 77.2167814], [28.5337938, 77.2169065], [28.5369107, 77.2129078], [28.5405605, 77.2126586], [28.5341102, 77.209366], [28.5330067, 77.2079315], [28.5394521, 77.2132305], [28.534403, 77.218629], [28.5386054, 77.2137832], [28.538882, 77.2134971], [28.5340507, 77.2096823], [28.5388893, 77.2135137], [28.5341425, 77.2069233], [28.534046, 77.2095102], [28.5335269, 77.2063347], [28.5327826, 77.2078004], [28.534082, 77.2096819], [28.5354885, 77.2155012], [28.5369963, 77.2122866], [28.5369433, 77.2119129], [28.5386851, 77.2135506], [28.5344871, 77.214436], [28.5391434, 77.2132354], [28.53449044, 77.21034631], [28.5357513, 77.2124201], [28.5382487, 77.2143619], [28.5363476, 77.2115336], [28.5386342, 77.2138677], [28.538922, 77.2136687], [28.5322332, 77.2001377], [28.5306173, 77.2191149], [28.5363348, 77.2115555], [28.5364161, 77.2111963], [28.5341236, 77.2093418], [28.5312482, 77.2087849], [28.5340565, 77.2097112], [28.5393306, 77.2133213], [28.5363955, 77.2115266], [28.5366373, 77.2123353], [28.5340283, 77.2090442], [28.5370577, 77.2177996], [28.5342075, 77.2072907], [28.5388893, 77.2136424], [28.5363564, 77.2093777], [28.5406266, 77.2185071], [28.5320727, 77.2000632], [28.538886, 77.2135346], [28.5317046, 77.2079315], [28.539624, 77.2132758], [28.5364058, 77.2116173], [28.5384888, 77.2142624], [28.5331227, 77.2060663], [28.5339573, 77.21055888], [28.5322327, 77.2002839], [28.5363241, 77.211528], [28.5373992, 77.2243276], [28.536674, 77.2121141], [28.5331218, 77.2170275], [28.5406063, 77.2126555], [28.5325807, 77.2036117], [28.5364058, 77.2111802], [28.5384902, 77.2145409], [28.5355604, 77.2104778], [28.5311532, 77.2184409], [28.535704, 77.21051], [28.5364043, 77.2112209], [28.5340992, 77.2072826], [28.5367368, 77.2118497], [28.6268536, 77.2321792], [28.6267282, 77.2319851], [28.62540821, 77.2337174], [28.6304834, 77.2305796], [28.61, 77.22], [28.52182344, 77.29213391], [28.52175981, 77.29338784], [28.6307787, 77.119036], [28.6308872, 77.1186217], [28.6308138, 77.120189], [28.6216271, 77.1193692], [28.6307842, 77.119336], [28.6258469, 77.1144456], [28.6258815, 77.1155946], [28.6258347, 77.1141938], [28.6257821, 77.1160349], [28.6227746, 77.1176174], [28.6307493, 77.120274], [28.6308168, 77.1196062], [28.6307568, 77.1204704], [28.6258268, 77.1118707], [28.6259394, 77.1139522], [28.607116, 77.297847], [28.6089584, 77.2924811], [28.5891462, 77.3081612], [28.5903034, 77.3088206], [28.58521417, 77.30209798], [28.5892005, 77.3062786], [28.6082009, 77.2934295], [28.6071522, 77.2905861], [28.6078005, 77.2938353], [28.6065957, 77.2952484], [28.61013581, 77.30096575], [28.58918625, 77.30109818], [28.5979305, 77.2952961], [28.6080098, 77.2936557], [28.6083198, 77.2928133], [28.6030873, 77.2932581], [28.5898772, 77.3078187], [28.6043403, 77.2930355], [28.6095613, 77.291701], [28.5946814, 77.3122802], [28.5921814, 77.2964127], [28.5978455, 77.2946516], [28.6070462, 77.2904619], [28.6078263, 77.2956989], [28.6045493, 77.2894952], [28.60318802, 77.29358397], [28.6090326, 77.2925747], [28.6071044, 77.2947422], [28.6081948, 77.2938753], [28.6081736, 77.2938857], [28.6044435, 77.293569], [28.5977616, 77.2949573], [28.606978, 77.290883], [28.5890442, 77.3065907], [28.6074925, 77.2952184], [28.6065091, 77.2953531], [28.5977308, 77.2949166], [28.6069738, 77.29047], [28.6078223, 77.2938335], [28.61184943, 77.28870839], [28.6035787, 77.2933571], [28.60690952, 77.29534686], [28.6065417, 77.2956494], [28.60545101, 77.29909826], [28.5894261, 77.3084321], [28.61092375, 77.28917677], [28.5939142, 77.29954], [28.6076829, 77.2957443], [0.0, 0.0], [28.6040018, 77.3347996], [28.6068499, 77.2905678], [28.5975729, 77.2952729], [28.597776, 77.2949672], [28.6087318, 77.29340594], [28.594717, 77.3122819], [28.5901962, 77.3078828], [28.60724844, 77.29497844], [0.0, 0.0], [0.0, 0.0], [28.6073217, 77.295699], [28.5899497, 77.3086422], [28.6097862, 77.2958351], [0.0, 0.0], [28.6067005, 77.29572514], [0.0, 0.0], [0.0, 0.0], [28.6073554, 77.2956929], [28.589274, 77.3063531], [28.60906117, 77.30888665], [28.5903191, 77.3091618], [0.0, 0.0], [0.0, 0.0], [0.0, 0.0], [28.6068399, 77.2905299], [28.6051709, 77.296163], [0.0, 0.0], [28.5905357, 77.3093426], [0.0, 0.0], [28.60682357, 77.29558725], [28.5980675, 77.294938], [28.6073214, 77.2960093], [28.6070669, 77.290606], [28.6082787, 77.2928015], [28.6088911, 77.2935856], [28.6185258, 77.2971024], [28.6198235, 77.3007976], [28.6170417, 77.2960034], [28.6193114, 77.30071865], [28.61981733, 77.30117932], [28.61965104, 77.30196454], [28.6196099, 77.3010973], [28.61961396, 77.29992136], [28.6196741, 77.301318], [28.6189331, 77.3050334], [28.619632, 77.3003716], [28.6199149, 77.3009259], [28.6198516, 77.3013079], [28.6186666, 77.2970156], [28.6196422, 77.3008117], [28.6194659, 77.3008167], [28.619648, 77.3003715], [28.6199122, 77.3002431], [28.6193502, 77.3006489], [28.6195294, 77.3014164], [28.61956952, 77.30168425], [28.6194887, 77.3020302], [28.6192793, 77.3011218], [28.6196855, 77.3012169], [28.6192865, 77.3011572], [28.623975, 77.309698], [28.6191348, 77.2979348], [28.6232139, 77.3094479], [28.6197374, 77.3011572], [28.6038472, 77.3296222], [28.6042683, 77.33470056], [28.6071702, 77.3328617], [28.6032214, 77.3302432], [28.6128083, 77.3363682], [28.6137147, 77.3375211], [28.613483, 77.3369722], [28.61123545, 77.33534496], [28.6054308, 77.3335984], [28.6117841, 77.3360236], [28.6103555, 77.3351273], [28.6014232, 77.3292098], [28.6132677, 77.3364154], [28.6101623, 77.3365387], [28.6078313, 77.3390604], [28.6126674, 77.336318], [28.6077552, 77.3391034], [28.6076461, 77.3390881], [28.6029222, 77.3292915], [28.6040454, 77.3347657], [28.6130176, 77.336751], [28.6134753, 77.3369792], [28.61051668, 77.33557563], [28.6082998, 77.3340142], [28.6134959, 77.3369754], [28.60584544, 77.3363461], [28.60777224, 77.33908128], [28.6133824, 77.337972], [28.61364897, 77.3371065], [28.61080481, 77.3351677], [28.6038407, 77.329599], [28.60797505, 77.33913861], [28.5228127, 77.1814052], [28.5228887, 77.1814337], [28.5227376, 77.1818906], [28.5237475, 77.1938889], [28.5222051, 77.1818649], [28.5244983, 77.1912358], [28.5266192, 77.1901673], [28.5222187, 77.1818522], [28.5222296, 77.1818486], [28.5265467, 77.190347], [28.5279728, 77.1919008], [28.515336, 77.1790259], [28.5230624, 77.1956559], [28.5266257, 77.1873875], [28.5278328, 77.192373], [28.527825, 77.1937384], [28.5213242, 77.1799022], [28.525991, 77.192244], [28.5278198, 77.1937245], [28.5239134, 77.1898485], [28.7240647, 77.1135938], [28.7240733, 77.1136837], [28.7241629, 77.1136837], [28.494557, 77.1444781], [28.4785954, 77.1280511], [28.4932341, 77.1482134], [28.493198, 77.1459577], [28.5009424, 77.1663774], [28.4940407, 77.1651082], [28.4798478, 77.1257624], [28.4941305, 77.1449374], [28.4945103, 77.1501341], [28.4940831, 77.1451213], [28.4930732, 77.1462741], [28.4932439, 77.164633], [28.4786827, 77.1208414], [28.4801014, 77.124642], [28.49366438, 77.14572687], [28.4975958, 77.1603368], [28.4997301, 77.1618543], [28.4925721, 77.1465358], [28.4945886, 77.1444856], [28.4968258, 77.1604883], [28.49609444, 77.14563056], [28.4996281, 77.1442598], [28.500868, 77.1663257], [28.5020291, 77.1682117], [28.4945867, 77.1443624], [28.5456553, 77.126809], [28.494763, 77.1457322], [28.4945672, 77.1443655], [28.494662, 77.145774], [28.4960891, 77.162106], [28.4975835, 77.1603672], [28.4949478, 77.1606287], [28.4946506, 77.1457079], [28.4936685, 77.1457358], [28.52954866, 77.22022153], [28.53013602, 77.21950337], [28.5293802, 77.2200822], [28.52937369, 77.22012531], [28.52987562, 77.21996941], [28.6465486, 77.242985], [28.6463865, 77.2431646], [28.6464675, 77.2430748], [28.6464675, 77.2430748], [28.6463374, 77.2431197], [28.6463865, 77.2431646], [28.7053075, 77.1957717], [28.7046135, 77.1901231], [28.7060386, 77.1906165], [28.7059577, 77.1907064], [28.7058889, 77.1899876], [28.7057614, 77.1905267], [28.7051811, 77.1900774], [28.7084444, 77.1914251], [28.7082825, 77.1916048], [28.7065192, 77.190546], [28.7068586, 77.1907078], [28.7086256, 77.1914273], [28.7060128, 77.190347], [28.7058031, 77.1904379], [28.7064175, 77.1898978], [28.7066366, 77.1905958], [28.7061024, 77.190347], [28.7074189, 77.19147], [28.7059747, 77.1902762], [28.7050829, 77.1899876], [28.7057958, 77.1908861], [28.7057958, 77.1908861], [28.7059465, 77.1901224], [28.7072177, 77.1908398], [28.7059982, 77.1906614], [28.705002, 77.1900774], [28.7070075, 77.1843721], [28.7094795, 77.1854054], [28.7084342, 77.1847764], [28.7092918, 77.1853155], [28.7077411, 77.1845518], [28.7092918, 77.1853155], [28.7070075, 77.1843721], [28.7084514, 77.1849561], [28.7093409, 77.1853604], [28.70696168, 77.18417834], [28.656862, 77.1467199], [28.657132, 77.1467244], [28.6569524, 77.1466016], [28.6568605, 77.1467395], [28.6571714, 77.1471307], [28.6567691, 77.1466243], [28.6568454, 77.1467447], [28.656802, 77.146731], [28.6568816, 77.1467418], [28.6567624, 77.1468835], [28.6568545, 77.1467374], [28.6568576, 77.1467208], [28.6571438, 77.1467938], [28.6568519, 77.1468714], [28.6570013, 77.146751], [28.6571824, 77.1469278], [28.6568579, 77.1467263], [28.6568576, 77.146741], [28.6568212, 77.146642], [28.6570681, 77.1466576], [28.656931, 77.1469965], [28.6569808, 77.146758], [28.6571509, 77.1468497], [28.5796973, 77.1701749], [28.5799686, 77.1706691], [28.57900639, 77.18306556], [28.5799748, 77.1702647], [28.5795586, 77.1701299], [28.6575224, 77.1420513], [28.6595295, 77.1408316], [0.0, 0.0], [28.6581968, 77.142103], [28.6590321, 77.1397456], [28.6567779, 77.1399797], [28.6578471, 77.1401443], [28.6576259, 77.14251], [28.6567194, 77.1395053], [28.658983, 77.1414135], [28.6594663, 77.139708], [28.6617937, 77.1414048], [0.0, 0.0], [28.6588206, 77.1433724], [0.0, 0.0], [28.6577012, 77.1399344], [28.6590028, 77.1398511], [28.6566565, 77.1399823], [28.6570966, 77.1411461], [28.6594485, 77.1409215], [28.6576448, 77.1424685], [28.6562368, 77.1396116], [28.6587838, 77.1414608], [28.6576159, 77.1389292], [28.6575323, 77.1421854], [0.0, 0.0], [28.6588187, 77.1428234], [28.6574122, 77.1392457], [28.6576022, 77.1422037], [28.6581714, 77.1411461], [28.6594736, 77.1389966], [28.6582366, 77.1419683], [28.6574573, 77.1391896], [28.6621083, 77.1461711], [28.6570186, 77.1414553], [0.0, 0.0], [0.0, 0.0], [0.0, 0.0], [28.6570788, 77.1400711], [28.6585987, 77.1424589], [28.7112918, 77.2152884], [28.7006026, 77.2086741], [28.7094307, 77.2190493], [28.7064006, 77.2121775], [28.70477557, 77.2137611], [28.699566, 77.2081351], [28.7117849, 77.2160401], [0.0, 0.0], [28.7105973, 77.2151578], [28.7102543, 77.2118241], [28.6995605, 77.2083401], [28.7129957, 77.215591], [28.7110956, 77.2146979], [28.7123548, 77.2156863], [28.7111617, 77.2151419], [28.7064044, 77.2123452], [28.7115878, 77.2163058], [28.7103677, 77.2077758], [28.7108844, 77.2144524], [28.7125884, 77.2155461], [28.7135608, 77.2162337], [28.7091523, 77.2137944], [28.7054069, 77.2120877], [28.7120622, 77.21613], [28.70302109, 77.21114504], [28.699566, 77.2081351], [28.7092739, 77.2184653], [28.7122793, 77.215591], [28.7103505, 77.2090651], [28.7102021, 77.2054728], [28.7130677, 77.2087734], [28.7102675, 77.2150185], [28.7142165, 77.2090968], [28.7146792, 77.2091154], [28.7115817, 77.2214682], [28.7118254, 77.2159952], [28.7140298, 77.2163995], [28.7091683, 77.2187711], [0.0, 0.0], [28.7119855, 77.2148134], [28.7092358, 77.2187133], [28.7110206, 77.2146029], [28.7089822, 77.2187785], [28.7094798, 77.2190942], [28.7099879, 77.2187376], [28.7066288, 77.2122224], [28.7111101, 77.2211601], [28.7062833, 77.2122334], [28.7106791, 77.2156892], [28.7105709, 77.2157015], [28.7089927, 77.2188042], [28.7094348, 77.2185861], [28.7117332, 77.2160901], [28.7140827, 77.2090421], [28.7103288, 77.2156916], [28.7126375, 77.215591], [28.7122793, 77.215591], [28.7122793, 77.215591], [28.7093643, 77.2187996], [0.0, 0.0], [28.7104357, 77.2155653], [28.709454, 77.2188247], [28.7102514, 77.208094], [28.7091854, 77.2188247], [28.7093068, 77.2188953], [28.7095569, 77.2192812], [28.7120416, 77.2146844], [28.7111556, 77.2155461], [28.5581521, 77.1715403], [28.5589002, 77.1713073], [28.5568282, 77.1742101], [28.5554352, 77.1750799], [28.5550108, 77.1759375], [28.5581944, 77.171471], [28.5569323, 77.1710298], [28.5557779, 77.1744294], [28.551484, 77.173877], [28.5550022, 77.1759362], [28.556519, 77.1720143], [28.5568582, 77.1716444], [28.554897, 77.1760003], [28.5563417, 77.1719392], [28.5568492, 77.1741505], [28.5586338, 77.1707693], [28.556875, 77.1717215], [28.5563192, 77.1718939], [28.553128, 77.1686131], [28.5556707, 77.175016], [28.5532273, 77.1682791], [28.5555979, 77.1751965], [28.5588962, 77.1708462], [28.5587394, 77.1707986], [28.5568298, 77.1729675], [28.5582757, 77.1714827], [28.5569236, 77.1709048], [28.5551434, 77.1745474], [28.5563007, 77.1721867], [28.5564964, 77.1719215], [28.5580838, 77.1706433], [28.5567681, 77.1730086], [28.5586286, 77.1708774], [28.5566765, 77.1716186], [28.5577256, 77.1727207], [28.5568164, 77.1718111], [0.0, 0.0], [28.5560668, 77.1742272], [28.5589502, 77.1713649], [28.5266192, 77.1901673], [28.5588623, 77.170693], [28.5566063, 77.1718481], [28.5581547, 77.1732311], [28.6134511, 76.9857462], [28.6180639, 77.012198], [28.5589382, 77.0036364], [28.6096384, 76.9854417], [28.5607897, 77.0024495], [28.6283564, 76.9967933], [28.5910043, 76.9969561], [28.6053412, 76.9869396], [28.6125711, 76.9906888], [28.6157878, 76.9759687], [28.6076142, 76.9847266], [28.610581, 76.9817555], [28.6103695, 76.9718366], [28.6361375, 76.9622705], [28.6107987, 76.9807734], [28.6315566, 77.0003579], [28.601061, 76.9886171], [28.6130492, 76.9856908], [28.6170305, 77.0094083], [28.590591, 77.0028244], [28.5906017, 76.9935221], [28.6119984, 76.9911162], [28.6072328, 76.9858424], [28.6095844, 76.9853771], [28.5605204, 77.0025685], [28.6210795, 76.9872421], [28.6135195, 76.9858415], [28.5996154, 76.9890278], [28.6159872, 76.9736469], [28.6110748, 76.9752946], [28.6130409, 76.9856999], [28.5910291, 77.0006609], [28.6360808, 76.9621244], [28.5653143, 77.0005841], [28.6121768, 76.9910272], [28.6091697, 76.9852777], [28.6091697, 76.9852777], [28.6112347, 76.9753189], [28.6179639, 77.0117519], [28.6090439, 76.9654941], [28.6359913, 76.9622191], [28.6098677, 76.9923844], [28.609072, 76.9638597], [28.6127374, 76.9910765], [28.6100946, 76.9856215], [28.6164413, 77.0076551], [28.6112432, 76.9753796], [28.5905484, 76.993457], [28.6169779, 76.9838181], [28.6088552, 76.9856129], [28.6123474, 76.9909045], [28.6024678, 76.9879296], [28.6112536, 76.9748922], [28.6032958, 76.9877493], [28.6101996, 76.9711827], [28.6150289, 76.9840836], [28.6124522, 76.9909279], [28.5906226, 76.9932051], [28.613206, 76.9797118], [28.5914718, 77.0007571], [28.69273348, 77.08195768], [28.6827398, 77.0690735], [28.6934044, 77.0820784], [28.6521647, 77.0700586], [28.67897397, 77.06540443], [28.6818432, 77.0681466], [28.68232512, 77.05472823], [28.67583363, 77.06247076], [28.68263808, 77.02933475], [28.6823752, 77.0688571], [28.67784092, 77.06424572], [28.6927975, 77.0820767], [28.68202569, 77.03108288], [28.68247071, 77.0287839], [28.6821182, 77.0408396], [28.6803916, 77.066475], [0.0, 0.0], [28.6819199, 77.0695034], [28.6801056, 77.0662951], [28.6833297, 77.0690832], [28.69123205, 77.0719688], [28.6467438, 77.0228319], [28.6761455, 77.0625067], [28.68654323, 77.07009997], [28.6743958, 77.06082389], [28.6646411, 77.0528602], [28.64669598, 77.02514146], [28.68209451, 77.04071805], [28.66742137, 77.06034612], [28.6536022, 77.0721833], [28.6529874, 77.0713543], [28.69252378, 77.08171561], [28.6812756, 77.0672844], [28.66539, 77.053748], [28.68172684, 77.06931744], [28.64712056, 77.02335276], [28.6779685, 77.0642756], [28.678402, 77.064828], [28.67799829, 77.06413608], [28.6763063, 77.0626796], [28.67898074, 77.0654346], [28.6321812, 77.1384794], [28.6282528, 77.136724], [28.6324507, 77.1384323], [28.6287097, 77.1367966], [28.6276292, 77.1462701], [28.628999, 77.137174], [28.6256939, 77.1341651], [28.6233571, 77.1354441], [28.6309493, 77.1384175], [28.6199849, 77.1380897], [28.6298959, 77.137511], [28.631853, 77.1385567], [28.6238474, 77.1556191], [28.6242844, 77.1559168], [28.6327034, 77.1381832], [28.6314816, 77.1468968], [28.6323154, 77.148368], [28.6203669, 77.1365287], [28.6268623, 77.1354417], [28.6285958, 77.1451395], [28.6291147, 77.1371626], [0.0, 0.0], [28.6276237, 77.1462754], [0.0, 0.0], [28.6238747, 77.1556452], [28.6299888, 77.1375944], [28.6286201, 77.14178972], [28.6322418, 77.14808], [28.6223499, 77.1357642], [28.6205175, 77.1364744], [28.6223489, 77.1358184], [28.6286826, 77.136788], [28.6319525, 77.137828], [28.6244092, 77.1558888], [0.0, 0.0], [28.6312058, 77.146829], [28.6220182, 77.1362918], [28.6281257, 77.1368633], [28.6317769, 77.1383317], [28.6223096, 77.1357857], [28.6271441, 77.1470434], [28.6311566, 77.1469131], [28.6204842, 77.136184], [28.6253211, 77.134618], [28.622227, 77.1356151], [28.6308841, 77.1465469], [28.6292946, 77.1371165], [28.6314962, 77.1468595], [28.6296677, 77.146539], [0.0, 0.0], [28.6213659, 77.1363776], [0.0, 0.0], [28.6267926, 77.1350843], [0.0, 0.0], [28.84061467, 77.12731652], [28.8002781, 77.0356003], [28.80619877, 77.04952508], [28.84056856, 77.09081333], [28.85517216, 77.08952788], [28.85192847, 77.0880292], [28.79751667, 77.03510278], [28.85510345, 77.0895081], [28.5489159, 77.252055], [28.5501583, 77.2509774], [28.548633, 77.2541182], [28.5478786, 77.2515162], [28.5490183, 77.2531326], [28.549693, 77.2507978], [28.5478742, 77.2524142], [28.5501668, 77.2510672], [28.5484867, 77.2523434], [28.5486641, 77.2528555], [28.5482884, 77.252055], [28.5492872, 77.2531326], [28.5491128, 77.2509473], [28.5485744, 77.2522346], [28.5483354, 77.251606], [28.549901, 77.250474], [28.5487963, 77.2526836], [28.5498766, 77.2498998], [28.5501754, 77.251157], [28.5490569, 77.250708], [28.5498979, 77.2510672], [28.5490976, 77.2511424], [28.5501754, 77.251157], [28.5487046, 77.2521897], [28.5478786, 77.2515162], [28.5473151, 77.2512468], [28.5471678, 77.2511121], [28.5494455, 77.2500794], [28.547266, 77.2512019], [28.5471755, 77.2509547], [28.549027, 77.2513366], [28.5501242, 77.2506182], [28.6916888, 77.1483815], [28.693387, 77.1496283], [28.6912959, 77.152022], [28.6926578, 77.1528753], [28.6937883, 77.1497297], [28.6936352, 77.1499993], [28.6937247, 77.1499993], [28.6937161, 77.1499094], [28.6936956, 77.1506285], [28.6913437, 77.1522462], [28.6933956, 77.1493702], [28.6938779, 77.1497297], [28.6940829, 77.1499993], [28.6934012, 77.150756], [28.6941379, 77.1496398], [28.6937883, 77.1497297], [28.6933978, 77.1512576], [28.6934043, 77.1494601], [28.6941293, 77.1495499], [28.6953879, 77.1519316], [28.6937824, 77.1501341], [28.6936006, 77.1496398], [28.6937161, 77.1499094], [28.6930828, 77.151707], [28.6934788, 77.1511677], [28.6937161, 77.1499094], [28.6927106, 77.1518301], [28.6936352, 77.1499993], [28.6937797, 77.1496398], [28.6931637, 77.1516171], [28.6939598, 77.1502307], [28.6936265, 77.1499094], [28.6925061, 77.1489657], [28.694444, 77.147338], [28.6937247, 77.1499993], [28.6916209, 77.1523361], [28.6937508, 77.1497494], [28.6930397, 77.1512576], [28.6931087, 77.1519766], [28.6932029, 77.1518426], [28.6936643, 77.1493702], [28.6939329, 77.1493702], [28.6923578, 77.1516171], [0.0, 0.0], [28.6926883, 77.1490259], [28.6933618, 77.1513743], [28.6907955, 77.1502689], [28.6912864, 77.1507183], [28.56240125, 77.26883523], [28.57086609, 77.26652149], [28.57094736, 77.26684134], [0.0, 0.0], [28.56238181, 77.28829969], [28.5693697, 77.26801079], [28.56563745, 77.27004256], [28.5613894, 77.2687116], [28.56971362, 77.26754777], [28.5613573, 77.2688462], [28.56088235, 77.27258228], [28.56929078, 77.2682086], [28.5691783, 77.26803929], [28.56250019, 77.28950668], [28.5613147, 77.2683973], [28.561703, 77.268271], [28.5613658, 77.268936], [28.56298018, 77.29113277], [28.56921452, 77.2681563], [28.55941173, 77.27250919], [28.5603414, 77.27289509], [28.570839, 77.26689197], [28.5608741, 77.27209244], [28.56489598, 77.28855785], [0.0, 0.0], [28.57473537, 77.26416081], [28.56528, 77.271844], [28.55982665, 77.27205321], [28.563202, 77.268831], [28.56159495, 77.29254572], [28.5613573, 77.2688462], [28.561936, 77.268211], [28.565383, 77.268779], [0.0, 0.0], [0.0, 0.0], [28.56308413, 77.2912015], [0.0, 0.0], [0.0, 0.0], [0.0, 0.0], [0.0, 0.0], [0.0, 0.0], [28.56252021, 77.28850622], [28.56077074, 77.27276199], [28.56047774, 77.27276031], [0.0, 0.0], [0.0, 0.0], [28.56164062, 77.27047574], [28.5902907, 77.2525938], [28.5910927, 77.2440626], [28.5912845, 77.2413685], [28.591272, 77.2440626], [28.5916689, 77.2435238], [28.5922428, 77.242491], [28.59126791, 77.2436513], [28.5923217, 77.2419073], [28.591272, 77.2440626], [28.5896164, 77.2530428], [28.5256742, 77.2835266], [0.0, 0.0], [28.50184423, 77.28726067], [28.5003643, 77.2885264], [28.50129443, 77.28724223], [28.5014785, 77.287153], [28.5275256, 77.2729071], [28.501281, 77.287037], [28.5357956, 77.2800843], [28.5370818, 77.2806012], [28.5345304, 77.2781976], [28.5327507, 77.2759158], [28.5344146, 77.278399], [28.5378847, 77.2753817], [28.642553, 77.1064348], [28.6421961, 77.1065259], [28.6426602, 77.1065016], [28.6417977, 77.1068818], [28.6426643, 77.1064258], [28.6423028, 77.1059714], [28.6426609, 77.106404], [28.6424049, 77.1064285], [28.642365, 77.1064014], [28.642112, 77.1062108], [28.642704, 77.1065917], [28.6422203, 77.1062245], [28.6425056, 77.1059749], [28.6425574, 77.1062179], [28.6421265, 77.106489], [28.6426228, 77.1063059], [28.6424982, 77.1065639], [28.6427806, 77.1063609], [28.6424495, 77.1068457], [28.6419495, 77.1063393], [28.6424575, 77.1069047], [28.6421787, 77.1060471], [28.6424882, 77.1064068], [28.6423578, 77.1064559], [28.6421902, 77.1065198], [28.6423346, 77.1064741], [0.0, 0.0], [28.64599167, 77.21546111], [28.64486111, 77.21439444], [28.641786, 77.224386], [28.6407217, 77.2110097], [28.6429341, 77.22227074], [28.6406664, 77.2113691], [28.6409218, 77.2102911], [28.6402223, 77.2104708], [28.64379167, 77.21226389], [28.64084258, 77.21339095], [28.64558376, 77.21074697], [28.64251389, 77.21537778], [28.64106944, 77.21334167], [28.64102619, 77.21350629], [28.64601747, 77.21406352], [28.64588388, 77.21419964], [28.6417221, 77.21711855], [28.64665684, 77.21133538], [28.6418801, 77.21048], [28.64538, 77.21650167], [28.62486609, 77.20943915], [0.0, 0.0], [28.64754161, 77.21159454], [28.6407474, 77.2112792], [28.64533983, 77.21226476], [28.64423731, 77.21077781], [28.640825, 77.21124167], [28.64102, 77.2103809], [28.64062222, 77.21045556], [28.64574667, 77.21796833], [28.64710556, 77.20978611], [28.640745, 77.2107852], [28.638784, 77.2094826], [28.6408418, 77.2122674], [28.64522214, 77.21423384], [28.64571111, 77.21111389], [28.64784229, 77.21426713], [28.64436148, 77.21523765], [28.64569263, 77.21764829], [28.6421442, 77.2104258], [28.64012372, 77.21072584], [28.64063, 77.21341833], [28.64541167, 77.21133667], [0.0, 0.0], [28.64613634, 77.21123043], [28.64581886, 77.21554611], [28.6406874, 77.2106504], [28.6404495, 77.2131708], [28.64141166, 77.21558299], [28.64154113, 77.21615497], [28.64598569, 77.21508846], [28.645035, 77.217927], [28.64525804, 77.21109062], [28.64583167, 77.21598167], [28.64058864, 77.21702065], [28.6405487, 77.2106055], [28.64481668, 77.21376009], [28.6441564, 77.21574157], [28.64588182, 77.21521385], [28.65449722, 77.20937222], [28.65731111, 77.21249444], [28.6387755, 77.2093928], [28.64217671, 77.21832521], [28.6423212, 77.2104544], [28.590995, 77.0909272], [28.5999471, 77.081824], [28.5859879, 77.0875177], [28.5988478, 77.0816013], [28.5851308, 77.0893327], [28.5990759, 77.0818086], [28.5974151, 77.0815144], [28.5910707, 77.0909658], [28.5899658, 77.0811572], [28.5852411, 77.0892552], [28.5959508, 77.0808459], [28.5891867, 77.0803073], [28.5886994, 77.0807273], [28.6054188, 77.0830226], [28.6041636, 77.0688245], [28.5990759, 77.0818086], [28.5955838, 77.0976348], [28.6106461, 77.0842816], [28.5828978, 77.0902799], [28.5913425, 77.093073], [28.597615, 77.10086], [28.5901329, 77.0889332], [28.5974807, 77.1007496], [28.6076275, 77.0817653], [28.6029698, 77.0688364], [28.5872923, 77.0851879], [28.5912498, 77.0907871], [28.5885001, 77.0910041], [28.5931848, 77.0864659], [28.6003471, 77.0819105], [28.59918909, 77.07506843], [28.6048103, 77.0821745], [28.6057682, 77.1079132], [28.6061412, 77.068718], [28.583836, 77.0911161], [28.6093193, 77.083122], [28.5861677, 77.0917506], [28.60761477, 77.10199412], [28.6005361, 77.0824439], [28.6006231, 77.101591], [28.6069426, 77.076292], [28.5912032, 77.0927191], [28.6040477, 77.068668], [28.5845283, 77.0902079], [28.6004059, 77.0817069], [28.5942717, 77.0961177], [28.5871261, 77.0909455], [28.5867302, 77.0875638], [0.0, 0.0], [28.5848753, 77.0899375], [28.596432, 77.0849466], [28.5865739, 77.0918982], [28.5830299, 77.0903881], [28.6040693, 77.10665], [28.6030799, 77.0687114], [28.5962898, 77.0847547], [28.60444754, 77.08320702], [28.583969, 77.0909427], [28.5883368, 77.0893623], [28.6062929, 77.0686475], [28.5921535, 77.1622219], [28.5921535, 77.1622219], [28.5921535, 77.1622219], [28.5921448, 77.162132], [28.5921535, 77.1622219], [28.5921362, 77.1620421], [28.5921448, 77.162132], [28.5921535, 77.1622219], [28.5921448, 77.162132], [28.5438243, 77.2300888], [28.543918, 77.2301503], [28.5420321, 77.2260944], [28.5480806, 77.2112423], [28.6079937, 77.230028], [28.6079866, 77.2297975], [28.6080413, 77.2298169], [28.6080707, 77.2297892], [28.6080468, 77.2298329], [28.6079765, 77.2300185], [28.6080723, 77.2298055], [28.6081696, 77.2305318], [28.6081402, 77.229733], [28.6080483, 77.2297998], [28.619105, 77.2853799], [28.6187643, 77.2843146], [28.6213874, 77.2847393], [28.62789848, 77.21252906], [0.0, 0.0], [0.0, 0.0], [28.6192264, 77.2858165], [28.6213699, 77.2847055], [28.62103989, 77.28373256], [28.6213841, 77.2847283], [28.6180762, 77.2835092], [28.6238533, 77.2857811], [28.6210849, 77.2849549], [28.6185463, 77.2842381], [28.6180657, 77.2833786], [0.0, 0.0], [28.6185799, 77.2847755], [28.618738, 77.2843343], [28.62235249, 77.29241386], [28.6193685, 77.280266], [28.6725877, 77.1028857], [28.6726853, 77.1029262], [28.6628265, 77.1086886], [28.6689519, 77.1047423], [28.6700417, 77.1024553], [28.667271, 77.090488], [28.6727831, 77.0881856], [28.6704942, 77.1088139], [28.66483434, 77.08939813], [28.6755527, 77.1041432], [28.6800158, 77.0876088], [28.6768613, 77.1043703], [28.6772543, 77.1113214], [28.67279557, 77.10953582], [28.6707476, 77.1101679], [28.6764727, 77.1044433], [28.66980833, 77.10151667], [28.6625244, 77.1005941], [28.6684312, 77.1011865], [28.6645411, 77.091691], [28.67004128, 77.10144192], [28.6636449, 77.0923895], [28.6770198, 77.1043454], [28.6702286, 77.0845702], [28.66237699, 77.10041028], [28.6705118, 77.083637], [28.6743735, 77.1037178], [28.66843611, 77.10166944], [28.6651734, 77.0923449], [28.6726943, 77.1090579], [28.6732969, 77.0883005], [28.663641, 77.0921794], [28.6700821, 77.1085776], [28.66727869, 77.09194355], [28.6644992, 77.0916769], [28.6656865, 77.1078468], [28.6702637, 77.0850323], [28.6609267, 77.0917501], [28.66988331, 77.08380103], [28.6684011, 77.1011338], [28.6622052, 77.1006085], [28.6643779, 77.0916553], [28.66843981, 77.10143723], [28.66197022, 77.1008109], [28.6770448, 77.1113276], [28.6701038, 77.1018159], [28.6626766, 77.1005797], [28.6621865, 77.1005772], [28.6698165, 77.1089081], [28.6691804, 77.1048462], [28.6700408, 77.1073558], [28.6626539, 77.100584], [28.67277733, 77.08830345], [28.6701078, 77.1088081], [28.6733616, 77.0881834], [28.6700688, 77.0876301], [28.6342441, 77.3095668], [28.6351477, 77.3102527], [28.6279757, 77.3082555], [28.6347816, 77.3040401], [0.0, 0.0], [28.6311367, 77.3061913], [28.6238399, 77.3014118], [28.6280118, 77.3080199], [28.6295053, 77.079438], [28.6977426, 77.1405619], [28.7126174, 77.1411462], [28.7085403, 77.1355283], [28.7128025, 77.1473489], [28.7120026, 77.138944], [28.6987597, 77.1390339], [28.68867, 77.1348248], [28.6888166, 77.1296855], [28.7052826, 77.1414823], [28.7147226, 77.1452027], [28.7145998, 77.1452869], [28.6880009, 77.1351688], [28.6998969, 77.1450145], [28.7013542, 77.1357531], [28.6939262, 77.1306743], [28.7007092, 77.1499993], [28.6992587, 77.1394556], [28.6886191, 77.1350789], [28.70384, 77.1406518], [28.7183711, 77.1404369], [28.7039917, 77.1459548], [28.7147518, 77.14529034], [28.7062841, 77.138135], [28.6883727, 77.1350596], [28.7146757, 77.1453257], [28.7119934, 77.1416405], [28.68571, 77.1360227], [28.6893243, 77.1331014], [28.6877493, 77.1351915], [28.6882703, 77.121461], [28.6880453, 77.1300451], [28.7122653, 77.1415008], [28.714488, 77.1452358], [28.7147566, 77.1452358], [28.6834858, 77.1357081], [28.6882083, 77.1215051], [28.7052868, 77.1417304], [28.6991601, 77.1393754], [28.7052961, 77.1390339], [28.7133009, 77.1401237], [28.7052868, 77.1417304], [28.70533, 77.1421798], [28.7063335, 77.1382808], [28.6882488, 77.1214601], [28.710052, 77.1437977], [28.6999935, 77.1369665], [28.6954275, 77.13418], [28.6912752, 77.1058511], [28.7049836, 77.1413709], [28.7049788, 77.1447393], [28.7065181, 77.1377755], [28.7071071, 77.1393205], [28.7067569, 77.1375505], [28.6917172, 77.1402923], [28.6838684, 77.1304079], [28.6953352, 77.1336856], [28.7012377, 77.1355462], [28.6984959, 77.1400381], [28.701269, 77.1355856], [28.7012878, 77.1355283], [0.0, 0.0], [28.6930758, 77.1116159], [28.6885884, 77.1296406], [28.6997487, 77.1455953], [28.6992827, 77.1379553], [28.70012968, 77.14499371], [28.6884763, 77.1290202], [28.69919, 77.1393218], [28.6955603, 77.1346295], [0.0, 0.0], [28.6861274, 77.1291911], [28.6882228, 77.1217587], [28.7046286, 77.140472], [28.7008747, 77.1358879], [28.7085129, 77.1355204], [28.712165, 77.141747], [28.7064856, 77.1426944], [28.7100972, 77.1437283], [28.7122306, 77.1416255], [28.7129394, 77.1406183], [28.7132994, 77.1401987], [28.7132876, 77.1402024], [28.7017575, 77.1339547], [28.6836909, 77.1359778], [28.7032305, 77.1325545], [28.6143292, 77.2405602], [28.6131676, 77.2419091], [28.71318, 77.1369983], [28.7159746, 77.1346295], [28.7153479, 77.1346295], [28.7155992, 77.1344497], [28.710643, 77.1331449], [28.7098286, 77.1344612], [28.7127596, 77.1375058], [28.7106084, 77.1333485], [28.7128377, 77.1369216], [28.7154778, 77.1345845], [28.7143111, 77.1340901], [28.7101555, 77.1337829], [28.7132323, 77.1371188], [28.7124595, 77.1362474], [28.7124101, 77.1375957], [28.7155806, 77.1343223], [28.7153016, 77.1350789], [28.6414658, 77.2958299], [28.6434655, 77.2974723], [28.6393251, 77.2947783], [28.6424569, 77.2959927], [28.6424299, 77.2982982], [28.6393333, 77.2949499], [28.6427964, 77.296273], [28.6347371, 77.2908794], [28.6427539, 77.2956527], [28.6342718, 77.2909933], [28.6428704, 77.296126], [28.6427202, 77.2964641], [28.6424226, 77.2959509], [28.6413119, 77.2938388], [28.6424254, 77.2982982], [28.64106087, 77.29361692], [28.6345502, 77.2907956], [28.6326548, 77.2860243], [28.6397613, 77.2918406], [28.6397222, 77.294789], [28.6408942, 77.2908649], [28.6430348, 77.2975458], [28.6343075, 77.2910228], [28.6409665, 77.2911149], [0.0, 0.0], [28.642275, 77.2979211], [28.6327398, 77.2860621], [28.642482, 77.2960691], [28.6345491, 77.2912335], [28.642713, 77.294171], [28.642748, 77.2963039], [28.6425644, 77.2959276], [0.0, 0.0], [28.6424671, 77.2959775], [28.6405983, 77.2943559], [28.6427625, 77.2963876], [28.6394682, 77.2942644], [28.6342767, 77.2909535], [28.6378195, 77.2885921], [28.640916, 77.2907846], [28.6401732, 77.2941345], [28.634274, 77.2910726], [28.6342674, 77.2909771], [28.6398152, 77.2945991], [28.6393314, 77.2957374], [28.6428518, 77.2959899], [28.6425454, 77.296024], [28.634305, 77.2909616], [28.6425109, 77.2959279], [28.725814, 77.144054], [28.725814, 77.144054], [28.552711, 77.122934], [28.552732, 77.12289], [28.552711, 77.122934], [28.6700104, 77.1331919], [28.66622877, 77.12556068], [28.67063315, 77.13308394], [28.66660385, 77.1215605], [28.66729693, 77.11450998], [28.66660532, 77.12344006], [28.66595077, 77.12736078], [28.66690979, 77.12029751], [28.66653148, 77.12341726], [28.67067669, 77.13267021], [28.66598342, 77.12687194], [28.66921407, 77.14631662], [28.67114118, 77.13436034], [28.67047254, 77.13409312], [28.66601166, 77.1260123], [28.66599607, 77.12674689], [28.66570983, 77.12598313], [28.66539211, 77.12608337], [28.66676065, 77.11728808], [28.67093203, 77.13452697], [28.67111912, 77.13411123], [28.6661817, 77.1255647], [28.66934925, 77.14233086], [28.67092056, 77.13278923], [28.67103528, 77.13415582], [28.66992391, 77.13446863], [28.6701719, 77.13310942], [28.67024103, 77.13306617], [28.66684831, 77.11976878], [28.67055843, 77.13401467], [28.6656307, 77.1260133], [28.66650942, 77.12363921], [28.67075935, 77.13329248], [28.66658796, 77.12443449], [28.67064904, 77.13270139], [28.66667416, 77.12327108], [28.66922319, 77.14290284], [28.670435, 77.133327], [28.66642175, 77.12789018], [28.66598725, 77.1270882], [28.66572954, 77.12141566], [28.66621389, 77.12603889], [28.66714249, 77.12002393], [28.66681066, 77.12182269], [28.66655119, 77.12365262], [28.67001569, 77.13315569], [28.66622, 77.125859], [28.6669277, 77.1199768], [28.66594841, 77.12720487], [28.67033898, 77.13317614], [28.66657825, 77.12184951], [28.66624642, 77.12559488], [28.6706461, 77.13377662], [28.66695157, 77.11988546], [28.67056226, 77.13307187], [28.66624083, 77.12735139], [28.66654178, 77.12199099], [28.67409075, 77.1290395], [28.66666563, 77.12192863], [28.6665862, 77.1224178], [28.5233797, 77.2069673], [28.5232693, 77.2075519], [28.5229168, 77.2070008], [28.5233392, 77.2070122], [28.52352259, 77.20727418], [28.52317764, 77.20790416], [28.5233853, 77.2070566], [28.52335409, 77.20765002], [28.52352259, 77.20727418], [28.52338296, 77.20744852], [28.5234779, 77.2070571], [28.52332287, 77.20718265], [28.52294227, 77.20764901], [28.5413709, 77.1859094], [28.54047405, 77.18545038], [28.5365468, 77.1832793], [28.537381, 77.181133], [28.5408514, 77.1855515], [28.5424845, 77.186376], [28.539589, 77.182736], [28.54150757, 77.18569312], [28.5419777, 77.1852381], [28.5416196, 77.1857394], [0.0, 0.0], [28.5415131, 77.1862789], [28.54039444, 77.18585833], [28.5361558, 77.1884819], [28.54186954, 77.18608741], [28.5413154, 77.1857753], [28.54151493, 77.1864086], [28.5418908, 77.1863386], [28.536976, 77.182236], [0.0, 0.0], [28.54210988, 77.18650181], [28.546945, 77.189514], [28.542264, 77.1856278], [28.5645773, 77.1802838], [28.5750988, 77.1759708], [28.5724323, 77.1738591], [28.5726799, 77.1675179], [28.5642644, 77.1779476], [28.5643243, 77.1818562], [28.5734538, 77.1728257], [28.5644842, 77.1779027], [28.5650684, 77.1807331], [28.5661453, 77.1760591], [28.5651411, 77.1672392], [28.5647542, 77.1778359], [28.5726386, 77.1672793], [28.567461, 77.175631], [28.5652136, 77.1672543], [28.5647404, 77.181991], [28.5642458, 77.1784594], [28.5724166, 77.1671335], [28.5737361, 77.173904], [28.5626093, 77.1793853], [28.5660557, 77.1760606], [28.5751601, 77.1784867], [28.5723659, 77.1670746], [28.5659833, 77.1762403], [28.5658333, 77.1884619], [28.5771926, 77.1741183], [28.5652799, 77.167479], [28.5659747, 77.1761505], [28.5629421, 77.1791157], [28.60913476, 77.10044246], [28.5726176, 77.1668949], [28.5652412, 77.1675125], [28.5735311, 77.1736345], [28.5635547, 77.1785769], [28.5735816, 77.1735792], [28.5768003, 77.1740838], [28.5750668, 77.1761056], [28.5778978, 77.1752519], [28.5990816, 77.2058916], [28.5438001, 77.1196172], [28.5438287, 77.1194083], [28.5437105, 77.1196172], [28.5438215, 77.1194194], [28.5438174, 77.119797], [28.543907, 77.119797], [28.6672628, 77.090586], [28.6672586, 77.090592], [28.6426741, 77.1771112], [28.644294, 77.1766213], [28.6446732, 77.1784871], [28.643386, 77.17779], [28.6444387, 77.1773576], [28.643168, 77.177472], [0.0, 0.0], [28.643174, 77.177473], [28.6417258, 77.1855361], [28.6397455, 77.1777131], [28.6360505, 77.1843283], [28.6398635, 77.1775468], [28.638768, 77.1793562], [28.6384592, 77.1833586], [28.6408817, 77.1849206], [28.6383657, 77.1802929], [28.64084722, 77.18480556], [28.6362195, 77.1841987], [28.6434531, 77.1887382], [28.6409097, 77.1849429], [28.6431648, 77.18654], [28.6376128, 77.18191], [28.643732, 77.1778506], [28.6380274, 77.1809053], [28.6362165, 77.1842572], [28.632301, 77.175828], [28.63823106, 77.18303673], [28.6380933, 77.1804127], [28.6416685, 77.1856029], [28.6380397, 77.1809764], [28.6436486, 77.1776202], [28.637767, 77.181651], [28.6382645, 77.1802949], [28.6415127, 77.1852251], [28.6415262, 77.1851613], [28.6361574, 77.1843844], [28.6361662, 77.1843284], [28.640745, 77.1846576], [28.6441954, 77.1787112], [28.6374978, 77.1819977], [28.6373291, 77.1817642], [28.64091673, 77.18502257], [28.6389356, 77.1788585], [28.6399016, 77.1773147], [28.6387701, 77.1798317], [28.6358601, 77.1851026], [28.6385828, 77.1796308], [28.638266, 77.1807286], [28.6363021, 77.1842643], [28.6434584, 77.1889084], [28.6406426, 77.1849341], [28.6400561, 77.1847405], [28.6406889, 77.1849192], [28.6428784, 77.1865864], [28.6383225, 77.1804107], [28.6409495, 77.18484], [28.6437563, 77.1764955], [28.6383473, 77.180053], [28.6366196, 77.1835142], [28.6392731, 77.1822871], [28.6385698, 77.1796612], [28.6402723, 77.1848697], [28.6374266, 77.1819781], [28.6443538, 77.1787607], [28.6412916, 77.1854718], [28.6425064, 77.1785489], [28.64060998, 77.18509823], [28.6407597, 77.1846194], [28.6407064, 77.1846297], [28.6416652, 77.1852191], [28.6421751, 77.1859204], [28.6409682, 77.1854191], [28.6372098, 77.1826464], [28.6425402, 77.1858395], [28.6415906, 77.1856699], [28.635268, 77.178993], [28.6401823, 77.1848343], [28.6407532, 77.1845831], [28.6371834, 77.1825191], [28.640178, 77.1842868], [28.6416314, 77.1851848], [0.0, 0.0], [0.0, 0.0], [28.640834, 77.186603], [28.6392121, 77.1836668], [28.6371688, 77.1825292], [28.63963084, 77.18399361], [28.6381693, 77.1804858], [28.6373909, 77.1820929], [28.6389393, 77.1202901], [28.6394578, 77.1153558], [28.6383943, 77.1204612], [28.6392175, 77.1157942], [28.6421004, 77.1162715], [28.63090904, 77.11567003], [28.64100677, 77.12051611], [28.6365982, 77.1241664], [28.6387744, 77.1201458], [28.6387768, 77.1200964], [28.6387809, 77.1205381], [28.6390825, 77.1202079], [28.64112418, 77.12061569], [28.6522668, 77.1232695], [28.6392619, 77.1200667], [28.6475397, 77.1192439], [28.6382052, 77.1205618], [28.63938, 77.1149915], [28.6395034, 77.1203589], [28.63860359, 77.12024923], [28.6391596, 77.1203142], [28.650417, 77.1200714], [28.6385502, 77.1202126], [28.6395812, 77.1166967], [28.6392925, 77.1151872], [28.6392045, 77.1202369], [28.6390357, 77.1205029], [28.6391953, 77.1202507], [28.6406538, 77.1199468], [28.645158, 77.1212876], [28.6449256, 77.1216877], [28.6389131, 77.120204], [28.6397089, 77.117951], [28.6388527, 77.1200278], [28.647609, 77.1192507], [28.6476272, 77.1195466], [28.647233, 77.1195942], [28.6471325, 77.1177015], [28.647716, 77.1200352], [28.6417517, 77.1227629], [28.6456088, 77.1209176], [28.6401722, 77.1189181], [28.6421069, 77.1163756], [28.6485357, 77.1227398], [28.6393819, 77.11487744], [28.647193, 77.1181073], [28.6476301, 77.1198714], [28.64799, 77.1190895], [28.6476107, 77.1193141], [28.6474348, 77.1192322], [28.6471108, 77.1186491], [28.6474008, 77.1192922], [28.646717, 77.1210744], [28.6480502, 77.120075], [28.6472138, 77.1192573], [28.647538, 77.1183445], [28.6474559, 77.1199541], [28.6431463, 77.1225668], [28.6484888, 77.1207867], [28.6485937, 77.12107], [28.648007, 77.1202741], [0.0, 0.0], [28.6499809, 77.1207565], [28.6421133, 77.1173905], [28.6468913, 77.1225291], [28.6404889, 77.12031], [28.6476603, 77.1203644], [28.63859667, 77.12046923], [28.6393673, 77.1200955], [28.6500509, 77.1205059], [28.6462404, 77.1173251], [28.6473261, 77.1195347], [28.6473907, 77.1199627], [28.6454191, 77.1209645], [28.6476117, 77.1199713], [28.6474564, 77.1200673], [28.6463616, 77.1172443], [28.6472442, 77.1193284], [28.6404695, 77.1198933], [28.6449319, 77.1214101], [28.6477737, 77.1201223], [28.6470325, 77.1193188], [28.6472676, 77.1181539], [28.6473667, 77.1194794], [28.65081196, 77.11999476], [28.6464612, 77.1176775], [28.6461641, 77.1172042], [28.6478609, 77.1201029], [28.6477927, 77.1198335], [28.63957434, 77.12252375], [28.6475147, 77.1183726], [28.6474974, 77.1182068], [28.6482991, 77.1218081], [28.6475953, 77.1199715], [28.647141, 77.118653], [28.6473433, 77.1165235], [28.6480613, 77.1204429], [28.647321, 77.117922], [28.64820949, 77.11992847], [28.7049801, 77.1292361], [28.7183841, 77.1261797], [28.7401249, 77.1184642], [28.7039726, 77.1252807], [28.703903, 77.1250975], [28.697879, 77.1159313], [28.7181704, 77.1258201], [28.7341659, 77.1320227], [28.7236979, 77.1274382], [28.7014084, 77.1167854], [28.7344604, 77.1322924], [28.7007672, 77.1171], [28.7181329, 77.1263595], [28.7010021, 77.1167902], [28.7183841, 77.1261797], [28.7128593, 77.1264494], [28.7178037, 77.1257302], [28.69976033, 77.10445471], [28.736207, 77.137416], [28.7086399, 77.1244717], [28.7344691, 77.1142681], [28.7116118, 77.1246515], [28.7007412, 77.1168303], [28.7009376, 77.1170101], [28.6981332, 77.1148525], [28.7170039, 77.1211455], [28.7345078, 77.1141532], [28.7022199, 77.1191677], [28.7348098, 77.1140883], [28.711312, 77.1139361], [28.7054593, 77.1220495], [28.7148351, 77.1162909], [28.7151037, 77.1162909], [28.7167411, 77.1137736], [28.7126947, 77.1182275], [28.7148351, 77.1162909], [28.7114472, 77.1243368], [28.7313904, 77.1097279], [28.7116727, 77.1197071], [28.7003942, 77.1020856], [28.7239, 77.1272135], [28.717512, 77.125955], [28.7048624, 77.1215051], [28.71961666, 77.06521701], [28.7086313, 77.1243818], [28.7023434, 77.1165388], [28.71679, 77.11235], [28.7117653, 77.1325217], [28.550802, 77.120533], [28.550802, 77.120533], [28.550802, 77.120533], [28.565381, 77.198856], [28.565358, 77.199024], [28.566074, 77.199449], [28.56198611, 77.19249722], [28.5624946, 77.19174787], [28.567931, 77.19453], [28.56383056, 77.19496111], [28.559151, 77.195856], [28.5654336, 77.1991066], [28.559014, 77.19591], [28.56540556, 77.199075], [28.55951921, 77.19691481], [28.56269484, 77.19549257], [28.56723889, 77.19439722], [28.559828, 77.198889], [28.55887489, 77.19658758], [0.0, 0.0], [28.56199193, 77.19236042], [28.5618126, 77.19417427], [28.56177343, 77.19393991], [28.56174605, 77.19224811], [28.56542249, 77.1990636], [28.56207497, 77.20069136], [28.55903832, 77.19693661], [28.558874, 77.19629455], [28.56062056, 77.1989952], [28.56057904, 77.19918799], [28.56034081, 77.20056731], [28.56265773, 77.19475061], [28.56201667, 77.19366599], [28.56087734, 77.19325863], [28.56108333, 77.19738889], [28.572764, 77.191948], [0.0, 0.0], [28.56198369, 77.19733089], [28.56262917, 77.19544631], [28.56721546, 77.19480157], [28.561778, 77.1941], [28.56178754, 77.19396817], [28.56164445, 77.20070411], [28.56573815, 77.19585299], [28.56444427, 77.19438482], [28.56069268, 77.19857084], [0.0, 0.0], [28.56172425, 77.19402138], [28.56092299, 77.19378803], [28.56171306, 77.19603203], [28.559765, 77.19611], [28.56729585, 77.19439723], [28.56078547, 77.19365057], [28.5626823, 77.19367238], [28.56199134, 77.19262462], [28.5658584, 77.1993312], [28.5655974, 77.19932243], [28.5657345, 77.1989719], [28.5598, 77.192026], [28.56102723, 77.1938467], [28.5590068, 77.196097], [28.56274136, 77.19541814], [28.56078871, 77.19384637], [28.5604954, 77.1990168], [0.0, 0.0], [28.56177812, 77.19272362], [0.0, 0.0], [0.0, 0.0], [0.0, 0.0], [28.56144097, 77.19272755], [28.56039293, 77.19942939], [0.0, 0.0], [0.0, 0.0], [28.56153078, 77.19289754], [28.5589086, 77.1960071], [0.0, 0.0], [28.56608797, 77.19869513], [28.55968176, 77.19692755], [28.56098659, 77.19302326], [28.560712, 77.198835], [28.5654017, 77.1992414], [28.55952304, 77.19702881], [28.55933546, 77.19572827], [28.509106, 77.201128], [28.5144262, 77.2051326], [28.5203762, 77.2030121], [28.50820299, 77.20037151], [28.50401631, 77.19863344], [28.50790278, 77.20018056], [28.507634, 77.2000801], [28.5098832, 77.2017569], [28.5180547, 77.2142696], [28.50556136, 77.1987595], [28.5086514, 77.2008084], [28.51673, 77.2058841], [0.0, 0.0], [28.507952, 77.214375], [28.51453131, 77.20467545], [28.50756389, 77.20021944], [28.50085983, 77.19703753], [28.5183803, 77.2062486], [28.5172873, 77.206069], [28.5099643, 77.201667], [28.5166527, 77.2060692], [0.0, 0.0], [28.5082777, 77.200568], [28.535749, 77.22319], [28.51465649, 77.20335054], [28.5144607, 77.2046316], [28.50050685, 77.19673578], [28.51195551, 77.22338664], [28.50556607, 77.1988564], [28.51725461, 77.19935864], [28.51784764, 77.19856001], [0.0, 0.0], [0.0, 0.0], [0.0, 0.0], [28.5152144, 77.205485], [28.5089203, 77.2011051], [28.5276895, 77.2192738], [28.5130132, 77.19878934], [28.5182007, 77.1989393], [28.51536946, 77.20559042], [28.51755481, 77.1982405], [28.5194377, 77.2004093], [28.51901777, 77.20637999], [28.510419, 77.202174], [28.51748381, 77.1982187], [28.51544458, 77.20556729], [28.5201761, 77.20329646], [28.5233603, 77.2076072], [28.51688047, 77.19903778], [28.51914091, 77.21234288], [28.51435543, 77.2046959], [28.52252897, 77.20787968], [28.52875186, 77.21950404], [28.51467478, 77.2031077], [28.524625, 77.213402], [28.5280456, 77.2168935], [28.52228093, 77.20448703], [28.5280393, 77.2172977], [28.517316, 77.199805], [28.5203778, 77.2028171], [28.5291378, 77.2196556], [28.52823136, 77.21971795], [28.51751975, 77.19819423], [28.50600419, 77.19907064], [28.51756924, 77.19821937], [28.50644908, 77.20963016], [28.51470631, 77.20538288], [28.52493186, 77.2064665], [28.5173033, 77.200089], [28.52780217, 77.21681479], [28.5178209, 77.1982094], [28.571902, 77.1720619], [28.5722604, 77.1720619], [28.5724323, 77.1738591], [28.571681, 77.1734996], [28.5724323, 77.1738591], [28.571681, 77.1734996], [28.5724323, 77.1738591], [28.53354, 77.300312], [28.5353106, 77.2919183], [28.5336131, 77.2868798], [28.5325576, 77.2970357], [28.5351351, 77.2918036], [28.5352265, 77.2909739], [28.5351255, 77.2917987], [28.5349496, 77.2910441], [28.5381337, 77.2983439], [28.5400233, 77.2821107], [28.5318684, 77.297525], [28.5336327, 77.2868353], [28.5380821, 77.2985617], [0.0, 0.0], [28.5335902, 77.2998315], [28.5378528, 77.2985607], [28.5335599, 77.2991003], [28.5375838, 77.2961381], [28.5374192, 77.2963255], [28.5388021, 77.2853594], [28.5325746, 77.2972152], [28.532939, 77.2921201], [28.5384507, 77.2985251], [28.532348, 77.2976641], [28.5334587, 77.2990585], [28.5293671, 77.2884321], [28.5694278, 77.1936317], [28.5697442, 77.1940306], [28.5762852, 77.1954232], [28.5761246, 77.1957611], [28.5697323, 77.1937667], [28.5697787, 77.1940263], [28.5696602, 77.1939753], [28.5699787, 77.1936712], [28.5695602, 77.1930423], [0.0, 0.0], [28.5797196, 77.2012795], [28.5698167, 77.1938509], [28.5694755, 77.1935675], [28.5875672, 77.1687579], [28.5879735, 77.1700401], [28.5887026, 77.1692313], [28.5876997, 77.1690516], [28.5876911, 77.1689617], [28.588787, 77.169099], [28.5884398, 77.1688269], [28.5877965, 77.1672543], [28.5884242, 77.1688109], [28.587367, 77.1693212], [28.5880814, 77.1688269], [28.5878187, 77.1684226], [28.5883364, 77.1683952], [0.0, 0.0], [28.5888732, 77.1691415], [0.0, 0.0], [28.5880382, 77.1683813], [28.58770395, 77.16901079], [28.5875051, 77.1690325], [28.5876001, 77.1670746], [28.58765741, 77.16854351], [28.5738064, 77.1652844], [28.587529, 77.1691415], [28.5885208, 77.1687371], [28.5875118, 77.1689617], [28.5879488, 77.1683776], [0.0, 0.0], [28.5887711, 77.1692496], [28.5887241, 77.1691141], [28.5876087, 77.1671645], [28.5885208, 77.1687371], [28.5876339, 77.1670164], [28.5884054, 77.1684675], [28.5879893, 77.1683327], [28.5875169, 77.1690522], [28.5882925, 77.1686921], [28.5879205, 77.1676138], [28.5876897, 77.1670746], [28.59, 77.17], [28.5879488, 77.1683776], [28.5879083, 77.1684226], [28.5879033, 77.1674341], [28.5880703, 77.1682428], [28.5881358, 77.1678462], [28.5876001, 77.1670746], [28.5882542, 77.1683478], [28.58764742, 77.16855716], [28.587529, 77.1691415], [28.5885707, 77.1688007], [28.588887, 77.1689183], [28.5888327, 77.1691864], [0.0, 0.0], [28.5877069, 77.1672543], [28.5885208, 77.1687371], [28.5883121, 77.1685561], [28.5885957, 77.1690516], [28.5881341, 77.1679732], [28.5877069, 77.1672543], [28.5880523, 77.1677396], [28.5880592, 77.1676587], [28.5880101, 77.1676138], [28.5876911, 77.1689617], [28.5880191, 77.1683519], [28.5881378, 77.1679982], [28.5884054, 77.1684675], [28.5879119, 77.1675239], [28.5888327, 77.1691864], [28.5884459, 77.1684226], [28.5879999, 77.1683221], [28.5877879, 77.1671645], [28.5876664, 77.1672993], [28.59, 77.17], [28.5881169, 77.1677935], [28.5879033, 77.1674341], [28.58839226, 77.16886461], [28.5882237, 77.1679732], [28.5871376, 77.1706691], [28.5886682, 77.1688719], [28.5877879, 77.1671645], [28.5512397, 77.1996828], [28.5465265, 77.1968157], [28.5462204, 77.1964548], [28.5466246, 77.1968785], [28.5464283, 77.1967259], [28.5463387, 77.1967259], [28.546723, 77.1969954], [28.5467864, 77.1972261], [28.5467635, 77.1969505], [28.5465078, 77.1966218], [28.5465265, 77.1968157], [28.5468937, 77.1969056], [28.5465265, 77.1968157], [28.5465624, 77.1957825], [28.551193, 77.1996906], [28.6707758, 77.20319497], [28.52912861, 77.21908394], [28.52857541, 77.21942861], [28.528614, 77.21819479], [28.5281463, 77.2193637], [28.52845641, 77.21869837], [28.52843667, 77.21923247], [28.52869471, 77.21932769], [28.52923878, 77.21956339], [28.52911683, 77.21951075], [28.52849352, 77.21960329], [28.52845965, 77.21866552], [28.52872505, 77.21894782], [28.52923878, 77.21956339], [28.52853329, 77.21873961], [28.52862637, 77.21905142], [28.5285945, 77.2193637], [28.52866378, 77.21935116], [28.52876718, 77.21961837], [28.52832061, 77.21872788], [28.52941, 77.2194535], [28.52860163, 77.21925493], [28.529136, 77.219309], [28.5292155, 77.21951913], [28.52869412, 77.21938971], [28.52869471, 77.21932769], [28.6894334, 77.2730427], [28.684835, 77.27560167], [28.689547, 77.291919], [28.6816566, 77.2858644], [28.6778187, 77.2833919], [28.6890869, 77.2919252], [28.6771305, 77.2849008], [28.6765638, 77.2858595], [28.6786503, 77.2882128], [28.6780127, 77.28182551], [28.6764855, 77.2857063], [28.686874, 77.2764747], [28.6895052, 77.2866681], [28.6917695, 77.2917395], [28.6776481, 77.2886473], [28.7004755, 77.2768369], [28.677394, 77.288283], [28.6890835, 77.2784798], [28.67574, 77.2904437], [28.6775448, 77.2889304], [28.6760803, 77.286891], [28.6822218, 77.292231], [28.67692, 77.2853657], [28.6777524, 77.2887963], [28.6773618, 77.2845496], [28.70246031, 77.27249913], [28.6823632, 77.2864389], [28.6762995, 77.2924322], [28.7004582, 77.2768961], [28.6894564, 77.2877298], [28.66963974, 77.29647975], [28.6785579, 77.2882328], [28.6982532, 77.2770165], [28.6903077, 77.2918926], [28.66951648, 77.29218956], [28.6762795, 77.2903872], [28.6899779, 77.2917395], [28.6922659, 77.2919871], [28.67656666, 77.29011454], [28.6805966, 77.286578], [28.689352, 77.2933868], [28.66235639, 77.28867251], [0.0, 0.0], [28.7006707, 77.2754038], [28.6784651, 77.2882668], [28.6893273, 77.2919639], [28.6896366, 77.291919], [28.68933208, 77.28979267], [28.6874311, 77.2919802], [28.6899437, 77.2744128], [28.6895977, 77.2919382], [28.6825301, 77.2849433], [28.6901576, 77.2702013], [28.689657, 77.2917756], [0.0, 0.0], [28.66869015, 77.29282122], [28.6834297, 77.283918], [28.6999209, 77.2720913], [28.7003478, 77.279261], [28.6822697, 77.2850964], [28.7085951, 77.2450055], [0.0, 0.0], [28.677039, 77.2718928], [28.6908012, 77.291919], [28.6876451, 77.2920013], [28.7009935, 77.2732231], [28.6820472, 77.2860319], [28.6832105, 77.2839919], [0.0, 0.0], [28.6894359, 77.2945223], [28.6893847, 77.2939837], [28.7008442, 77.2736497], [28.6895127, 77.272707], [0.0, 0.0], [28.7003224, 77.2795276], [28.7000322, 77.2815952], [28.6915855, 77.2700134], [28.689507, 77.2923084], [28.7005129, 77.2769736], [28.7003054, 77.2781604], [28.6766696, 77.2858492], [28.69022, 77.2919462], [28.6876577, 77.2920323], [0.0, 0.0], [28.68947, 77.2948813], [28.6774285, 77.2846784], [28.7002266, 77.2722496], [28.5487987, 77.2159503], [28.5495159, 77.2159503], [28.5495222, 77.2155461], [28.549033, 77.2137046], [28.54853276, 77.21100144], [28.548542, 77.2132555], [28.5466046, 77.2155012], [28.5491821, 77.212447], [28.548819, 77.2114589], [28.5492425, 77.2149622], [28.5477915, 77.2166689], [28.5492461, 77.2121775], [28.5490654, 77.2154563], [28.5496438, 77.2154113], [28.5497078, 77.2151419], [28.5486312, 77.2113691], [28.5474113, 77.2155012], [28.5490245, 77.2136148], [28.5484222, 77.2119979], [28.5492078, 77.2127165], [28.5492447, 77.2154563], [28.5492042, 77.2155012], [28.5498307, 77.2155653], [28.5493235, 77.2148724], [28.5491141, 77.2136148], [28.5493213, 77.2143783], [28.6329647, 77.282366], [28.6328128, 77.2823353], [28.6297763, 77.280107], [28.6300045, 77.2804814], [28.6275866, 77.2789686], [28.6263724, 77.2800303], [28.6279228, 77.2783209], [28.6270083, 77.2798705], [28.6328078, 77.282282], [28.6329113, 77.2813787], [0.0, 0.0], [28.6303968, 77.2811812], [28.6284726, 77.2781757], [28.6269121, 77.2791263], [28.6322406, 77.2819954], [28.6296634, 77.2771666], [28.6300457, 77.2806842], [28.6329214, 77.2813547], [28.632852, 77.2824532], [28.6334265, 77.2828494], [28.6282443, 77.2788374], [28.6307758, 77.2774778], [28.6302107, 77.2807813], [28.6288096, 77.277587], [28.6316688, 77.2816189], [28.6263812, 77.280183], [28.6268353, 77.2773649], [28.710818, 77.1601549], [28.7034431, 77.1616827], [28.7061721, 77.1695908], [28.7096099, 77.1685573], [28.7035499, 77.1618624], [28.706493, 77.1626712], [28.7152991, 77.1564702], [28.7067731, 77.1685706], [28.7065551, 77.162961], [0.0, 0.0], [28.704282, 77.1587619], [28.7066682, 77.1683596], [28.7032861, 77.1618118], [28.7064034, 77.1626712], [28.70362, 77.1619683], [28.7065653, 77.1624915], [28.7035586, 77.1619523], [28.7064599, 77.1625853], [28.7030945, 77.1620793], [28.7037668, 77.1613232], [28.7195845, 77.1586721], [28.7063745, 77.1622851], [28.7057298, 77.1559037], [28.7031367, 77.1622219], [28.7033536, 77.1616827], [28.7152123, 77.1569645], [0.0, 0.0], [28.7085298, 77.1615029], [28.710793, 77.16011], [28.7054506, 77.161503], [28.7082414, 77.1673875], [28.717991, 77.153498], [28.7194459, 77.1586271], [28.7072568, 77.1551103], [28.7063862, 77.1624915], [28.7025908, 77.162132], [28.7066464, 77.1684675], [28.7068565, 77.1636597], [28.7063371, 77.1624465], [28.7035499, 77.1618624], [28.713419, 77.1580581], [28.715237, 77.156722], [28.7063371, 77.1624465], [28.7058943, 77.157369], [28.7109248, 77.1603347], [28.7036481, 77.1619523], [28.7096778, 77.1549724], [28.7090143, 77.1698154], [28.7084737, 77.1668006], [0.0, 0.0], [28.72818878, 77.16699947], [28.7050194, 77.15665], [0.0, 0.0], [28.7147586, 77.165004], [0.0, 0.0], [28.7066721, 77.1626712], [28.7062157, 77.1625814], [28.7163553, 77.1590765], [0.0, 0.0], [0.0, 0.0], [28.7154009, 77.1566379], [28.7096363, 77.1549886], [28.6896301, 77.1605144], [28.7196342, 77.1585449], [28.7062081, 77.1628082], [28.7094671, 77.1551135], [28.7064285, 77.16241], [28.620766, 77.2178366], [28.6206678, 77.2177468], [28.6207574, 77.2177468], [28.620766, 77.2178366], [28.6206188, 77.2179096], [28.5770825, 77.1686023], [28.5771317, 77.1684077], [28.6597548, 77.2667541], [28.5222793, 77.181974], [28.52678296, 77.2159186], [28.52678296, 77.2159186], [28.527002, 77.2153849], [28.5694195, 77.2204886], [28.5691173, 77.2203517], [28.5695952, 77.2197229], [28.5691333, 77.2205016], [28.5699028, 77.2210703], [28.5694375, 77.2208907], [28.5695952, 77.2197229], [28.5723805, 77.221205], [28.5683377, 77.2249885], [28.5759899, 77.224753], [28.5732831, 77.2208008], [28.5733106, 77.2205516], [28.5712648, 77.2231362], [28.56371164, 77.22013604], [28.56350464, 77.220457], [28.568144, 77.2195433], [28.56415599, 77.21960362], [28.5676697, 77.2211739], [28.56435417, 77.21890088], [28.5676806, 77.2208202], [28.5681089, 77.2198813], [28.5642885, 77.21914127], [28.56432472, 77.21891731], [28.567969, 77.2213698], [28.5679395, 77.2211601], [28.56420752, 77.21951243], [28.56414863, 77.219267], [28.5684277, 77.2192289], [28.56419015, 77.21940279], [28.5679028, 77.2212868], [28.5617, 77.22041389], [28.5689576, 77.2193667], [28.566755, 77.219739], [28.5677197, 77.221205], [28.5681269, 77.2193637], [28.5675895, 77.2212499], [28.5680629, 77.2196331], [28.5680075, 77.2199924], [0.0, 0.0], [28.567939, 77.2192738], [28.5677962, 77.2201272], [28.5684461, 77.2191601], [28.5682336, 77.2195433], [28.56776639, 77.21900079], [0.0, 0.0], [28.56402849, 77.21940547], [28.5680393, 77.2213733], [0.0, 0.0], [0.0, 0.0], [28.56847, 77.21986], [28.5374478, 77.2384497], [28.5642064, 77.2191391], [28.5686642, 77.2174773], [28.5684463, 77.2174933], [28.5279802, 77.2192708], [28.52748139, 77.21947454], [28.68093208, 77.20365521], [28.68096059, 77.20388161], [28.68088884, 77.20394421], [28.68091678, 77.20384263], [28.68082913, 77.20383894], [28.5929234, 77.296194], [28.5925115, 77.2961448], [28.5924186, 77.2965607], [28.5934846, 77.296653], [28.5925202, 77.2963556], [28.5926711, 77.2963154], [28.5925353, 77.2963765], [28.6344547, 77.119028], [28.6341298, 77.1113233], [28.6370077, 77.1217748], [28.6375856, 77.1017824], [28.6362124, 77.1184112], [28.6400959, 77.1057254], [28.6359711, 77.0998378], [28.6341385, 77.1132628], [28.6370195, 77.1209657], [0.0, 0.0], [28.637074, 77.1200642], [28.6372567, 77.1049848], [28.6398962, 77.1077556], [28.6341779, 77.1137736], [28.6341756, 77.1104921], [28.6401715, 77.1053224], [28.6389889, 77.1076479], [28.6372986, 77.1126948], [28.6341062, 77.1111664], [28.6372884, 77.1023553], [28.6341831, 77.111493], [0.0, 0.0], [28.6380416, 77.113421], [28.634166, 77.10088], [28.6357662, 77.1181788], [28.6340741, 77.1126948], [28.6351694, 77.1184103], [28.6368424, 77.124247], [28.634274, 77.1194054], [28.6407295, 77.105132], [0.0, 0.0], [28.634155, 77.1126049], [28.6360349, 77.1181788], [0.0, 0.0], [28.6342502, 77.1135938], [28.6369833, 77.1145378], [28.6392123, 77.1055921], [28.640368, 77.1055022], [28.636237, 77.1183778], [28.6360338, 77.1079298], [28.6350391, 77.1090147], [28.637075, 77.1212104], [28.6380035, 77.1135039], [28.6398129, 77.1055523], [28.637115, 77.1205612], [28.6393914, 77.1055921], [28.6368971, 77.1122453], [28.6386142, 77.1077234], [28.6382092, 77.1128304], [28.6361147, 77.1078398], [28.6357398, 77.1180859], [28.60252, 77.2409086], [28.6014758, 77.241099], [28.6023444, 77.2406505], [28.5992226, 77.2426044], [28.601877, 77.2415481], [28.6026409, 77.241099], [28.6024702, 77.2411888], [28.564288, 77.120791], [28.6421648, 77.1063438], [28.6461669, 77.1127414], [28.6491793, 77.11142376], [28.6510376, 77.1137028], [28.6463287, 77.1120745], [28.6463908, 77.1124028], [28.6535887, 77.1146413], [28.6462371, 77.1127855], [28.6452447, 77.1147742], [28.6498944, 77.1125497], [28.6499476, 77.1124296], [28.6418012, 77.1069062], [28.6455653, 77.1155932], [28.6425185, 77.1064052], [28.6490845, 77.1099433], [28.6461869, 77.116361], [28.6463347, 77.1120493], [28.6461897, 77.1163525], [28.646011, 77.11541], [28.6463561, 77.1120139], [28.6499613, 77.1124055], [28.6538763, 77.1156171], [28.6423312, 77.1064709], [28.6491173, 77.1114205], [28.6488107, 77.1151402], [28.6524639, 77.1120655], [28.6462079, 77.1165705], [28.6525857, 77.111955], [28.6512755, 77.1097172], [28.6456969, 77.1162324], [28.6498255, 77.1122065], [28.6518001, 77.1123132], [28.6499138, 77.1121665], [28.641769, 77.1068758], [28.6528574, 77.1113549], [28.6422159, 77.1065034], [28.6012192, 77.2294337], [28.6011707, 77.2294235], [28.6011707, 77.2294235], [28.6523425, 77.1212744], [28.6507962, 77.1206821], [28.6507574, 77.1207398], [28.596981, 77.195866], [28.597062, 77.195892], [28.5969975, 77.1960071], [28.5966943, 77.1956478], [28.5963125, 77.1958724], [28.598181, 77.1962398], [28.60016, 77.2169361], [28.6001706, 77.2169659], [28.6001728, 77.2168724], [28.6001953, 77.2168963], [28.6001694, 77.2168839], [28.6001541, 77.2169297], [28.6001767, 77.2168927], [28.538993, 77.15246], [28.538993, 77.15246], [28.625443, 77.218185], [28.625445, 77.218187], [28.625445, 77.218187], [28.625443, 77.218185], [28.625445, 77.218187], [28.625445, 77.218187], [28.625445, 77.218187], [28.625445, 77.218187], [28.625445, 77.218187], [28.56164003, 77.26898376], [28.56161147, 77.26894453], [28.567481, 77.269154], [28.56162678, 77.26888552], [28.56179522, 77.26885669], [28.56165594, 77.26870917], [28.5616595, 77.2690978], [28.5614696, 77.2685174], [28.63110267, 77.22762946], [28.63113239, 77.22762745], [28.631407, 77.227277], [28.631407, 77.227277], [28.63148611, 77.22756944], [28.63120891, 77.22764019], [28.6317423, 77.228133], [28.631407, 77.227277], [28.66113333, 77.30317778], [28.66113333, 77.30317778], [28.66113333, 77.30317778], [28.66113333, 77.30317778], [28.5794095, 77.1889269], [28.5793901, 77.1889752], [28.5794009, 77.1889651], [28.5802165, 77.1885648], [28.5793611, 77.1890039], [28.592135, 77.238056], [28.5921591, 77.238315], [28.62098574, 77.21734352], [28.62098721, 77.21736733], [28.628885, 77.216002], [28.56109444, 77.26953889], [28.56109444, 77.26953889], [28.561179, 77.269656], [28.561053, 77.269618], [28.6051535, 77.2241228], [28.6051689, 77.2241405], [28.6051648, 77.2241369], [28.60440165, 77.22273611], [28.6052532, 77.2243039], [28.6051487, 77.2246182], [28.605189, 77.2241401], [28.5950782, 77.1701408], [28.5948008, 77.1702198], [28.5950077, 77.170087], [28.5945492, 77.1703995], [28.535183, 77.101847], [28.535183, 77.101847], [28.535183, 77.101847], [28.5525438, 77.2133902], [28.5523566, 77.213191], [28.55231, 77.2129742], [0.0, 0.0], [28.6350967, 77.0919833], [28.6419765, 77.0994142], [28.6389981, 77.0862978], [28.6384031, 77.0968578], [28.6380699, 77.0965905], [28.636751, 77.0954179], [28.6354821, 77.0868116], [28.6374082, 77.1016004], [28.6487302, 77.1033405], [28.64003986, 77.09550753], [28.635043, 77.0998394], [28.6437138, 77.1040206], [28.6364554, 77.0905901], [28.6377331, 77.0888609], [28.6375598, 77.1050287], [28.6371415, 77.0962201], [28.6368398, 77.0937942], [28.6434771, 77.097173], [28.6374781, 77.0972739], [28.6407465, 77.1004284], [28.6404001, 77.095013], [28.6448121, 77.1006304], [28.637326, 77.0966736], [28.6378234, 77.0889219], [28.6361284, 77.0973882], [28.6342673, 77.098007], [28.6409492, 77.0925481], [28.6376488, 77.0934526], [28.6404463, 77.0949112], [28.6388684, 77.086714], [28.6489062, 77.1031722], [28.6344618, 77.0845916], [28.6396056, 77.0854345], [28.6449182, 77.1002905], [28.63903, 77.0863331], [28.6481247, 77.1034131], [28.636187, 77.0971137], [0.0, 0.0], [28.6468527, 77.0962302], [28.6367945, 77.0959301], [28.6361765, 77.0971707], [28.6491405, 77.1029417], [28.6391088, 77.0864035], [28.6445351, 77.1014529], [28.6448699, 77.0998064], [0.0, 0.0], [28.644093, 77.102513], [28.6361148, 77.0973474], [28.6371756, 77.0964562], [28.6450932, 77.0995462], [28.6380338, 77.0966816], [28.6370036, 77.0954687], [0.0, 0.0], [28.6343667, 77.084917], [28.6377065, 77.0934222], [28.6366697, 77.0933859], [28.6490554, 77.1031681], [28.6356249, 77.0846233], [28.6437348, 77.1039501], [28.6420481, 77.0918112], [28.59807667, 77.31334833], [28.52351906, 77.25662515], [28.5607572, 77.2182605], [28.56074218, 77.21790746], [28.56028103, 77.21807376], [28.6291105, 77.076886], [28.6288818, 77.0760342], [28.6287601, 77.0764473], [28.6290915, 77.0770547], [28.629097, 77.075439], [28.6191075, 77.0334663], [28.6203298, 77.0409828], [28.6194, 77.032612], [28.6193541, 77.0676143], [28.6180649, 77.0723362], [28.6190995, 77.0336428], [28.6216032, 77.0675373], [28.6104281, 77.0680939], [28.619233, 77.0590998], [28.6222421, 77.0571866], [28.6200086, 77.0448877], [28.6213725, 77.0390888], [28.6200658, 77.0621578], [28.6209487, 77.0599921], [28.6229612, 77.0643164], [28.6210909, 77.0391009], [28.6205109, 77.0630573], [28.6193756, 77.0309438], [28.6217969, 77.0411281], [28.6228245, 77.0605838], [28.6236426, 77.0627386], [28.6197461, 77.0671945], [28.6203826, 77.0580204], [28.6185458, 77.0612584], [28.6192376, 77.0322933], [28.6218904, 77.0569411], [28.6275118, 77.0391304], [28.6036473, 77.0563114], [28.6191566, 77.0306405], [28.6196925, 77.0347129], [28.6211282, 77.0391763], [28.6188173, 77.0332316], [28.621959, 77.0569043], [28.620035, 77.0386806], [28.6217187, 77.063507], [28.6187806, 77.0302045], [28.6191434, 77.0324848], [28.6205123, 77.0715259], [0.0, 0.0], [28.6267145, 77.0392204], [28.6199415, 77.0617981], [28.6230789, 77.0608986], [28.6242121, 77.0638218], [28.6194036, 77.0346005], [28.6179737, 77.0608986], [28.6199262, 77.037568], [28.6224126, 77.0583229], [28.6189874, 77.0582581], [28.6173544, 77.0331929], [28.6296412, 77.0398501], [28.6093206, 77.0641627], [28.6183226, 77.0580204], [28.6226053, 77.0599045], [28.6209825, 77.0392018], [28.6206339, 77.0485758], [28.6211626, 77.0608752], [28.622119, 77.056812], [28.6218839, 77.0570523], [28.6231917, 77.0611463], [28.6373178, 77.2869436], [28.6367704, 77.2862874], [28.6370319, 77.2861149], [28.6367821, 77.2862468], [28.6368753, 77.2862407], [28.6368388, 77.2863589], [28.6367067, 77.2859303], [28.6369816, 77.2870265], [28.637003, 77.2854132], [28.6368424, 77.2863408], [28.6369816, 77.2870265], [28.6369716, 77.2860199], [28.6367759, 77.286309], [28.6371001, 77.2862019], [28.6370146, 77.2860211], [28.6369816, 77.2870265], [28.6369762, 77.2860812], [28.6367012, 77.2867383], [28.6370758, 77.2861742], [28.636911, 77.2867839], [28.6367213, 77.2861642], [28.6368649, 77.2862848], [28.6370362, 77.2861107], [28.637001, 77.286103], [28.6369891, 77.2857573], [28.6367037, 77.2860344], [28.5232091, 77.1573156], [28.531431, 77.1538018], [28.5251312, 77.155416], [28.5207314, 77.1655919], [28.5312664, 77.1538189], [28.5183003, 77.1584474], [28.52331992, 77.16529693], [28.522112, 77.168407], [28.5194758, 77.1710434], [28.51901836, 77.16119282], [28.519173, 77.1611802], [28.5313867, 77.153852], [28.5336506, 77.1517362], [28.5191138, 77.1611509], [28.514649, 77.165415], [28.5367732, 77.1482216], [28.5254999, 77.1357431], [28.5291446, 77.1553898], [28.519062, 77.1619331], [0.0, 0.0], [28.51428649, 77.16498211], [28.5332879, 77.1520605], [28.519511, 77.166526], [28.5250993, 77.156659], [28.5251629, 77.1566714], [28.524981, 77.1566476], [28.5248609, 77.1564626], [28.5250677, 77.1561628], [28.5251478, 77.1569671], [28.52506, 77.1566644], [28.5251233, 77.1561251], [28.5249865, 77.1566556], [28.56104814, 77.15988658], [28.55705291, 77.16407988], [28.56517455, 77.16369264], [28.56100556, 77.15966111], [28.55793018, 77.16423243], [28.56141389, 77.15538889], [28.571381, 77.1624016], [28.55900888, 77.16369834], [28.561011, 77.159666], [28.55760213, 77.16311596], [0.0, 0.0], [28.5677118, 77.1583987], [28.56157466, 77.15505794], [28.55818056, 77.15976667], [28.55888991, 77.17082061], [28.557864, 77.164272], [28.55788513, 77.16321856], [28.55761667, 77.16419167], [28.52951508, 77.15067118], [28.557223, 77.164368], [28.56139062, 77.15496004], [28.572131, 77.161681], [28.56151959, 77.15516992], [28.55747579, 77.16367822], [0.0, 0.0], [28.55736507, 77.16442622], [28.55747844, 77.16460492], [28.55748345, 77.16341134], [28.55870848, 77.16429355], [28.56118272, 77.15520881], [28.55775173, 77.16458414], [0.0, 0.0], [28.55811, 77.16454], [0.0, 0.0], [0.0, 0.0], [28.559058, 77.16411], [28.5997151, 77.317668], [28.5997276, 77.3175176], [28.6001, 77.3176784], [28.5892967, 77.3062099], [28.59103534, 77.30796732], [28.59154464, 77.30650049], [28.5891084, 77.3021052], [28.58950538, 77.30853528], [28.6002622, 77.3205872], [28.60043838, 77.32028972], [28.5891093, 77.3040391], [28.6013457, 77.3164521], [28.601793, 77.3145157], [28.6000397, 77.3203951], [28.6011417, 77.3226158], [28.59819588, 77.31136166], [28.59087872, 77.30725687], [28.5908127, 77.3071359], [0.0, 0.0], [28.6017649, 77.3143328], [28.59080159, 77.30720289], [28.5901234, 77.3078976], [28.5914444, 77.3066274], [28.5891961, 77.3062381], [28.5908336, 77.3074392], [28.601005, 77.3159908], [28.5923035, 77.3057921], [28.6021139, 77.312519], [28.59794885, 77.3097342], [0.0, 0.0], [28.600942, 77.315899], [0.0, 0.0], [0.0, 0.0], [28.5893763, 77.3085095], [0.0, 0.0], [28.6013619, 77.3222402], [28.6002914, 77.3206228], [0.0, 0.0], [0.0, 0.0], [28.5915558, 77.30728882], [28.59133326, 77.30676837], [28.60012224, 77.32050229], [28.5900965, 77.3067747], [28.5908905, 77.3071878], [28.5890838, 77.30620712], [28.59744877, 77.31154975], [28.58980772, 77.30837971], [28.5914473, 77.3065745], [28.5923018, 77.305843], [28.5897432, 77.3080751], [28.5891562, 77.3033247], [28.6000138, 77.3174634], [28.59086665, 77.30764378], [28.6014833, 77.3224363], [28.5890367, 77.30622523], [28.59118048, 77.3068428], [28.5899346, 77.3078541], [28.583353, 77.304436], [0.0, 0.0], [0.0, 0.0], [28.58927604, 77.3080954], [0.0, 0.0], [28.6928867, 77.2010382], [28.6895227, 77.2023857], [28.6921294, 77.197804], [28.6928555, 77.1965012], [28.6916414, 77.201128], [28.6899018, 77.201667], [28.6918964, 77.2011936], [28.6898007, 77.2016171], [28.6909462, 77.2012294], [28.6901314, 77.2011834], [28.6944411, 77.2041084], [28.6928661, 77.2050359], [28.6944707, 77.2043384], [28.6910317, 77.2013077], [28.6935077, 77.2047215], [28.6914056, 77.2012817], [28.6945366, 77.2040661], [28.6936233, 77.2048067], [28.6949624, 77.2036388], [28.6926492, 77.2050605], [28.6914552, 77.2013137], [28.6934181, 77.2047215], [28.6924796, 77.2042723], [28.6939297, 77.2044519], [28.6934267, 77.2048113], [28.6947175, 77.2039955], [28.6934439, 77.204991], [28.6906011, 77.2014873], [28.6943812, 77.2040075], [28.6919997, 77.201128], [28.69302023, 77.20197815], [28.6580412, 77.3103529], [28.6307187, 77.2776898], [28.6384984, 77.0796054], [28.6386194, 77.0766826], [28.6282838, 77.0700473], [28.628157, 77.0698926], [28.6390282, 77.07604811], [28.6294177, 77.0764578], [28.63507537, 77.06883967], [28.6389086, 77.0743745], [28.6420433, 77.0798778], [28.6459296, 77.0791934], [28.6445722, 77.0701624], [28.63884135, 77.07597736], [28.6390149, 77.0747491], [28.6384063, 77.0656655], [28.6365514, 77.0710682], [28.6322224, 77.06846483], [28.642645, 77.0709881], [28.6385677, 77.0789309], [0.0, 0.0], [28.6440984, 77.0698926], [0.0, 0.0], [28.638455, 77.0792678], [28.62748827, 77.06992965], [28.6342343, 77.0687123], [28.6429519, 77.0758587], [28.6431503, 77.0756895], [28.6429129, 77.071162], [28.6383481, 77.0789759], [28.6392656, 77.074213], [28.6419595, 77.0797403], [28.62786555, 77.06778422], [28.6425242, 77.0792789], [28.6384983, 77.0782115], [28.6385334, 77.0795111], [28.64041091, 77.0707437], [28.6422953, 77.0792261], [28.638646, 77.0765052], [28.62759745, 77.06975497], [28.6392198, 77.0751536], [28.63949696, 77.0739295], [28.6358966, 77.0600536], [28.6385328, 77.0771773], [28.6275705, 77.0698477], [28.6387222, 77.0765725], [28.639194, 77.0747491], [28.63885695, 77.0751965], [28.6354403, 77.0588879], [28.6397834, 77.0752887], [28.63504182, 77.07022168], [0.0, 0.0], [28.6391275, 77.0745243], [28.6274498, 77.069947], [28.6386139, 77.0784813], [28.6425617, 77.079298], [28.6284455, 77.069463], [28.6331243, 77.0761542], [28.63927361, 77.0742061], [28.6403518, 77.0709719], [0.0, 0.0], [28.6390833, 77.0743071], [28.67132778, 77.318175], [28.67130833, 77.318925], [28.66721, 77.317225], [28.66965416, 77.31211167], [28.668496, 77.314705], [28.66981271, 77.31173314], [28.66857042, 77.31214788], [28.66722898, 77.31825527], [28.66736018, 77.30372541], [28.63, 77.21], [28.67116736, 77.31825426], [28.67121678, 77.31819056], [28.66011757, 77.30861206], [28.66952381, 77.31204974], [28.66934292, 77.31217302], [28.66686832, 77.31794111], [28.6601382, 77.3174241], [28.66910046, 77.31206504], [0.0, 0.0], [28.66815358, 77.31226757], [28.667041, 77.31822677], [28.67127679, 77.31827907], [0.0, 0.0], [28.66982713, 77.3121633], [28.67132945, 77.31812015], [28.669247, 77.312115], [28.66958297, 77.31192157], [28.66984331, 77.31203791], [28.66842304, 77.31213246], [28.66696569, 77.31824689], [28.67126826, 77.31827103], [28.67148683, 77.31820431], [0.0, 0.0], [28.67556419, 77.31653329], [28.67993906, 77.31898986], [28.66945735, 77.31220789], [28.6815855, 77.1648729], [28.7003198, 77.1586101], [28.6990634, 77.1685563], [28.6994159, 77.1684265], [28.6797201, 77.1633809], [28.6792749, 77.1636597], [28.6299004, 77.080281], [28.6301884, 77.0795544], [28.65297802, 77.12311551], [28.6455224, 77.1689845], [28.6495338, 77.1639289], [28.6454168, 77.1689671], [28.6522346, 77.1647873], [28.5503472, 77.12179529], [28.5503472, 77.12179529], [28.54989546, 77.12142371], [28.5503472, 77.12179529], [28.5503472, 77.12179529], [28.55041317, 77.12178456], [28.54989546, 77.12142371], [28.5503472, 77.12179529], [0.0, 0.0], [28.55052862, 77.12165984], [28.548297, 77.120547], [28.54989546, 77.12142371], [28.5503472, 77.12179529], [28.54989546, 77.12142371], [28.551681, 77.121714], [28.5597171, 77.2068326], [28.5612917, 77.2125368], [28.5599455, 77.2068775], [28.5579587, 77.2071919], [28.5579587, 77.2071919], [28.5609683, 77.2098081], [28.5577007, 77.2077758], [28.5619163, 77.2101563], [28.5617724, 77.2072368], [28.5603554, 77.2074165], [28.5579096, 77.207147], [28.5617998, 77.2072686], [28.5622651, 77.2133453], [28.55994238, 77.20747568], [28.5579096, 77.207147], [28.559442, 77.2072368], [28.5616657, 77.2132657], [28.56191, 77.2105606], [28.5577692, 77.2084945], [28.5612517, 77.2074165], [28.5580078, 77.2072368], [28.556623, 77.2063516], [28.5609296, 77.2081467], [28.5598243, 77.2073832], [28.5616007, 77.2132249], [28.56720015, 77.27884457], [0.0, 0.0], [28.56771457, 77.27966331], [28.56542779, 77.28432264], [28.56717571, 77.28120089], [28.56744249, 77.27981217], [28.5665297, 77.2778975], [28.56679379, 77.28167631], [28.56527732, 77.28572074], [28.56624639, 77.28506528], [28.56618897, 77.28382677], [28.56732117, 77.27977898], [28.5668489, 77.2785427], [28.56519398, 77.28569627], [28.4581066, 77.5281286], [28.4639566, 77.5074561], [28.4644343, 77.5078343], [28.4642008, 77.5077014], [28.4642008, 77.5077014], [28.5698988, 77.3325771], [28.5703556, 77.3326668], [28.5697361, 77.3328944], [28.5700866, 77.3326668], [28.56812092, 77.32315633], [28.5680476, 77.32303832], [28.56822692, 77.32309598], [28.56834294, 77.3228281], [28.5676545, 77.32142698], [28.5675927, 77.3214491], [28.5673795, 77.3210901], [28.56800461, 77.3210394], [28.56772693, 77.32187994], [28.57, 77.32], [28.56747782, 77.32058812], [28.56668455, 77.32092675], [28.56744043, 77.32105985], [28.567075, 77.32080102], [28.56746369, 77.32102197], [28.5674896, 77.32144509], [28.56702642, 77.32094418], [28.56729997, 77.32072927], [28.56646341, 77.32097905], [28.56737005, 77.32057907], [28.56648549, 77.3204748], [28.56693955, 77.3205499], [28.56733177, 77.32083656], [0.0, 0.0], [0.0, 0.0], [28.567075, 77.32080102], [28.56646341, 77.32097905], [28.56732441, 77.320913], [28.56730645, 77.32041411], [28.56673549, 77.32079029], [28.56648549, 77.3204748], [28.56724019, 77.32051905], [28.56732971, 77.32082382], [28.56658591, 77.32077688], [28.56730085, 77.32085601], [28.5774799, 77.3283593], [28.5773903, 77.3283593], [28.5678168, 77.3361665], [28.5681889, 77.3353589], [28.567448, 77.3355832], [28.5682606, 77.3357335], [28.5677406, 77.3353589], [28.5678557, 77.3351088], [28.5674286, 77.3352723], [28.5683367, 77.3356291], [28.5649369, 77.3218081], [28.5648201, 77.3217244], [28.5647926, 77.3215077], [28.5649859, 77.321853], [28.5648242, 77.3214674], [28.5649219, 77.32147492], [28.5647491, 77.3217184], [28.56493986, 77.32148331], [28.5648218, 77.3215389], [28.5646431, 77.3213883], [28.5646509, 77.3216286], [28.5648218, 77.3215389], [28.56450145, 77.32180945], [28.565014, 77.321597], [28.5663497, 77.3451605], [28.4632797, 77.5111213], [28.4725268, 77.5142421], [28.4704639, 77.5103894], [28.4719367, 77.5127189], [28.4723639, 77.5144213], [28.4668203, 77.5078806], [28.4764154, 77.5237792], [28.4711106, 77.5115542], [28.4720847, 77.5133461], [28.4629296, 77.510587], [28.4732632, 77.5154068], [28.4725185, 77.5141525], [28.4665835, 77.5077462], [28.4723057, 77.5137941], [28.473395, 77.5149968], [28.4657682, 77.5081494], [28.4634563, 77.5112854], [28.4709959, 77.5112854], [28.4719958, 77.51812208], [28.463041, 77.5106105], [28.472462, 77.5145109], [28.4583447, 77.527913], [28.46449, 77.518042], [28.4706608, 77.5102866], [28.4632685, 77.5111958], [28.4708978, 77.5111958], [28.4647244, 77.5085078], [28.4725185, 77.5141525], [28.4725114, 77.5146578], [28.4634272, 77.5296715], [28.46341884, 77.51136148], [28.4642665, 77.5079254], [28.4733363, 77.5152276], [28.4733721, 77.5153379], [28.4725411, 77.5134341], [28.4658168, 77.508208], [28.4631372, 77.5107478], [28.4726306, 77.5141192], [28.4720755, 77.5127637], [28.4720107, 77.5130325], [28.4719201, 77.5125397], [28.5637906, 77.3387496], [28.5637524, 77.3387521], [28.5638179, 77.3386893], [28.5767055, 77.3351961], [28.5768465, 77.3352789], [28.5764701, 77.3348554], [28.5759163, 77.3347857], [28.5765143, 77.3348596], [28.5763192, 77.3348923], [28.5765055, 77.335048], [28.5766241, 77.3348957], [28.5762864, 77.3354311], [28.5764412, 77.3348778], [28.5764862, 77.3348627], [28.5764845, 77.3353591], [28.576761, 77.3352114], [28.4696531, 77.5180946], [28.4696531, 77.5180946], [28.4694087, 77.5183634], [28.4697021, 77.5181394], [28.464167, 77.521526], [28.464167, 77.521526], [28.5743086, 77.3536634], [28.5746419, 77.3533943], [28.574221, 77.3539094], [28.5743001, 77.3535737], [0.0, 0.0], [28.5743001, 77.3535737], [28.5742189, 77.3536634], [28.5743001, 77.3535737], [28.5742189, 77.3536634], [28.5743001, 77.3535737], [28.5743576, 77.3537083], [28.5743086, 77.3536634], [28.5742189, 77.3536634], [28.5743086, 77.3536634], [0.0, 0.0], [28.5743001, 77.3535737], [28.5743086, 77.3536634], [28.5743086, 77.3536634], [28.5741982, 77.3536862], [28.5744067, 77.3537531], [28.574317, 77.3537531], [28.5743086, 77.3536634], [28.5743576, 77.3537083], [28.57419684, 77.35367786], [28.5743001, 77.3535737], [28.5743001, 77.3535737], [28.5744067, 77.3537531], [28.5743001, 77.3535737], [28.5743001, 77.3535737], [28.5743086, 77.3536634], [28.6123732, 77.3665825], [28.6127402, 77.3666722], [28.57102038, 77.32554484], [28.57102038, 77.32554484], [28.4580751, 77.5278832], [28.4580334, 77.5283078], [28.4580767, 77.5282389], [28.4579354, 77.5282182], [28.4580493, 77.5279942], [28.4578535, 77.5281474], [28.4581066, 77.5281286], [0.0, 0.0], [28.6038697, 77.3506896], [28.6039396, 77.3503437], [28.6037907, 77.3497156], [28.56859793, 77.32218973], [28.5872879, 77.3129503], [28.5891934, 77.31409], [28.5949741, 77.3251735], [28.5922973, 77.333568], [28.58894661, 77.33208809], [28.5881489, 77.3307374], [28.5878866, 77.3303336], [28.5914816, 77.3323864], [28.589854, 77.331231], [28.597946, 77.3355334], [28.5977441, 77.3357155], [28.5976276, 77.335798], [28.5976456, 77.3358973], [28.6003782, 77.338766], [0.0, 0.0], [28.5978273, 77.335507], [28.5976592, 77.3356238], [28.5391348, 77.36543566], [28.53920932, 77.36520298], [28.538929, 77.365561], [28.545627, 77.369517], [28.53304444, 77.38715278], [28.53268571, 77.38628581], [28.53393492, 77.38746263], [28.53383506, 77.38743782], [28.5333408, 77.38730572], [28.53350929, 77.38739792], [28.53280177, 77.38514822], [28.5390865, 77.36518085], [28.53358145, 77.38745894], [28.53330811, 77.3871696], [28.53949767, 77.36554932], [28.533164, 77.386751], [28.53922405, 77.36533742], [28.54079875, 77.3682633], [28.53422092, 77.38676123], [28.52840456, 77.38501411], [0.0, 0.0], [28.53932095, 77.36609716], [28.53404095, 77.38755785], [28.53174637, 77.37825595], [28.53928884, 77.36627284], [28.539277, 77.366061], [28.53941873, 77.36619238], [28.53921168, 77.36621249], [28.53905704, 77.36540817], [28.53925998, 77.36600563], [0.0, 0.0], [28.5337414, 77.38754611], [28.539318, 77.36602105], [0.0, 0.0], [28.53954539, 77.36599725], [28.53309897, 77.3869852], [28.53927854, 77.36632314], [0.0, 0.0], [0.0, 0.0], [28.53319412, 77.38711596], [28.533164, 77.386751], [0.0, 0.0], [28.53395848, 77.38716993], [0.0, 0.0], [0.0, 0.0], [28.53300848, 77.38702995], [28.53197731, 77.37790592], [28.53420826, 77.38758132], [28.53210161, 77.38638707], [28.53397527, 77.38736574], [28.53409103, 77.38739625], [28.53309132, 77.38691278], [28.53934598, 77.36664299], [28.597161, 77.3379637], [28.5968936, 77.3440643], [28.5971578, 77.3382315], [28.596352, 77.3435377], [28.5972511, 77.3380039], [28.5923274, 77.3387224], [28.5969146, 77.3378109], [28.5931433, 77.3372391], [28.5939838, 77.3388953], [28.5969468, 77.3377445], [28.5972982, 77.3439016], [28.5982082, 77.3441147], [28.5940266, 77.3343957], [28.5973644, 77.3381282], [28.5948476, 77.3395869], [28.5969498, 77.3441252], [0.0, 0.0], [28.5919342, 77.3355321], [28.597161, 77.338294], [28.5923266, 77.3386901], [28.5969249, 77.3440914], [28.5970594, 77.3441785], [28.5493465, 77.332072], [28.5486721, 77.3323527], [28.5493943, 77.3323449], [28.516344, 77.3714268], [28.5445167, 77.3306028], [28.5488666, 77.3317111], [28.5472559, 77.3297035], [28.5494133, 77.3323016], [28.5493919, 77.3323947], [28.5074459, 77.4133126], [0.0, 0.0], [28.5131767, 77.40612611], [28.508599, 77.407635], [28.5070787, 77.4132229], [28.5141905, 77.377632], [0.0, 0.0], [28.5007418, 77.4102187], [28.5003041, 77.4027519], [28.5011578, 77.40179], [28.5075273, 77.4132229], [28.5011636, 77.4097048], [28.5164185, 77.3713463], [28.4995416, 77.404642], [28.5177319, 77.3799935], [0.0, 0.0], [28.4995663, 77.4038963], [28.5137081, 77.3778001], [0.0, 0.0], [0.0, 0.0], [0.0, 0.0], [28.500375, 77.4027231], [28.5255885, 77.3681524], [28.5164422, 77.3715165], [0.0, 0.0], [28.50763882, 77.40778303], [28.505174, 77.413852], [28.4996449, 77.4028201], [28.5074131, 77.4132861], [28.4990685, 77.4043548], [28.500282, 77.4026739], [28.5164659, 77.3712923], [28.5161937, 77.3734774], [0.0, 0.0], [0.0, 0.0], [28.51524439, 77.37313192], [28.5046715, 77.4141288], [28.513978, 77.3777963], [0.0, 0.0], [28.5078125, 77.413356], [28.5152596, 77.3732546], [28.5151994, 77.3730864], [28.5138115, 77.3778856], [28.5811942, 77.3145385], [28.5818951, 77.3138576], [28.5814426, 77.3141014], [28.5817708, 77.314], [28.5815304, 77.3141279], [28.5802723, 77.3142692], [28.5832846, 77.3119452], [28.5820794, 77.3104224], [28.5826872, 77.3127883], [28.5812215, 77.3144579], [28.5773817, 77.310934], [28.58180043, 77.3137449], [28.5821145, 77.3100508], [28.5784806, 77.3075696], [28.5789682, 77.3084223], [0.0, 0.0], [28.5822126, 77.3101406], [28.5806262, 77.3146798], [28.58206, 77.312979], [28.582123, 77.3101406], [28.58226269, 77.31239598], [28.5807004, 77.3147473], [0.0, 0.0], [28.5827278, 77.3127435], [28.5822693, 77.3102284], [28.5801911, 77.314359], [0.0, 0.0], [28.5816812, 77.314], [28.5805304, 77.3145418], [28.5793172, 77.3156097], [28.5707246, 77.31759], [28.577722, 77.31485], [28.58129376, 77.31558178], [28.5792232, 77.3169908], [28.5801391, 77.3157052], [0.0, 0.0], [0.0, 0.0], [28.5788612, 77.313817], [28.5776606, 77.317657], [28.5801189, 77.3153216], [28.57081133, 77.32593108], [28.57064084, 77.32504863], [28.56861001, 77.32310604], [28.57158307, 77.32418898], [28.57044385, 77.32611079], [28.56988852, 77.32660197], [28.56997273, 77.32660867], [28.56857349, 77.32454438], [28.57113316, 77.3235295], [28.57024863, 77.32480153], [28.56926546, 77.32365757], [28.56876577, 77.32496414], [28.56992385, 77.32669149], [28.56889916, 77.3242832], [28.57099, 77.325204], [28.597824, 77.332893], [28.57071651, 77.32458662], [28.57151907, 77.32406242], [28.57088023, 77.32570108], [28.5721275, 77.32221387], [28.57015824, 77.3243117], [28.570049, 77.322001], [28.57225971, 77.32313555], [28.57003427, 77.3264863], [28.57117762, 77.32466508], [28.57073654, 77.32512441], [28.569182, 77.324447], [28.5688017, 77.3233803], [28.57206302, 77.32295919], [28.57046888, 77.32430164], [28.569561, 77.323714], [28.57302026, 77.32213676], [28.57153949, 77.32396636], [28.57196379, 77.32466038], [28.57215783, 77.3246292], [28.57013969, 77.32443139], [28.56935203, 77.32456181], [28.56966474, 77.32398044], [28.56839947, 77.32459467], [28.5694916, 77.32425638], [28.56914544, 77.32411414], [28.57234745, 77.32224271], [28.5702822, 77.3248877], [28.56784854, 77.32413467], [28.57171587, 77.32429225], [28.57101361, 77.32514117], [28.570034, 77.327377], [28.570159, 77.322687], [28.56728731, 77.32071754], [28.571388, 77.325052], [28.57096149, 77.32541844], [28.57181745, 77.32224539], [28.56920863, 77.32432779], [28.57036376, 77.3257916], [28.57116908, 77.3248411], [28.56914297, 77.32361533], [28.5682225, 77.32465636], [28.56978752, 77.32499767], [28.56900605, 77.32484244], [28.57065303, 77.3238781], [28.57008816, 77.32487295], [28.5684245, 77.32373536], [28.56954961, 77.32236877], [28.57210424, 77.3218102], [28.57199854, 77.32216291], [28.56837474, 77.32376587], [28.57149032, 77.32239123], [28.57070886, 77.32339572], [28.56950956, 77.32514352], [28.56984906, 77.32652552], [28.57242813, 77.32435126], [28.56993416, 77.3261812], [28.57066881, 77.32529875], [28.56827816, 77.3242376], [28.56812416, 77.32480355], [28.5816039, 77.3283593], [28.577975, 77.328028], [0.0, 0.0], [28.5807886, 77.3291124], [28.5837833, 77.3143909], [28.5822486, 77.3135127], [28.5849968, 77.3116811], [28.5833336, 77.3134615], [28.5850552, 77.3123862], [28.5853521, 77.3128979], [28.58503529, 77.31540769], [28.5855201, 77.3139934], [28.585532, 77.3141165], [28.5838546, 77.3332052], [0.0, 0.0], [28.5825656, 77.3328463], [28.5880357, 77.3360987], [28.5847607, 77.3371603], [28.5921841, 77.3386645], [28.5990702, 77.3446655], [28.5950171, 77.3425749], [28.5940591, 77.3425375], [28.5954289, 77.3431349], [28.5973259, 77.3446346], [28.597278, 77.3445624], [28.5990864, 77.3449071], [28.5979022, 77.349942], [28.5916807, 77.3469331], [28.5843762, 77.3379464], [28.5845728, 77.3378653], [28.5843215, 77.3381766], [28.5844243, 77.3382691], [28.5843227, 77.3381319], [28.5846506, 77.3377069], [28.5767841, 77.3352827], [0.0, 0.0], [28.5768276, 77.3352977], [28.57445006, 77.32838832], [28.57456872, 77.32827835], [28.5735123, 77.324321], [28.57444329, 77.32837792], [28.573916, 77.3245817], [28.57457078, 77.32828371], [28.5737086, 77.3245004], [28.57438086, 77.3282646], [28.57439941, 77.32841983], [28.57187929, 77.32803628], [28.5734717, 77.3243658], [28.57346898, 77.32451957], [28.5737171, 77.3245902], [28.5737946, 77.3235133], [0.0, 0.0], [28.57453721, 77.3283169], [28.5736246, 77.3242109], [0.0, 0.0], [0.0, 0.0], [28.57386667, 77.32458611], [28.5738031, 77.323603], [28.57350873, 77.32458428], [28.57394362, 77.32455846], [28.5746025, 77.3282696], [28.5775482, 77.328325], [28.57433905, 77.32809763], [28.5711016, 77.3331573], [28.5714962, 77.3330621], [28.5714642, 77.3330963], [28.5710463, 77.333159], [28.5710661, 77.3331584], [28.5711287, 77.3332434], [28.5670876, 77.3350897], [28.5672923, 77.3353589], [28.5673735, 77.3352692], [28.5684579, 77.3353589], [28.56859852, 77.33557262], [28.569734, 77.332751], [28.5672838, 77.3352692], [28.5818551, 77.319038], [28.5821309, 77.3187567], [28.5810955, 77.3173193], [0.0, 0.0], [28.5810132, 77.3173563], [28.5722363, 77.3409391], [28.5724711, 77.3408326], [28.576754, 77.346491], [28.5791986, 77.3394417], [28.5793226, 77.34303586], [28.5743086, 77.3536634], [0.0, 0.0], [0.0, 0.0], [28.5773502, 77.3469342], [28.5744592, 77.347652], [28.5866196, 77.3499908], [28.5743086, 77.3536634], [28.5743086, 77.3536634], [28.58791339, 77.35415488], [28.5865079, 77.3502339], [28.5818244, 77.36111], [28.5743086, 77.3536634], [28.5835424, 77.3636829], [28.5838901, 77.3573419], [28.5743086, 77.3536634], [28.5840221, 77.3577905], [28.5743086, 77.3536634], [28.583684, 77.360356], [28.5839882, 77.3574316], [28.5743086, 77.3536634], [28.5743086, 77.3536634], [28.5820375, 77.3614689], [28.5743086, 77.3536634], [28.5691352, 77.3425375], [28.5661407, 77.3402775], [28.5653946, 77.3404288], [28.5644063, 77.3376836], [28.5660756, 77.3405146], [28.5651685, 77.3397535], [28.565446, 77.340435], [28.5654172, 77.3403587], [28.565491, 77.340025], [28.52998373, 77.37565689], [28.56619633, 77.34083544], [28.566297, 77.340721], [28.565437, 77.3403537], [28.5661948, 77.3408326], [28.5653946, 77.3404288], [28.56528114, 77.34018199], [28.5653929, 77.3399353], [28.5655401, 77.3400699], [0.0, 0.0], [28.5699307, 77.3457285], [28.56573444, 77.34016448], [28.5686715, 77.3404737], [28.5652948, 77.3397409], [28.5653117, 77.340025], [28.565491, 77.340025], [28.5641453, 77.323737], [28.5640131, 77.334633], [28.5640131, 77.334633], [28.5643934, 77.3221651], [28.5645948, 77.3220403], [28.5664384, 77.3254169], [28.5648303, 77.3216286], [28.5643808, 77.3349102], [0.0, 0.0], [28.5677206, 77.3263626], [28.5693451, 77.3281989], [28.564222, 77.334211], [28.56437507, 77.33417619], [28.5672202, 77.3498054], [0.0, 0.0], [28.56699945, 77.34990894], [28.0, 0.0], [28.5810716, 77.3219012], [28.5651898, 77.3568036], [0.0, 0.0], [28.56952163, 77.36176707], [28.561368, 77.3607699], [28.5692496, 77.3618278], [28.56920834, 77.36170672], [28.5697922, 77.3618487], [28.5615185, 77.3591531], [28.5689914, 77.361986], [28.5662049, 77.3629392], [28.569412, 77.3616483], [28.5692859, 77.3618197], [28.569218, 77.3620195], [28.5693477, 77.3619175], [28.5614537, 77.3609306], [28.569207, 77.3618306], [28.5613668, 77.3603093], [28.561485, 77.360265], [28.565118, 77.366334], [28.5614308, 77.3592512], [28.56145334, 77.35881027], [28.565447, 77.360571], [28.5689975, 77.3620072], [28.5614837, 77.3583449], [28.5656, 77.361169], [28.563578, 77.363015], [28.569307, 77.361455], [28.56136235, 77.36045983], [28.56132431, 77.36013662], [28.5615785, 77.3522612], [28.5612185, 77.3612895], [28.57, 77.36], [28.5692496, 77.3618278], [28.5614537, 77.3609306], [28.569307, 77.361455], [28.5692053, 77.3617807], [28.5612563, 77.358773], [0.0, 0.0], [0.0, 0.0], [0.0, 0.0], [28.5615028, 77.3609755], [28.5616434, 77.3591363], [0.0, 0.0], [0.0, 0.0], [28.5689197, 77.361974], [28.56337153, 77.35858697], [28.569279, 77.362094], [28.5546617, 77.3374886], [0.0, 0.0], [28.56470841, 77.3382907], [28.5580118, 77.3321849], [28.56198634, 77.35743094], [28.5543914, 77.3373827], [28.5579734, 77.3323268], [28.5599265, 77.3361665], [28.560602, 77.3400334], [28.5607636, 77.3400007], [28.5579975, 77.3323527], [28.5545389, 77.3385357], [28.5579718, 77.3322975], [28.554041, 77.339363], [28.5584685, 77.3305135], [28.5541271, 77.3374228], [0.0, 0.0], [28.5585244, 77.3431656], [28.5568248, 77.33950197], [0.0, 0.0], [28.5538698, 77.3367172], [0.0, 0.0], [0.0, 0.0], [28.5485744, 77.3441526], [0.0, 0.0], [28.5489246, 77.3440629], [28.5503712, 77.3451396], [0.0, 0.0], [28.5498552, 77.3444218], [28.5486331, 77.3442694], [0.0, 0.0], [28.5509007, 77.3425046], [28.5593943, 77.3636066], [28.5480976, 77.3728126], [28.55065, 77.3740358], [0.0, 0.0], [28.55276, 77.3724136], [28.5528331, 77.3717413], [28.5572741, 77.3678917], [28.5574096, 77.3676875], [28.5571046, 77.3681581], [28.5571526, 77.3682751], [28.5574263, 77.3678243], [28.5551493, 77.3727931], [28.5555893, 77.3728518], [28.56072076, 77.36971536], [28.5555542, 77.3729825], [28.5556159, 77.373221], [28.5573976, 77.3719832], [28.5596943, 77.3706065], [28.56042768, 77.37059221], [28.5562369, 77.375287], [28.5887703, 77.3234175], [28.5878734, 77.3245004], [28.59, 77.32], [28.5705134, 77.3619175], [28.5695102, 77.361738], [28.5702613, 77.3620969], [28.5702807, 77.3619772], [28.56872955, 77.3640969], [28.5699073, 77.3621286], [28.5705071, 77.361983], [28.5699059, 77.3621117], [28.5694331, 77.3704026], [28.5709428, 77.3864967], [28.5702866, 77.362366], [28.5703509, 77.3620969], [28.5705134, 77.3619175], [28.5706018, 77.3623092], [28.5697892, 77.3623212], [28.5703164, 77.3620447], [28.570872, 77.3619175], [28.5699968, 77.362497], [0.0, 0.0], [28.57683772, 77.37630514], [28.5699364, 77.3624558], [28.5708889, 77.3620969], [28.5694797, 77.3852409], [28.57, 77.37], [28.5702613, 77.3620969], [28.5699792, 77.3621039], [28.5704704, 77.361896], [28.5702697, 77.3621866], [28.5703849, 77.3620973], [28.5708499, 77.3624456], [28.5704635, 77.3617899], [28.5728, 77.37062], [28.5704559, 77.3617829], [28.5704437, 77.3625098], [28.570603, 77.3619175], [28.5780783, 77.3670311], [0.0, 0.0], [28.5582143, 77.3674796], [28.5782751, 77.3624558], [28.5832481, 77.3676591], [28.578194, 77.369257], [28.5782979, 77.3693635], [28.5822417, 77.3664928], [28.5781101, 77.3692738], [28.5825191, 77.3665825], [28.5834992, 77.3681633], [0.0, 0.0], [0.0, 0.0], [0.0, 0.0], [0.0, 0.0], [28.5783055, 77.3672447], [28.583972, 77.3688983], [28.58601, 77.3722342], [28.5862117, 77.3722935], [0.0, 0.0], [28.5784302, 77.3669408], [28.58, 77.37], [28.58168431, 77.37454668], [0.0, 0.0], [28.5796721, 77.3658648], [28.581868, 77.366121], [28.573306, 77.3614962], [28.585893, 77.3720794], [28.5867115, 77.3625455], [28.5833075, 77.367691], [28.5864134, 77.3681073], [28.5879739, 77.3655244], [28.5832178, 77.3675487], [28.5906666, 77.3607512], [28.5953748, 77.3625937], [28.5955626, 77.362305], [28.5863139, 77.3630838], [28.5900318, 77.3596121], [28.5913835, 77.365506], [28.5878465, 77.3631735], [28.5906666, 77.3607512], [28.59562, 77.3623636], [28.5895874, 77.3597643], [28.5866387, 77.3627249], [28.5957812, 77.3626452], [28.5866387, 77.3627249], [28.586412, 77.3631735], [28.5906666, 77.3607512], [28.59569369, 77.36209564], [28.5869987, 77.3624115], [28.5955703, 77.362366], [28.5956935, 77.3623312], [28.6070243, 77.3469342], [28.606606, 77.3470476], [28.6033018, 77.3428293], [28.6033255, 77.3427967], [28.6032453, 77.3429861], [28.603325, 77.3427604], [28.6033137, 77.3427275], [28.6005354, 77.3545409], [28.6045901, 77.3576192], [28.6048659, 77.358741], [28.60756944, 77.35685091], [28.6086827, 77.3597643], [28.6072953, 77.362444], [28.6101016, 77.3533487], [28.61007, 77.35318667], [28.6085274, 77.3597207], [28.6057844, 77.3625711], [0.0, 0.0], [28.6099807, 77.3532162], [28.6097471, 77.3528544], [28.6100951, 77.3533213], [28.6080732, 77.3723239], [28.6088161, 77.3626026], [28.6088444, 77.3626134], [28.6086461, 77.3724933], [28.6095755, 77.3781674], [28.6081042, 77.3724239], [28.6084226, 77.36256], [28.5920932, 77.3178507], [28.6047247, 77.3624842], [0.0, 0.0], [28.6055225, 77.3719027], [0.0, 0.0], [28.59345268, 77.36473083], [0.0, 0.0], [0.0, 0.0], [28.59566, 77.362366], [28.6142808, 77.3716062], [28.6127995, 77.3625455], [28.6181042, 77.3698446], [28.6191966, 77.370818], [28.6127995, 77.3625455], [28.6127402, 77.3666722], [28.6274956, 77.374165], [28.61083103, 77.35402454], [28.6127402, 77.3666722], [28.6139194, 77.371174], [28.6181215, 77.3704181], [28.6142808, 77.3716062], [28.58167444, 77.33747028], [28.62443114, 77.37043262], [0.0, 0.0], [28.62840758, 77.37389041], [28.6181067, 77.3702942], [28.62667926, 77.37371799], [28.61183236, 77.37029448], [28.6184991, 77.3707092], [28.612911, 77.3665825], [28.6181511, 77.369864], [28.6127402, 77.3666722], [28.6280874, 77.3738681], [28.6180976, 77.3706652], [0.0, 0.0], [28.61263059, 77.3545194], [28.62392171, 77.37002995], [28.61451253, 77.35519834], [28.6193448, 77.3701709], [28.6127995, 77.3625455], [28.6197372, 77.3705298], [28.6196711, 77.3704489], [28.6127995, 77.3625455], [28.6239066, 77.3700887], [28.612791, 77.3624558], [28.62453856, 77.37041719], [28.613167, 77.3684034], [0.0, 0.0], [28.6187885, 77.3707797], [28.6185042, 77.3698121], [28.6145003, 77.3624828], [28.62453797, 77.37017244], [28.6182239, 77.3702457], [28.613038, 77.3631735], [28.612791, 77.3624558], [28.61550833, 77.35487667], [28.61044692, 77.35400308], [28.61997007, 77.35509105], [28.618099, 77.3723946], [28.6252228, 77.37004437], [28.6238525, 77.368349], [0.0, 0.0], [28.6139563, 77.3672105], [0.0, 0.0], [28.6181335, 77.370496], [28.6129491, 77.3656117], [28.6143366, 77.3712474], [28.6193211, 77.3706875], [28.61750372, 77.35475075], [28.62565716, 77.20952498], [28.6182302, 77.3707092], [28.6207119, 77.3629871], [28.6132102, 77.3660074], [28.6132289, 77.3633138], [28.619656, 77.3706195], [28.6131696, 77.3634824], [28.6182302, 77.3707092], [28.6220057, 77.3550388], [28.6218907, 77.3551543], [28.62503592, 77.37101935], [28.6188035, 77.369567], [0.0, 0.0], [28.6191953, 77.3707194], [28.612791, 77.3624558], [28.6129026, 77.3664928], [28.625608, 77.38531], [28.616674, 77.3770285], [0.0, 0.0], [28.6177586, 77.3784944], [28.6249999, 77.3771889], [0.0, 0.0], [28.6125969, 77.3846785], [28.6292246, 77.3760306], [0.0, 0.0], [0.0, 0.0], [0.0, 0.0], [0.0, 0.0], [28.6075466, 77.3772233], [28.607233, 77.380365], [28.6095834, 77.3760035], [28.6095596, 77.3757327], [28.6072612, 77.3799187], [28.6094124, 77.3755981], [28.597085, 77.317172], [28.5976222, 77.3201607], [0.0, 0.0], [0.0, 0.0], [28.5915785, 77.3751945], [0.0, 0.0], [0.0, 0.0], [28.6008237, 77.3771267], [28.6008229, 77.3771316], [28.6076509, 77.3798644], [28.5645097, 77.3823794], [28.5664689, 77.3813429], [28.5663929, 77.381327], [28.5663773, 77.3811864], [28.5646289, 77.3851512], [28.57108, 77.3862918], [28.5914755, 77.3809101], [28.585038, 77.3997654], [28.5722375, 77.3863299], [28.5723004, 77.3864019], [28.5868911, 77.4013017], [28.5663966, 77.3810922], [28.57605503, 77.32181758], [28.5879324, 77.400309], [28.56920274, 77.38469392], [28.57173, 77.3920718], [28.5905939, 77.3833124], [28.566406, 77.3819125], [28.5851413, 77.3992328], [28.5645272, 77.38271], [28.5694254, 77.3848705], [28.5664155, 77.3810436], [28.5665424, 77.3821963], [28.5663598, 77.3814563], [28.5659688, 77.3813897], [28.5891989, 77.3803972], [28.5914573, 77.3805766], [28.588073, 77.400003], [28.5663512, 77.3816692], [28.5706274, 77.386365], [28.5714727, 77.3837255], [28.5853989, 77.3991911], [28.58528, 77.3992776], [28.5722136, 77.386199], [28.5664704, 77.3812069], [28.5880007, 77.3986498], [28.5639598, 77.387573], [0.0, 0.0], [28.5645393, 77.3851512], [28.5666463, 77.3819508], [28.5704048, 77.3864967], [28.5665638, 77.3822877], [28.5419387, 77.3346967], [28.5643503, 77.3827156], [0.0, 0.0], [0.0, 0.0], [28.5664153, 77.3807896], [28.5646289, 77.3851512], [28.5707996, 77.3863819], [0.0, 0.0], [28.5711244, 77.3846131], [28.5674429, 77.3936272], [28.5717508, 77.392176], [28.5665039, 77.3812875], [28.585231, 77.3992328], [28.5712706, 77.3839456], [28.58528, 77.3992776], [28.5717732, 77.3923332], [28.5716155, 77.3804176], [28.56639, 77.3812288], [28.515425, 77.37333611], [28.5963721, 77.3246524], [28.5960491, 77.3227953], [28.52887237, 77.39445644], [28.5205286, 77.3820287], [28.5136416, 77.3851484], [28.5146003, 77.3853306], [28.5200041, 77.3817427], [28.5205903, 77.3841646], [28.519906, 77.381653], [28.5200799, 77.38255], [28.5189985, 77.3863173], [28.5208059, 77.3826397], [28.5205006, 77.3841646], [28.5209491, 77.3841646], [28.5143927, 77.3854509], [28.5144055, 77.3856446], [0.0, 0.0], [28.5249223, 77.3881327], [28.519906, 77.381653], [28.5204779, 77.3820118], [28.5143706, 77.3854743], [28.59579437, 77.36500047], [28.5971027, 77.3648332], [28.5854737, 77.3404494], [28.5854737, 77.3404494], [28.5854737, 77.3404494], [28.5864102, 77.3413131], [28.5854737, 77.3404494], [28.5864047, 77.3398007], [28.5861409, 77.341214], [28.5862391, 77.341371], [28.586, 77.3406022], [0.0, 0.0], [28.5855119, 77.341593], [28.5863196, 77.3409734], [28.5835794, 77.3373249], [28.5863106, 77.3409762], [28.5854928, 77.3410212], [28.5854928, 77.3410212], [28.5971027, 77.3648332], [28.5971027, 77.3648332], [28.5971027, 77.3648332], [28.5973057, 77.3646089], [28.5970621, 77.364878], [28.5970621, 77.364878], [28.5971027, 77.3648332], [28.5973425, 77.36484054], [28.5971298, 77.3649169], [28.5971518, 77.364878], [28.5971433, 77.3647883], [28.5970621, 77.364878], [28.5971097, 77.3649068], [28.5971027, 77.3648332], [28.5971027, 77.3648332], [28.59716667, 77.36474722], [28.5971137, 77.3649083], [28.5971027, 77.3648332], [28.59689799, 77.36498103], [28.5675107, 77.3258017], [28.5674499, 77.325869], [28.5678712, 77.3262953], [28.5676664, 77.3260261], [28.566702, 77.3253081], [28.5670755, 77.325482], [28.5680759, 77.3265645], [28.5675098, 77.3255549], [28.5677476, 77.3259363], [28.5672542, 77.3254017], [28.5671503, 77.3253081], [28.5671588, 77.3253979], [28.5671588, 77.3253979], [28.56721958, 77.32540604], [28.5680759, 77.3265645], [28.5678221, 77.3262504], [28.5672537, 77.3254972], [28.5671503, 77.3253081], [28.5674465, 77.3260709], [28.5678881, 77.3264748], [28.5671054, 77.3253509], [28.5672163, 77.3255325], [28.5674287, 77.3256447], [28.5672492, 77.3255133], [28.5680132, 77.3261382], [28.5676834, 77.3262056], [28.5680132, 77.3261382], [28.5675141, 77.3255998], [0.0, 0.0], [28.5671588, 77.3253979], [28.5680759, 77.3265645], [28.564185, 77.324803], [28.5677509, 77.32321292], [28.5671503, 77.3253081], [28.5680674, 77.3264748], [28.5670397, 77.325445], [28.5671588, 77.3253979], [28.5575368, 77.3675243], [28.5579292, 77.3673027], [28.5578418, 77.367188], [28.5579297, 77.3673216], [28.5578518, 77.367188], [30.6978586, 76.849258], [0.0, 0.0], [25.60803333, 85.137825], [0.0, 0.0], [0.0, 0.0], [25.61034722, 85.13588611], [25.6097878, 85.14262542], [25.6172, 85.14649167], [25.617912, 85.148632], [25.61042222, 85.13382778], [25.615025, 85.142028], [25.60662778, 85.074775], [25.61355147, 85.08215654], [25.61704444, 85.14115833], [25.61583889, 85.14343889], [25.61098056, 85.13806111], [25.61011389, 85.13407222], [25.634209, 85.106207], [25.61403056, 85.11631667], [25.62067778, 85.11401389], [25.61552768, 85.1154613], [11.989991, 79.834825], [11.99078611, 79.82895], [11.93819039, 79.83147883], [11.92587222, 79.83385556], [11.92994722, 79.83015556], [11.93648771, 79.83134832], [11.92996111, 79.83013889], [11.929275, 79.829584], [11.929842, 79.830194], [11.9331, 79.8358], [11.93315278, 79.83575556], [11.929698, 79.833191], [11.93154444, 79.83570833], [11.92877274, 79.83363356], [11.9365319, 79.83481014], [11.93021111, 79.83331944], [11.93104444, 79.83376389], [11.92859167, 79.83258056], [11.93036667, 79.8348], [11.92598889, 79.83419167], [18.5691562, 73.77472289], [18.5514399, 73.80485516], [18.554382, 73.7982064], [18.51420998, 73.83842938], [18.5436256, 73.9051007], [18.54625752, 73.90433729], [18.54694697, 73.90062645], [18.53408003, 73.89852025], [18.53656175, 73.89648478], [18.53929933, 73.897902], [18.533811, 73.899315], [18.52001645, 73.83054703], [18.5624502, 73.9166191], [18.51621575, 73.84252679], [18.63621513, 73.75108123], [18.5367185, 73.8303275], [18.5309626, 73.8289719], [18.59348149, 73.785901], [18.5639345, 73.9153669], [18.5927182, 73.7735722], [23.41679167, 85.31684167], [0.0, 0.0], [0.0, 0.0], [23.35903333, 85.32534722], [23.35516389, 85.32409722], [23.35780368, 85.32514606], [23.359407, 85.325055], [23.35378333, 85.32696667], [23.35105833, 85.32573056], [23.35442222, 85.3329], [23.35919444, 85.32544722], [0.0, 0.0], [23.37498889, 85.33548611], [0.0, 0.0], [23.36974563, 85.33981957], [23.37129167, 85.32787222], [23.37487778, 85.33573889], [23.351489, 85.324253], [23.33301667, 85.3172], [23.39925, 85.39046389], [17.4589981, 78.5003662], [17.4832159, 78.5521107], [21.18643846, 72.79411532], [21.18660789, 72.79413611], [21.18688393, 72.79361609], [21.17349346, 72.80195273], [21.17510449, 72.80434225], [21.185047, 72.80858986], [21.17079783, 72.79048864], [21.17334339, 72.79273096], [21.175975, 72.79550278], [21.17105952, 72.78929204], [21.15773452, 72.76877817], [21.18343357, 72.81449206], [21.17009563, 72.78912205], [21.15772858, 72.76872553], [21.16052169, 72.77147748], [21.16043664, 72.77420897], [21.14956883, 72.77269729], [21.14983426, 72.7786658], [21.14966885, 72.77262915], [21.15275978, 72.77805928], [22.307898, 73.167788], [0.0, 0.0], [22.32, 73.17], [0.0, 0.0], [22.310526, 73.170937], [22.31279, 73.170283], [0.0, 0.0], [0.0, 0.0], [0.0, 0.0], [22.310329, 73.169083], [22.308096, 73.167753], [0.0, 0.0], [22.31023696, 73.15892089], [22.311603, 73.165012], [0.0, 0.0], [0.0, 0.0], [0.0, 0.0], [0.0, 0.0], [22.311844, 73.165081], [22.311358, 73.164798], [25.287958, 83.004504], [25.288447, 83.006523], [0.0, 0.0], [0.0, 0.0], [0.0, 0.0], [0.0, 0.0], [0.0, 0.0], [25.307589, 83.010021], [25.311385, 82.971977], [25.290468, 83.001801], [25.281437, 82.999827], [25.270943, 82.982869], [25.334362, 82.987294], [25.33290879, 82.98929069], [25.338373, 82.98081], [25.338373, 82.98081], [0.0, 0.0], [25.31717627, 82.99116335], [25.31834492, 82.99169443], [0.0, 0.0], [17.73417778, 83.31851111], [17.72614722, 83.30513889], [17.72629722, 83.30341389], [17.715819, 83.307073], [17.71069, 83.315935], [17.71202778, 83.30161389], [0.0, 0.0], [0.0, 0.0], [0.0, 0.0], [17.73480556, 83.33809722], [17.740024, 83.326859], [17.71266157, 83.31983998], [0.0, 0.0], [17.726709, 83.304558], [17.78386944, 83.38285833], [17.764287, 83.361377], [0.0, 0.0], [17.7195395, 83.31528135], [17.721182, 83.33684], [17.72111944, 83.31494167], [-6.887057501, 107.6127895], [-6.606916768, 106.8103014], [-6.576578026, 106.8078499], [-6.168466667, 106.7285083], [-6.278012, 106.801782], [-6.244221, 106.783162], [-6.197150016, 106.8197488], [-6.196778, 106.821999], [-6.203291667, 106.8189611], [-6.163947933, 106.9113346], [-6.224333333, 106.8425], [-6.101298, 106.800144], [-6.218932479, 106.8317481], [-6.235241091, 106.8134001], [-6.23077495, 106.8085503], [-6.12685982, 106.8335532], [0.0, 0.0], [-6.232815715, 106.8564133], [-6.19627, 106.821023], [-6.241792, 106.652688], [-6.269913889, 106.7261194], [-36.888662, 174.74808], [-36.845553, 174.768851], [-36.84418841, 174.7686903], [-36.8453314, 174.7695519], [-36.848988, 174.762527], [-36.84876968, 174.7622201], [-36.84604966, 174.768986], [-36.859341, 174.635633], [-36.85014119, 174.765767], [-36.84831519, 174.8320893], [-36.89398977, 174.7269883], [-36.87177949, 174.7524415], [-36.881213, 174.762234], [-36.882604, 174.762354], [-36.86565, 174.777987], [0.0, 174.779441], [-36.905409, 174.810305], [-36.85158619, 174.7634761], [-36.857474, 174.764078], [-36.84109176, 174.7570233], [-41.330428, 174.793257], [-41.294234, 174.785051], [-41.296107, 174.774151], [-41.29483333, 174.775], [-41.290801, 174.773933], [-41.289798, 174.774546], [-41.296155, 174.780345], [-41.293, 174.7806667], [-41.2925, 174.7791667], [-41.29597, 174.774134], [-41.289, 174.7756667], [-41.29383333, 174.7755], [-41.291774, 174.782427], [-41.291901, 174.777091], [-41.294154, 174.775296], [-41.294565, 174.774912], [-41.294402, 174.775005], [-41.28303381, 174.7792237], [-41.28496092, 174.7774651], [-41.28483333, 174.7791667], [52.488557, -1.846811], [52.477569, -1.918049], [52.477693, -1.914805], [52.477633, -1.894286], [52.477633, -1.894286], [52.477633, -1.894286], [52.47969, -1.900375], [52.480364, -1.899133], [52.483643, -1.901843], [52.477388, -1.890569], [52.472197, -1.938759], [52.51416667, -1.939166667], [52.460962, -1.943852], [52.485015, -1.907596], [52.44630234, -1.888555455], [52.450999, -1.889039], [52.470571, -1.860593], [52.487692, -1.947514], [52.443963, -1.858529], [52.475857, -1.905477], [55.943501, -3.208363], [55.96466944, -3.176858333], [55.97509722, -3.171327778], [55.976644, -3.173679], [55.97698, -3.172778], [55.95404, -3.199521], [55.952221, -3.203159], [55.95349444, -3.196294444], [55.951974, -3.199569], [55.94543056, -3.184344444], [55.945895, -3.204735], [55.949637, -3.187962], [55.94755556, -3.191780556], [55.94562222, -3.205522222], [55.94595, -3.201683333], [55.94800278, -3.18625], [55.94828056, -3.19575], [55.945676, -3.189979], [55.94190278, -3.203588889], [55.957033, -3.186854], [51.508515, -0.141645], [51.511629, -0.133947], [51.512069, -0.138343], [51.516284, -0.080963], [51.52453611, -0.076580556], [51.513739, -0.135229], [51.518935, -0.135524], [51.485509, -0.162092], [51.512669, -0.141557], [51.513196, -0.123132], [51.51481111, -0.135463889], [51.513225, -0.136576], [51.512085, -0.126324], [51.510342, -0.144861], [51.508811, -0.143259], [51.514641, -0.155732], [51.511682, -0.12262], [51.512417, -0.127164], [51.51259, -0.126963], [51.512627, -0.133789], [53.494691, -2.239385], [53.513525, -2.246548], [53.48124, -2.250806], [53.48083333, -2.247333333], [53.44183333, -2.189833333], [53.48083333, -2.242833333], [53.48174, -2.243505], [53.4835, -2.237333333], [53.484543, -2.237033], [53.48416667, -2.236], [53.484099, -2.236507], [53.474221, -2.241047], [53.472433, -2.24042], [53.456, -2.225333333], [53.45583333, -2.225333333], [53.482261, -2.247633], [53.4765, -2.254833333], [53.481413, -2.248848], [53.477358, -2.245034], [53.477154, -2.245077], [25.224394, 51.506825], [25.276109, 51.5210744], [25.2625016, 51.5274557], [25.2802233, 51.5369233], [25.2641161, 51.498153], [25.2684026, 51.5194969], [25.2774224, 51.5076178], [25.28599626, 51.50505289], [25.2709036, 51.5104884], [25.2859356, 51.5141453], [25.274457, 51.512682], [25.348622, 51.530046], [25.3273326, 51.3500471], [25.28246661, 51.52302034], [25.2894111, 51.5333165], [25.3232606, 51.526653], [25.350325, 51.530127], [25.27618, 51.512909], [25.27301974, 51.54457591], [25.2830109, 51.546714], [-33.96466043, 18.51440571], [-33.97975702, 18.46489381], [-33.92154333, 18.41789313], [-33.92451515, 18.41457088], [-33.92849643, 18.42286024], [-33.978602, 18.462423], [-33.91733333, 18.41766667], [-33.9285, 18.4125], [-33.929022, 18.410769], [-33.917258, 18.417566], [-33.912585, 18.418015], [-33.907776, 18.409153], [-33.970286, 18.46195], [-33.908603, 18.416435], [-33.921453, 18.381997], [-33.921692, 18.382759], [-33.901746, 18.415163], [-33.902336, 18.421341], [-33.9042665, 18.42030041], [-33.90416667, 18.421], [-26.203278, 28.060192], [-26.207091, 28.031863], [-26.14658, 28.011059], [-26.138396, 28.017548], [-26.137391, 28.018022], [-26.140464, 28.017146], [-26.1440716, 28.025193], [-26.14338814, 28.03619944], [-25.77074833, 28.23604667], [-25.772304, 28.230606], [-25.771335, 28.235482], [-25.798167, 28.331763], [-25.79850294, 28.33247088], [-25.80283, 28.287114], [-25.765656, 28.280437], [-25.76973333, 28.25643333], [-25.765752, 28.298357], [-25.780358, 28.270627], [-25.786067, 28.283896], [-25.783539, 28.275316], [-25.782735, 28.275005], [-25.778387, 28.257131], [-25.777898, 28.256922], [-25.79399333, 28.28159167], [-25.775823, 28.255682], [-25.775722, 28.257074], [-25.7779816, 28.25626243], [-25.761238, 27.999097], [-26.14026, 27.991791], [-26.05198229, 28.02302878], [-26.052744, 28.023143], [-26.074876, 28.027725], [-26.13493464, 28.04833811], [-26.13233, 28.068062], [-26.1075, 28.05466667], [-26.05233333, 28.021], [-26.021111, 28.014375], [-26.021362, 28.014749], [-26.129002, 28.050845], [-26.02172, 28.089878], [6.88634086, 79.85667843], [6.8960838, 79.8578301], [6.91280628, 79.87511359], [6.913291667, 79.86849167], [6.908536272, 79.8581047], [6.912529358, 79.86472741], [6.850283043, 79.87088978], [6.932547222, 79.843575], [6.883738889, 79.87943333], [6.890905556, 79.86563889], [6.899175, 79.85581944], [6.904392, 79.852248], [6.90686, 79.856148], [6.910538311, 79.85007349], [0.0, 0.0], [6.906813889, 79.85336389], [6.904580556, 79.85292778], [6.932813889, 79.84423889], [6.906814811, 79.90294117], [6.923933284, 79.85074807], [39.91320556, 32.80924722], [39.90597222, 32.82121389], [39.91069722, 32.8203], [39.89479444, 32.70474167], [39.904709, 32.809146], [39.88487222, 32.84618889], [39.91666667, 32.81883333], [39.89823889, 32.8698], [39.89787222, 32.86568333], [39.89966667, 32.86483333], [39.90727222, 32.86014444], [39.908957, 32.776255], [39.90663611, 32.86663333], [39.90656944, 32.86660833], [39.91668611, 32.85791667], [39.91914444, 32.85986667], [39.94627778, 32.76337778], [39.92253611, 32.84274167], [39.89156389, 32.701775], [39.87623889, 32.86021667], [41.03300186, 28.97612661], [41.07769599, 29.04373437], [41.04481318, 29.0028964], [40.96393456, 29.07411609], [41.10496881, 29.05662037], [40.98970497, 29.02280476], [41.02463331, 28.9782365], [41.02290443, 28.97763569], [41.02578494, 28.98110311], [41.02279314, 28.97739161], [41.00984672, 29.04129725], [41.05581715, 29.03464001], [41.057979, 29.036019], [40.98477563, 29.02601603]],\n",
              "                {\n",
              "  &quot;minOpacity&quot;: 0.5,\n",
              "  &quot;maxZoom&quot;: 18,\n",
              "  &quot;radius&quot;: 10,\n",
              "  &quot;blur&quot;: 15,\n",
              "}\n",
              "            );\n",
              "        \n",
              "    \n",
              "            heat_map_de19b6fa571902bb85d3f7d75d065d7f.addTo(map_4e329e9201e1bfe16db02c8d76f3e2cb);\n",
              "        \n",
              "&lt;/script&gt;\n",
              "&lt;/html&gt;\" style=\"position:absolute;width:100%;height:100%;left:0;top:0;border:none !important;\" allowfullscreen webkitallowfullscreen mozallowfullscreen></iframe></div></div>"
            ]
          },
          "metadata": {},
          "execution_count": 161
        }
      ]
    },
    {
      "cell_type": "markdown",
      "source": [
        "**Task 4: Restaurant Chains**"
      ],
      "metadata": {
        "id": "xoa-2UbuL0PT"
      }
    },
    {
      "cell_type": "code",
      "source": [
        "import pandas as pd\n",
        "import numpy as np\n",
        "import matplotlib.pyplot as plt\n",
        "\n"
      ],
      "metadata": {
        "id": "zn45tdqML_mW"
      },
      "execution_count": 162,
      "outputs": []
    },
    {
      "cell_type": "code",
      "source": [
        "df=pd.read_csv('/content/sample_data/Cognifyz Dataset 1.csv')"
      ],
      "metadata": {
        "id": "wSN_yRH0MSOD"
      },
      "execution_count": 163,
      "outputs": []
    },
    {
      "cell_type": "markdown",
      "source": [
        "**Identify if there are any restaurant chains present in the dataset.**"
      ],
      "metadata": {
        "id": "08H42OtYMisc"
      }
    },
    {
      "cell_type": "code",
      "source": [
        "restaurant_chain = df.groupby(\"Restaurant Name\").size().reset_index(name=\"OutletCount\")\n",
        "new = restaurant_chain[restaurant_chain[\"OutletCount\"] > 1]\n",
        "restaurant_chains = new.sort_values(by=\"OutletCount\", ascending=False)"
      ],
      "metadata": {
        "id": "Re19Ue3TMwFW"
      },
      "execution_count": 164,
      "outputs": []
    },
    {
      "cell_type": "code",
      "source": [
        "print(restaurant_chains[[\"Restaurant Name\", \"OutletCount\"]].head(10))"
      ],
      "metadata": {
        "colab": {
          "base_uri": "https://localhost:8080/"
        },
        "id": "h8NkQuP9Nwws",
        "outputId": "173406c2-5dfd-4e6a-a62a-eb3d8b114dcf"
      },
      "execution_count": 166,
      "outputs": [
        {
          "output_type": "stream",
          "name": "stdout",
          "text": [
            "       Restaurant Name  OutletCount\n",
            "1098   Cafe Coffee Day           83\n",
            "2098    Domino's Pizza           79\n",
            "6106            Subway           63\n",
            "2716  Green Chick Chop           51\n",
            "4077        McDonald's           48\n",
            "3478         Keventers           34\n",
            "4961         Pizza Hut           30\n",
            "2619             Giani           29\n",
            "680     Baskin Robbins           28\n",
            "663    Barbeque Nation           26\n"
          ]
        }
      ]
    },
    {
      "cell_type": "code",
      "source": [
        "plt.bar(restaurant_chains[\"Restaurant Name\"][:5], restaurant_chains[\"OutletCount\"][:5])\n",
        "plt.xlabel(\"Restaurant Chain\")\n",
        "plt.ylabel(\"Number of Outlets\")\n",
        "plt.title(\"Top 5 Restaurant Chains by Number of Outlets\")\n",
        "plt.show()"
      ],
      "metadata": {
        "colab": {
          "base_uri": "https://localhost:8080/",
          "height": 472
        },
        "id": "nyf2jUbqOVQF",
        "outputId": "74cd4efb-8b6c-4b65-810d-be2ed56e53df"
      },
      "execution_count": 167,
      "outputs": [
        {
          "output_type": "display_data",
          "data": {
            "text/plain": [
              "<Figure size 640x480 with 1 Axes>"
            ],
            "image/png": "[encoded data removed]"
          },
          "metadata": {}
        }
      ]
    },
    {
      "cell_type": "markdown",
      "source": [
        "**Analyze the ratings and Popularity of different restaurant chains**"
      ],
      "metadata": {
        "id": "4-DGX2IGPZo2"
      }
    },
    {
      "cell_type": "code",
      "source": [
        "ratings = df.groupby(\"Restaurant Name\")[\"Aggregate rating\"].mean().reset_index(name=\"Average Rating\").sort_values(by=\"Average Rating\", ascending=False)\n",
        "print(ratings)"
      ],
      "metadata": {
        "colab": {
          "base_uri": "https://localhost:8080/"
        },
        "id": "c7a0xpz2PtSo",
        "outputId": "f9e916c6-671c-4673-c5ce-00fdde4ffdca"
      },
      "execution_count": 169,
      "outputs": [
        {
          "output_type": "stream",
          "name": "stdout",
          "text": [
            "                      Restaurant Name  Average Rating\n",
            "5322   Restaurant Mosaic @ The Orient             4.9\n",
            "4177                 Ministry of Crab             4.9\n",
            "4135                            Miann             4.9\n",
            "5757          Shorts Burger and Shine             4.9\n",
            "4165                            Milse             4.9\n",
            "...                               ...             ...\n",
            "1105                      Cafe Corner             0.0\n",
            "4905                  Pheva Tandooris             0.0\n",
            "4913                     Pick & Carry             0.0\n",
            "1096                     Cafe Brownie             0.0\n",
            "2292  Famous Parantha and Poori Sabzi             0.0\n",
            "\n",
            "[7446 rows x 2 columns]\n"
          ]
        }
      ]
    },
    {
      "cell_type": "code",
      "source": [
        "votes = df.groupby(\"Restaurant Name\")[\"Votes\"].sum().reset_index(name=\"Total Votes\").sort_values(by=\"Total Votes\", ascending=False)\n",
        "print(votes)"
      ],
      "metadata": {
        "colab": {
          "base_uri": "https://localhost:8080/"
        },
        "id": "akeLtlKXQ0yv",
        "outputId": "3a7082fc-db54-45d8-c660-b3d4dd1f2bd9"
      },
      "execution_count": 170,
      "outputs": [
        {
          "output_type": "stream",
          "name": "stdout",
          "text": [
            "                Restaurant Name  Total Votes\n",
            "663             Barbeque Nation        28142\n",
            "101   AB's - Absolute Barbecues        13400\n",
            "6943                       Toit        10934\n",
            "785                   Big Chill        10853\n",
            "2297                 Farzi Cafe        10098\n",
            "...                         ...          ...\n",
            "4375                  Muncheezz            0\n",
            "6217            Swiss Gourmessa            0\n",
            "2110      Dosa and Pizza Corner            0\n",
            "6215            Sweets n Treats            0\n",
            "2433               Food Station            0\n",
            "\n",
            "[7446 rows x 2 columns]\n"
          ]
        }
      ]
    },
    {
      "cell_type": "code",
      "source": [
        "plt.bar(ratings[\"Restaurant Name\"][:5], ratings[\"Average Rating\"][:5])\n",
        "plt.xlabel(\"Restaurant Chain\")\n",
        "plt.ylabel(\"Average Rating\")\n",
        "plt.title(\"Top 5 Restaurant Chains by Average Rating\")\n",
        "plt.show()"
      ],
      "metadata": {
        "colab": {
          "base_uri": "https://localhost:8080/",
          "height": 472
        },
        "id": "-1FxugQwRFfj",
        "outputId": "400a5678-a417-44d3-f2ed-8cb8a27e37b1"
      },
      "execution_count": 172,
      "outputs": [
        {
          "output_type": "display_data",
          "data": {
            "text/plain": [
              "<Figure size 640x480 with 1 Axes>"
            ],
            "image/png": "[encoded data removed]"
          },
          "metadata": {}
        }
      ]
    },
    {
      "cell_type": "code",
      "source": [
        "plt.bar(votes[\"Restaurant Name\"][:5], votes[\"Total Votes\"][:5])\n",
        "plt.xlabel(\"Restaurant Chain\")\n",
        "plt.ylabel(\"Total Votes\")\n",
        "plt.title(\"Top 5 Restaurant Chains by Total Votes\")\n",
        "plt.tight_layout\n",
        "plt.show()"
      ],
      "metadata": {
        "colab": {
          "base_uri": "https://localhost:8080/",
          "height": 472
        },
        "id": "ADLHX58bRwnx",
        "outputId": "c5f57b66-bbf2-4b0c-8cf8-ceb5ec2fa786"
      },
      "execution_count": 174,
      "outputs": [
        {
          "output_type": "display_data",
          "data": {
            "text/plain": [
              "<Figure size 640x480 with 1 Axes>"
            ],
            "image/png": "[encoded data removed]"
          },
          "metadata": {}
        }
      ]
    }
  ]
}